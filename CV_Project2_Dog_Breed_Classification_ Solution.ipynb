{
  "nbformat": 4,
  "nbformat_minor": 0,
  "metadata": {
    "colab": {
      "name": "CV_Project2_Dog_Breed_Classification_Questions (2).ipynb",
      "provenance": [],
      "collapsed_sections": [],
      "machine_shape": "hm"
    },
    "kernelspec": {
      "name": "python3",
      "display_name": "Python 3"
    },
    "accelerator": "GPU"
  },
  "cells": [
    {
      "cell_type": "markdown",
      "metadata": {
        "colab_type": "text",
        "id": "2kIWaR5ZpKlJ"
      },
      "source": [
        "## Dog Breed Classification\n",
        "\n",
        "In this project we will use traditional CNN, CNN with data augmentation and finally transfer Learning by VGG16 model with weights pre-trained on Imagenet to solve the dog breed classification problem"
      ]
    },
    {
      "cell_type": "markdown",
      "metadata": {
        "colab_type": "text",
        "id": "F7MDmaAw2xGO"
      },
      "source": [
        "### Load Dataset Files"
      ]
    },
    {
      "cell_type": "code",
      "metadata": {
        "id": "P6svwQAeS45X",
        "colab_type": "code",
        "outputId": "9a8c2d82-ed4f-4a35-a86d-6e9c25a9fccc",
        "colab": {
          "base_uri": "https://localhost:8080/",
          "height": 35
        }
      },
      "source": [
        "%tensorflow_version 2.x\n",
        "import tensorflow as tf \n",
        "print (tf.__version__)"
      ],
      "execution_count": 1,
      "outputs": [
        {
          "output_type": "stream",
          "text": [
            "2.2.0-rc2\n"
          ],
          "name": "stdout"
        }
      ]
    },
    {
      "cell_type": "code",
      "metadata": {
        "id": "pySWqLoWjRLS",
        "colab_type": "code",
        "outputId": "6142ac9c-c4a7-4781-ddaf-a732749c3ff0",
        "colab": {
          "base_uri": "https://localhost:8080/",
          "height": 124
        }
      },
      "source": [
        "from google.colab import drive\n",
        "drive.mount('/content/drive')"
      ],
      "execution_count": 2,
      "outputs": [
        {
          "output_type": "stream",
          "text": [
            "Go to this URL in a browser: https://accounts.google.com/o/oauth2/auth?client_id=947318989803-6bn6qk8qdgf4n4g3pfee6491hc0brc4i.apps.googleusercontent.com&redirect_uri=urn%3aietf%3awg%3aoauth%3a2.0%3aoob&response_type=code&scope=email%20https%3a%2f%2fwww.googleapis.com%2fauth%2fdocs.test%20https%3a%2f%2fwww.googleapis.com%2fauth%2fdrive%20https%3a%2f%2fwww.googleapis.com%2fauth%2fdrive.photos.readonly%20https%3a%2f%2fwww.googleapis.com%2fauth%2fpeopleapi.readonly\n",
            "\n",
            "Enter your authorization code:\n",
            "··········\n",
            "Mounted at /content/drive\n"
          ],
          "name": "stdout"
        }
      ]
    },
    {
      "cell_type": "code",
      "metadata": {
        "colab_type": "code",
        "id": "BZWpQv1OwqYK",
        "outputId": "a2939afd-54cf-4da9-8596-e0ef2d07a403",
        "colab": {
          "base_uri": "https://localhost:8080/",
          "height": 35
        }
      },
      "source": [
        "# Checking the floders present \n",
        "!ls \"/content/drive/My Drive/DogBreed_Classification\""
      ],
      "execution_count": 3,
      "outputs": [
        {
          "output_type": "stream",
          "text": [
            "labels.csv.zip\tsample_submission.csv.zip  test.zip  train.zip\n"
          ],
          "name": "stdout"
        }
      ]
    },
    {
      "cell_type": "markdown",
      "metadata": {
        "colab_type": "text",
        "id": "1q2zzIaUprk_"
      },
      "source": [
        "Now, upload the given dataset file shared with you in your google drive and give its path for the below given `project_path` variable. For example, a path is given below according to the file path in our google drive. You need to change this to match the path of yours."
      ]
    },
    {
      "cell_type": "code",
      "metadata": {
        "colab_type": "code",
        "id": "Tp6FvAToxUFs",
        "colab": {}
      },
      "source": [
        "project_path = \"/content/drive/My Drive/DogBreed_Classification/\""
      ],
      "execution_count": 0,
      "outputs": []
    },
    {
      "cell_type": "markdown",
      "metadata": {
        "colab_type": "text",
        "id": "rydR_j8lqUei"
      },
      "source": [
        "Run the below code to extract all the images in the train.zip files given in the dataset. We are going to use these images as train and validation sets and their labels in further steps."
      ]
    },
    {
      "cell_type": "code",
      "metadata": {
        "colab_type": "code",
        "id": "3350WZM4w4EL",
        "colab": {}
      },
      "source": [
        "from zipfile import ZipFile\n",
        "with ZipFile(project_path +'train.zip', 'r') as z:\n",
        "  z.extractall()"
      ],
      "execution_count": 0,
      "outputs": []
    },
    {
      "cell_type": "markdown",
      "metadata": {
        "id": "3NHq1iBCfFjE",
        "colab_type": "text"
      },
      "source": [
        "Repeat the same step for test.zip"
      ]
    },
    {
      "cell_type": "code",
      "metadata": {
        "colab_type": "code",
        "id": "_fxzynvB2YCb",
        "colab": {}
      },
      "source": [
        "with ZipFile(project_path +'test.zip', 'r') as z:\n",
        "  z.extractall()"
      ],
      "execution_count": 0,
      "outputs": []
    },
    {
      "cell_type": "markdown",
      "metadata": {
        "id": "jnUMhQrDfJmz",
        "colab_type": "text"
      },
      "source": [
        "Repeat the same step for sample_submission.csv.zip"
      ]
    },
    {
      "cell_type": "code",
      "metadata": {
        "colab_type": "code",
        "id": "4PyTxE8q2jLf",
        "colab": {}
      },
      "source": [
        "with ZipFile(project_path +'sample_submission.csv.zip', 'r') as z:\n",
        "  z.extractall()"
      ],
      "execution_count": 0,
      "outputs": []
    },
    {
      "cell_type": "markdown",
      "metadata": {
        "id": "2G9RIxB-fOLT",
        "colab_type": "text"
      },
      "source": [
        "Repeat the same step for labels.csv.zip"
      ]
    },
    {
      "cell_type": "code",
      "metadata": {
        "colab_type": "code",
        "id": "rXtnEoEixbgi",
        "colab": {}
      },
      "source": [
        "with ZipFile(project_path +'labels.csv.zip', 'r') as z:\n",
        "  z.extractall()"
      ],
      "execution_count": 0,
      "outputs": []
    },
    {
      "cell_type": "markdown",
      "metadata": {
        "id": "sJc1lVrW_jmL",
        "colab_type": "text"
      },
      "source": [
        "After this process, we will have 4 files - Train folder, test folder and labels.csv and sample_submission.csv as part of your google drive"
      ]
    },
    {
      "cell_type": "markdown",
      "metadata": {
        "colab_type": "text",
        "id": "aYmJKmDqqpng"
      },
      "source": [
        "### Read labels.csv file using pandas"
      ]
    },
    {
      "cell_type": "code",
      "metadata": {
        "id": "WmlJ2VMY96IZ",
        "colab_type": "code",
        "colab": {}
      },
      "source": [
        "import pandas as pd \n",
        "label = pd.read_csv('/content/labels.csv')\n"
      ],
      "execution_count": 0,
      "outputs": []
    },
    {
      "cell_type": "code",
      "metadata": {
        "id": "hPvb1RSc96If",
        "colab_type": "code",
        "outputId": "9b4ef2d5-3b3a-4d2d-ff67-344653652350",
        "colab": {
          "base_uri": "https://localhost:8080/",
          "height": 202
        }
      },
      "source": [
        "label.head()"
      ],
      "execution_count": 10,
      "outputs": [
        {
          "output_type": "execute_result",
          "data": {
            "text/html": [
              "<div>\n",
              "<style scoped>\n",
              "    .dataframe tbody tr th:only-of-type {\n",
              "        vertical-align: middle;\n",
              "    }\n",
              "\n",
              "    .dataframe tbody tr th {\n",
              "        vertical-align: top;\n",
              "    }\n",
              "\n",
              "    .dataframe thead th {\n",
              "        text-align: right;\n",
              "    }\n",
              "</style>\n",
              "<table border=\"1\" class=\"dataframe\">\n",
              "  <thead>\n",
              "    <tr style=\"text-align: right;\">\n",
              "      <th></th>\n",
              "      <th>id</th>\n",
              "      <th>breed</th>\n",
              "    </tr>\n",
              "  </thead>\n",
              "  <tbody>\n",
              "    <tr>\n",
              "      <th>0</th>\n",
              "      <td>000bec180eb18c7604dcecc8fe0dba07</td>\n",
              "      <td>boston_bull</td>\n",
              "    </tr>\n",
              "    <tr>\n",
              "      <th>1</th>\n",
              "      <td>001513dfcb2ffafc82cccf4d8bbaba97</td>\n",
              "      <td>dingo</td>\n",
              "    </tr>\n",
              "    <tr>\n",
              "      <th>2</th>\n",
              "      <td>001cdf01b096e06d78e9e5112d419397</td>\n",
              "      <td>pekinese</td>\n",
              "    </tr>\n",
              "    <tr>\n",
              "      <th>3</th>\n",
              "      <td>00214f311d5d2247d5dfe4fe24b2303d</td>\n",
              "      <td>bluetick</td>\n",
              "    </tr>\n",
              "    <tr>\n",
              "      <th>4</th>\n",
              "      <td>0021f9ceb3235effd7fcde7f7538ed62</td>\n",
              "      <td>golden_retriever</td>\n",
              "    </tr>\n",
              "  </tbody>\n",
              "</table>\n",
              "</div>"
            ],
            "text/plain": [
              "                                 id             breed\n",
              "0  000bec180eb18c7604dcecc8fe0dba07       boston_bull\n",
              "1  001513dfcb2ffafc82cccf4d8bbaba97             dingo\n",
              "2  001cdf01b096e06d78e9e5112d419397          pekinese\n",
              "3  00214f311d5d2247d5dfe4fe24b2303d          bluetick\n",
              "4  0021f9ceb3235effd7fcde7f7538ed62  golden_retriever"
            ]
          },
          "metadata": {
            "tags": []
          },
          "execution_count": 10
        }
      ]
    },
    {
      "cell_type": "markdown",
      "metadata": {
        "colab_type": "text",
        "id": "QP8YAzQvqyK-"
      },
      "source": [
        "### Print the count of each category of Dogs given in the dataset\n",
        "\n"
      ]
    },
    {
      "cell_type": "code",
      "metadata": {
        "id": "3L2naXlr96Im",
        "colab_type": "code",
        "colab": {}
      },
      "source": [
        "breed_count = label.breed.value_counts()"
      ],
      "execution_count": 0,
      "outputs": []
    },
    {
      "cell_type": "code",
      "metadata": {
        "id": "CLm3W5RN96Ir",
        "colab_type": "code",
        "outputId": "d6593561-c807-42bf-99f3-fce7c29e7bb5",
        "colab": {
          "base_uri": "https://localhost:8080/",
          "height": 243
        }
      },
      "source": [
        "print ('Dog breeds:',breed_count.shape)\n",
        "breed_count"
      ],
      "execution_count": 13,
      "outputs": [
        {
          "output_type": "stream",
          "text": [
            "Dog breeds: (120,)\n"
          ],
          "name": "stdout"
        },
        {
          "output_type": "execute_result",
          "data": {
            "text/plain": [
              "scottish_deerhound      126\n",
              "maltese_dog             117\n",
              "afghan_hound            116\n",
              "entlebucher             115\n",
              "bernese_mountain_dog    114\n",
              "                       ... \n",
              "komondor                 67\n",
              "golden_retriever         67\n",
              "brabancon_griffon        67\n",
              "eskimo_dog               66\n",
              "briard                   66\n",
              "Name: breed, Length: 120, dtype: int64"
            ]
          },
          "metadata": {
            "tags": []
          },
          "execution_count": 13
        }
      ]
    },
    {
      "cell_type": "markdown",
      "metadata": {
        "colab_type": "text",
        "id": "WI94_Qcc0D4M"
      },
      "source": [
        "### Get one-hot encodings of labels"
      ]
    },
    {
      "cell_type": "code",
      "metadata": {
        "id": "Q48iAcY196I3",
        "colab_type": "code",
        "outputId": "ef82839c-ea5f-48e8-d4c8-4c9ea9c1324d",
        "colab": {
          "base_uri": "https://localhost:8080/",
          "height": 35
        }
      },
      "source": [
        "from sklearn.preprocessing import LabelEncoder\n",
        "label_encoder = LabelEncoder()\n",
        "int_encoder = label_encoder.fit_transform(label['breed'])\n",
        "print(int_encoder)"
      ],
      "execution_count": 14,
      "outputs": [
        {
          "output_type": "stream",
          "text": [
            "[19 37 85 ...  3 75 28]\n"
          ],
          "name": "stdout"
        }
      ]
    },
    {
      "cell_type": "code",
      "metadata": {
        "id": "9nlWmRNM96I8",
        "colab_type": "code",
        "colab": {}
      },
      "source": [
        "import tensorflow.keras as keras\n",
        "\n",
        "int_encoder_one_hot = tf.keras.utils.to_categorical(int_encoder,num_classes=None, dtype='int')"
      ],
      "execution_count": 0,
      "outputs": []
    },
    {
      "cell_type": "markdown",
      "metadata": {
        "id": "VWaJ9naXfoiU",
        "colab_type": "text"
      },
      "source": [
        "## Preparing training dataset\n",
        "1. Write a code which reads each and every id from labels.csv file and loads the corresponding image (in RGB - 128, 128, 3) from the train folder. <br>\n",
        "2. Create 2 variables <br> \n",
        "     a.  x_train - Should have all the images of the dogs from train folder <br>\n",
        "     b.  y_train - Corresponding label of the dog <br>\n",
        "<u>Note:</u> The id of the dog images and its corresponding labels are available in labels.csv file   \n",
        "<u>Hint:</u> Watch the video shared on \"Preparing the training dataset\" if you face issue on creating the training dataset"
      ]
    },
    {
      "cell_type": "code",
      "metadata": {
        "id": "PPoliAE-JHMb",
        "colab_type": "code",
        "colab": {}
      },
      "source": [
        "img_rows = 128\n",
        "img_cols = 128\n",
        "num_channel = 1"
      ],
      "execution_count": 0,
      "outputs": []
    },
    {
      "cell_type": "code",
      "metadata": {
        "colab_type": "code",
        "id": "aC2f9ecR0XGR",
        "outputId": "0966a958-4ade-4a76-9305-59d88335cbe9",
        "colab": {
          "base_uri": "https://localhost:8080/",
          "height": 35
        }
      },
      "source": [
        "from tqdm import tqdm\n",
        "import cv2\n",
        "x_feature = []\n",
        "y_feature = []\n",
        "\n",
        "for f, img in tqdm (label.values): # f for format, jpg\n",
        "  train_img = cv2.imread('./train/{}.jpg'.format(f),1)\n",
        "  train_img_resize = cv2.resize(train_img, (img_rows,img_cols))\n",
        "  x_feature.append(train_img_resize)\n",
        "  y_feature.append(img)"
      ],
      "execution_count": 17,
      "outputs": [
        {
          "output_type": "stream",
          "text": [
            "100%|██████████| 10222/10222 [00:31<00:00, 327.03it/s]\n"
          ],
          "name": "stderr"
        }
      ]
    },
    {
      "cell_type": "code",
      "metadata": {
        "id": "d9Am4lMs-T8t",
        "colab_type": "code",
        "colab": {}
      },
      "source": [
        "import numpy as np\n",
        "y_array = label_encoder.transform(y_feature)\n",
        "y_cat = tf.keras.utils.to_categorical(y_array,num_classes=None, dtype='int')"
      ],
      "execution_count": 0,
      "outputs": []
    },
    {
      "cell_type": "code",
      "metadata": {
        "id": "jdpXROiVRCki",
        "colab_type": "code",
        "colab": {}
      },
      "source": [
        "x_feature_array = np.array(x_feature)"
      ],
      "execution_count": 0,
      "outputs": []
    },
    {
      "cell_type": "code",
      "metadata": {
        "colab_type": "code",
        "id": "nkkZEpOe0ipk",
        "outputId": "c4b5bdbf-2491-4bc4-bb7e-5be87b88aee2",
        "colab": {
          "base_uri": "https://localhost:8080/",
          "height": 249
        }
      },
      "source": [
        "from google.colab.patches import cv2_imshow\n",
        "img = cv2_imshow(x_feature_array[2])\n",
        "print (y_cat[2],'\\n',y_array[2],'\\n',y_feature[2])"
      ],
      "execution_count": 23,
      "outputs": [
        {
          "output_type": "display_data",
          "data": {
            "image/png": "[encoded data removed]",
            "text/plain": [
              "<PIL.Image.Image image mode=RGB size=128x128 at 0x7FF3151B7198>"
            ]
          },
          "metadata": {
            "tags": []
          }
        },
        {
          "output_type": "stream",
          "text": [
            "[0 0 0 0 0 0 0 0 0 0 0 0 0 0 0 0 0 0 0 0 0 0 0 0 0 0 0 0 0 0 0 0 0 0 0 0 0\n",
            " 0 0 0 0 0 0 0 0 0 0 0 0 0 0 0 0 0 0 0 0 0 0 0 0 0 0 0 0 0 0 0 0 0 0 0 0 0\n",
            " 0 0 0 0 0 0 0 0 0 0 0 1 0 0 0 0 0 0 0 0 0 0 0 0 0 0 0 0 0 0 0 0 0 0 0 0 0\n",
            " 0 0 0 0 0 0 0 0 0] \n",
            " 85 \n",
            " pekinese\n"
          ],
          "name": "stdout"
        }
      ]
    },
    {
      "cell_type": "markdown",
      "metadata": {
        "id": "6ioWDEgElBOs",
        "colab_type": "text"
      },
      "source": [
        "Normalize the training data and convert into 4 dimensions so that it can be used as an input to conv layers in the model"
      ]
    },
    {
      "cell_type": "code",
      "metadata": {
        "id": "pR1xisLr0ibC",
        "colab_type": "code",
        "colab": {}
      },
      "source": [
        "x_norm = x_feature_array/255"
      ],
      "execution_count": 0,
      "outputs": []
    },
    {
      "cell_type": "code",
      "metadata": {
        "id": "BaorPOkaqEuu",
        "colab_type": "code",
        "colab": {}
      },
      "source": [
        "x_dim = np.array(tf.keras.backend.expand_dims(\n",
        "    x_norm,\n",
        "    axis=1\n",
        "))"
      ],
      "execution_count": 0,
      "outputs": []
    },
    {
      "cell_type": "code",
      "metadata": {
        "id": "6nL4EvUeTKWp",
        "colab_type": "code",
        "outputId": "cd73ad9b-4862-4a11-eee1-5f06e19f0e7b",
        "colab": {
          "base_uri": "https://localhost:8080/",
          "height": 35
        }
      },
      "source": [
        "x_dim[1,:].shape"
      ],
      "execution_count": 26,
      "outputs": [
        {
          "output_type": "execute_result",
          "data": {
            "text/plain": [
              "(1, 128, 128, 3)"
            ]
          },
          "metadata": {
            "tags": []
          },
          "execution_count": 26
        }
      ]
    },
    {
      "cell_type": "code",
      "metadata": {
        "id": "_GVSgIZiie0X",
        "colab_type": "code",
        "outputId": "8f2c2c70-8137-4c29-95be-bfe55c4b201b",
        "colab": {
          "base_uri": "https://localhost:8080/",
          "height": 249
        }
      },
      "source": [
        "# checking the images and labels\n",
        "img = cv2_imshow(x_feature_array[1])\n",
        "print (y_cat[1],'\\n',y_array[1],'\\n',y_feature[1])"
      ],
      "execution_count": 27,
      "outputs": [
        {
          "output_type": "display_data",
          "data": {
            "image/png": "[encoded data removed]",
            "text/plain": [
              "<PIL.Image.Image image mode=RGB size=128x128 at 0x7FF3A7E37DA0>"
            ]
          },
          "metadata": {
            "tags": []
          }
        },
        {
          "output_type": "stream",
          "text": [
            "[0 0 0 0 0 0 0 0 0 0 0 0 0 0 0 0 0 0 0 0 0 0 0 0 0 0 0 0 0 0 0 0 0 0 0 0 0\n",
            " 1 0 0 0 0 0 0 0 0 0 0 0 0 0 0 0 0 0 0 0 0 0 0 0 0 0 0 0 0 0 0 0 0 0 0 0 0\n",
            " 0 0 0 0 0 0 0 0 0 0 0 0 0 0 0 0 0 0 0 0 0 0 0 0 0 0 0 0 0 0 0 0 0 0 0 0 0\n",
            " 0 0 0 0 0 0 0 0 0] \n",
            " 37 \n",
            " dingo\n"
          ],
          "name": "stdout"
        }
      ]
    },
    {
      "cell_type": "markdown",
      "metadata": {
        "colab_type": "text",
        "id": "bdCXuAE11gZL"
      },
      "source": [
        "### Split the training and validation data from `x_train_data` and `y_train_data` obtained from above step"
      ]
    },
    {
      "cell_type": "code",
      "metadata": {
        "id": "kpWx-pgV96Jv",
        "colab_type": "code",
        "colab": {}
      },
      "source": [
        "from sklearn.model_selection import train_test_split"
      ],
      "execution_count": 0,
      "outputs": []
    },
    {
      "cell_type": "code",
      "metadata": {
        "id": "OOwJhozc9SY-",
        "colab_type": "code",
        "colab": {}
      },
      "source": [
        "X_train, X_val, y_train, y_val = train_test_split(x_feature_array, y_cat, test_size=0.2, random_state=1)"
      ],
      "execution_count": 0,
      "outputs": []
    },
    {
      "cell_type": "code",
      "metadata": {
        "id": "oShQID809mdU",
        "colab_type": "code",
        "outputId": "be613181-9f7c-44f1-e508-c923adb12f33",
        "colab": {
          "base_uri": "https://localhost:8080/",
          "height": 52
        }
      },
      "source": [
        "print ( X_train.shape,  '\\n ', X_val.shape)"
      ],
      "execution_count": 58,
      "outputs": [
        {
          "output_type": "stream",
          "text": [
            "(8177, 128, 128, 3) \n",
            "  (2045, 128, 128, 3)\n"
          ],
          "name": "stdout"
        }
      ]
    },
    {
      "cell_type": "code",
      "metadata": {
        "id": "Io8YPV1t-ntC",
        "colab_type": "code",
        "outputId": "e85f51aa-d81a-4b73-ccc4-ddf27b107e00",
        "colab": {
          "base_uri": "https://localhost:8080/",
          "height": 52
        }
      },
      "source": [
        "print ( y_train.shape,  '\\n ', y_val.shape)"
      ],
      "execution_count": 59,
      "outputs": [
        {
          "output_type": "stream",
          "text": [
            "(8177, 120) \n",
            "  (2045, 120)\n"
          ],
          "name": "stdout"
        }
      ]
    },
    {
      "cell_type": "markdown",
      "metadata": {
        "colab_type": "text",
        "id": "XkL-N1jDsU8m"
      },
      "source": [
        "### Loading the test data\n",
        "Read the id column from the samples_submission.csv and store it in test_img"
      ]
    },
    {
      "cell_type": "code",
      "metadata": {
        "colab_type": "code",
        "id": "DnpXdpd9b3E7",
        "colab": {}
      },
      "source": [
        "sample_submission_data = pd.read_csv ('/content/sample_submission.csv')"
      ],
      "execution_count": 0,
      "outputs": []
    },
    {
      "cell_type": "code",
      "metadata": {
        "id": "LXVenB0O_1pL",
        "colab_type": "code",
        "colab": {}
      },
      "source": [
        "test_img = sample_submission_data.id"
      ],
      "execution_count": 0,
      "outputs": []
    },
    {
      "cell_type": "code",
      "metadata": {
        "id": "vStpOC3-_7fj",
        "colab_type": "code",
        "outputId": "7f29092e-fe4e-4061-9198-870a5ca3fd19",
        "colab": {
          "base_uri": "https://localhost:8080/",
          "height": 121
        }
      },
      "source": [
        "test_img.head()"
      ],
      "execution_count": 34,
      "outputs": [
        {
          "output_type": "execute_result",
          "data": {
            "text/plain": [
              "0    000621fb3cbb32d8935728e48679680e\n",
              "1    00102ee9d8eb90812350685311fe5890\n",
              "2    0012a730dfa437f5f3613fb75efcd4ce\n",
              "3    001510bc8570bbeee98c8d80c8a95ec1\n",
              "4    001a5f3114548acdefa3d4da05474c2e\n",
              "Name: id, dtype: object"
            ]
          },
          "metadata": {
            "tags": []
          },
          "execution_count": 34
        }
      ]
    },
    {
      "cell_type": "markdown",
      "metadata": {
        "id": "DEJqZIMbm0Jo",
        "colab_type": "text"
      },
      "source": [
        "Run the below code to load the test image files in x_test_feature"
      ]
    },
    {
      "cell_type": "code",
      "metadata": {
        "colab_type": "code",
        "id": "zf7n4WG-b3Hv",
        "outputId": "cd1d983d-0170-4daf-dd10-de8a3cf8ac34",
        "colab": {
          "base_uri": "https://localhost:8080/",
          "height": 35
        }
      },
      "source": [
        "x_test_feature = []\n",
        "i = 0 # initialisation\n",
        "for f in tqdm(test_img.values): # f for format ,jpg\n",
        "    img = cv2.imread('./test/{}.jpg'.format(f), 0)\n",
        "    img_resize = cv2.resize(img, (img_rows, img_cols)) \n",
        "    x_test_feature.append(img_resize)"
      ],
      "execution_count": 35,
      "outputs": [
        {
          "output_type": "stream",
          "text": [
            "100%|██████████| 10357/10357 [00:18<00:00, 558.25it/s]\n"
          ],
          "name": "stderr"
        }
      ]
    },
    {
      "cell_type": "markdown",
      "metadata": {
        "id": "9My6qSyDnE-_",
        "colab_type": "text"
      },
      "source": [
        "Normalize the test data and convert it into 4 dimensions"
      ]
    },
    {
      "cell_type": "code",
      "metadata": {
        "id": "93n-IntMnJGI",
        "colab_type": "code",
        "colab": {}
      },
      "source": [
        "x_test_feature_array = np.array(x_test_feature)\n"
      ],
      "execution_count": 0,
      "outputs": []
    },
    {
      "cell_type": "code",
      "metadata": {
        "id": "U2o4tQu5AQ8I",
        "colab_type": "code",
        "colab": {}
      },
      "source": [
        "x_test_feature_array_norm = x_test_feature_array/255"
      ],
      "execution_count": 0,
      "outputs": []
    },
    {
      "cell_type": "markdown",
      "metadata": {
        "colab_type": "text",
        "id": "zKezNJVMsocP"
      },
      "source": [
        "### Build a basic conv neural network with 2 conv layers (kernel sizes - 5 and 3) add layers as mentioned below for classification.\n",
        "\n",
        "1. Add a Dense layer with 256 neurons with `relu` activation\n",
        "\n",
        "2. Add a Dense layer with 120 neurons as final layer (as there are 120 classes in the given dataset) with `softmax` activation for classifiaction. "
      ]
    },
    {
      "cell_type": "code",
      "metadata": {
        "id": "D2jxTY2S96J4",
        "colab_type": "code",
        "colab": {}
      },
      "source": [
        "from tensorflow.keras.layers import Conv2D,MaxPool2D,Flatten,Dense,Dropout,Activation,Reshape,MaxPooling2D\n",
        "from tensorflow.keras.backend import clear_session\n",
        "from tensorflow.keras.models import Sequential\n",
        "from tensorflow.keras.optimizers import Adam\n",
        "from tensorflow.keras.layers import BatchNormalization\n",
        "from tensorflow.keras.metrics import Accuracy"
      ],
      "execution_count": 0,
      "outputs": []
    },
    {
      "cell_type": "code",
      "metadata": {
        "id": "uaS8cdLBB-Hu",
        "colab_type": "code",
        "colab": {}
      },
      "source": [
        "#Clear out tensorflow memory\n",
        "tf.keras.backend.clear_session()\n",
        "\n",
        "# Sequential\n",
        "model = Sequential()\n",
        "\n",
        "# 1st CNN layer\n",
        "model.add(Conv2D(32, (5, 5), padding='same',input_shape=(img_rows,img_cols,3,)))\n",
        "model.add(Activation('relu'))\n",
        "\n",
        "#normalize data\n",
        "model.add(BatchNormalization())\n",
        "\n",
        "# 2nd CNN layer \n",
        "model.add(Conv2D(64, (3, 3)))\n",
        "model.add(Activation('relu'))\n",
        "\n",
        "# Batcth normalizing\n",
        "model.add(BatchNormalization())\n",
        "\n",
        "# Flattening the layer \n",
        "model.add(Flatten())\n",
        "\n",
        "# Dens layer \n",
        "model.add(Dense(256,activation ='relu'))\n",
        "# Drop out \n",
        "model.add(Dropout(0.2))\n",
        "\n",
        "# Output layer \n",
        "model.add(Dense(120,activation='softmax'))"
      ],
      "execution_count": 0,
      "outputs": []
    },
    {
      "cell_type": "markdown",
      "metadata": {
        "id": "ui8EXw6_oqpR",
        "colab_type": "text"
      },
      "source": [
        "### Use batch_size = 128 and epochs = 10 and execute the model"
      ]
    },
    {
      "cell_type": "code",
      "metadata": {
        "id": "0PR9j5_Xozmd",
        "colab_type": "code",
        "outputId": "a706a50e-7ea3-417f-d716-8c72b5271cff",
        "colab": {
          "base_uri": "https://localhost:8080/",
          "height": 503
        }
      },
      "source": [
        "#Specify Loss & Optimizer\n",
        "model.compile(optimizer= 'adam', loss='categorical_crossentropy', metrics=['accuracy'])"
      ],
      "execution_count": 43,
      "outputs": [
        {
          "output_type": "stream",
          "text": [
            "Model: \"sequential\"\n",
            "_________________________________________________________________\n",
            "Layer (type)                 Output Shape              Param #   \n",
            "=================================================================\n",
            "conv2d (Conv2D)              (None, 128, 128, 32)      2432      \n",
            "_________________________________________________________________\n",
            "activation (Activation)      (None, 128, 128, 32)      0         \n",
            "_________________________________________________________________\n",
            "batch_normalization (BatchNo (None, 128, 128, 32)      128       \n",
            "_________________________________________________________________\n",
            "conv2d_1 (Conv2D)            (None, 126, 126, 64)      18496     \n",
            "_________________________________________________________________\n",
            "activation_1 (Activation)    (None, 126, 126, 64)      0         \n",
            "_________________________________________________________________\n",
            "batch_normalization_1 (Batch (None, 126, 126, 64)      256       \n",
            "_________________________________________________________________\n",
            "flatten (Flatten)            (None, 1016064)           0         \n",
            "_________________________________________________________________\n",
            "dense (Dense)                (None, 256)               260112640 \n",
            "_________________________________________________________________\n",
            "dropout (Dropout)            (None, 256)               0         \n",
            "_________________________________________________________________\n",
            "dense_1 (Dense)              (None, 120)               30840     \n",
            "=================================================================\n",
            "Total params: 260,164,792\n",
            "Trainable params: 260,164,600\n",
            "Non-trainable params: 192\n",
            "_________________________________________________________________\n"
          ],
          "name": "stdout"
        }
      ]
    },
    {
      "cell_type": "code",
      "metadata": {
        "id": "W417h3QeGbvP",
        "colab_type": "code",
        "colab": {}
      },
      "source": [
        "# CallBacks \n",
        "mckpt = tf.keras.callbacks.ModelCheckpoint('./dog_breed.h5', \n",
        "                                           monitor='val_acc', save_best_only=True,)"
      ],
      "execution_count": 0,
      "outputs": []
    },
    {
      "cell_type": "code",
      "metadata": {
        "id": "AXLiz-ABG6ci",
        "colab_type": "code",
        "outputId": "7289b81b-db21-4a84-d713-beaa282232c0",
        "colab": {
          "base_uri": "https://localhost:8080/",
          "height": 557
        }
      },
      "source": [
        "history = model.fit(X_train,y_train,          \n",
        "          validation_data=(X_val,y_val),\n",
        "          epochs=10,\n",
        "          batch_size=128, callbacks=[mckpt],workers=4)"
      ],
      "execution_count": 45,
      "outputs": [
        {
          "output_type": "stream",
          "text": [
            "Epoch 1/10\n",
            "64/64 [==============================] - ETA: 0s - loss: 14.0726 - accuracy: 0.0094WARNING:tensorflow:Can save best model only with val_acc available, skipping.\n",
            "64/64 [==============================] - 38s 600ms/step - loss: 14.0726 - accuracy: 0.0094 - val_loss: 7.9077 - val_accuracy: 0.0127\n",
            "Epoch 2/10\n",
            "64/64 [==============================] - ETA: 0s - loss: 4.9598 - accuracy: 0.0143WARNING:tensorflow:Can save best model only with val_acc available, skipping.\n",
            "64/64 [==============================] - 36s 564ms/step - loss: 4.9598 - accuracy: 0.0143 - val_loss: 5.6491 - val_accuracy: 0.0147\n",
            "Epoch 3/10\n",
            "64/64 [==============================] - ETA: 0s - loss: 4.8664 - accuracy: 0.0163WARNING:tensorflow:Can save best model only with val_acc available, skipping.\n",
            "64/64 [==============================] - 36s 565ms/step - loss: 4.8664 - accuracy: 0.0163 - val_loss: 5.0504 - val_accuracy: 0.0132\n",
            "Epoch 4/10\n",
            "64/64 [==============================] - ETA: 0s - loss: 4.7705 - accuracy: 0.0168WARNING:tensorflow:Can save best model only with val_acc available, skipping.\n",
            "64/64 [==============================] - 36s 565ms/step - loss: 4.7705 - accuracy: 0.0168 - val_loss: 4.8806 - val_accuracy: 0.0078\n",
            "Epoch 5/10\n",
            "64/64 [==============================] - ETA: 0s - loss: 4.7680 - accuracy: 0.0170WARNING:tensorflow:Can save best model only with val_acc available, skipping.\n",
            "64/64 [==============================] - 36s 564ms/step - loss: 4.7680 - accuracy: 0.0170 - val_loss: 4.8386 - val_accuracy: 0.0078\n",
            "Epoch 6/10\n",
            "64/64 [==============================] - ETA: 0s - loss: 4.7871 - accuracy: 0.0174WARNING:tensorflow:Can save best model only with val_acc available, skipping.\n",
            "64/64 [==============================] - 36s 564ms/step - loss: 4.7871 - accuracy: 0.0174 - val_loss: 4.8091 - val_accuracy: 0.0078\n",
            "Epoch 7/10\n",
            "64/64 [==============================] - ETA: 0s - loss: 4.7811 - accuracy: 0.0193WARNING:tensorflow:Can save best model only with val_acc available, skipping.\n",
            "64/64 [==============================] - 36s 565ms/step - loss: 4.7811 - accuracy: 0.0193 - val_loss: 4.8067 - val_accuracy: 0.0098\n",
            "Epoch 8/10\n",
            "64/64 [==============================] - ETA: 0s - loss: 4.7991 - accuracy: 0.0187WARNING:tensorflow:Can save best model only with val_acc available, skipping.\n",
            "64/64 [==============================] - 36s 564ms/step - loss: 4.7991 - accuracy: 0.0187 - val_loss: 5.1431 - val_accuracy: 0.0083\n",
            "Epoch 9/10\n",
            "64/64 [==============================] - ETA: 0s - loss: 4.8814 - accuracy: 0.0182WARNING:tensorflow:Can save best model only with val_acc available, skipping.\n",
            "64/64 [==============================] - 36s 568ms/step - loss: 4.8814 - accuracy: 0.0182 - val_loss: 11.5554 - val_accuracy: 0.0064\n",
            "Epoch 10/10\n",
            "64/64 [==============================] - ETA: 0s - loss: 4.9607 - accuracy: 0.0185WARNING:tensorflow:Can save best model only with val_acc available, skipping.\n",
            "64/64 [==============================] - 36s 568ms/step - loss: 4.9607 - accuracy: 0.0185 - val_loss: 6.1858 - val_accuracy: 0.0098\n"
          ],
          "name": "stdout"
        }
      ]
    },
    {
      "cell_type": "markdown",
      "metadata": {
        "id": "Z8hWaKmjoz69",
        "colab_type": "text"
      },
      "source": [
        "#The model accuracy is very poor !!!!"
      ]
    },
    {
      "cell_type": "markdown",
      "metadata": {
        "colab_type": "text",
        "id": "agJKkc6xtKiq"
      },
      "source": [
        "### Use Data Augmentation in the above model to see if the accuracy improves\n"
      ]
    },
    {
      "cell_type": "code",
      "metadata": {
        "id": "gDLQVFDP96KI",
        "colab_type": "code",
        "colab": {}
      },
      "source": [
        "#ImageDataGenerator declaration with 20% data as test (80% for training)\n",
        "img_generator= tf.keras.preprocessing.image.ImageDataGenerator(rotation_range=20,\n",
        "                                                               width_shift_range=0.2,\n",
        "                                                               height_shift_range=0.2,\n",
        "                                                               horizontal_flip=True,\n",
        "                                                               validation_split=0.2)"
      ],
      "execution_count": 0,
      "outputs": []
    },
    {
      "cell_type": "markdown",
      "metadata": {
        "colab_type": "text",
        "id": "6sssbaTfxlkk"
      },
      "source": [
        "### Using the above objects, create the image generators with variable names `train_generator` and `val_generator`\n",
        "\n",
        "You need to use train_datagen.flow() and val_datagen.flow()"
      ]
    },
    {
      "cell_type": "code",
      "metadata": {
        "id": "sehaRgT-96KQ",
        "colab_type": "code",
        "colab": {}
      },
      "source": [
        "#training generator. \n",
        "train_generator = img_generator.flow(X_train,y_train,batch_size=128)"
      ],
      "execution_count": 0,
      "outputs": []
    },
    {
      "cell_type": "code",
      "metadata": {
        "id": "aRUvfLUHPOgo",
        "colab_type": "code",
        "colab": {}
      },
      "source": [
        "#test generator\n",
        "val_generator = img_generator.flow(X_val,y_val,batch_size=128)"
      ],
      "execution_count": 0,
      "outputs": []
    },
    {
      "cell_type": "markdown",
      "metadata": {
        "colab_type": "text",
        "id": "TVFQJZw3x4-C"
      },
      "source": [
        "### Fit the model using fit_generator() using `train_generator` and `val_generator` from the above step with 10 epochs"
      ]
    },
    {
      "cell_type": "code",
      "metadata": {
        "colab_type": "code",
        "id": "J1K2MqHbuPUa",
        "colab": {}
      },
      "source": [
        "model_checkpoint=tf.keras.callbacks.ModelCheckpoint('./dogcnn.h5', \n",
        "                                                    save_best_only=True, \n",
        "                                                    monitor='val_acc', \n",
        "                                                    mode='max', \n",
        "                                                    verbose=1)"
      ],
      "execution_count": 0,
      "outputs": []
    },
    {
      "cell_type": "code",
      "metadata": {
        "id": "CCRtMk_WXfVh",
        "colab_type": "code",
        "outputId": "f478939b-6744-49e6-d139-0f2f49044d0a",
        "colab": {
          "base_uri": "https://localhost:8080/",
          "height": 575
        }
      },
      "source": [
        "model.fit(train_generator,\n",
        "                    epochs=10,\n",
        "                    steps_per_epoch= X_train.shape[0]//128,  #Number of training images//batch_size\n",
        "                    validation_data=val_generator,\n",
        "                    validation_steps = X_val.shape[0]//128, #Number of test images//batch_size\n",
        "                    callbacks=[model_checkpoint],workers=4\n",
        "                    )"
      ],
      "execution_count": 50,
      "outputs": [
        {
          "output_type": "stream",
          "text": [
            "Epoch 1/10\n",
            "63/63 [==============================] - ETA: 0s - loss: 4.8158 - accuracy: 0.0117WARNING:tensorflow:Can save best model only with val_acc available, skipping.\n",
            "63/63 [==============================] - 39s 618ms/step - loss: 4.8158 - accuracy: 0.0117 - val_loss: 27.0010 - val_accuracy: 0.0083\n",
            "Epoch 2/10\n",
            "63/63 [==============================] - ETA: 0s - loss: 4.7861 - accuracy: 0.0109WARNING:tensorflow:Can save best model only with val_acc available, skipping.\n",
            "63/63 [==============================] - 38s 609ms/step - loss: 4.7861 - accuracy: 0.0109 - val_loss: 4.8296 - val_accuracy: 0.0078\n",
            "Epoch 3/10\n",
            "63/63 [==============================] - ETA: 0s - loss: 4.7782 - accuracy: 0.0104WARNING:tensorflow:Can save best model only with val_acc available, skipping.\n",
            "63/63 [==============================] - 39s 613ms/step - loss: 4.7782 - accuracy: 0.0104 - val_loss: 4.7941 - val_accuracy: 0.0099\n",
            "Epoch 4/10\n",
            "63/63 [==============================] - ETA: 0s - loss: 4.7849 - accuracy: 0.0113WARNING:tensorflow:Can save best model only with val_acc available, skipping.\n",
            "63/63 [==============================] - 39s 612ms/step - loss: 4.7849 - accuracy: 0.0113 - val_loss: 4.7992 - val_accuracy: 0.0073\n",
            "Epoch 5/10\n",
            "63/63 [==============================] - ETA: 0s - loss: 4.7789 - accuracy: 0.0122WARNING:tensorflow:Can save best model only with val_acc available, skipping.\n",
            "63/63 [==============================] - 38s 608ms/step - loss: 4.7789 - accuracy: 0.0122 - val_loss: 4.7852 - val_accuracy: 0.0078\n",
            "Epoch 6/10\n",
            "63/63 [==============================] - ETA: 0s - loss: 4.7795 - accuracy: 0.0087WARNING:tensorflow:Can save best model only with val_acc available, skipping.\n",
            "63/63 [==============================] - 38s 607ms/step - loss: 4.7795 - accuracy: 0.0087 - val_loss: 4.7881 - val_accuracy: 0.0073\n",
            "Epoch 7/10\n",
            "63/63 [==============================] - ETA: 0s - loss: 4.7774 - accuracy: 0.0096WARNING:tensorflow:Can save best model only with val_acc available, skipping.\n",
            "63/63 [==============================] - 38s 607ms/step - loss: 4.7774 - accuracy: 0.0096 - val_loss: 4.7826 - val_accuracy: 0.0094\n",
            "Epoch 8/10\n",
            "63/63 [==============================] - ETA: 0s - loss: 4.7762 - accuracy: 0.0116WARNING:tensorflow:Can save best model only with val_acc available, skipping.\n",
            "63/63 [==============================] - 39s 612ms/step - loss: 4.7762 - accuracy: 0.0116 - val_loss: 4.7958 - val_accuracy: 0.0094\n",
            "Epoch 9/10\n",
            "63/63 [==============================] - ETA: 0s - loss: 4.7765 - accuracy: 0.0124WARNING:tensorflow:Can save best model only with val_acc available, skipping.\n",
            "63/63 [==============================] - 38s 608ms/step - loss: 4.7765 - accuracy: 0.0124 - val_loss: 4.7830 - val_accuracy: 0.0094\n",
            "Epoch 10/10\n",
            "63/63 [==============================] - ETA: 0s - loss: 4.7903 - accuracy: 0.0123WARNING:tensorflow:Can save best model only with val_acc available, skipping.\n",
            "63/63 [==============================] - 38s 608ms/step - loss: 4.7903 - accuracy: 0.0123 - val_loss: 4.7891 - val_accuracy: 0.0099\n"
          ],
          "name": "stdout"
        },
        {
          "output_type": "execute_result",
          "data": {
            "text/plain": [
              "<tensorflow.python.keras.callbacks.History at 0x7ff10cb7eb38>"
            ]
          },
          "metadata": {
            "tags": []
          },
          "execution_count": 50
        }
      ]
    },
    {
      "cell_type": "markdown",
      "metadata": {
        "id": "Q2zmLztqo5DY",
        "colab_type": "text"
      },
      "source": [
        "# Model accuracy is still poor!!!"
      ]
    },
    {
      "cell_type": "markdown",
      "metadata": {
        "id": "rSTATrhsAo7L",
        "colab_type": "text"
      },
      "source": [
        "### Lets use Transfer Learning\n",
        "\n",
        "Download the vgg wieght file from here : https://github.com/MinerKasch/applied_deep_learning/blob/master/vgg16_weights_tf_dim_ordering_tf_kernels_notop.h5"
      ]
    },
    {
      "cell_type": "markdown",
      "metadata": {
        "id": "zy5JdbW6pIvD",
        "colab_type": "text"
      },
      "source": [
        "Use the below code to load VGG16 weights trained on ImageNet"
      ]
    },
    {
      "cell_type": "code",
      "metadata": {
        "id": "yrqs0zg7ApNw",
        "colab_type": "code",
        "colab": {}
      },
      "source": [
        "from tensorflow.keras.applications.vgg16 import VGG16, preprocess_input\n",
        "# Instantiate the model with the pre-trained weights (no top)\n",
        "base_model= VGG16(weights=('/content/drive/My Drive/Great Learning/vgg16_weights_tf_dim_ordering_tf_kernels_notop.h5'),\n",
        "                 include_top=False, pooling='avg')"
      ],
      "execution_count": 0,
      "outputs": []
    },
    {
      "cell_type": "markdown",
      "metadata": {
        "colab_type": "text",
        "id": "WLJz7zGR9Idj"
      },
      "source": [
        "Print the summary of the base_model"
      ]
    },
    {
      "cell_type": "code",
      "metadata": {
        "id": "lQsEBgnlpHjH",
        "colab_type": "code",
        "outputId": "8b000b84-01c7-43e5-b1b5-a1816d8a3529",
        "colab": {
          "base_uri": "https://localhost:8080/",
          "height": 823
        }
      },
      "source": [
        "base_model.summary()"
      ],
      "execution_count": 0,
      "outputs": [
        {
          "output_type": "stream",
          "text": [
            "Model: \"vgg16\"\n",
            "_________________________________________________________________\n",
            "Layer (type)                 Output Shape              Param #   \n",
            "=================================================================\n",
            "input_1 (InputLayer)         [(None, None, None, 3)]   0         \n",
            "_________________________________________________________________\n",
            "block1_conv1 (Conv2D)        (None, None, None, 64)    1792      \n",
            "_________________________________________________________________\n",
            "block1_conv2 (Conv2D)        (None, None, None, 64)    36928     \n",
            "_________________________________________________________________\n",
            "block1_pool (MaxPooling2D)   (None, None, None, 64)    0         \n",
            "_________________________________________________________________\n",
            "block2_conv1 (Conv2D)        (None, None, None, 128)   73856     \n",
            "_________________________________________________________________\n",
            "block2_conv2 (Conv2D)        (None, None, None, 128)   147584    \n",
            "_________________________________________________________________\n",
            "block2_pool (MaxPooling2D)   (None, None, None, 128)   0         \n",
            "_________________________________________________________________\n",
            "block3_conv1 (Conv2D)        (None, None, None, 256)   295168    \n",
            "_________________________________________________________________\n",
            "block3_conv2 (Conv2D)        (None, None, None, 256)   590080    \n",
            "_________________________________________________________________\n",
            "block3_conv3 (Conv2D)        (None, None, None, 256)   590080    \n",
            "_________________________________________________________________\n",
            "block3_pool (MaxPooling2D)   (None, None, None, 256)   0         \n",
            "_________________________________________________________________\n",
            "block4_conv1 (Conv2D)        (None, None, None, 512)   1180160   \n",
            "_________________________________________________________________\n",
            "block4_conv2 (Conv2D)        (None, None, None, 512)   2359808   \n",
            "_________________________________________________________________\n",
            "block4_conv3 (Conv2D)        (None, None, None, 512)   2359808   \n",
            "_________________________________________________________________\n",
            "block4_pool (MaxPooling2D)   (None, None, None, 512)   0         \n",
            "_________________________________________________________________\n",
            "block5_conv1 (Conv2D)        (None, None, None, 512)   2359808   \n",
            "_________________________________________________________________\n",
            "block5_conv2 (Conv2D)        (None, None, None, 512)   2359808   \n",
            "_________________________________________________________________\n",
            "block5_conv3 (Conv2D)        (None, None, None, 512)   2359808   \n",
            "_________________________________________________________________\n",
            "block5_pool (MaxPooling2D)   (None, None, None, 512)   0         \n",
            "_________________________________________________________________\n",
            "global_average_pooling2d (Gl (None, 512)               0         \n",
            "=================================================================\n",
            "Total params: 14,714,688\n",
            "Trainable params: 14,714,688\n",
            "Non-trainable params: 0\n",
            "_________________________________________________________________\n"
          ],
          "name": "stdout"
        }
      ]
    },
    {
      "cell_type": "markdown",
      "metadata": {
        "id": "fHpeOyW0qauW",
        "colab_type": "text"
      },
      "source": [
        "### Add the following classification layers to the imported VGG Model <br>\n",
        "1. Flatten Layer\n",
        "2. Dense layer with 1024 neurons with activation as Relu\n",
        "3. Dense layer with 256 neurons with activation as Relu\n",
        "4. Dense layer with 120 neurons with activation as Softmax"
      ]
    },
    {
      "cell_type": "code",
      "metadata": {
        "id": "0BpT4MLkqoaO",
        "colab_type": "code",
        "colab": {}
      },
      "source": [
        "x=base_model.output\n",
        "x=Flatten()(x)\n",
        "x=Dense(1024,activation='relu')(x) #we add dense layers so that the model can learn more complex functions and classify for better results.\n",
        "x=Dense(256,activation='relu')(x) #dense layer 2\n",
        "preds=Dense(120,activation='softmax')(x)"
      ],
      "execution_count": 0,
      "outputs": []
    },
    {
      "cell_type": "code",
      "metadata": {
        "id": "kZR2FtpkfdPx",
        "colab_type": "code",
        "colab": {}
      },
      "source": [
        "from tensorflow.keras.models import Model\n",
        "model_vgg=Model(inputs=base_model.input,outputs=preds)"
      ],
      "execution_count": 0,
      "outputs": []
    },
    {
      "cell_type": "markdown",
      "metadata": {
        "id": "LeQem0pHITIj",
        "colab_type": "text"
      },
      "source": [
        "### Make all the layers in the base_model (VGG16) to be non-trainable"
      ]
    },
    {
      "cell_type": "code",
      "metadata": {
        "id": "C7w9CSPvIRnX",
        "colab_type": "code",
        "colab": {}
      },
      "source": [
        "#Freezing layers in the model which don't have 'dense' in their name\n",
        "for layer in model_vgg.layers:\n",
        "  if('dense' not in layer.name): #prefix detection to freeze layers which does not have dense\n",
        "    #Freezing a layer\n",
        "    layer.trainable = False"
      ],
      "execution_count": 0,
      "outputs": []
    },
    {
      "cell_type": "markdown",
      "metadata": {
        "id": "kj-BwqgfIkdv",
        "colab_type": "text"
      },
      "source": [
        "### Fit and compile the model with batch_size = 128 and epochs = 10 and execute the model"
      ]
    },
    {
      "cell_type": "markdown",
      "metadata": {
        "id": "YD5fAgVQIpKZ",
        "colab_type": "text"
      },
      "source": [
        "Try to get training and validation accuracy to be more than 90%"
      ]
    },
    {
      "cell_type": "code",
      "metadata": {
        "id": "SZk2SWvjIoRP",
        "colab_type": "code",
        "outputId": "13cd0b63-4d9f-4428-89df-cd72ca5ed8cc",
        "colab": {
          "base_uri": "https://localhost:8080/",
          "height": 988
        }
      },
      "source": [
        "from tensorflow.keras.optimizers import RMSprop\n",
        "\n",
        "model_vgg.compile(optimizer= 'adam', loss='categorical_crossentropy', metrics=['accuracy'])\n",
        "\n",
        "model_vgg.summary()"
      ],
      "execution_count": 55,
      "outputs": [
        {
          "output_type": "stream",
          "text": [
            "Model: \"model\"\n",
            "_________________________________________________________________\n",
            "Layer (type)                 Output Shape              Param #   \n",
            "=================================================================\n",
            "input_1 (InputLayer)         [(None, None, None, 3)]   0         \n",
            "_________________________________________________________________\n",
            "block1_conv1 (Conv2D)        (None, None, None, 64)    1792      \n",
            "_________________________________________________________________\n",
            "block1_conv2 (Conv2D)        (None, None, None, 64)    36928     \n",
            "_________________________________________________________________\n",
            "block1_pool (MaxPooling2D)   (None, None, None, 64)    0         \n",
            "_________________________________________________________________\n",
            "block2_conv1 (Conv2D)        (None, None, None, 128)   73856     \n",
            "_________________________________________________________________\n",
            "block2_conv2 (Conv2D)        (None, None, None, 128)   147584    \n",
            "_________________________________________________________________\n",
            "block2_pool (MaxPooling2D)   (None, None, None, 128)   0         \n",
            "_________________________________________________________________\n",
            "block3_conv1 (Conv2D)        (None, None, None, 256)   295168    \n",
            "_________________________________________________________________\n",
            "block3_conv2 (Conv2D)        (None, None, None, 256)   590080    \n",
            "_________________________________________________________________\n",
            "block3_conv3 (Conv2D)        (None, None, None, 256)   590080    \n",
            "_________________________________________________________________\n",
            "block3_pool (MaxPooling2D)   (None, None, None, 256)   0         \n",
            "_________________________________________________________________\n",
            "block4_conv1 (Conv2D)        (None, None, None, 512)   1180160   \n",
            "_________________________________________________________________\n",
            "block4_conv2 (Conv2D)        (None, None, None, 512)   2359808   \n",
            "_________________________________________________________________\n",
            "block4_conv3 (Conv2D)        (None, None, None, 512)   2359808   \n",
            "_________________________________________________________________\n",
            "block4_pool (MaxPooling2D)   (None, None, None, 512)   0         \n",
            "_________________________________________________________________\n",
            "block5_conv1 (Conv2D)        (None, None, None, 512)   2359808   \n",
            "_________________________________________________________________\n",
            "block5_conv2 (Conv2D)        (None, None, None, 512)   2359808   \n",
            "_________________________________________________________________\n",
            "block5_conv3 (Conv2D)        (None, None, None, 512)   2359808   \n",
            "_________________________________________________________________\n",
            "block5_pool (MaxPooling2D)   (None, None, None, 512)   0         \n",
            "_________________________________________________________________\n",
            "global_average_pooling2d (Gl (None, 512)               0         \n",
            "_________________________________________________________________\n",
            "flatten_1 (Flatten)          (None, 512)               0         \n",
            "_________________________________________________________________\n",
            "dense_2 (Dense)              (None, 1024)              525312    \n",
            "_________________________________________________________________\n",
            "dense_3 (Dense)              (None, 256)               262400    \n",
            "_________________________________________________________________\n",
            "dense_4 (Dense)              (None, 120)               30840     \n",
            "=================================================================\n",
            "Total params: 15,533,240\n",
            "Trainable params: 818,552\n",
            "Non-trainable params: 14,714,688\n",
            "_________________________________________________________________\n"
          ],
          "name": "stdout"
        }
      ]
    },
    {
      "cell_type": "code",
      "metadata": {
        "id": "lPJ8eQphgS2G",
        "colab_type": "code",
        "colab": {}
      },
      "source": [
        "mckpt_vgg = tf.keras.callbacks.ModelCheckpoint('./dog.h5', \n",
        "                                           monitor='val_acc', save_best_only=True,)"
      ],
      "execution_count": 0,
      "outputs": []
    },
    {
      "cell_type": "code",
      "metadata": {
        "id": "qXlr1d8Wgvpz",
        "colab_type": "code",
        "outputId": "1e31d701-4a45-4d46-fae4-b97d757618e2",
        "colab": {
          "base_uri": "https://localhost:8080/",
          "height": 557
        }
      },
      "source": [
        "history_vgg = model_vgg.fit(X_train,y_train,\n",
        "                    epochs=10,validation_data=(X_val,y_val),\n",
        "                    callbacks=[mckpt_vgg],workers=4)"
      ],
      "execution_count": 57,
      "outputs": [
        {
          "output_type": "stream",
          "text": [
            "Epoch 1/10\n",
            "256/256 [==============================] - ETA: 0s - loss: 4.7760 - accuracy: 0.0706WARNING:tensorflow:Can save best model only with val_acc available, skipping.\n",
            "256/256 [==============================] - 32s 125ms/step - loss: 4.7760 - accuracy: 0.0706 - val_loss: 3.7876 - val_accuracy: 0.1399\n",
            "Epoch 2/10\n",
            "256/256 [==============================] - ETA: 0s - loss: 3.0917 - accuracy: 0.2365WARNING:tensorflow:Can save best model only with val_acc available, skipping.\n",
            "256/256 [==============================] - 30s 116ms/step - loss: 3.0917 - accuracy: 0.2365 - val_loss: 2.8935 - val_accuracy: 0.2738\n",
            "Epoch 3/10\n",
            "256/256 [==============================] - ETA: 0s - loss: 2.2357 - accuracy: 0.4079WARNING:tensorflow:Can save best model only with val_acc available, skipping.\n",
            "256/256 [==============================] - 30s 116ms/step - loss: 2.2357 - accuracy: 0.4079 - val_loss: 2.6980 - val_accuracy: 0.3418\n",
            "Epoch 4/10\n",
            "256/256 [==============================] - ETA: 0s - loss: 1.7607 - accuracy: 0.5051WARNING:tensorflow:Can save best model only with val_acc available, skipping.\n",
            "256/256 [==============================] - 30s 116ms/step - loss: 1.7607 - accuracy: 0.5051 - val_loss: 2.6808 - val_accuracy: 0.3467\n",
            "Epoch 5/10\n",
            "256/256 [==============================] - ETA: 0s - loss: 1.3661 - accuracy: 0.6094WARNING:tensorflow:Can save best model only with val_acc available, skipping.\n",
            "256/256 [==============================] - 30s 116ms/step - loss: 1.3661 - accuracy: 0.6094 - val_loss: 2.7384 - val_accuracy: 0.3560\n",
            "Epoch 6/10\n",
            "256/256 [==============================] - ETA: 0s - loss: 1.0405 - accuracy: 0.6875WARNING:tensorflow:Can save best model only with val_acc available, skipping.\n",
            "256/256 [==============================] - 30s 116ms/step - loss: 1.0405 - accuracy: 0.6875 - val_loss: 2.9368 - val_accuracy: 0.3692\n",
            "Epoch 7/10\n",
            "256/256 [==============================] - ETA: 0s - loss: 0.7694 - accuracy: 0.7629WARNING:tensorflow:Can save best model only with val_acc available, skipping.\n",
            "256/256 [==============================] - 30s 116ms/step - loss: 0.7694 - accuracy: 0.7629 - val_loss: 3.1747 - val_accuracy: 0.3765\n",
            "Epoch 8/10\n",
            "256/256 [==============================] - ETA: 0s - loss: 0.5363 - accuracy: 0.8331WARNING:tensorflow:Can save best model only with val_acc available, skipping.\n",
            "256/256 [==============================] - 30s 116ms/step - loss: 0.5363 - accuracy: 0.8331 - val_loss: 3.3950 - val_accuracy: 0.3770\n",
            "Epoch 9/10\n",
            "256/256 [==============================] - ETA: 0s - loss: 0.4168 - accuracy: 0.8707WARNING:tensorflow:Can save best model only with val_acc available, skipping.\n",
            "256/256 [==============================] - 30s 116ms/step - loss: 0.4168 - accuracy: 0.8707 - val_loss: 3.9156 - val_accuracy: 0.3702\n",
            "Epoch 10/10\n",
            "256/256 [==============================] - ETA: 0s - loss: 0.3452 - accuracy: 0.8865WARNING:tensorflow:Can save best model only with val_acc available, skipping.\n",
            "256/256 [==============================] - 30s 116ms/step - loss: 0.3452 - accuracy: 0.8865 - val_loss: 4.0283 - val_accuracy: 0.3663\n"
          ],
          "name": "stdout"
        }
      ]
    },
    {
      "cell_type": "code",
      "metadata": {
        "id": "IqPxKvrFa1T9",
        "colab_type": "code",
        "colab": {}
      },
      "source": [
        ""
      ],
      "execution_count": 0,
      "outputs": []
    }
  ]
}