{
  "nbformat": 4,
  "nbformat_minor": 0,
  "metadata": {
    "colab": {
      "name": "R8_External_Lab_Ques_CIFAR10_Transfer_Learning_TFIDF_Text_Classification.ipynb",
      "provenance": [],
      "collapsed_sections": []
    },
    "kernelspec": {
      "name": "python3",
      "display_name": "Python 3"
    },
    "accelerator": "TPU"
  },
  "cells": [
    {
      "cell_type": "markdown",
      "metadata": {
        "id": "QGIsF1ADyJ58",
        "colab_type": "text"
      },
      "source": [
        "# Transfer Learning CIFAR10"
      ]
    },
    {
      "cell_type": "markdown",
      "metadata": {
        "id": "E-n6tVFayGBe",
        "colab_type": "text"
      },
      "source": [
        "* Train a simple convnet on the CIFAR dataset the first 5 output classes [0..4].\n",
        "* Freeze convolutional layers and fine-tune dense layers for the last 5 ouput classes [5..9].\n"
      ]
    },
    {
      "cell_type": "markdown",
      "metadata": {
        "id": "Cq8ejXHJyGYq",
        "colab_type": "text"
      },
      "source": [
        "### 1. Import CIFAR10 data and create 2 datasets with one dataset having classes from 0 to 4 and other having classes from 5 to 9 "
      ]
    },
    {
      "cell_type": "code",
      "metadata": {
        "id": "ZhU1qXWjagx6",
        "colab_type": "code",
        "outputId": "020f0968-b94a-40bd-a5b3-fd47a5e61a40",
        "colab": {
          "base_uri": "https://localhost:8080/",
          "height": 615
        }
      },
      "source": [
        "!pip install tensorflow==2.0.0"
      ],
      "execution_count": 52,
      "outputs": [
        {
          "output_type": "stream",
          "text": [
            "Requirement already satisfied: tensorflow==2.0.0 in /usr/local/lib/python3.6/dist-packages (2.0.0)\n",
            "Requirement already satisfied: termcolor>=1.1.0 in /usr/local/lib/python3.6/dist-packages (from tensorflow==2.0.0) (1.1.0)\n",
            "Requirement already satisfied: opt-einsum>=2.3.2 in /usr/local/lib/python3.6/dist-packages (from tensorflow==2.0.0) (3.1.0)\n",
            "Requirement already satisfied: grpcio>=1.8.6 in /usr/local/lib/python3.6/dist-packages (from tensorflow==2.0.0) (1.15.0)\n",
            "Requirement already satisfied: wheel>=0.26 in /usr/local/lib/python3.6/dist-packages (from tensorflow==2.0.0) (0.34.2)\n",
            "Requirement already satisfied: protobuf>=3.6.1 in /usr/local/lib/python3.6/dist-packages (from tensorflow==2.0.0) (3.10.0)\n",
            "Requirement already satisfied: absl-py>=0.7.0 in /usr/local/lib/python3.6/dist-packages (from tensorflow==2.0.0) (0.9.0)\n",
            "Requirement already satisfied: gast==0.2.2 in /usr/local/lib/python3.6/dist-packages (from tensorflow==2.0.0) (0.2.2)\n",
            "Requirement already satisfied: six>=1.10.0 in /usr/local/lib/python3.6/dist-packages (from tensorflow==2.0.0) (1.12.0)\n",
            "Requirement already satisfied: keras-preprocessing>=1.0.5 in /usr/local/lib/python3.6/dist-packages (from tensorflow==2.0.0) (1.1.0)\n",
            "Requirement already satisfied: tensorflow-estimator<2.1.0,>=2.0.0 in /usr/local/lib/python3.6/dist-packages (from tensorflow==2.0.0) (2.0.1)\n",
            "Requirement already satisfied: wrapt>=1.11.1 in /usr/local/lib/python3.6/dist-packages (from tensorflow==2.0.0) (1.11.2)\n",
            "Requirement already satisfied: tensorboard<2.1.0,>=2.0.0 in /usr/local/lib/python3.6/dist-packages (from tensorflow==2.0.0) (2.0.2)\n",
            "Requirement already satisfied: astor>=0.6.0 in /usr/local/lib/python3.6/dist-packages (from tensorflow==2.0.0) (0.8.1)\n",
            "Requirement already satisfied: keras-applications>=1.0.8 in /usr/local/lib/python3.6/dist-packages (from tensorflow==2.0.0) (1.0.8)\n",
            "Requirement already satisfied: google-pasta>=0.1.6 in /usr/local/lib/python3.6/dist-packages (from tensorflow==2.0.0) (0.1.8)\n",
            "Requirement already satisfied: numpy<2.0,>=1.16.0 in /usr/local/lib/python3.6/dist-packages (from tensorflow==2.0.0) (1.17.5)\n",
            "Requirement already satisfied: setuptools in /usr/local/lib/python3.6/dist-packages (from protobuf>=3.6.1->tensorflow==2.0.0) (45.1.0)\n",
            "Requirement already satisfied: werkzeug>=0.11.15 in /usr/local/lib/python3.6/dist-packages (from tensorboard<2.1.0,>=2.0.0->tensorflow==2.0.0) (0.16.1)\n",
            "Requirement already satisfied: requests<3,>=2.21.0 in /usr/local/lib/python3.6/dist-packages (from tensorboard<2.1.0,>=2.0.0->tensorflow==2.0.0) (2.21.0)\n",
            "Requirement already satisfied: google-auth-oauthlib<0.5,>=0.4.1 in /usr/local/lib/python3.6/dist-packages (from tensorboard<2.1.0,>=2.0.0->tensorflow==2.0.0) (0.4.1)\n",
            "Requirement already satisfied: markdown>=2.6.8 in /usr/local/lib/python3.6/dist-packages (from tensorboard<2.1.0,>=2.0.0->tensorflow==2.0.0) (3.1.1)\n",
            "Requirement already satisfied: google-auth<2,>=1.6.3 in /usr/local/lib/python3.6/dist-packages (from tensorboard<2.1.0,>=2.0.0->tensorflow==2.0.0) (1.11.0)\n",
            "Requirement already satisfied: h5py in /usr/local/lib/python3.6/dist-packages (from keras-applications>=1.0.8->tensorflow==2.0.0) (2.8.0)\n",
            "Requirement already satisfied: idna<2.9,>=2.5 in /usr/local/lib/python3.6/dist-packages (from requests<3,>=2.21.0->tensorboard<2.1.0,>=2.0.0->tensorflow==2.0.0) (2.8)\n",
            "Requirement already satisfied: certifi>=2017.4.17 in /usr/local/lib/python3.6/dist-packages (from requests<3,>=2.21.0->tensorboard<2.1.0,>=2.0.0->tensorflow==2.0.0) (2019.11.28)\n",
            "Requirement already satisfied: urllib3<1.25,>=1.21.1 in /usr/local/lib/python3.6/dist-packages (from requests<3,>=2.21.0->tensorboard<2.1.0,>=2.0.0->tensorflow==2.0.0) (1.24.3)\n",
            "Requirement already satisfied: chardet<3.1.0,>=3.0.2 in /usr/local/lib/python3.6/dist-packages (from requests<3,>=2.21.0->tensorboard<2.1.0,>=2.0.0->tensorflow==2.0.0) (3.0.4)\n",
            "Requirement already satisfied: requests-oauthlib>=0.7.0 in /usr/local/lib/python3.6/dist-packages (from google-auth-oauthlib<0.5,>=0.4.1->tensorboard<2.1.0,>=2.0.0->tensorflow==2.0.0) (1.3.0)\n",
            "Requirement already satisfied: pyasn1-modules>=0.2.1 in /usr/local/lib/python3.6/dist-packages (from google-auth<2,>=1.6.3->tensorboard<2.1.0,>=2.0.0->tensorflow==2.0.0) (0.2.8)\n",
            "Requirement already satisfied: cachetools<5.0,>=2.0.0 in /usr/local/lib/python3.6/dist-packages (from google-auth<2,>=1.6.3->tensorboard<2.1.0,>=2.0.0->tensorflow==2.0.0) (4.0.0)\n",
            "Requirement already satisfied: rsa<4.1,>=3.1.4 in /usr/local/lib/python3.6/dist-packages (from google-auth<2,>=1.6.3->tensorboard<2.1.0,>=2.0.0->tensorflow==2.0.0) (4.0)\n",
            "Requirement already satisfied: oauthlib>=3.0.0 in /usr/local/lib/python3.6/dist-packages (from requests-oauthlib>=0.7.0->google-auth-oauthlib<0.5,>=0.4.1->tensorboard<2.1.0,>=2.0.0->tensorflow==2.0.0) (3.1.0)\n",
            "Requirement already satisfied: pyasn1<0.5.0,>=0.4.6 in /usr/local/lib/python3.6/dist-packages (from pyasn1-modules>=0.2.1->google-auth<2,>=1.6.3->tensorboard<2.1.0,>=2.0.0->tensorflow==2.0.0) (0.4.8)\n"
          ],
          "name": "stdout"
        }
      ]
    },
    {
      "cell_type": "code",
      "metadata": {
        "id": "uWYbxnBayFUP",
        "colab_type": "code",
        "colab": {}
      },
      "source": [
        "from keras.datasets import cifar10"
      ],
      "execution_count": 0,
      "outputs": []
    },
    {
      "cell_type": "code",
      "metadata": {
        "id": "25bhkvSyamir",
        "colab_type": "code",
        "outputId": "b2d30c30-2055-4159-8b6f-3dc3fa9cf799",
        "colab": {
          "base_uri": "https://localhost:8080/",
          "height": 34
        }
      },
      "source": [
        "import tensorflow as tf\n",
        "tf.__version__"
      ],
      "execution_count": 54,
      "outputs": [
        {
          "output_type": "execute_result",
          "data": {
            "text/plain": [
              "'2.0.0'"
            ]
          },
          "metadata": {
            "tags": []
          },
          "execution_count": 54
        }
      ]
    },
    {
      "cell_type": "code",
      "metadata": {
        "id": "iyqPvx7iawfe",
        "colab_type": "code",
        "colab": {}
      },
      "source": [
        "import pandas as pd\n",
        "import numpy as np\n",
        "from sklearn.model_selection import train_test_split"
      ],
      "execution_count": 0,
      "outputs": []
    },
    {
      "cell_type": "code",
      "metadata": {
        "id": "iV4a-Ia0a9qX",
        "colab_type": "code",
        "colab": {}
      },
      "source": [
        "(train_x, train_y),(test_x,test_y) = tf.keras.datasets.cifar10.load_data()"
      ],
      "execution_count": 0,
      "outputs": []
    },
    {
      "cell_type": "code",
      "metadata": {
        "id": "JTsWXJU1-JL-",
        "colab_type": "code",
        "colab": {
          "base_uri": "https://localhost:8080/",
          "height": 85
        },
        "outputId": "47a633f5-989d-4a37-b553-a82792aacf81"
      },
      "source": [
        "print ( train_x.shape)\n",
        "print ( test_x.shape)\n",
        "print ( train_y.shape)\n",
        "print ( test_y.shape)"
      ],
      "execution_count": 81,
      "outputs": [
        {
          "output_type": "stream",
          "text": [
            "(50000, 32, 32, 3)\n",
            "(10000, 32, 32, 3)\n",
            "(50000, 1)\n",
            "(10000, 1)\n"
          ],
          "name": "stdout"
        }
      ]
    },
    {
      "cell_type": "code",
      "metadata": {
        "id": "8z4lm-XShd_s",
        "colab_type": "code",
        "colab": {
          "base_uri": "https://localhost:8080/",
          "height": 34
        },
        "outputId": "d0985f35-d0ae-4b03-d3c0-b5dc66ad14f7"
      },
      "source": [
        "y04 = np.where(train_y <= 4) \n",
        "x04 = train_x[y04[0]]\n",
        "x04.shape "
      ],
      "execution_count": 82,
      "outputs": [
        {
          "output_type": "execute_result",
          "data": {
            "text/plain": [
              "(25000, 32, 32, 3)"
            ]
          },
          "metadata": {
            "tags": []
          },
          "execution_count": 82
        }
      ]
    },
    {
      "cell_type": "code",
      "metadata": {
        "id": "jm94hSN0i8fe",
        "colab_type": "code",
        "colab": {
          "base_uri": "https://localhost:8080/",
          "height": 34
        },
        "outputId": "195a9359-9f6e-48b4-8a34-05fa1fae81e8"
      },
      "source": [
        "y59 = np.where(train_y >= 5)\n",
        "x59= train_x[y59[0]] \n",
        "x59.shape"
      ],
      "execution_count": 83,
      "outputs": [
        {
          "output_type": "execute_result",
          "data": {
            "text/plain": [
              "(25000, 32, 32, 3)"
            ]
          },
          "metadata": {
            "tags": []
          },
          "execution_count": 83
        }
      ]
    },
    {
      "cell_type": "code",
      "metadata": {
        "id": "tZNuUXxsjUNj",
        "colab_type": "code",
        "colab": {
          "base_uri": "https://localhost:8080/",
          "height": 34
        },
        "outputId": "acd6ae23-82d0-4899-ad46-cf6f71312f87"
      },
      "source": [
        "ytest04 = np.where(test_y <= 4)\n",
        "xtest04= test_x[ytest04[0]] \n",
        "xtest04.shape "
      ],
      "execution_count": 60,
      "outputs": [
        {
          "output_type": "execute_result",
          "data": {
            "text/plain": [
              "(5000, 32, 32, 3)"
            ]
          },
          "metadata": {
            "tags": []
          },
          "execution_count": 60
        }
      ]
    },
    {
      "cell_type": "code",
      "metadata": {
        "id": "kQo-PZozjwpQ",
        "colab_type": "code",
        "colab": {
          "base_uri": "https://localhost:8080/",
          "height": 34
        },
        "outputId": "7c022fe5-2703-4b7b-dfad-096c75557ac8"
      },
      "source": [
        "ytest59 = np.where(test_y >= 5)\n",
        "xtest59 = test_x[ytest59[0]] \n",
        "xtest59.shape"
      ],
      "execution_count": 79,
      "outputs": [
        {
          "output_type": "execute_result",
          "data": {
            "text/plain": [
              "(5000, 32, 32, 3)"
            ]
          },
          "metadata": {
            "tags": []
          },
          "execution_count": 79
        }
      ]
    },
    {
      "cell_type": "code",
      "metadata": {
        "id": "7ytnp4b92R_b",
        "colab_type": "code",
        "colab": {
          "base_uri": "https://localhost:8080/",
          "height": 34
        },
        "outputId": "1a8b1adb-cc3a-4557-ea70-efacd311dcba"
      },
      "source": [
        "train04y = train_y[y04]\n",
        "test04y= test_y[ytest04]\n",
        "test04y.shape"
      ],
      "execution_count": 85,
      "outputs": [
        {
          "output_type": "execute_result",
          "data": {
            "text/plain": [
              "(5000,)"
            ]
          },
          "metadata": {
            "tags": []
          },
          "execution_count": 85
        }
      ]
    },
    {
      "cell_type": "code",
      "metadata": {
        "id": "XtHBFWK82Szu",
        "colab_type": "code",
        "colab": {
          "base_uri": "https://localhost:8080/",
          "height": 34
        },
        "outputId": "174ccca4-f437-4ec0-a4ca-7972f516340d"
      },
      "source": [
        "train59y = train_y[y59]\n",
        "test59y= test_y[ytest59]\n",
        "test59y.shape"
      ],
      "execution_count": 86,
      "outputs": [
        {
          "output_type": "execute_result",
          "data": {
            "text/plain": [
              "(5000,)"
            ]
          },
          "metadata": {
            "tags": []
          },
          "execution_count": 86
        }
      ]
    },
    {
      "cell_type": "markdown",
      "metadata": {
        "id": "xtCKmQh4yXhT",
        "colab_type": "text"
      },
      "source": [
        "### 2. Use One-hot encoding to divide y_train and y_test into required no of output classes"
      ]
    },
    {
      "cell_type": "code",
      "metadata": {
        "id": "uN5O2kJ3yYa6",
        "colab_type": "code",
        "colab": {
          "base_uri": "https://localhost:8080/",
          "height": 34
        },
        "outputId": "e63596bb-80b5-4af2-991e-24722ec2935a"
      },
      "source": [
        "y04_ = tf.keras.utils.to_categorical(train04y)\n",
        "testy04_ = tf.keras.utils.to_categorical(test04y)\n",
        "y04_.shape"
      ],
      "execution_count": 88,
      "outputs": [
        {
          "output_type": "execute_result",
          "data": {
            "text/plain": [
              "(25000, 5)"
            ]
          },
          "metadata": {
            "tags": []
          },
          "execution_count": 88
        }
      ]
    },
    {
      "cell_type": "code",
      "metadata": {
        "id": "XWFtQNh75x3a",
        "colab_type": "code",
        "colab": {}
      },
      "source": [
        "y59_ = tf.keras.utils.to_categorical(train59y,num_classes=10)\n",
        "testy59_ = tf.keras.utils.to_categorical(test59y,num_classes =10)\n",
        "\n"
      ],
      "execution_count": 0,
      "outputs": []
    },
    {
      "cell_type": "code",
      "metadata": {
        "id": "meFpMP9c6SwS",
        "colab_type": "code",
        "colab": {
          "base_uri": "https://localhost:8080/",
          "height": 34
        },
        "outputId": "21d877f5-4858-4342-aacc-f79b0ac4a787"
      },
      "source": [
        "y59new = y59_[:,5:10] \n",
        "y59new.shape\n",
        "testy59new = testy59_[:,5:10] \n",
        "testy59new.shape"
      ],
      "execution_count": 92,
      "outputs": [
        {
          "output_type": "execute_result",
          "data": {
            "text/plain": [
              "(5000, 5)"
            ]
          },
          "metadata": {
            "tags": []
          },
          "execution_count": 92
        }
      ]
    },
    {
      "cell_type": "markdown",
      "metadata": {
        "id": "cuOiKWfeybAl",
        "colab_type": "text"
      },
      "source": [
        "### 3. Build a sequential neural network model which can classify the classes 0 to 4 of CIFAR10 dataset with at least 80% accuracy on test data"
      ]
    },
    {
      "cell_type": "code",
      "metadata": {
        "id": "5HzxNbiiyoBD",
        "colab_type": "code",
        "colab": {}
      },
      "source": [
        "from tensorflow.keras.layers import Conv2D\n",
        "from tensorflow.keras.layers import MaxPool2D\n",
        "from tensorflow.keras.layers import Flatten\n",
        "from tensorflow.keras.layers import Dense\n",
        "from tensorflow.keras.layers import Dropout,Activation\n",
        "from tensorflow.keras.layers import Reshape\n",
        "from tensorflow.keras.layers import MaxPooling2D\n",
        "from tensorflow.keras.backend import clear_session\n",
        "from tensorflow.keras.models import Sequential\n",
        "from tensorflow.keras.optimizers import Adam\n",
        "from tensorflow.keras.layers import BatchNormalization\n",
        "from tensorflow.keras.metrics import Accuracy"
      ],
      "execution_count": 0,
      "outputs": []
    },
    {
      "cell_type": "code",
      "metadata": {
        "id": "2kDlg9T_60MK",
        "colab_type": "code",
        "colab": {}
      },
      "source": [
        "tf.keras.backend.clear_session()\n",
        "# Sequential\n",
        "model = Sequential()\n",
        "\n",
        "# 1st CNN layer\n",
        "model.add(Conv2D(32, (3, 3), padding='same',input_shape=x04.shape[1:]))\n",
        "model.add(Activation('relu'))\n",
        "\n",
        "# Max pool layer with 20% dropout\n",
        "model.add(MaxPooling2D(pool_size=(2, 2)))\n",
        "model.add(Dropout(0.20)) \n",
        "\n",
        "# 2nd CNN layer \n",
        "model.add(Conv2D(32, (3, 3)))\n",
        "model.add(Activation('relu'))\n",
        "\n",
        "# Batcth normalizing\n",
        "model.add(BatchNormalization())\n",
        "\n",
        "# 3rd CNN layer \n",
        "model.add(Conv2D(64, (3, 3), padding='same'))\n",
        "model.add(Activation('relu'))\n",
        "\n",
        "# 4th CNN layer \n",
        "model.add(Conv2D(64, (3, 3)))\n",
        "model.add(Activation('relu'))\n",
        "\n",
        "# max pool  2 with 30% dropout\n",
        "model.add(MaxPooling2D(pool_size=(2, 2)))\n",
        "model.add(Dropout(0.30)) \n",
        "\n",
        "# Flattening the layer \n",
        "model.add(Flatten())\n",
        "\n",
        "# Dens layer \n",
        "model.add(Dense(512,activation ='relu'))\n",
        "\n",
        "# Output layer \n",
        "model.add(Dense(5,activation='softmax'))\n",
        "\n",
        "model.compile(optimizer='adam', loss='categorical_crossentropy', metrics=['accuracy'])"
      ],
      "execution_count": 0,
      "outputs": []
    },
    {
      "cell_type": "code",
      "metadata": {
        "id": "AdA5_bK07RIT",
        "colab_type": "code",
        "colab": {
          "base_uri": "https://localhost:8080/",
          "height": 697
        },
        "outputId": "99135b3e-c2e6-4fd5-d358-ab4bd339aad7"
      },
      "source": [
        "model.summary()"
      ],
      "execution_count": 102,
      "outputs": [
        {
          "output_type": "stream",
          "text": [
            "Model: \"sequential\"\n",
            "_________________________________________________________________\n",
            "Layer (type)                 Output Shape              Param #   \n",
            "=================================================================\n",
            "conv2d (Conv2D)              (None, 32, 32, 32)        896       \n",
            "_________________________________________________________________\n",
            "activation (Activation)      (None, 32, 32, 32)        0         \n",
            "_________________________________________________________________\n",
            "max_pooling2d (MaxPooling2D) (None, 16, 16, 32)        0         \n",
            "_________________________________________________________________\n",
            "dropout (Dropout)            (None, 16, 16, 32)        0         \n",
            "_________________________________________________________________\n",
            "conv2d_1 (Conv2D)            (None, 14, 14, 32)        9248      \n",
            "_________________________________________________________________\n",
            "activation_1 (Activation)    (None, 14, 14, 32)        0         \n",
            "_________________________________________________________________\n",
            "batch_normalization (BatchNo (None, 14, 14, 32)        128       \n",
            "_________________________________________________________________\n",
            "conv2d_2 (Conv2D)            (None, 14, 14, 64)        18496     \n",
            "_________________________________________________________________\n",
            "activation_2 (Activation)    (None, 14, 14, 64)        0         \n",
            "_________________________________________________________________\n",
            "conv2d_3 (Conv2D)            (None, 12, 12, 64)        36928     \n",
            "_________________________________________________________________\n",
            "activation_3 (Activation)    (None, 12, 12, 64)        0         \n",
            "_________________________________________________________________\n",
            "max_pooling2d_1 (MaxPooling2 (None, 6, 6, 64)          0         \n",
            "_________________________________________________________________\n",
            "dropout_1 (Dropout)          (None, 6, 6, 64)          0         \n",
            "_________________________________________________________________\n",
            "flatten (Flatten)            (None, 2304)              0         \n",
            "_________________________________________________________________\n",
            "dense (Dense)                (None, 512)               1180160   \n",
            "_________________________________________________________________\n",
            "dense_1 (Dense)              (None, 5)                 2565      \n",
            "=================================================================\n",
            "Total params: 1,248,421\n",
            "Trainable params: 1,248,357\n",
            "Non-trainable params: 64\n",
            "_________________________________________________________________\n"
          ],
          "name": "stdout"
        }
      ]
    },
    {
      "cell_type": "code",
      "metadata": {
        "id": "gOgobyAg7VtL",
        "colab_type": "code",
        "colab": {}
      },
      "source": [
        "mckpt = tf.keras.callbacks.ModelCheckpoint('./cifar.h5', \n",
        "                                           monitor='val_acc', save_best_only=True,)"
      ],
      "execution_count": 0,
      "outputs": []
    },
    {
      "cell_type": "code",
      "metadata": {
        "id": "9ioYBv3b7Zsx",
        "colab_type": "code",
        "colab": {
          "base_uri": "https://localhost:8080/",
          "height": 564
        },
        "outputId": "a9696794-30da-477e-e369-d4d9b771e892"
      },
      "source": [
        "history = model.fit(x04,y04_,          \n",
        "          validation_data=(xtest04,testy04_),\n",
        "          epochs=10,\n",
        "          batch_size=32, callbacks=[mckpt],workers=2)"
      ],
      "execution_count": 104,
      "outputs": [
        {
          "output_type": "stream",
          "text": [
            "Train on 25000 samples, validate on 5000 samples\n",
            "Epoch 1/10\n",
            "24992/25000 [============================>.] - ETA: 0s - loss: 1.0544 - accuracy: 0.5713WARNING:tensorflow:Can save best model only with val_acc available, skipping.\n",
            "25000/25000 [==============================] - 97s 4ms/sample - loss: 1.0544 - accuracy: 0.5713 - val_loss: 1.1122 - val_accuracy: 0.5748\n",
            "Epoch 2/10\n",
            "24992/25000 [============================>.] - ETA: 0s - loss: 0.8407 - accuracy: 0.6667WARNING:tensorflow:Can save best model only with val_acc available, skipping.\n",
            "25000/25000 [==============================] - 96s 4ms/sample - loss: 0.8406 - accuracy: 0.6668 - val_loss: 0.8111 - val_accuracy: 0.6756\n",
            "Epoch 3/10\n",
            "24992/25000 [============================>.] - ETA: 0s - loss: 0.7414 - accuracy: 0.7130WARNING:tensorflow:Can save best model only with val_acc available, skipping.\n",
            "25000/25000 [==============================] - 96s 4ms/sample - loss: 0.7414 - accuracy: 0.7130 - val_loss: 0.7057 - val_accuracy: 0.7316\n",
            "Epoch 4/10\n",
            "24992/25000 [============================>.] - ETA: 0s - loss: 0.6676 - accuracy: 0.7428WARNING:tensorflow:Can save best model only with val_acc available, skipping.\n",
            "25000/25000 [==============================] - 96s 4ms/sample - loss: 0.6676 - accuracy: 0.7428 - val_loss: 0.6587 - val_accuracy: 0.7420\n",
            "Epoch 5/10\n",
            "24992/25000 [============================>.] - ETA: 0s - loss: 0.6124 - accuracy: 0.7674WARNING:tensorflow:Can save best model only with val_acc available, skipping.\n",
            "25000/25000 [==============================] - 96s 4ms/sample - loss: 0.6124 - accuracy: 0.7674 - val_loss: 0.6653 - val_accuracy: 0.7520\n",
            "Epoch 6/10\n",
            "24992/25000 [============================>.] - ETA: 0s - loss: 0.5525 - accuracy: 0.7901WARNING:tensorflow:Can save best model only with val_acc available, skipping.\n",
            "25000/25000 [==============================] - 97s 4ms/sample - loss: 0.5525 - accuracy: 0.7900 - val_loss: 0.6113 - val_accuracy: 0.7642\n",
            "Epoch 7/10\n",
            "24992/25000 [============================>.] - ETA: 0s - loss: 0.5143 - accuracy: 0.8045WARNING:tensorflow:Can save best model only with val_acc available, skipping.\n",
            "25000/25000 [==============================] - 96s 4ms/sample - loss: 0.5143 - accuracy: 0.8045 - val_loss: 0.5619 - val_accuracy: 0.7822\n",
            "Epoch 8/10\n",
            "24992/25000 [============================>.] - ETA: 0s - loss: 0.4733 - accuracy: 0.8200WARNING:tensorflow:Can save best model only with val_acc available, skipping.\n",
            "25000/25000 [==============================] - 96s 4ms/sample - loss: 0.4732 - accuracy: 0.8200 - val_loss: 0.6147 - val_accuracy: 0.7794\n",
            "Epoch 9/10\n",
            "24992/25000 [============================>.] - ETA: 0s - loss: 0.4206 - accuracy: 0.8413WARNING:tensorflow:Can save best model only with val_acc available, skipping.\n",
            "25000/25000 [==============================] - 96s 4ms/sample - loss: 0.4207 - accuracy: 0.8413 - val_loss: 0.5797 - val_accuracy: 0.7918\n",
            "Epoch 10/10\n",
            "24992/25000 [============================>.] - ETA: 0s - loss: 0.3907 - accuracy: 0.8520WARNING:tensorflow:Can save best model only with val_acc available, skipping.\n",
            "25000/25000 [==============================] - 96s 4ms/sample - loss: 0.3906 - accuracy: 0.8520 - val_loss: 0.5602 - val_accuracy: 0.7972\n"
          ],
          "name": "stdout"
        }
      ]
    },
    {
      "cell_type": "code",
      "metadata": {
        "id": "7l7DpoOi_n2O",
        "colab_type": "code",
        "colab": {
          "base_uri": "https://localhost:8080/",
          "height": 309
        },
        "outputId": "1bc0cd2c-7f8b-4e9c-fc91-49a58ea17a9d"
      },
      "source": [
        "history = model.fit(x04,y04_,        \n",
        "          validation_data=(xtest04,testy04_),\n",
        "          epochs=15,\n",
        "          initial_epoch=10,\n",
        "          batch_size=32, callbacks=[mckpt],workers=4)"
      ],
      "execution_count": 111,
      "outputs": [
        {
          "output_type": "stream",
          "text": [
            "Train on 25000 samples, validate on 5000 samples\n",
            "Epoch 11/15\n",
            "24992/25000 [============================>.] - ETA: 0s - loss: 0.3584 - accuracy: 0.8665WARNING:tensorflow:Can save best model only with val_acc available, skipping.\n",
            "25000/25000 [==============================] - 95s 4ms/sample - loss: 0.3583 - accuracy: 0.8665 - val_loss: 0.6893 - val_accuracy: 0.7708\n",
            "Epoch 12/15\n",
            "24992/25000 [============================>.] - ETA: 0s - loss: 0.3288 - accuracy: 0.8773WARNING:tensorflow:Can save best model only with val_acc available, skipping.\n",
            "25000/25000 [==============================] - 95s 4ms/sample - loss: 0.3288 - accuracy: 0.8773 - val_loss: 0.7905 - val_accuracy: 0.7400\n",
            "Epoch 13/15\n",
            "24992/25000 [============================>.] - ETA: 0s - loss: 0.2956 - accuracy: 0.8909WARNING:tensorflow:Can save best model only with val_acc available, skipping.\n",
            "25000/25000 [==============================] - 95s 4ms/sample - loss: 0.2956 - accuracy: 0.8909 - val_loss: 0.5893 - val_accuracy: 0.8042\n",
            "Epoch 14/15\n",
            "24992/25000 [============================>.] - ETA: 0s - loss: 0.2842 - accuracy: 0.8958WARNING:tensorflow:Can save best model only with val_acc available, skipping.\n",
            "25000/25000 [==============================] - 96s 4ms/sample - loss: 0.2841 - accuracy: 0.8958 - val_loss: 0.7029 - val_accuracy: 0.7810\n",
            "Epoch 15/15\n",
            "24992/25000 [============================>.] - ETA: 0s - loss: 0.2552 - accuracy: 0.9067WARNING:tensorflow:Can save best model only with val_acc available, skipping.\n",
            "25000/25000 [==============================] - 97s 4ms/sample - loss: 0.2552 - accuracy: 0.9067 - val_loss: 0.6176 - val_accuracy: 0.7982\n"
          ],
          "name": "stdout"
        }
      ]
    },
    {
      "cell_type": "code",
      "metadata": {
        "id": "GUO7d_OdEwaI",
        "colab_type": "code",
        "colab": {
          "base_uri": "https://localhost:8080/",
          "height": 309
        },
        "outputId": "1157f181-3aff-447e-aa5b-42828cbb3e6b"
      },
      "source": [
        "history = model.fit(x04,y04_,        \n",
        "          validation_data=(xtest04,testy04_),\n",
        "          epochs=20,\n",
        "          initial_epoch=15,\n",
        "          batch_size=32, callbacks=[mckpt],workers=4)"
      ],
      "execution_count": 123,
      "outputs": [
        {
          "output_type": "stream",
          "text": [
            "Train on 25000 samples, validate on 5000 samples\n",
            "Epoch 16/20\n",
            "24992/25000 [============================>.] - ETA: 0s - loss: 0.2461 - accuracy: 0.9107WARNING:tensorflow:Can save best model only with val_acc available, skipping.\n",
            "25000/25000 [==============================] - 91s 4ms/sample - loss: 0.2461 - accuracy: 0.9107 - val_loss: 0.6113 - val_accuracy: 0.7998\n",
            "Epoch 17/20\n",
            "24992/25000 [============================>.] - ETA: 0s - loss: 0.2266 - accuracy: 0.9185WARNING:tensorflow:Can save best model only with val_acc available, skipping.\n",
            "25000/25000 [==============================] - 92s 4ms/sample - loss: 0.2267 - accuracy: 0.9185 - val_loss: 0.6707 - val_accuracy: 0.8024\n",
            "Epoch 18/20\n",
            "24992/25000 [============================>.] - ETA: 0s - loss: 0.2107 - accuracy: 0.9246WARNING:tensorflow:Can save best model only with val_acc available, skipping.\n",
            "25000/25000 [==============================] - 91s 4ms/sample - loss: 0.2107 - accuracy: 0.9246 - val_loss: 0.6379 - val_accuracy: 0.8080\n",
            "Epoch 19/20\n",
            "24992/25000 [============================>.] - ETA: 0s - loss: 0.1994 - accuracy: 0.9280WARNING:tensorflow:Can save best model only with val_acc available, skipping.\n",
            "25000/25000 [==============================] - 92s 4ms/sample - loss: 0.1994 - accuracy: 0.9280 - val_loss: 0.6325 - val_accuracy: 0.8032\n",
            "Epoch 20/20\n",
            "24992/25000 [============================>.] - ETA: 0s - loss: 0.1835 - accuracy: 0.9348WARNING:tensorflow:Can save best model only with val_acc available, skipping.\n",
            "25000/25000 [==============================] - 91s 4ms/sample - loss: 0.1834 - accuracy: 0.9348 - val_loss: 0.6460 - val_accuracy: 0.8008\n"
          ],
          "name": "stdout"
        }
      ]
    },
    {
      "cell_type": "code",
      "metadata": {
        "id": "KuBZ8HHXHJ4p",
        "colab_type": "code",
        "colab": {}
      },
      "source": [
        "#accuracy of 80.32 achieved"
      ],
      "execution_count": 0,
      "outputs": []
    },
    {
      "cell_type": "code",
      "metadata": {
        "id": "ms2Aqvc68d-9",
        "colab_type": "code",
        "colab": {}
      },
      "source": [
        "model.save_weights('weight.hdf5')"
      ],
      "execution_count": 0,
      "outputs": []
    },
    {
      "cell_type": "code",
      "metadata": {
        "id": "ReNFrk9_8eoK",
        "colab_type": "code",
        "colab": {}
      },
      "source": [
        "model.save('model.hdf5') "
      ],
      "execution_count": 0,
      "outputs": []
    },
    {
      "cell_type": "markdown",
      "metadata": {
        "id": "woTfNst_ynRG",
        "colab_type": "text"
      },
      "source": [
        "### 4. In the model which was built above (for classification of classes 0-4 in CIFAR10), make only the dense layers to be trainable and conv layers to be non-trainable"
      ]
    },
    {
      "cell_type": "code",
      "metadata": {
        "id": "o_VCDB3Byb1a",
        "colab_type": "code",
        "colab": {}
      },
      "source": [
        "from tensorflow.keras.models import Model\n",
        "from tensorflow.keras.models import load_model"
      ],
      "execution_count": 0,
      "outputs": []
    },
    {
      "cell_type": "code",
      "metadata": {
        "id": "dQfCOYf1A8nP",
        "colab_type": "code",
        "colab": {}
      },
      "source": [
        "model59 =  load_model('model.hdf5')\n",
        "for layer in model59.layers[:13]:\n",
        "  if('dense' not in layer.name): #prefix detection to freeze layers which does not have dense\n",
        "    #Freezing a layer\n",
        "    layer.trainable = False"
      ],
      "execution_count": 0,
      "outputs": []
    },
    {
      "cell_type": "code",
      "metadata": {
        "id": "5EMEGR0gBJ_j",
        "colab_type": "code",
        "colab": {
          "base_uri": "https://localhost:8080/",
          "height": 697
        },
        "outputId": "ce0f3d24-2d86-4e50-a200-4f290f856f71"
      },
      "source": [
        "model59.compile(optimizer='adam', loss='categorical_crossentropy', metrics=['accuracy'])\n",
        "model59.summary()"
      ],
      "execution_count": 116,
      "outputs": [
        {
          "output_type": "stream",
          "text": [
            "Model: \"sequential\"\n",
            "_________________________________________________________________\n",
            "Layer (type)                 Output Shape              Param #   \n",
            "=================================================================\n",
            "conv2d (Conv2D)              (None, 32, 32, 32)        896       \n",
            "_________________________________________________________________\n",
            "activation (Activation)      (None, 32, 32, 32)        0         \n",
            "_________________________________________________________________\n",
            "max_pooling2d (MaxPooling2D) (None, 16, 16, 32)        0         \n",
            "_________________________________________________________________\n",
            "dropout (Dropout)            (None, 16, 16, 32)        0         \n",
            "_________________________________________________________________\n",
            "conv2d_1 (Conv2D)            (None, 14, 14, 32)        9248      \n",
            "_________________________________________________________________\n",
            "activation_1 (Activation)    (None, 14, 14, 32)        0         \n",
            "_________________________________________________________________\n",
            "batch_normalization (BatchNo (None, 14, 14, 32)        128       \n",
            "_________________________________________________________________\n",
            "conv2d_2 (Conv2D)            (None, 14, 14, 64)        18496     \n",
            "_________________________________________________________________\n",
            "activation_2 (Activation)    (None, 14, 14, 64)        0         \n",
            "_________________________________________________________________\n",
            "conv2d_3 (Conv2D)            (None, 12, 12, 64)        36928     \n",
            "_________________________________________________________________\n",
            "activation_3 (Activation)    (None, 12, 12, 64)        0         \n",
            "_________________________________________________________________\n",
            "max_pooling2d_1 (MaxPooling2 (None, 6, 6, 64)          0         \n",
            "_________________________________________________________________\n",
            "dropout_1 (Dropout)          (None, 6, 6, 64)          0         \n",
            "_________________________________________________________________\n",
            "flatten (Flatten)            (None, 2304)              0         \n",
            "_________________________________________________________________\n",
            "dense (Dense)                (None, 512)               1180160   \n",
            "_________________________________________________________________\n",
            "dense_1 (Dense)              (None, 5)                 2565      \n",
            "=================================================================\n",
            "Total params: 1,248,421\n",
            "Trainable params: 1,182,725\n",
            "Non-trainable params: 65,696\n",
            "_________________________________________________________________\n"
          ],
          "name": "stdout"
        }
      ]
    },
    {
      "cell_type": "code",
      "metadata": {
        "id": "GerF23-uBMf4",
        "colab_type": "code",
        "colab": {}
      },
      "source": [
        ""
      ],
      "execution_count": 0,
      "outputs": []
    },
    {
      "cell_type": "markdown",
      "metadata": {
        "id": "1-uUPqWpyeyX",
        "colab_type": "text"
      },
      "source": [
        "### 5. Utilize the the model trained on CIFAR 10 (classes 0 to 4) to classify the classes 5 to 9 of CIFAR 10  (Use Transfer Learning) <br>\n",
        "Achieve an accuracy of more than 85% on test data"
      ]
    },
    {
      "cell_type": "code",
      "metadata": {
        "id": "szHjJgDvyfCt",
        "colab_type": "code",
        "colab": {}
      },
      "source": [
        "mckpt59 = tf.keras.callbacks.ModelCheckpoint('./cifar59.h5', \n",
        "                                           monitor='val_acc', save_best_only=True,)"
      ],
      "execution_count": 0,
      "outputs": []
    },
    {
      "cell_type": "code",
      "metadata": {
        "id": "yhJRwB-BBVQG",
        "colab_type": "code",
        "colab": {
          "base_uri": "https://localhost:8080/",
          "height": 564
        },
        "outputId": "86f71f5a-1cc3-442f-c9f2-b03219cdbb8e"
      },
      "source": [
        "history59 = model59.fit(x59,y59new,          \n",
        "          validation_data=(xtest59,testy59new),\n",
        "          epochs=10,\n",
        "          batch_size=32, callbacks=[mckpt59],workers=4)"
      ],
      "execution_count": 121,
      "outputs": [
        {
          "output_type": "stream",
          "text": [
            "Train on 25000 samples, validate on 5000 samples\n",
            "Epoch 1/10\n",
            "24992/25000 [============================>.] - ETA: 0s - loss: 1.0056 - accuracy: 0.6756WARNING:tensorflow:Can save best model only with val_acc available, skipping.\n",
            "25000/25000 [==============================] - 39s 2ms/sample - loss: 1.0054 - accuracy: 0.6756 - val_loss: 0.6143 - val_accuracy: 0.7712\n",
            "Epoch 2/10\n",
            "24992/25000 [============================>.] - ETA: 0s - loss: 0.5484 - accuracy: 0.7987WARNING:tensorflow:Can save best model only with val_acc available, skipping.\n",
            "25000/25000 [==============================] - 38s 2ms/sample - loss: 0.5484 - accuracy: 0.7986 - val_loss: 0.5199 - val_accuracy: 0.8074\n",
            "Epoch 3/10\n",
            "24992/25000 [============================>.] - ETA: 0s - loss: 0.4520 - accuracy: 0.8361WARNING:tensorflow:Can save best model only with val_acc available, skipping.\n",
            "25000/25000 [==============================] - 39s 2ms/sample - loss: 0.4519 - accuracy: 0.8361 - val_loss: 0.5030 - val_accuracy: 0.8174\n",
            "Epoch 4/10\n",
            "24960/25000 [============================>.] - ETA: 0s - loss: 0.3903 - accuracy: 0.8578WARNING:tensorflow:Can save best model only with val_acc available, skipping.\n",
            "25000/25000 [==============================] - 39s 2ms/sample - loss: 0.3903 - accuracy: 0.8578 - val_loss: 0.5249 - val_accuracy: 0.8176\n",
            "Epoch 5/10\n",
            "24960/25000 [============================>.] - ETA: 0s - loss: 0.3290 - accuracy: 0.8809WARNING:tensorflow:Can save best model only with val_acc available, skipping.\n",
            "25000/25000 [==============================] - 38s 2ms/sample - loss: 0.3290 - accuracy: 0.8810 - val_loss: 0.5234 - val_accuracy: 0.8248\n",
            "Epoch 6/10\n",
            "24960/25000 [============================>.] - ETA: 0s - loss: 0.2826 - accuracy: 0.8968WARNING:tensorflow:Can save best model only with val_acc available, skipping.\n",
            "25000/25000 [==============================] - 39s 2ms/sample - loss: 0.2828 - accuracy: 0.8968 - val_loss: 0.5168 - val_accuracy: 0.8238\n",
            "Epoch 7/10\n",
            "24992/25000 [============================>.] - ETA: 0s - loss: 0.2474 - accuracy: 0.9103WARNING:tensorflow:Can save best model only with val_acc available, skipping.\n",
            "25000/25000 [==============================] - 39s 2ms/sample - loss: 0.2474 - accuracy: 0.9103 - val_loss: 0.5370 - val_accuracy: 0.8216\n",
            "Epoch 8/10\n",
            "24960/25000 [============================>.] - ETA: 0s - loss: 0.2103 - accuracy: 0.9248WARNING:tensorflow:Can save best model only with val_acc available, skipping.\n",
            "25000/25000 [==============================] - 39s 2ms/sample - loss: 0.2103 - accuracy: 0.9247 - val_loss: 0.5460 - val_accuracy: 0.8338\n",
            "Epoch 9/10\n",
            "24960/25000 [============================>.] - ETA: 0s - loss: 0.1847 - accuracy: 0.9335WARNING:tensorflow:Can save best model only with val_acc available, skipping.\n",
            "25000/25000 [==============================] - 39s 2ms/sample - loss: 0.1845 - accuracy: 0.9336 - val_loss: 0.5686 - val_accuracy: 0.8262\n",
            "Epoch 10/10\n",
            "24960/25000 [============================>.] - ETA: 0s - loss: 0.1643 - accuracy: 0.9423WARNING:tensorflow:Can save best model only with val_acc available, skipping.\n",
            "25000/25000 [==============================] - 38s 2ms/sample - loss: 0.1641 - accuracy: 0.9423 - val_loss: 0.5570 - val_accuracy: 0.8316\n"
          ],
          "name": "stdout"
        }
      ]
    },
    {
      "cell_type": "code",
      "metadata": {
        "id": "zD46VToSDs2O",
        "colab_type": "code",
        "colab": {
          "base_uri": "https://localhost:8080/",
          "height": 309
        },
        "outputId": "0896ad13-2e03-4651-c98c-e9c5f52b210b"
      },
      "source": [
        "history59 = model59.fit(x59,y59new,          \n",
        "          validation_data=(xtest59,testy59new),\n",
        "          epochs=15,\n",
        "          initial_epoch=10,\n",
        "          batch_size=32, callbacks=[mckpt59],workers=4)"
      ],
      "execution_count": 122,
      "outputs": [
        {
          "output_type": "stream",
          "text": [
            "Train on 25000 samples, validate on 5000 samples\n",
            "Epoch 11/15\n",
            "24992/25000 [============================>.] - ETA: 0s - loss: 0.1470 - accuracy: 0.9481WARNING:tensorflow:Can save best model only with val_acc available, skipping.\n",
            "25000/25000 [==============================] - 39s 2ms/sample - loss: 0.1470 - accuracy: 0.9481 - val_loss: 0.5811 - val_accuracy: 0.8314\n",
            "Epoch 12/15\n",
            "24960/25000 [============================>.] - ETA: 0s - loss: 0.1333 - accuracy: 0.9525WARNING:tensorflow:Can save best model only with val_acc available, skipping.\n",
            "25000/25000 [==============================] - 39s 2ms/sample - loss: 0.1332 - accuracy: 0.9525 - val_loss: 0.6323 - val_accuracy: 0.8230\n",
            "Epoch 13/15\n",
            "24960/25000 [============================>.] - ETA: 0s - loss: 0.1344 - accuracy: 0.9515WARNING:tensorflow:Can save best model only with val_acc available, skipping.\n",
            "25000/25000 [==============================] - 39s 2ms/sample - loss: 0.1344 - accuracy: 0.9516 - val_loss: 0.6361 - val_accuracy: 0.8292\n",
            "Epoch 14/15\n",
            "24960/25000 [============================>.] - ETA: 0s - loss: 0.1218 - accuracy: 0.9571WARNING:tensorflow:Can save best model only with val_acc available, skipping.\n",
            "25000/25000 [==============================] - 38s 2ms/sample - loss: 0.1217 - accuracy: 0.9571 - val_loss: 0.6292 - val_accuracy: 0.8312\n",
            "Epoch 15/15\n",
            "24992/25000 [============================>.] - ETA: 0s - loss: 0.1148 - accuracy: 0.9602WARNING:tensorflow:Can save best model only with val_acc available, skipping.\n",
            "25000/25000 [==============================] - 38s 2ms/sample - loss: 0.1149 - accuracy: 0.9601 - val_loss: 0.6376 - val_accuracy: 0.8296\n"
          ],
          "name": "stdout"
        }
      ]
    },
    {
      "cell_type": "code",
      "metadata": {
        "id": "Ipv99IftG-fA",
        "colab_type": "code",
        "colab": {
          "base_uri": "https://localhost:8080/",
          "height": 564
        },
        "outputId": "22e78799-90ca-4759-ed80-b6fce46504ac"
      },
      "source": [
        "history59 = model59.fit(x59,y59new,          \n",
        "          validation_data=(xtest59,testy59new),\n",
        "          epochs=25,\n",
        "          initial_epoch=15,\n",
        "          batch_size=32, callbacks=[mckpt59],workers=4)"
      ],
      "execution_count": 124,
      "outputs": [
        {
          "output_type": "stream",
          "text": [
            "Train on 25000 samples, validate on 5000 samples\n",
            "Epoch 16/25\n",
            "24992/25000 [============================>.] - ETA: 0s - loss: 0.1095 - accuracy: 0.9607WARNING:tensorflow:Can save best model only with val_acc available, skipping.\n",
            "25000/25000 [==============================] - 38s 2ms/sample - loss: 0.1095 - accuracy: 0.9607 - val_loss: 0.6471 - val_accuracy: 0.8312\n",
            "Epoch 17/25\n",
            "24992/25000 [============================>.] - ETA: 0s - loss: 0.0986 - accuracy: 0.9665WARNING:tensorflow:Can save best model only with val_acc available, skipping.\n",
            "25000/25000 [==============================] - 38s 2ms/sample - loss: 0.0986 - accuracy: 0.9665 - val_loss: 0.6701 - val_accuracy: 0.8318\n",
            "Epoch 18/25\n",
            "24960/25000 [============================>.] - ETA: 0s - loss: 0.0990 - accuracy: 0.9656WARNING:tensorflow:Can save best model only with val_acc available, skipping.\n",
            "25000/25000 [==============================] - 38s 2ms/sample - loss: 0.0989 - accuracy: 0.9657 - val_loss: 0.6852 - val_accuracy: 0.8262\n",
            "Epoch 19/25\n",
            "24960/25000 [============================>.] - ETA: 0s - loss: 0.0887 - accuracy: 0.9694WARNING:tensorflow:Can save best model only with val_acc available, skipping.\n",
            "25000/25000 [==============================] - 38s 2ms/sample - loss: 0.0887 - accuracy: 0.9695 - val_loss: 0.7159 - val_accuracy: 0.8256\n",
            "Epoch 20/25\n",
            "24992/25000 [============================>.] - ETA: 0s - loss: 0.0857 - accuracy: 0.9702WARNING:tensorflow:Can save best model only with val_acc available, skipping.\n",
            "25000/25000 [==============================] - 39s 2ms/sample - loss: 0.0857 - accuracy: 0.9702 - val_loss: 0.6648 - val_accuracy: 0.8360\n",
            "Epoch 21/25\n",
            "24960/25000 [============================>.] - ETA: 0s - loss: 0.0860 - accuracy: 0.9708WARNING:tensorflow:Can save best model only with val_acc available, skipping.\n",
            "25000/25000 [==============================] - 38s 2ms/sample - loss: 0.0860 - accuracy: 0.9708 - val_loss: 0.7047 - val_accuracy: 0.8334\n",
            "Epoch 22/25\n",
            "24992/25000 [============================>.] - ETA: 0s - loss: 0.0826 - accuracy: 0.9716WARNING:tensorflow:Can save best model only with val_acc available, skipping.\n",
            "25000/25000 [==============================] - 38s 2ms/sample - loss: 0.0827 - accuracy: 0.9715 - val_loss: 0.6873 - val_accuracy: 0.8428\n",
            "Epoch 23/25\n",
            "24960/25000 [============================>.] - ETA: 0s - loss: 0.0818 - accuracy: 0.9733WARNING:tensorflow:Can save best model only with val_acc available, skipping.\n",
            "25000/25000 [==============================] - 38s 2ms/sample - loss: 0.0819 - accuracy: 0.9733 - val_loss: 0.7527 - val_accuracy: 0.8326\n",
            "Epoch 24/25\n",
            "24992/25000 [============================>.] - ETA: 0s - loss: 0.0801 - accuracy: 0.9723WARNING:tensorflow:Can save best model only with val_acc available, skipping.\n",
            "25000/25000 [==============================] - 38s 2ms/sample - loss: 0.0800 - accuracy: 0.9723 - val_loss: 0.7429 - val_accuracy: 0.8314\n",
            "Epoch 25/25\n",
            "24992/25000 [============================>.] - ETA: 0s - loss: 0.0708 - accuracy: 0.9751WARNING:tensorflow:Can save best model only with val_acc available, skipping.\n",
            "25000/25000 [==============================] - 38s 2ms/sample - loss: 0.0707 - accuracy: 0.9751 - val_loss: 0.7006 - val_accuracy: 0.8408\n"
          ],
          "name": "stdout"
        }
      ]
    },
    {
      "cell_type": "code",
      "metadata": {
        "id": "8JRIzWRbJOI6",
        "colab_type": "code",
        "colab": {
          "base_uri": "https://localhost:8080/",
          "height": 309
        },
        "outputId": "4af4f065-bb77-4dd8-ad13-d341e5b71147"
      },
      "source": [
        "history59 = model59.fit(x59,y59new,          \n",
        "          validation_data=(xtest59,testy59new),\n",
        "          epochs=30,\n",
        "          initial_epoch=25,\n",
        "          batch_size=32, callbacks=[mckpt59],workers=4)"
      ],
      "execution_count": 125,
      "outputs": [
        {
          "output_type": "stream",
          "text": [
            "Train on 25000 samples, validate on 5000 samples\n",
            "Epoch 26/30\n",
            "24992/25000 [============================>.] - ETA: 0s - loss: 0.0740 - accuracy: 0.9757WARNING:tensorflow:Can save best model only with val_acc available, skipping.\n",
            "25000/25000 [==============================] - 38s 2ms/sample - loss: 0.0739 - accuracy: 0.9757 - val_loss: 0.7686 - val_accuracy: 0.8330\n",
            "Epoch 27/30\n",
            "24992/25000 [============================>.] - ETA: 0s - loss: 0.0663 - accuracy: 0.9778WARNING:tensorflow:Can save best model only with val_acc available, skipping.\n",
            "25000/25000 [==============================] - 38s 2ms/sample - loss: 0.0663 - accuracy: 0.9778 - val_loss: 0.7689 - val_accuracy: 0.8354\n",
            "Epoch 28/30\n",
            "24992/25000 [============================>.] - ETA: 0s - loss: 0.0721 - accuracy: 0.9749WARNING:tensorflow:Can save best model only with val_acc available, skipping.\n",
            "25000/25000 [==============================] - 38s 2ms/sample - loss: 0.0721 - accuracy: 0.9749 - val_loss: 0.7512 - val_accuracy: 0.8372\n",
            "Epoch 29/30\n",
            "24960/25000 [============================>.] - ETA: 0s - loss: 0.0694 - accuracy: 0.9771WARNING:tensorflow:Can save best model only with val_acc available, skipping.\n",
            "25000/25000 [==============================] - 38s 2ms/sample - loss: 0.0695 - accuracy: 0.9771 - val_loss: 0.8095 - val_accuracy: 0.8370\n",
            "Epoch 30/30\n",
            "24992/25000 [============================>.] - ETA: 0s - loss: 0.0650 - accuracy: 0.9780WARNING:tensorflow:Can save best model only with val_acc available, skipping.\n",
            "25000/25000 [==============================] - 38s 2ms/sample - loss: 0.0650 - accuracy: 0.9780 - val_loss: 0.7586 - val_accuracy: 0.8356\n"
          ],
          "name": "stdout"
        }
      ]
    },
    {
      "cell_type": "markdown",
      "metadata": {
        "id": "0zDuRecXzEtr",
        "colab_type": "text"
      },
      "source": [
        "# Text classification using TF-IDF"
      ]
    },
    {
      "cell_type": "markdown",
      "metadata": {
        "id": "xMPlEJhHzb6P",
        "colab_type": "text"
      },
      "source": [
        "### 6. Load the dataset from sklearn.datasets"
      ]
    },
    {
      "cell_type": "code",
      "metadata": {
        "id": "Fe-B59u3zHNb",
        "colab_type": "code",
        "colab": {}
      },
      "source": [
        "from sklearn.datasets import fetch_20newsgroups"
      ],
      "execution_count": 0,
      "outputs": []
    },
    {
      "cell_type": "code",
      "metadata": {
        "id": "PRrMemVQzbHU",
        "colab_type": "code",
        "colab": {}
      },
      "source": [
        "categories = ['alt.atheism', 'soc.religion.christian', 'comp.graphics', 'sci.med']"
      ],
      "execution_count": 0,
      "outputs": []
    },
    {
      "cell_type": "markdown",
      "metadata": {
        "id": "-sZX0UbJzmg5",
        "colab_type": "text"
      },
      "source": [
        "### 7. Training data"
      ]
    },
    {
      "cell_type": "code",
      "metadata": {
        "id": "CITr_5aXziJ2",
        "colab_type": "code",
        "colab": {}
      },
      "source": [
        "twenty_train = fetch_20newsgroups(subset='train', categories=categories, shuffle=True, random_state=42)"
      ],
      "execution_count": 0,
      "outputs": []
    },
    {
      "cell_type": "markdown",
      "metadata": {
        "id": "xcESc5QXzr6p",
        "colab_type": "text"
      },
      "source": [
        "### 8. Test data"
      ]
    },
    {
      "cell_type": "code",
      "metadata": {
        "id": "ysInblUMzpvl",
        "colab_type": "code",
        "colab": {}
      },
      "source": [
        "twenty_test = fetch_20newsgroups(subset='test', categories=categories, shuffle=True, random_state=42)"
      ],
      "execution_count": 0,
      "outputs": []
    },
    {
      "cell_type": "markdown",
      "metadata": {
        "id": "DriL2yZ50DQq",
        "colab_type": "text"
      },
      "source": [
        "###  a.  You can access the values for the target variable using .target attribute \n",
        "###  b. You can access the name of the class in the target variable with .target_names\n"
      ]
    },
    {
      "cell_type": "code",
      "metadata": {
        "id": "vlUuai99z1hX",
        "colab_type": "code",
        "outputId": "0e48e516-da8a-442a-94ea-84b93fc77413",
        "colab": {
          "base_uri": "https://localhost:8080/",
          "height": 34
        }
      },
      "source": [
        "twenty_train.target"
      ],
      "execution_count": 66,
      "outputs": [
        {
          "output_type": "execute_result",
          "data": {
            "text/plain": [
              "array([1, 1, 3, ..., 2, 2, 2])"
            ]
          },
          "metadata": {
            "tags": []
          },
          "execution_count": 66
        }
      ]
    },
    {
      "cell_type": "code",
      "metadata": {
        "id": "VEKzaDfSz5E-",
        "colab_type": "code",
        "outputId": "501666b7-ef45-4eea-b582-7365ed76ee87",
        "colab": {
          "base_uri": "https://localhost:8080/",
          "height": 34
        }
      },
      "source": [
        "twenty_train.target_names"
      ],
      "execution_count": 67,
      "outputs": [
        {
          "output_type": "execute_result",
          "data": {
            "text/plain": [
              "['alt.atheism', 'comp.graphics', 'sci.med', 'soc.religion.christian']"
            ]
          },
          "metadata": {
            "tags": []
          },
          "execution_count": 67
        }
      ]
    },
    {
      "cell_type": "code",
      "metadata": {
        "id": "clBMKHzC0_N1",
        "colab_type": "code",
        "outputId": "aa8da0d8-748c-4fa2-d82f-3b8387a3bc12",
        "colab": {
          "base_uri": "https://localhost:8080/",
          "height": 122
        }
      },
      "source": [
        "twenty_train.data[0:5]"
      ],
      "execution_count": 68,
      "outputs": [
        {
          "output_type": "execute_result",
          "data": {
            "text/plain": [
              "['From: sd345@city.ac.uk (Michael Collier)\\nSubject: Converting images to HP LaserJet III?\\nNntp-Posting-Host: hampton\\nOrganization: The City University\\nLines: 14\\n\\nDoes anyone know of a good way (standard PC application/PD utility) to\\nconvert tif/img/tga files into LaserJet III format.  We would also like to\\ndo the same, converting to HPGL (HP plotter) files.\\n\\nPlease email any response.\\n\\nIs this the correct group?\\n\\nThanks in advance.  Michael.\\n-- \\nMichael Collier (Programmer)                 The Computer Unit,\\nEmail: M.P.Collier@uk.ac.city                The City University,\\nTel: 071 477-8000 x3769                      London,\\nFax: 071 477-8565                            EC1V 0HB.\\n',\n",
              " \"From: ani@ms.uky.edu (Aniruddha B. Deglurkar)\\nSubject: help: Splitting a trimming region along a mesh \\nOrganization: University Of Kentucky, Dept. of Math Sciences\\nLines: 28\\n\\n\\n\\n\\tHi,\\n\\n\\tI have a problem, I hope some of the 'gurus' can help me solve.\\n\\n\\tBackground of the problem:\\n\\tI have a rectangular mesh in the uv domain, i.e  the mesh is a \\n\\tmapping of a 3d Bezier patch into 2d. The area in this domain\\n\\twhich is inside a trimming loop had to be rendered. The trimming\\n\\tloop is a set of 2d Bezier curve segments.\\n\\tFor the sake of notation: the mesh is made up of cells.\\n\\n\\tMy problem is this :\\n\\tThe trimming area has to be split up into individual smaller\\n\\tcells bounded by the trimming curve segments. If a cell\\n\\tis wholly inside the area...then it is output as a whole ,\\n\\telse it is trivially rejected. \\n\\n\\tDoes any body know how thiss can be done, or is there any algo. \\n\\tsomewhere for doing this.\\n\\n\\tAny help would be appreciated.\\n\\n\\tThanks, \\n\\tAni.\\n-- \\nTo get irritated is human, to stay cool, divine.\\n\",\n",
              " \"From: djohnson@cs.ucsd.edu (Darin Johnson)\\nSubject: Re: harrassed at work, could use some prayers\\nOrganization: =CSE Dept., U.C. San Diego\\nLines: 63\\n\\n(Well, I'll email also, but this may apply to other people, so\\nI'll post also.)\\n\\n>I've been working at this company for eight years in various\\n>engineering jobs.  I'm female.  Yesterday I counted and realized that\\n>on seven different occasions I've been sexually harrassed at this\\n>company.\\n\\n>I dreaded coming back to work today.  What if my boss comes in to ask\\n>me some kind of question...\\n\\nYour boss should be the person bring these problems to.  If he/she\\ndoes not seem to take any action, keep going up higher and higher.\\nSexual harrassment does not need to be tolerated, and it can be an\\nenormous emotional support to discuss this with someone and know that\\nthey are trying to do something about it.  If you feel you can not\\ndiscuss this with your boss, perhaps your company has a personnel\\ndepartment that can work for you while preserving your privacy.  Most\\ncompanies will want to deal with this problem because constant anxiety\\ndoes seriously affect how effectively employees do their jobs.\\n\\nIt is unclear from your letter if you have done this or not.  It is\\nnot inconceivable that management remains ignorant of employee\\nproblems/strife even after eight years (it's a miracle if they do\\nnotice).  Perhaps your manager did not bring to the attention of\\nhigher ups?  If the company indeed does seem to want to ignore the\\nentire problem, there may be a state agency willing to fight with\\nyou.  (check with a lawyer, a women's resource center, etc to find out)\\n\\nYou may also want to discuss this with your paster, priest, husband,\\netc.  That is, someone you know will not be judgemental and that is\\nsupportive, comforting, etc.  This will bring a lot of healing.\\n\\n>So I returned at 11:25, only to find that ever single\\n>person had already left for lunch.  They left at 11:15 or so.  No one\\n>could be bothered to call me at the other building, even though my\\n>number was posted.\\n\\nThis happens to a lot of people.  Honest.  I believe it may seem\\nto be due to gross insensitivity because of the feelings you are\\ngoing through.  People in offices tend to be more insensitive while\\nworking than they normally are (maybe it's the hustle or stress or...)\\nI've had this happen to me a lot, often because they didn't realize\\nmy car was broken, etc.  Then they will come back and wonder why I\\ndidn't want to go (this would tend to make me stop being angry at\\nbeing ignored and make me laugh).  Once, we went off without our\\nboss, who was paying for the lunch :-)\\n\\n>For this\\n>reason I hope good Mr. Moderator allows me this latest indulgence.\\n\\nWell, if you can't turn to the computer for support, what would\\nwe do?  (signs of the computer age :-)\\n\\nIn closing, please don't let the hateful actions of a single person\\nharm you.  They are doing it because they are still the playground\\nbully and enjoy seeing the hurt they cause.  And you should not\\naccept the opinions of an imbecile that you are worthless - much\\nwiser people hold you in great esteem.\\n-- \\nDarin Johnson\\ndjohnson@ucsd.edu\\n  - Luxury!  In MY day, we had to make do with 5 bytes of swap...\\n\",\n",
              " 'From: s0612596@let.rug.nl (M.M. Zwart)\\nSubject: catholic church poland\\nOrganization: Faculteit der Letteren, Rijksuniversiteit Groningen, NL\\nLines: 10\\n\\nHello,\\n\\nI\\'m writing a paper on the role of the catholic church in Poland after 1989. \\nCan anyone tell me more about this, or fill me in on recent books/articles(\\nin english, german or french). Most important for me is the role of the \\nchurch concerning the abortion-law, religious education at schools,\\nbirth-control and the relation church-state(government). Thanx,\\n\\n                                                 Masja,\\n\"M.M.Zwart\"<s0612596@let.rug.nl>\\n',\n",
              " 'From: stanly@grok11.columbiasc.ncr.com (stanly)\\nSubject: Re: Elder Brother\\nOrganization: NCR Corp., Columbia SC\\nLines: 15\\n\\nIn article <Apr.8.00.57.41.1993.28246@athos.rutgers.edu> REXLEX@fnal.gov writes:\\n>In article <Apr.7.01.56.56.1993.22824@athos.rutgers.edu> shrum@hpfcso.fc.hp.com\\n>Matt. 22:9-14 \\'Go therefore to the main highways, and as many as you find\\n>there, invite to the wedding feast.\\'...\\n\\n>hmmmmmm.  Sounds like your theology and Christ\\'s are at odds. Which one am I \\n>to believe?\\n\\nIn this parable, Jesus tells the parable of the wedding feast. \"The kingdom\\nof heaven is like unto a certain king which made a marriage for his son\".\\nSo the wedding clothes were customary,  and \"given\" to those who \"chose\" to\\nattend.  This man \"refused\" to wear the clothes.  The wedding clothes are\\nequalivant to the \"clothes of righteousness\".  When Jesus died for our sins,\\nthose \"clothes\" were then provided.  Like that man, it is our decision to\\nput the clothes on.\\n']"
            ]
          },
          "metadata": {
            "tags": []
          },
          "execution_count": 68
        }
      ]
    },
    {
      "cell_type": "markdown",
      "metadata": {
        "id": "hTz4EaN_1WGc",
        "colab_type": "text"
      },
      "source": [
        "### 9.  Now with dependent and independent data available for both train and test datasets, using TfidfVectorizer fit and transform the training data and test data and get the tfidf features for both"
      ]
    },
    {
      "cell_type": "code",
      "metadata": {
        "id": "H5G477f81C0Z",
        "colab_type": "code",
        "colab": {}
      },
      "source": [
        "from sklearn.feature_extraction.text import CountVectorizer, TfidfVectorizer\n",
        "from sklearn.linear_model import LogisticRegression\n",
        "from sklearn import metrics\n",
        "%matplotlib inline"
      ],
      "execution_count": 0,
      "outputs": []
    },
    {
      "cell_type": "code",
      "metadata": {
        "id": "vKUD6N9ByimY",
        "colab_type": "code",
        "colab": {}
      },
      "source": [
        "# instantiate the vectorizer\n",
        "vect = TfidfVectorizer()"
      ],
      "execution_count": 0,
      "outputs": []
    },
    {
      "cell_type": "code",
      "metadata": {
        "id": "u1R9MnGbyqI-",
        "colab_type": "code",
        "colab": {}
      },
      "source": [
        "vect = TfidfVectorizer(stop_words='english')\n",
        "dtm_train = vect.fit_transform(twenty_train.data)\n",
        "dtm_test = vect.transform(twenty_test.data)\n",
        "features = vect.get_feature_names()"
      ],
      "execution_count": 0,
      "outputs": []
    },
    {
      "cell_type": "code",
      "metadata": {
        "id": "vUqiGqTsyhNa",
        "colab_type": "code",
        "colab": {
          "base_uri": "https://localhost:8080/",
          "height": 34
        },
        "outputId": "8a090407-adbe-42fd-e873-569d7d621ac1"
      },
      "source": [
        "print(vect.get_feature_names()[-10:])"
      ],
      "execution_count": 78,
      "outputs": [
        {
          "output_type": "stream",
          "text": [
            "['zvi', 'zvonko', 'zwart', 'zyeh', 'zyklon', 'zyxel', 'zz', 'zzz', 'ªl', 'íålittin']\n"
          ],
          "name": "stdout"
        }
      ]
    },
    {
      "cell_type": "markdown",
      "metadata": {
        "id": "tp_fDINJ1t4L",
        "colab_type": "text"
      },
      "source": [
        "### 10. Use logisticRegression with tfidf features as input and targets as output and train the model and report the train and test accuracy score"
      ]
    },
    {
      "cell_type": "code",
      "metadata": {
        "id": "THlN2b5d1yQp",
        "colab_type": "code",
        "colab": {}
      },
      "source": [
        "logreg = LogisticRegression()"
      ],
      "execution_count": 0,
      "outputs": []
    },
    {
      "cell_type": "code",
      "metadata": {
        "id": "lEgABmcu2Vdw",
        "colab_type": "code",
        "colab": {
          "base_uri": "https://localhost:8080/",
          "height": 51
        },
        "outputId": "16865d7a-d059-4d75-e6f9-74c53f6d1509"
      },
      "source": [
        "logreg.fit(dtm_train, twenty_train.target)\n",
        "y_pred_class = logreg.predict(dtm_test)\n",
        "print('test Accuracy ',metrics.accuracy_score(twenty_test.target, y_pred_class))\n",
        "y_pred_class_train = logreg.predict(dtm_train)\n",
        "print('train accuracy ',metrics.accuracy_score(twenty_train.target, y_pred_class_train))"
      ],
      "execution_count": 74,
      "outputs": [
        {
          "output_type": "stream",
          "text": [
            "test Accuracy  0.9054593874833555\n",
            "train accuracy  0.9968985378821444\n"
          ],
          "name": "stdout"
        }
      ]
    },
    {
      "cell_type": "code",
      "metadata": {
        "id": "hBdNG-vy2mE2",
        "colab_type": "code",
        "colab": {
          "base_uri": "https://localhost:8080/",
          "height": 204
        },
        "outputId": "4bfdb4a1-c613-45d6-b10b-549f91820667"
      },
      "source": [
        "# Classification report  \n",
        "print(metrics.classification_report(twenty_test.target, y_pred_class))"
      ],
      "execution_count": 75,
      "outputs": [
        {
          "output_type": "stream",
          "text": [
            "              precision    recall  f1-score   support\n",
            "\n",
            "           0       0.96      0.76      0.85       319\n",
            "           1       0.87      0.98      0.92       389\n",
            "           2       0.94      0.90      0.92       396\n",
            "           3       0.88      0.95      0.91       398\n",
            "\n",
            "    accuracy                           0.91      1502\n",
            "   macro avg       0.91      0.90      0.90      1502\n",
            "weighted avg       0.91      0.91      0.90      1502\n",
            "\n"
          ],
          "name": "stdout"
        }
      ]
    },
    {
      "cell_type": "code",
      "metadata": {
        "id": "HkaGz9fd2ugc",
        "colab_type": "code",
        "colab": {}
      },
      "source": [
        ""
      ],
      "execution_count": 0,
      "outputs": []
    }
  ]
}