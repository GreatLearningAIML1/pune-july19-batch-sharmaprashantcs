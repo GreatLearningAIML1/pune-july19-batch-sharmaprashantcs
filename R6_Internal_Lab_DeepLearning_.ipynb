{
  "nbformat": 4,
  "nbformat_minor": 0,
  "metadata": {
    "colab": {
      "name": "R6_Internal_Lab_UpdatedTF2_Prices_Iris (1).ipynb",
      "provenance": [],
      "collapsed_sections": [
        "xSypb_u8OB7e",
        "DOL2ncA1OB7q"
      ],
      "toc_visible": true
    },
    "kernelspec": {
      "display_name": "Python 3",
      "language": "python",
      "name": "python3"
    },
    "language_info": {
      "codemirror_mode": {
        "name": "ipython",
        "version": 3
      },
      "file_extension": ".py",
      "mimetype": "text/x-python",
      "name": "python",
      "nbconvert_exporter": "python",
      "pygments_lexer": "ipython3",
      "version": "3.6.8"
    }
  },
  "cells": [
    {
      "cell_type": "markdown",
      "metadata": {
        "colab_type": "text",
        "id": "84Q8JfvaeZZ6"
      },
      "source": [
        "## Linear Classifier in TensorFlow \n",
        "Using Low Level API in Eager Execution mode"
      ]
    },
    {
      "cell_type": "markdown",
      "metadata": {
        "colab_type": "text",
        "id": "sb7Epo0VOB58"
      },
      "source": [
        "### Load tensorflow"
      ]
    },
    {
      "cell_type": "code",
      "metadata": {
        "colab_type": "code",
        "id": "fHpCNRv1OB5-",
        "colab": {}
      },
      "source": [
        "%tensorflow_version 2.x\n",
        "import tensorflow as tf"
      ],
      "execution_count": 0,
      "outputs": []
    },
    {
      "cell_type": "code",
      "metadata": {
        "id": "LeuZYeuTMeIn",
        "colab_type": "code",
        "outputId": "4443b559-0f43-4c36-aeb3-7308f37bb1b1",
        "colab": {
          "base_uri": "https://localhost:8080/",
          "height": 34
        }
      },
      "source": [
        "print (tf.__version__)"
      ],
      "execution_count": 0,
      "outputs": [
        {
          "output_type": "stream",
          "text": [
            "2.0.0\n"
          ],
          "name": "stdout"
        }
      ]
    },
    {
      "cell_type": "code",
      "metadata": {
        "colab_type": "code",
        "id": "Mjtb-EMcm5K0",
        "colab": {}
      },
      "source": [
        "#Enable Eager Execution if using tensflow version < 2.0\n",
        "#From tensorflow v2.0 onwards, Eager Execution will be enabled by default\n"
      ],
      "execution_count": 0,
      "outputs": []
    },
    {
      "cell_type": "markdown",
      "metadata": {
        "colab_type": "text",
        "id": "DxJDmJqqOB6K"
      },
      "source": [
        "### Collect Data"
      ]
    },
    {
      "cell_type": "code",
      "metadata": {
        "colab_type": "code",
        "id": "FhllFLyKOB6N",
        "outputId": "aeb3d44b-5bad-4f96-de7d-f9e9315ab467",
        "colab": {
          "base_uri": "https://localhost:8080/",
          "height": 34
        }
      },
      "source": [
        "from google.colab import drive\n",
        "drive.mount('/content/drive/')"
      ],
      "execution_count": 0,
      "outputs": [
        {
          "output_type": "stream",
          "text": [
            "Drive already mounted at /content/drive/; to attempt to forcibly remount, call drive.mount(\"/content/drive/\", force_remount=True).\n"
          ],
          "name": "stdout"
        }
      ]
    },
    {
      "cell_type": "code",
      "metadata": {
        "colab_type": "code",
        "id": "KiObW4V4SIOz",
        "colab": {}
      },
      "source": [
        "import pandas as pd"
      ],
      "execution_count": 0,
      "outputs": []
    },
    {
      "cell_type": "code",
      "metadata": {
        "colab_type": "code",
        "id": "B4yQKMiJOB6R",
        "colab": {}
      },
      "source": [
        "data = pd.read_csv(\"//content/drive/My Drive/Great Learning/prices.csv\", delimiter=\",\")"
      ],
      "execution_count": 0,
      "outputs": []
    },
    {
      "cell_type": "markdown",
      "metadata": {
        "colab_type": "text",
        "id": "fgkX6SEqOB6W"
      },
      "source": [
        "### Check all columns in the dataset"
      ]
    },
    {
      "cell_type": "code",
      "metadata": {
        "colab_type": "code",
        "id": "7K8pWsNQOB6X",
        "outputId": "911e8915-c1b1-4eb7-eb8a-18fd8b13429e",
        "colab": {
          "base_uri": "https://localhost:8080/",
          "height": 34
        }
      },
      "source": [
        "data.columns"
      ],
      "execution_count": 0,
      "outputs": [
        {
          "output_type": "execute_result",
          "data": {
            "text/plain": [
              "Index(['date', 'symbol', 'open', 'close', 'low', 'high', 'volume'], dtype='object')"
            ]
          },
          "metadata": {
            "tags": []
          },
          "execution_count": 7
        }
      ]
    },
    {
      "cell_type": "markdown",
      "metadata": {
        "colab_type": "text",
        "id": "7dU6X7MpOB6c"
      },
      "source": [
        "### Drop columns `date` and  `symbol`"
      ]
    },
    {
      "cell_type": "code",
      "metadata": {
        "colab_type": "code",
        "id": "lh_6spSKOB6e",
        "colab": {}
      },
      "source": [
        "data.drop(columns=['date','symbol'],axis=1,inplace=True)"
      ],
      "execution_count": 0,
      "outputs": []
    },
    {
      "cell_type": "code",
      "metadata": {
        "colab_type": "code",
        "id": "xlwbUgTwOB6i",
        "outputId": "3af0986e-1e48-4fdc-ddab-268bf2a1d7b3",
        "colab": {
          "base_uri": "https://localhost:8080/",
          "height": 195
        }
      },
      "source": [
        "data.head()"
      ],
      "execution_count": 0,
      "outputs": [
        {
          "output_type": "execute_result",
          "data": {
            "text/html": [
              "<div>\n",
              "<style scoped>\n",
              "    .dataframe tbody tr th:only-of-type {\n",
              "        vertical-align: middle;\n",
              "    }\n",
              "\n",
              "    .dataframe tbody tr th {\n",
              "        vertical-align: top;\n",
              "    }\n",
              "\n",
              "    .dataframe thead th {\n",
              "        text-align: right;\n",
              "    }\n",
              "</style>\n",
              "<table border=\"1\" class=\"dataframe\">\n",
              "  <thead>\n",
              "    <tr style=\"text-align: right;\">\n",
              "      <th></th>\n",
              "      <th>open</th>\n",
              "      <th>close</th>\n",
              "      <th>low</th>\n",
              "      <th>high</th>\n",
              "      <th>volume</th>\n",
              "    </tr>\n",
              "  </thead>\n",
              "  <tbody>\n",
              "    <tr>\n",
              "      <th>0</th>\n",
              "      <td>123.430000</td>\n",
              "      <td>125.839996</td>\n",
              "      <td>122.309998</td>\n",
              "      <td>126.250000</td>\n",
              "      <td>2163600.0</td>\n",
              "    </tr>\n",
              "    <tr>\n",
              "      <th>1</th>\n",
              "      <td>125.239998</td>\n",
              "      <td>119.980003</td>\n",
              "      <td>119.940002</td>\n",
              "      <td>125.540001</td>\n",
              "      <td>2386400.0</td>\n",
              "    </tr>\n",
              "    <tr>\n",
              "      <th>2</th>\n",
              "      <td>116.379997</td>\n",
              "      <td>114.949997</td>\n",
              "      <td>114.930000</td>\n",
              "      <td>119.739998</td>\n",
              "      <td>2489500.0</td>\n",
              "    </tr>\n",
              "    <tr>\n",
              "      <th>3</th>\n",
              "      <td>115.480003</td>\n",
              "      <td>116.620003</td>\n",
              "      <td>113.500000</td>\n",
              "      <td>117.440002</td>\n",
              "      <td>2006300.0</td>\n",
              "    </tr>\n",
              "    <tr>\n",
              "      <th>4</th>\n",
              "      <td>117.010002</td>\n",
              "      <td>114.970001</td>\n",
              "      <td>114.089996</td>\n",
              "      <td>117.330002</td>\n",
              "      <td>1408600.0</td>\n",
              "    </tr>\n",
              "  </tbody>\n",
              "</table>\n",
              "</div>"
            ],
            "text/plain": [
              "         open       close         low        high     volume\n",
              "0  123.430000  125.839996  122.309998  126.250000  2163600.0\n",
              "1  125.239998  119.980003  119.940002  125.540001  2386400.0\n",
              "2  116.379997  114.949997  114.930000  119.739998  2489500.0\n",
              "3  115.480003  116.620003  113.500000  117.440002  2006300.0\n",
              "4  117.010002  114.970001  114.089996  117.330002  1408600.0"
            ]
          },
          "metadata": {
            "tags": []
          },
          "execution_count": 9
        }
      ]
    },
    {
      "cell_type": "markdown",
      "metadata": {
        "colab_type": "text",
        "id": "3DBv3WWYOB6q"
      },
      "source": [
        "### Consider only first 1000 rows in the dataset for building feature set and target set\n",
        "Target 'Volume' has very high values. Divide 'Volume' by 1000,000"
      ]
    },
    {
      "cell_type": "code",
      "metadata": {
        "colab_type": "code",
        "id": "Z_hG9rGBOB6s",
        "colab": {}
      },
      "source": [
        "data = data[:1000]"
      ],
      "execution_count": 0,
      "outputs": []
    },
    {
      "cell_type": "code",
      "metadata": {
        "id": "PGnlxp5GOIE7",
        "colab_type": "code",
        "colab": {}
      },
      "source": [
        "x = data.iloc[:,0:4]"
      ],
      "execution_count": 0,
      "outputs": []
    },
    {
      "cell_type": "code",
      "metadata": {
        "id": "sbM4vflVOSAC",
        "colab_type": "code",
        "outputId": "5b5ec3b4-150c-4741-b185-d15857ef8c7c",
        "colab": {
          "base_uri": "https://localhost:8080/",
          "height": 402
        }
      },
      "source": [
        "y = data.iloc[:,4:]/1000000\n",
        "y"
      ],
      "execution_count": 0,
      "outputs": [
        {
          "output_type": "execute_result",
          "data": {
            "text/html": [
              "<div>\n",
              "<style scoped>\n",
              "    .dataframe tbody tr th:only-of-type {\n",
              "        vertical-align: middle;\n",
              "    }\n",
              "\n",
              "    .dataframe tbody tr th {\n",
              "        vertical-align: top;\n",
              "    }\n",
              "\n",
              "    .dataframe thead th {\n",
              "        text-align: right;\n",
              "    }\n",
              "</style>\n",
              "<table border=\"1\" class=\"dataframe\">\n",
              "  <thead>\n",
              "    <tr style=\"text-align: right;\">\n",
              "      <th></th>\n",
              "      <th>volume</th>\n",
              "    </tr>\n",
              "  </thead>\n",
              "  <tbody>\n",
              "    <tr>\n",
              "      <th>0</th>\n",
              "      <td>2.1636</td>\n",
              "    </tr>\n",
              "    <tr>\n",
              "      <th>1</th>\n",
              "      <td>2.3864</td>\n",
              "    </tr>\n",
              "    <tr>\n",
              "      <th>2</th>\n",
              "      <td>2.4895</td>\n",
              "    </tr>\n",
              "    <tr>\n",
              "      <th>3</th>\n",
              "      <td>2.0063</td>\n",
              "    </tr>\n",
              "    <tr>\n",
              "      <th>4</th>\n",
              "      <td>1.4086</td>\n",
              "    </tr>\n",
              "    <tr>\n",
              "      <th>...</th>\n",
              "      <td>...</td>\n",
              "    </tr>\n",
              "    <tr>\n",
              "      <th>995</th>\n",
              "      <td>2.1332</td>\n",
              "    </tr>\n",
              "    <tr>\n",
              "      <th>996</th>\n",
              "      <td>1.9824</td>\n",
              "    </tr>\n",
              "    <tr>\n",
              "      <th>997</th>\n",
              "      <td>37.1528</td>\n",
              "    </tr>\n",
              "    <tr>\n",
              "      <th>998</th>\n",
              "      <td>6.5686</td>\n",
              "    </tr>\n",
              "    <tr>\n",
              "      <th>999</th>\n",
              "      <td>5.6043</td>\n",
              "    </tr>\n",
              "  </tbody>\n",
              "</table>\n",
              "<p>1000 rows × 1 columns</p>\n",
              "</div>"
            ],
            "text/plain": [
              "      volume\n",
              "0     2.1636\n",
              "1     2.3864\n",
              "2     2.4895\n",
              "3     2.0063\n",
              "4     1.4086\n",
              "..       ...\n",
              "995   2.1332\n",
              "996   1.9824\n",
              "997  37.1528\n",
              "998   6.5686\n",
              "999   5.6043\n",
              "\n",
              "[1000 rows x 1 columns]"
            ]
          },
          "metadata": {
            "tags": []
          },
          "execution_count": 12
        }
      ]
    },
    {
      "cell_type": "markdown",
      "metadata": {
        "colab_type": "text",
        "id": "M3UaApqYOB6x"
      },
      "source": [
        "### Divide the data into train and test sets"
      ]
    },
    {
      "cell_type": "code",
      "metadata": {
        "colab_type": "code",
        "id": "4LE4U8lTdQJq",
        "colab": {}
      },
      "source": [
        "from sklearn.model_selection import train_test_split\n",
        "X_train, X_test, Y_train, Y_test = train_test_split(x, y, test_size=0.20,random_state=3)"
      ],
      "execution_count": 0,
      "outputs": []
    },
    {
      "cell_type": "markdown",
      "metadata": {
        "colab_type": "text",
        "id": "oYK-aUuLbrz2"
      },
      "source": [
        "#### Convert Training and Test Data to numpy float32 arrays\n"
      ]
    },
    {
      "cell_type": "code",
      "metadata": {
        "colab_type": "code",
        "id": "Ao-S0tQGcncz",
        "colab": {}
      },
      "source": [
        "import numpy as np\n",
        "X_train =np.array(X_train).astype('float32')\n",
        "X_test = np.array(X_test).astype('float32')\n",
        "Y_train =np.array(Y_train).astype('float32')\n",
        "Y_test = np.array(Y_test).astype('float32')"
      ],
      "execution_count": 0,
      "outputs": []
    },
    {
      "cell_type": "markdown",
      "metadata": {
        "colab_type": "text",
        "id": "im1ZegbDdKgv"
      },
      "source": [
        "### Normalize the data\n",
        "You can use Normalizer from sklearn.preprocessing"
      ]
    },
    {
      "cell_type": "code",
      "metadata": {
        "colab_type": "code",
        "id": "2EkKAy7fOB6y",
        "colab": {}
      },
      "source": [
        "from sklearn.preprocessing import Normalizer\n",
        "\n",
        "transformer = Normalizer()\n",
        "X_train = transformer.fit_transform(X_train)\n",
        "X_test = transformer.transform(X_test)"
      ],
      "execution_count": 0,
      "outputs": []
    },
    {
      "cell_type": "markdown",
      "metadata": {
        "colab_type": "text",
        "id": "v6vE4eYCOB62"
      },
      "source": [
        "## Building the Model in tensorflow"
      ]
    },
    {
      "cell_type": "markdown",
      "metadata": {
        "colab_type": "text",
        "id": "297_qja4OB7A"
      },
      "source": [
        "1.Define Weights and Bias, use tf.zeros to initialize weights and Bias"
      ]
    },
    {
      "cell_type": "code",
      "metadata": {
        "colab_type": "code",
        "id": "L205qPeQOB7B",
        "colab": {}
      },
      "source": [
        "W = tf.zeros(shape=(4, 1))\n",
        "b = tf.zeros(shape=(1))"
      ],
      "execution_count": 0,
      "outputs": []
    },
    {
      "cell_type": "markdown",
      "metadata": {
        "colab_type": "text",
        "id": "HgtWA-UIOB7F"
      },
      "source": [
        "2.Define a function to calculate prediction"
      ]
    },
    {
      "cell_type": "code",
      "metadata": {
        "colab_type": "code",
        "id": "JveGlx25OB7H",
        "colab": {}
      },
      "source": [
        "@tf.function\n",
        "def prediction(X_train, W, b):\n",
        "    y_pred = tf.add(tf.matmul(X_train, W), b)\n",
        "    return y_pred"
      ],
      "execution_count": 0,
      "outputs": []
    },
    {
      "cell_type": "markdown",
      "metadata": {
        "colab_type": "text",
        "id": "TL1hIwf_OB7M"
      },
      "source": [
        "3.Loss (Cost) Function [Mean square error]"
      ]
    },
    {
      "cell_type": "code",
      "metadata": {
        "colab_type": "code",
        "id": "8VSWPiGXOB7P",
        "colab": {}
      },
      "source": [
        "@tf.function\n",
        "def loss(Y_train, y_predicted):\n",
        "    diff = Y_train - y_predicted\n",
        "    sqr = tf.square(diff)\n",
        "    avg = tf.reduce_mean(sqr)\n",
        "    return avg"
      ],
      "execution_count": 0,
      "outputs": []
    },
    {
      "cell_type": "markdown",
      "metadata": {
        "colab_type": "text",
        "id": "jzG85FUlOB7U"
      },
      "source": [
        "4.Function to train the Model\n",
        "\n",
        "1.   Record all the mathematical steps to calculate Loss\n",
        "2.   Calculate Gradients of Loss w.r.t weights and bias\n",
        "3.   Update Weights and Bias based on gradients and learning rate to minimize loss"
      ]
    },
    {
      "cell_type": "code",
      "metadata": {
        "colab_type": "code",
        "id": "cj802w-3OB7X",
        "colab": {}
      },
      "source": [
        "@tf.function\n",
        "def train(X_train, Y_train, w, b, learning_rate=0.01):\n",
        "    \n",
        "    # Record mathematical operations on 'tape' to calculate loss\n",
        "    with tf.GradientTape() as t:\n",
        "        t.watch([w,b])\n",
        "        current_prediction = prediction(X_train, w, b)\n",
        "        current_loss = loss(Y_train, current_prediction)\n",
        "    \n",
        "    # Calculate Gradients for Loss with respect to Weights and Bias\n",
        "    dw, db = t.gradient(current_loss,[w, b])\n",
        "    \n",
        "    # Update Weights and Bias\n",
        "    w = w - learning_rate * dw\n",
        "    b = b - learning_rate * db\n",
        "    \n",
        "    return w, b"
      ],
      "execution_count": 0,
      "outputs": []
    },
    {
      "cell_type": "markdown",
      "metadata": {
        "colab_type": "text",
        "id": "xSypb_u8OB7e"
      },
      "source": [
        "## Train the model for 100 epochs \n",
        "1. Observe the training loss at every iteration\n",
        "2. Observe Train loss at every 5th iteration"
      ]
    },
    {
      "cell_type": "code",
      "metadata": {
        "colab_type": "code",
        "id": "DVvgj7eQOB7f",
        "outputId": "24bda3f0-d957-478b-cce7-2dc740743267",
        "colab": {
          "base_uri": "https://localhost:8080/",
          "height": 1000
        }
      },
      "source": [
        "for i in range(100):    \n",
        "    W, b = train(X_train, Y_train, W, b)\n",
        "    print('Current Training Loss on iteration', i, ' -- ', loss(Y_train, prediction(X_train, w, b)).numpy())"
      ],
      "execution_count": 0,
      "outputs": [
        {
          "output_type": "stream",
          "text": [
            "Current Training Loss on iteration 0  --  198.8946\n",
            "Current Training Loss on iteration 1  --  197.85219\n",
            "Current Training Loss on iteration 2  --  196.8709\n",
            "Current Training Loss on iteration 3  --  195.9467\n",
            "Current Training Loss on iteration 4  --  195.07599\n",
            "Current Training Loss on iteration 5  --  194.25531\n",
            "Current Training Loss on iteration 6  --  193.4814\n",
            "Current Training Loss on iteration 7  --  192.7514\n",
            "Current Training Loss on iteration 8  --  192.06245\n",
            "Current Training Loss on iteration 9  --  191.41205\n",
            "Current Training Loss on iteration 10  --  190.79778\n",
            "Current Training Loss on iteration 11  --  190.2173\n",
            "Current Training Loss on iteration 12  --  189.66867\n",
            "Current Training Loss on iteration 13  --  189.14989\n",
            "Current Training Loss on iteration 14  --  188.6591\n",
            "Current Training Loss on iteration 15  --  188.19469\n",
            "Current Training Loss on iteration 16  --  187.75507\n",
            "Current Training Loss on iteration 17  --  187.33871\n",
            "Current Training Loss on iteration 18  --  186.94421\n",
            "Current Training Loss on iteration 19  --  186.57043\n",
            "Current Training Loss on iteration 20  --  186.216\n",
            "Current Training Loss on iteration 21  --  185.87987\n",
            "Current Training Loss on iteration 22  --  185.56097\n",
            "Current Training Loss on iteration 23  --  185.25832\n",
            "Current Training Loss on iteration 24  --  184.97101\n",
            "Current Training Loss on iteration 25  --  184.69817\n",
            "Current Training Loss on iteration 26  --  184.43895\n",
            "Current Training Loss on iteration 27  --  184.19266\n",
            "Current Training Loss on iteration 28  --  183.95851\n",
            "Current Training Loss on iteration 29  --  183.73582\n",
            "Current Training Loss on iteration 30  --  183.52411\n",
            "Current Training Loss on iteration 31  --  183.32262\n",
            "Current Training Loss on iteration 32  --  183.13092\n",
            "Current Training Loss on iteration 33  --  182.94836\n",
            "Current Training Loss on iteration 34  --  182.77457\n",
            "Current Training Loss on iteration 35  --  182.60904\n",
            "Current Training Loss on iteration 36  --  182.45132\n",
            "Current Training Loss on iteration 37  --  182.30106\n",
            "Current Training Loss on iteration 38  --  182.15779\n",
            "Current Training Loss on iteration 39  --  182.02121\n",
            "Current Training Loss on iteration 40  --  181.89098\n",
            "Current Training Loss on iteration 41  --  181.76672\n",
            "Current Training Loss on iteration 42  --  181.64824\n",
            "Current Training Loss on iteration 43  --  181.53516\n",
            "Current Training Loss on iteration 44  --  181.4272\n",
            "Current Training Loss on iteration 45  --  181.32414\n",
            "Current Training Loss on iteration 46  --  181.22578\n",
            "Current Training Loss on iteration 47  --  181.13184\n",
            "Current Training Loss on iteration 48  --  181.04208\n",
            "Current Training Loss on iteration 49  --  180.95633\n",
            "Current Training Loss on iteration 50  --  180.87442\n",
            "Current Training Loss on iteration 51  --  180.79613\n",
            "Current Training Loss on iteration 52  --  180.72128\n",
            "Current Training Loss on iteration 53  --  180.64975\n",
            "Current Training Loss on iteration 54  --  180.58133\n",
            "Current Training Loss on iteration 55  --  180.51596\n",
            "Current Training Loss on iteration 56  --  180.45335\n",
            "Current Training Loss on iteration 57  --  180.39351\n",
            "Current Training Loss on iteration 58  --  180.33633\n",
            "Current Training Loss on iteration 59  --  180.28152\n",
            "Current Training Loss on iteration 60  --  180.2291\n",
            "Current Training Loss on iteration 61  --  180.17899\n",
            "Current Training Loss on iteration 62  --  180.13094\n",
            "Current Training Loss on iteration 63  --  180.085\n",
            "Current Training Loss on iteration 64  --  180.04102\n",
            "Current Training Loss on iteration 65  --  179.9989\n",
            "Current Training Loss on iteration 66  --  179.95859\n",
            "Current Training Loss on iteration 67  --  179.91998\n",
            "Current Training Loss on iteration 68  --  179.883\n",
            "Current Training Loss on iteration 69  --  179.84753\n",
            "Current Training Loss on iteration 70  --  179.81363\n",
            "Current Training Loss on iteration 71  --  179.78111\n",
            "Current Training Loss on iteration 72  --  179.75\n",
            "Current Training Loss on iteration 73  --  179.72015\n",
            "Current Training Loss on iteration 74  --  179.69154\n",
            "Current Training Loss on iteration 75  --  179.66415\n",
            "Current Training Loss on iteration 76  --  179.6379\n",
            "Current Training Loss on iteration 77  --  179.61273\n",
            "Current Training Loss on iteration 78  --  179.5886\n",
            "Current Training Loss on iteration 79  --  179.56549\n",
            "Current Training Loss on iteration 80  --  179.54337\n",
            "Current Training Loss on iteration 81  --  179.52211\n",
            "Current Training Loss on iteration 82  --  179.50177\n",
            "Current Training Loss on iteration 83  --  179.48222\n",
            "Current Training Loss on iteration 84  --  179.4635\n",
            "Current Training Loss on iteration 85  --  179.44554\n",
            "Current Training Loss on iteration 86  --  179.42834\n",
            "Current Training Loss on iteration 87  --  179.41188\n",
            "Current Training Loss on iteration 88  --  179.39601\n",
            "Current Training Loss on iteration 89  --  179.38086\n",
            "Current Training Loss on iteration 90  --  179.36627\n",
            "Current Training Loss on iteration 91  --  179.35231\n",
            "Current Training Loss on iteration 92  --  179.33888\n",
            "Current Training Loss on iteration 93  --  179.3261\n",
            "Current Training Loss on iteration 94  --  179.31378\n",
            "Current Training Loss on iteration 95  --  179.30199\n",
            "Current Training Loss on iteration 96  --  179.2906\n",
            "Current Training Loss on iteration 97  --  179.27977\n",
            "Current Training Loss on iteration 98  --  179.26933\n",
            "Current Training Loss on iteration 99  --  179.25932\n"
          ],
          "name": "stdout"
        }
      ]
    },
    {
      "cell_type": "code",
      "metadata": {
        "id": "_HWzEqLLWVHb",
        "colab_type": "code",
        "outputId": "e4bf8429-0348-414c-c527-ea5ba84da64d",
        "colab": {
          "base_uri": "https://localhost:8080/",
          "height": 353
        }
      },
      "source": [
        "for i in range(100):    \n",
        "    W, b = train(X_train, Y_train, W, b)\n",
        "    if i%5 == 0:\n",
        "      print('Current Training Loss on iteration : ', i,' -- ', loss(Y_train, prediction(X_train, w, b)).numpy())\n",
        "    "
      ],
      "execution_count": 0,
      "outputs": [
        {
          "output_type": "stream",
          "text": [
            "Current Training Loss on iteration :  0  --  179.24971\n",
            "Current Training Loss on iteration :  5  --  179.20726\n",
            "Current Training Loss on iteration :  10  --  179.1727\n",
            "Current Training Loss on iteration :  15  --  179.14465\n",
            "Current Training Loss on iteration :  20  --  179.12173\n",
            "Current Training Loss on iteration :  25  --  179.10309\n",
            "Current Training Loss on iteration :  30  --  179.08794\n",
            "Current Training Loss on iteration :  35  --  179.07555\n",
            "Current Training Loss on iteration :  40  --  179.06548\n",
            "Current Training Loss on iteration :  45  --  179.05727\n",
            "Current Training Loss on iteration :  50  --  179.05055\n",
            "Current Training Loss on iteration :  55  --  179.04507\n",
            "Current Training Loss on iteration :  60  --  179.04059\n",
            "Current Training Loss on iteration :  65  --  179.03699\n",
            "Current Training Loss on iteration :  70  --  179.03398\n",
            "Current Training Loss on iteration :  75  --  179.0316\n",
            "Current Training Loss on iteration :  80  --  179.02959\n",
            "Current Training Loss on iteration :  85  --  179.02802\n",
            "Current Training Loss on iteration :  90  --  179.02666\n",
            "Current Training Loss on iteration :  95  --  179.02557\n"
          ],
          "name": "stdout"
        }
      ]
    },
    {
      "cell_type": "markdown",
      "metadata": {
        "colab_type": "text",
        "id": "DOL2ncA1OB7q"
      },
      "source": [
        "### Get the shapes and values of W and b"
      ]
    },
    {
      "cell_type": "code",
      "metadata": {
        "colab_type": "code",
        "id": "ZGvtyTeuOB7r",
        "outputId": "0be4d823-dd01-485d-848c-6c59abba7484",
        "colab": {
          "base_uri": "https://localhost:8080/",
          "height": 101
        }
      },
      "source": [
        "print ('shape of W : ', W)"
      ],
      "execution_count": 0,
      "outputs": [
        {
          "output_type": "stream",
          "text": [
            "shape of W :  tf.Tensor(\n",
            "[[1.2862533]\n",
            " [1.3554296]\n",
            " [1.2863494]\n",
            " [1.3583086]], shape=(4, 1), dtype=float32)\n"
          ],
          "name": "stdout"
        }
      ]
    },
    {
      "cell_type": "code",
      "metadata": {
        "colab_type": "code",
        "id": "vhDtOv5UOB7x",
        "outputId": "4cfde09c-1a5d-442c-e517-b4abe5409a21",
        "colab": {
          "base_uri": "https://localhost:8080/",
          "height": 34
        }
      },
      "source": [
        "print ('shape of W : ', b)"
      ],
      "execution_count": 0,
      "outputs": [
        {
          "output_type": "stream",
          "text": [
            "shape of W :  tf.Tensor([2.6439803], shape=(1,), dtype=float32)\n"
          ],
          "name": "stdout"
        }
      ]
    },
    {
      "cell_type": "markdown",
      "metadata": {
        "colab_type": "text",
        "id": "ERq9GOKKciho"
      },
      "source": [
        "### Model Prediction on 1st Examples in Test Dataset"
      ]
    },
    {
      "cell_type": "code",
      "metadata": {
        "colab_type": "code",
        "id": "gKGvUWahcihp",
        "outputId": "9008be0c-ae93-4a4d-faf9-718eadbf6578",
        "colab": {
          "base_uri": "https://localhost:8080/",
          "height": 1000
        }
      },
      "source": [
        "pred=prediction(X_test,W,b)\n",
        "pred"
      ],
      "execution_count": 0,
      "outputs": [
        {
          "output_type": "execute_result",
          "data": {
            "text/plain": [
              "<tf.Tensor: id=5311, shape=(200, 1), dtype=float32, numpy=\n",
              "array([[5.287775 ],\n",
              "       [5.2875805],\n",
              "       [5.287441 ],\n",
              "       [5.2872868],\n",
              "       [5.287381 ],\n",
              "       [5.288076 ],\n",
              "       [5.287963 ],\n",
              "       [5.287582 ],\n",
              "       [5.2873015],\n",
              "       [5.287275 ],\n",
              "       [5.287551 ],\n",
              "       [5.2878036],\n",
              "       [5.287967 ],\n",
              "       [5.2871723],\n",
              "       [5.2877884],\n",
              "       [5.287678 ],\n",
              "       [5.287855 ],\n",
              "       [5.28751  ],\n",
              "       [5.287779 ],\n",
              "       [5.287405 ],\n",
              "       [5.287567 ],\n",
              "       [5.287188 ],\n",
              "       [5.2871556],\n",
              "       [5.2872806],\n",
              "       [5.2874107],\n",
              "       [5.287141 ],\n",
              "       [5.287696 ],\n",
              "       [5.28675  ],\n",
              "       [5.286813 ],\n",
              "       [5.287193 ],\n",
              "       [5.2879047],\n",
              "       [5.287507 ],\n",
              "       [5.287929 ],\n",
              "       [5.287789 ],\n",
              "       [5.2871504],\n",
              "       [5.2876463],\n",
              "       [5.2872586],\n",
              "       [5.2872095],\n",
              "       [5.287731 ],\n",
              "       [5.2872295],\n",
              "       [5.287771 ],\n",
              "       [5.2864695],\n",
              "       [5.287985 ],\n",
              "       [5.287569 ],\n",
              "       [5.28723  ],\n",
              "       [5.2872   ],\n",
              "       [5.287592 ],\n",
              "       [5.2875175],\n",
              "       [5.287467 ],\n",
              "       [5.2875714],\n",
              "       [5.287466 ],\n",
              "       [5.2873163],\n",
              "       [5.2872977],\n",
              "       [5.287319 ],\n",
              "       [5.2872267],\n",
              "       [5.287299 ],\n",
              "       [5.287331 ],\n",
              "       [5.287521 ],\n",
              "       [5.287481 ],\n",
              "       [5.2872696],\n",
              "       [5.2878036],\n",
              "       [5.2874284],\n",
              "       [5.2873425],\n",
              "       [5.2875633],\n",
              "       [5.2871923],\n",
              "       [5.2872143],\n",
              "       [5.287423 ],\n",
              "       [5.2874784],\n",
              "       [5.287773 ],\n",
              "       [5.287359 ],\n",
              "       [5.2877426],\n",
              "       [5.2871575],\n",
              "       [5.287668 ],\n",
              "       [5.2878723],\n",
              "       [5.287424 ],\n",
              "       [5.2872143],\n",
              "       [5.287467 ],\n",
              "       [5.287062 ],\n",
              "       [5.287263 ],\n",
              "       [5.287632 ],\n",
              "       [5.28708  ],\n",
              "       [5.2870502],\n",
              "       [5.287378 ],\n",
              "       [5.2872214],\n",
              "       [5.287458 ],\n",
              "       [5.2871943],\n",
              "       [5.287369 ],\n",
              "       [5.2875595],\n",
              "       [5.287401 ],\n",
              "       [5.287273 ],\n",
              "       [5.28738  ],\n",
              "       [5.287305 ],\n",
              "       [5.287552 ],\n",
              "       [5.287329 ],\n",
              "       [5.287401 ],\n",
              "       [5.287961 ],\n",
              "       [5.2871246],\n",
              "       [5.287567 ],\n",
              "       [5.287141 ],\n",
              "       [5.287525 ],\n",
              "       [5.2877755],\n",
              "       [5.28741  ],\n",
              "       [5.2872014],\n",
              "       [5.2874904],\n",
              "       [5.287569 ],\n",
              "       [5.2873845],\n",
              "       [5.2874784],\n",
              "       [5.287587 ],\n",
              "       [5.2874966],\n",
              "       [5.2874217],\n",
              "       [5.287612 ],\n",
              "       [5.287323 ],\n",
              "       [5.2872186],\n",
              "       [5.287348 ],\n",
              "       [5.287815 ],\n",
              "       [5.2873955],\n",
              "       [5.2874103],\n",
              "       [5.2877584],\n",
              "       [5.287467 ],\n",
              "       [5.2871943],\n",
              "       [5.2871943],\n",
              "       [5.287325 ],\n",
              "       [5.287299 ],\n",
              "       [5.2872567],\n",
              "       [5.287203 ],\n",
              "       [5.2871933],\n",
              "       [5.2874794],\n",
              "       [5.287475 ],\n",
              "       [5.2871895],\n",
              "       [5.2873096],\n",
              "       [5.287228 ],\n",
              "       [5.287285 ],\n",
              "       [5.2875233],\n",
              "       [5.2871695],\n",
              "       [5.2872114],\n",
              "       [5.2872443],\n",
              "       [5.2874126],\n",
              "       [5.287277 ],\n",
              "       [5.2878423],\n",
              "       [5.2873516],\n",
              "       [5.2871304],\n",
              "       [5.2875853],\n",
              "       [5.287357 ],\n",
              "       [5.2874203],\n",
              "       [5.2872677],\n",
              "       [5.2874107],\n",
              "       [5.287588 ],\n",
              "       [5.287807 ],\n",
              "       [5.2874894],\n",
              "       [5.2878075],\n",
              "       [5.2877426],\n",
              "       [5.2873716],\n",
              "       [5.287623 ],\n",
              "       [5.2876177],\n",
              "       [5.2872725],\n",
              "       [5.287529 ],\n",
              "       [5.2872295],\n",
              "       [5.2871857],\n",
              "       [5.2872515],\n",
              "       [5.28743  ],\n",
              "       [5.287851 ],\n",
              "       [5.2872205],\n",
              "       [5.287652 ],\n",
              "       [5.287445 ],\n",
              "       [5.287279 ],\n",
              "       [5.287774 ],\n",
              "       [5.287792 ],\n",
              "       [5.287404 ],\n",
              "       [5.2871604],\n",
              "       [5.2872376],\n",
              "       [5.287477 ],\n",
              "       [5.2872295],\n",
              "       [5.2873664],\n",
              "       [5.2872086],\n",
              "       [5.2879906],\n",
              "       [5.287532 ],\n",
              "       [5.287198 ],\n",
              "       [5.287747 ],\n",
              "       [5.287714 ],\n",
              "       [5.287249 ],\n",
              "       [5.2877703],\n",
              "       [5.287365 ],\n",
              "       [5.287161 ],\n",
              "       [5.2875786],\n",
              "       [5.2874784],\n",
              "       [5.287158 ],\n",
              "       [5.2873716],\n",
              "       [5.287738 ],\n",
              "       [5.2874584],\n",
              "       [5.28652  ],\n",
              "       [5.2871914],\n",
              "       [5.287309 ],\n",
              "       [5.2879057],\n",
              "       [5.2876215],\n",
              "       [5.2871747],\n",
              "       [5.287484 ],\n",
              "       [5.287241 ],\n",
              "       [5.2873707],\n",
              "       [5.287263 ],\n",
              "       [5.287579 ]], dtype=float32)>"
            ]
          },
          "metadata": {
            "tags": []
          },
          "execution_count": 82
        }
      ]
    },
    {
      "cell_type": "markdown",
      "metadata": {
        "colab_type": "text",
        "id": "YJRBuqXhOB7_"
      },
      "source": [
        "## Classification using tf.Keras\n",
        "\n",
        "In this exercise, we will build a Deep Neural Network using tf.Keras. We will use Iris Dataset for this exercise."
      ]
    },
    {
      "cell_type": "markdown",
      "metadata": {
        "colab_type": "text",
        "id": "O0g6lorycihf"
      },
      "source": [
        "### Load the given Iris data using pandas (Iris.csv)"
      ]
    },
    {
      "cell_type": "code",
      "metadata": {
        "colab_type": "code",
        "id": "6xFvb5sRcihg",
        "colab": {}
      },
      "source": [
        "iris = pd.read_csv(\"//content/drive/My Drive/Great Learning/11_Iris.csv\")"
      ],
      "execution_count": 0,
      "outputs": []
    },
    {
      "cell_type": "markdown",
      "metadata": {
        "colab_type": "text",
        "id": "SAB--Qdwcihm"
      },
      "source": [
        "### Target set has different categories. So, Label encode them. And convert into one-hot vectors using get_dummies in pandas."
      ]
    },
    {
      "cell_type": "code",
      "metadata": {
        "id": "cMiO2z6tehNt",
        "colab_type": "code",
        "colab": {}
      },
      "source": [
        "# import labelencoder\n",
        "from sklearn.preprocessing import LabelEncoder\n",
        "# instantiate labelencoder object\n",
        "le = LabelEncoder()\n",
        "# apply le on categorical feature columns\n",
        "iris.Species = le.fit_transform(iris.Species)"
      ],
      "execution_count": 0,
      "outputs": []
    },
    {
      "cell_type": "code",
      "metadata": {
        "colab_type": "code",
        "id": "IJr5dYnocihm",
        "colab": {}
      },
      "source": [
        "y_iris = tf.keras.utils.to_categorical(iris.Species, num_classes=3)"
      ],
      "execution_count": 0,
      "outputs": []
    },
    {
      "cell_type": "markdown",
      "metadata": {
        "colab_type": "text",
        "id": "D95nY5ILcihj"
      },
      "source": [
        "### Splitting the data into feature set and target set"
      ]
    },
    {
      "cell_type": "code",
      "metadata": {
        "colab_type": "code",
        "id": "RyMQoLMucihj",
        "outputId": "e3410d37-fce7-4306-d025-199f7e8da2ff",
        "colab": {
          "base_uri": "https://localhost:8080/",
          "height": 34
        }
      },
      "source": [
        "X_iris = iris.iloc[:,1:5]\n",
        "#y_iris = iris.Species\n",
        "y_iris.shape"
      ],
      "execution_count": 0,
      "outputs": [
        {
          "output_type": "execute_result",
          "data": {
            "text/plain": [
              "(150, 3)"
            ]
          },
          "metadata": {
            "tags": []
          },
          "execution_count": 136
        }
      ]
    },
    {
      "cell_type": "markdown",
      "metadata": {
        "colab_type": "text",
        "id": "b22qpC5xcihr"
      },
      "source": [
        "###  Building Model in tf.keras\n",
        "\n",
        "Build a Linear Classifier model  <br>\n",
        "1.  Use Dense Layer  with input shape of 4 (according to the feature set) and number of outputs set to 3<br> \n",
        "2. Apply Softmax on Dense Layer outputs <br>\n",
        "3. Use SGD as Optimizer\n",
        "4. Use categorical_crossentropy as loss function "
      ]
    },
    {
      "cell_type": "code",
      "metadata": {
        "id": "c9SVhV3Pf42w",
        "colab_type": "code",
        "colab": {}
      },
      "source": [
        "# Initialize Sequential model\n",
        "model = tf.keras.models.Sequential()\n",
        "model.add(tf.keras.layers.Dense(4, input_dim=4, kernel_initializer='normal', activation='relu'))\n",
        "model.add(tf.keras.layers.Dense(3, activation='softmax'))"
      ],
      "execution_count": 0,
      "outputs": []
    },
    {
      "cell_type": "code",
      "metadata": {
        "id": "IfYQ2mvggA6E",
        "colab_type": "code",
        "colab": {}
      },
      "source": [
        "\n",
        "# Create optimizer with non-default learning rate\n",
        "sgd_optimizer = tf.keras.optimizers.SGD(lr=0.03)\n",
        "\n",
        "# Compile the model\n",
        "model.compile(optimizer=sgd_optimizer, loss='categorical_crossentropy', metrics=['accuracy'])"
      ],
      "execution_count": 0,
      "outputs": []
    },
    {
      "cell_type": "code",
      "metadata": {
        "id": "7p5uvrlygLBw",
        "colab_type": "code",
        "colab": {}
      },
      "source": [
        "from sklearn.model_selection import train_test_split\n",
        "trainX, testX, trainY, testY = train_test_split(X_iris, y_iris, test_size=0.20,random_state=3)"
      ],
      "execution_count": 0,
      "outputs": []
    },
    {
      "cell_type": "markdown",
      "metadata": {
        "colab_type": "text",
        "id": "T5FdzqIKcihw"
      },
      "source": [
        "### Model Training "
      ]
    },
    {
      "cell_type": "code",
      "metadata": {
        "colab_type": "code",
        "id": "4qLEdHPscihx",
        "outputId": "3e44cbfb-89a5-4ee9-bae0-2a93d9343485",
        "colab": {
          "base_uri": "https://localhost:8080/",
          "height": 1000
        }
      },
      "source": [
        "model.fit(trainX, trainY, validation_data=(testX, testY), epochs=30)"
      ],
      "execution_count": 0,
      "outputs": [
        {
          "output_type": "stream",
          "text": [
            "WARNING:tensorflow:Falling back from v2 loop because of error: Failed to find data adapter that can handle input: <class 'pandas.core.frame.DataFrame'>, <class 'NoneType'>\n",
            "Train on 120 samples, validate on 30 samples\n",
            "Epoch 1/30\n",
            "120/120 [==============================] - 0s 3ms/sample - loss: 0.8206 - accuracy: 0.6667 - val_loss: 0.7208 - val_accuracy: 0.6667\n",
            "Epoch 2/30\n",
            "120/120 [==============================] - 0s 74us/sample - loss: 0.7098 - accuracy: 0.6667 - val_loss: 0.6654 - val_accuracy: 0.6667\n",
            "Epoch 3/30\n",
            "120/120 [==============================] - 0s 79us/sample - loss: 0.6571 - accuracy: 0.6667 - val_loss: 0.6201 - val_accuracy: 0.6667\n",
            "Epoch 4/30\n",
            "120/120 [==============================] - 0s 83us/sample - loss: 0.6136 - accuracy: 0.6667 - val_loss: 0.5817 - val_accuracy: 0.6667\n",
            "Epoch 5/30\n",
            "120/120 [==============================] - 0s 75us/sample - loss: 0.5762 - accuracy: 0.6667 - val_loss: 0.5451 - val_accuracy: 0.6667\n",
            "Epoch 6/30\n",
            "120/120 [==============================] - 0s 83us/sample - loss: 0.5410 - accuracy: 0.6667 - val_loss: 0.5150 - val_accuracy: 0.6667\n",
            "Epoch 7/30\n",
            "120/120 [==============================] - 0s 81us/sample - loss: 0.5083 - accuracy: 0.6667 - val_loss: 0.4835 - val_accuracy: 0.6667\n",
            "Epoch 8/30\n",
            "120/120 [==============================] - 0s 85us/sample - loss: 0.4780 - accuracy: 0.6750 - val_loss: 0.4563 - val_accuracy: 0.7000\n",
            "Epoch 9/30\n",
            "120/120 [==============================] - 0s 93us/sample - loss: 0.4512 - accuracy: 0.7333 - val_loss: 0.4307 - val_accuracy: 0.8333\n",
            "Epoch 10/30\n",
            "120/120 [==============================] - 0s 109us/sample - loss: 0.4276 - accuracy: 0.8250 - val_loss: 0.4097 - val_accuracy: 0.8333\n",
            "Epoch 11/30\n",
            "120/120 [==============================] - 0s 82us/sample - loss: 0.4057 - accuracy: 0.8667 - val_loss: 0.3892 - val_accuracy: 0.9333\n",
            "Epoch 12/30\n",
            "120/120 [==============================] - 0s 80us/sample - loss: 0.3879 - accuracy: 0.9500 - val_loss: 0.3754 - val_accuracy: 0.8667\n",
            "Epoch 13/30\n",
            "120/120 [==============================] - 0s 82us/sample - loss: 0.3726 - accuracy: 0.9250 - val_loss: 0.3583 - val_accuracy: 0.9667\n",
            "Epoch 14/30\n",
            "120/120 [==============================] - 0s 78us/sample - loss: 0.3568 - accuracy: 0.9833 - val_loss: 0.3459 - val_accuracy: 0.9667\n",
            "Epoch 15/30\n",
            "120/120 [==============================] - 0s 90us/sample - loss: 0.3438 - accuracy: 0.9667 - val_loss: 0.3331 - val_accuracy: 1.0000\n",
            "Epoch 16/30\n",
            "120/120 [==============================] - 0s 79us/sample - loss: 0.3329 - accuracy: 0.9917 - val_loss: 0.3225 - val_accuracy: 1.0000\n",
            "Epoch 17/30\n",
            "120/120 [==============================] - 0s 83us/sample - loss: 0.3229 - accuracy: 1.0000 - val_loss: 0.3147 - val_accuracy: 1.0000\n",
            "Epoch 18/30\n",
            "120/120 [==============================] - 0s 93us/sample - loss: 0.3133 - accuracy: 1.0000 - val_loss: 0.3035 - val_accuracy: 1.0000\n",
            "Epoch 19/30\n",
            "120/120 [==============================] - 0s 85us/sample - loss: 0.3042 - accuracy: 1.0000 - val_loss: 0.2951 - val_accuracy: 1.0000\n",
            "Epoch 20/30\n",
            "120/120 [==============================] - 0s 75us/sample - loss: 0.2957 - accuracy: 1.0000 - val_loss: 0.2881 - val_accuracy: 1.0000\n",
            "Epoch 21/30\n",
            "120/120 [==============================] - 0s 83us/sample - loss: 0.2879 - accuracy: 1.0000 - val_loss: 0.2808 - val_accuracy: 1.0000\n",
            "Epoch 22/30\n",
            "120/120 [==============================] - 0s 82us/sample - loss: 0.2807 - accuracy: 1.0000 - val_loss: 0.2750 - val_accuracy: 1.0000\n",
            "Epoch 23/30\n",
            "120/120 [==============================] - 0s 80us/sample - loss: 0.2740 - accuracy: 1.0000 - val_loss: 0.2679 - val_accuracy: 1.0000\n",
            "Epoch 24/30\n",
            "120/120 [==============================] - 0s 92us/sample - loss: 0.2673 - accuracy: 1.0000 - val_loss: 0.2611 - val_accuracy: 1.0000\n",
            "Epoch 25/30\n",
            "120/120 [==============================] - 0s 88us/sample - loss: 0.2607 - accuracy: 1.0000 - val_loss: 0.2544 - val_accuracy: 1.0000\n",
            "Epoch 26/30\n",
            "120/120 [==============================] - 0s 90us/sample - loss: 0.2543 - accuracy: 1.0000 - val_loss: 0.2485 - val_accuracy: 1.0000\n",
            "Epoch 27/30\n",
            "120/120 [==============================] - 0s 89us/sample - loss: 0.2491 - accuracy: 1.0000 - val_loss: 0.2430 - val_accuracy: 1.0000\n",
            "Epoch 28/30\n",
            "120/120 [==============================] - 0s 81us/sample - loss: 0.2431 - accuracy: 1.0000 - val_loss: 0.2379 - val_accuracy: 1.0000\n",
            "Epoch 29/30\n",
            "120/120 [==============================] - 0s 82us/sample - loss: 0.2380 - accuracy: 1.0000 - val_loss: 0.2327 - val_accuracy: 1.0000\n",
            "Epoch 30/30\n",
            "120/120 [==============================] - 0s 80us/sample - loss: 0.2328 - accuracy: 1.0000 - val_loss: 0.2282 - val_accuracy: 1.0000\n"
          ],
          "name": "stdout"
        },
        {
          "output_type": "execute_result",
          "data": {
            "text/plain": [
              "<tensorflow.python.keras.callbacks.History at 0x7feb8cfbafd0>"
            ]
          },
          "metadata": {
            "tags": []
          },
          "execution_count": 140
        }
      ]
    },
    {
      "cell_type": "markdown",
      "metadata": {
        "colab_type": "text",
        "id": "y-SgSSdRcih5"
      },
      "source": [
        "### Model Prediction"
      ]
    },
    {
      "cell_type": "code",
      "metadata": {
        "colab_type": "code",
        "id": "GBgKZkhkcih6",
        "outputId": "ade4650b-04e6-43eb-b23f-eac3e3bfca13",
        "colab": {
          "base_uri": "https://localhost:8080/",
          "height": 558
        }
      },
      "source": [
        "model.predict(testX)"
      ],
      "execution_count": 0,
      "outputs": [
        {
          "output_type": "stream",
          "text": [
            "WARNING:tensorflow:Falling back from v2 loop because of error: Failed to find data adapter that can handle input: <class 'pandas.core.frame.DataFrame'>, <class 'NoneType'>\n"
          ],
          "name": "stdout"
        },
        {
          "output_type": "execute_result",
          "data": {
            "text/plain": [
              "array([[2.5517231e-01, 5.3898168e-01, 2.0584604e-01],\n",
              "       [2.5517231e-01, 5.3898168e-01, 2.0584604e-01],\n",
              "       [2.5517231e-01, 5.3898168e-01, 2.0584604e-01],\n",
              "       [2.8921449e-01, 5.1432610e-01, 1.9645940e-01],\n",
              "       [2.5517231e-01, 5.3898168e-01, 2.0584604e-01],\n",
              "       [9.9900573e-01, 7.1808870e-04, 2.7618386e-04],\n",
              "       [9.4745058e-01, 3.7989806e-02, 1.4559634e-02],\n",
              "       [2.5517231e-01, 5.3898168e-01, 2.0584604e-01],\n",
              "       [9.9229008e-01, 5.5711335e-03, 2.1388407e-03],\n",
              "       [9.5597643e-01, 3.1824697e-02, 1.2198844e-02],\n",
              "       [9.3701917e-01, 4.5533158e-02, 1.7447678e-02],\n",
              "       [2.5517231e-01, 5.3898168e-01, 2.0584604e-01],\n",
              "       [9.4211721e-01, 4.1846506e-02, 1.6036272e-02],\n",
              "       [9.5342988e-01, 3.3666067e-02, 1.2903996e-02],\n",
              "       [9.9340880e-01, 4.7625378e-03, 1.8286635e-03],\n",
              "       [2.5517231e-01, 5.3898168e-01, 2.0584604e-01],\n",
              "       [9.8388267e-01, 1.1648337e-02, 4.4690319e-03],\n",
              "       [9.9657357e-01, 2.4754000e-03, 9.5102459e-04],\n",
              "       [9.8845702e-01, 8.3416533e-03, 3.2013347e-03],\n",
              "       [2.5517231e-01, 5.3898168e-01, 2.0584604e-01],\n",
              "       [9.8079395e-01, 1.3881157e-02, 5.3248433e-03],\n",
              "       [9.9200106e-01, 5.7800361e-03, 2.2189675e-03],\n",
              "       [9.8736167e-01, 9.1333836e-03, 3.5048986e-03],\n",
              "       [9.7733009e-01, 1.6385416e-02, 6.2845480e-03],\n",
              "       [2.5517231e-01, 5.3898168e-01, 2.0584604e-01],\n",
              "       [9.9537426e-01, 3.3421624e-03, 1.2836859e-03],\n",
              "       [9.9230701e-01, 5.5588549e-03, 2.1341299e-03],\n",
              "       [9.4033742e-01, 4.3133542e-02, 1.6529022e-02],\n",
              "       [8.7448478e-01, 9.0760268e-02, 3.4754883e-02],\n",
              "       [9.7050202e-01, 2.1321991e-02, 8.1760045e-03]], dtype=float32)"
            ]
          },
          "metadata": {
            "tags": []
          },
          "execution_count": 141
        }
      ]
    },
    {
      "cell_type": "markdown",
      "metadata": {
        "colab_type": "text",
        "id": "P32ASP1Vjt0a"
      },
      "source": [
        "### Save the Model"
      ]
    },
    {
      "cell_type": "code",
      "metadata": {
        "colab_type": "code",
        "id": "n8rd0jjAjyTR",
        "colab": {}
      },
      "source": [
        "import pickle\n",
        "filename = 'finalized_model.sav'\n",
        "pickle.dump(model, open(filename, 'wb'))"
      ],
      "execution_count": 0,
      "outputs": []
    },
    {
      "cell_type": "markdown",
      "metadata": {
        "colab_type": "text",
        "id": "XiipRpe7rbVh"
      },
      "source": [
        "### Build and Train a Deep Neural network with 2 hidden layer  - Optional - For Practice\n",
        "\n",
        "Does it perform better than Linear Classifier? What could be the reason for difference in performance?"
      ]
    },
    {
      "cell_type": "code",
      "metadata": {
        "colab_type": "code",
        "id": "v5Du3lubr4sA",
        "colab": {}
      },
      "source": [
        ""
      ],
      "execution_count": 0,
      "outputs": []
    }
  ]
}