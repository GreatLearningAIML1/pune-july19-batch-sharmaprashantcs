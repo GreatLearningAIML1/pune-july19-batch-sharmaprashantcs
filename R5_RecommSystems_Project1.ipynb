{
  "nbformat": 4,
  "nbformat_minor": 0,
  "metadata": {
    "colab": {
      "name": "R5_RecommSystems_Project1.ipynb",
      "provenance": []
    },
    "kernelspec": {
      "name": "python3",
      "display_name": "Python 3"
    }
  },
  "cells": [
    {
      "cell_type": "code",
      "metadata": {
        "id": "dqwhCKvl8L69",
        "colab_type": "code",
        "colab": {}
      },
      "source": [
        "import pandas as pd\n",
        "import numpy as np\n",
        "from sklearn.metrics.pairwise import cosine_similarity\n",
        "from sklearn.feature_extraction.text import CountVectorizer\n"
      ],
      "execution_count": 0,
      "outputs": []
    },
    {
      "cell_type": "code",
      "metadata": {
        "id": "aE4N_DvTpHYc",
        "colab_type": "code",
        "colab": {
          "base_uri": "https://localhost:8080/",
          "height": 190
        },
        "outputId": "dbe2cfe9-ec9e-4852-eff4-fb4f762efdba"
      },
      "source": [
        "! pip install apyori"
      ],
      "execution_count": 3,
      "outputs": [
        {
          "output_type": "stream",
          "text": [
            "Collecting apyori\n",
            "  Downloading https://files.pythonhosted.org/packages/5e/62/5ffde5c473ea4b033490617ec5caa80d59804875ad3c3c57c0976533a21a/apyori-1.1.2.tar.gz\n",
            "Building wheels for collected packages: apyori\n",
            "  Building wheel for apyori (setup.py) ... \u001b[?25l\u001b[?25hdone\n",
            "  Created wheel for apyori: filename=apyori-1.1.2-cp36-none-any.whl size=5975 sha256=aaa33bfc8883d59ab60ced960dbe4aa1297c0e746f886c930d370683748c3661\n",
            "  Stored in directory: /root/.cache/pip/wheels/5d/92/bb/474bbadbc8c0062b9eb168f69982a0443263f8ab1711a8cad0\n",
            "Successfully built apyori\n",
            "Installing collected packages: apyori\n",
            "Successfully installed apyori-1.1.2\n"
          ],
          "name": "stdout"
        }
      ]
    },
    {
      "cell_type": "code",
      "metadata": {
        "id": "xHCBidozbxwF",
        "colab_type": "code",
        "colab": {
          "base_uri": "https://localhost:8080/",
          "height": 275
        },
        "outputId": "df023693-6142-4208-867e-03f61e720f96"
      },
      "source": [
        "!pip install scikit-surprise"
      ],
      "execution_count": 88,
      "outputs": [
        {
          "output_type": "stream",
          "text": [
            "Collecting scikit-surprise\n",
            "\u001b[?25l  Downloading https://files.pythonhosted.org/packages/f5/da/b5700d96495fb4f092be497f02492768a3d96a3f4fa2ae7dea46d4081cfa/scikit-surprise-1.1.0.tar.gz (6.4MB)\n",
            "\u001b[K     |████████████████████████████████| 6.5MB 91kB/s \n",
            "\u001b[?25hRequirement already satisfied: joblib>=0.11 in /usr/local/lib/python3.6/dist-packages (from scikit-surprise) (0.14.1)\n",
            "Requirement already satisfied: numpy>=1.11.2 in /usr/local/lib/python3.6/dist-packages (from scikit-surprise) (1.17.4)\n",
            "Requirement already satisfied: scipy>=1.0.0 in /usr/local/lib/python3.6/dist-packages (from scikit-surprise) (1.3.3)\n",
            "Requirement already satisfied: six>=1.10.0 in /usr/local/lib/python3.6/dist-packages (from scikit-surprise) (1.12.0)\n",
            "Building wheels for collected packages: scikit-surprise\n",
            "  Building wheel for scikit-surprise (setup.py) ... \u001b[?25l\u001b[?25hdone\n",
            "  Created wheel for scikit-surprise: filename=scikit_surprise-1.1.0-cp36-cp36m-linux_x86_64.whl size=1678217 sha256=2158fad852dbeb0341cc5b05ee3613837094721ee55128d642cb0fe94eead533\n",
            "  Stored in directory: /root/.cache/pip/wheels/cc/fa/8c/16c93fccce688ae1bde7d979ff102f7bee980d9cfeb8641bcf\n",
            "Successfully built scikit-surprise\n",
            "Installing collected packages: scikit-surprise\n",
            "Successfully installed scikit-surprise-1.1.0\n"
          ],
          "name": "stdout"
        }
      ]
    },
    {
      "cell_type": "code",
      "metadata": {
        "id": "aMtQadEz3bWl",
        "colab_type": "code",
        "colab": {
          "base_uri": "https://localhost:8080/",
          "height": 122
        },
        "outputId": "47789935-20f3-45cb-fa4f-baeeaf09ff9f"
      },
      "source": [
        "from google.colab import drive\n",
        "drive.mount('/content/drive')"
      ],
      "execution_count": 4,
      "outputs": [
        {
          "output_type": "stream",
          "text": [
            "Go to this URL in a browser: https://accounts.google.com/o/oauth2/auth?client_id=947318989803-6bn6qk8qdgf4n4g3pfee6491hc0brc4i.apps.googleusercontent.com&redirect_uri=urn%3aietf%3awg%3aoauth%3a2.0%3aoob&response_type=code&scope=email%20https%3a%2f%2fwww.googleapis.com%2fauth%2fdocs.test%20https%3a%2f%2fwww.googleapis.com%2fauth%2fdrive%20https%3a%2f%2fwww.googleapis.com%2fauth%2fdrive.photos.readonly%20https%3a%2f%2fwww.googleapis.com%2fauth%2fpeopleapi.readonly\n",
            "\n",
            "Enter your authorization code:\n",
            "··········\n",
            "Mounted at /content/drive\n"
          ],
          "name": "stdout"
        }
      ]
    },
    {
      "cell_type": "code",
      "metadata": {
        "id": "C7dK9Etb3kfY",
        "colab_type": "code",
        "colab": {}
      },
      "source": [
        "df = pd.read_csv(\"/content/drive/My Drive/Great Learning/ratings_Electronics.csv\", delimiter=\",\")"
      ],
      "execution_count": 0,
      "outputs": []
    },
    {
      "cell_type": "code",
      "metadata": {
        "id": "1VOrGnHC4yj7",
        "colab_type": "code",
        "colab": {
          "base_uri": "https://localhost:8080/",
          "height": 204
        },
        "outputId": "71a6a77b-0630-4f5e-9314-886478568c04"
      },
      "source": [
        "df.head()"
      ],
      "execution_count": 40,
      "outputs": [
        {
          "output_type": "execute_result",
          "data": {
            "text/html": [
              "<div>\n",
              "<style scoped>\n",
              "    .dataframe tbody tr th:only-of-type {\n",
              "        vertical-align: middle;\n",
              "    }\n",
              "\n",
              "    .dataframe tbody tr th {\n",
              "        vertical-align: top;\n",
              "    }\n",
              "\n",
              "    .dataframe thead th {\n",
              "        text-align: right;\n",
              "    }\n",
              "</style>\n",
              "<table border=\"1\" class=\"dataframe\">\n",
              "  <thead>\n",
              "    <tr style=\"text-align: right;\">\n",
              "      <th></th>\n",
              "      <th>AKM1MP6P0OYPR</th>\n",
              "      <th>0132793040</th>\n",
              "      <th>5.0</th>\n",
              "      <th>1365811200</th>\n",
              "    </tr>\n",
              "  </thead>\n",
              "  <tbody>\n",
              "    <tr>\n",
              "      <th>0</th>\n",
              "      <td>A2CX7LUOHB2NDG</td>\n",
              "      <td>0321732944</td>\n",
              "      <td>5.0</td>\n",
              "      <td>1341100800</td>\n",
              "    </tr>\n",
              "    <tr>\n",
              "      <th>1</th>\n",
              "      <td>A2NWSAGRHCP8N5</td>\n",
              "      <td>0439886341</td>\n",
              "      <td>1.0</td>\n",
              "      <td>1367193600</td>\n",
              "    </tr>\n",
              "    <tr>\n",
              "      <th>2</th>\n",
              "      <td>A2WNBOD3WNDNKT</td>\n",
              "      <td>0439886341</td>\n",
              "      <td>3.0</td>\n",
              "      <td>1374451200</td>\n",
              "    </tr>\n",
              "    <tr>\n",
              "      <th>3</th>\n",
              "      <td>A1GI0U4ZRJA8WN</td>\n",
              "      <td>0439886341</td>\n",
              "      <td>1.0</td>\n",
              "      <td>1334707200</td>\n",
              "    </tr>\n",
              "    <tr>\n",
              "      <th>4</th>\n",
              "      <td>A1QGNMC6O1VW39</td>\n",
              "      <td>0511189877</td>\n",
              "      <td>5.0</td>\n",
              "      <td>1397433600</td>\n",
              "    </tr>\n",
              "  </tbody>\n",
              "</table>\n",
              "</div>"
            ],
            "text/plain": [
              "    AKM1MP6P0OYPR  0132793040  5.0  1365811200\n",
              "0  A2CX7LUOHB2NDG  0321732944  5.0  1341100800\n",
              "1  A2NWSAGRHCP8N5  0439886341  1.0  1367193600\n",
              "2  A2WNBOD3WNDNKT  0439886341  3.0  1374451200\n",
              "3  A1GI0U4ZRJA8WN  0439886341  1.0  1334707200\n",
              "4  A1QGNMC6O1VW39  0511189877  5.0  1397433600"
            ]
          },
          "metadata": {
            "tags": []
          },
          "execution_count": 40
        }
      ]
    },
    {
      "cell_type": "code",
      "metadata": {
        "id": "SGM5gyfn8c9u",
        "colab_type": "code",
        "colab": {}
      },
      "source": [
        "df.columns=['userid','productid','rating','timestamp'];"
      ],
      "execution_count": 0,
      "outputs": []
    },
    {
      "cell_type": "code",
      "metadata": {
        "id": "IRwzOoTC8_wM",
        "colab_type": "code",
        "colab": {
          "base_uri": "https://localhost:8080/",
          "height": 111
        },
        "outputId": "a6dfa47d-8193-4eed-d9f3-0df0ba273d08"
      },
      "source": [
        "df.head(2)"
      ],
      "execution_count": 42,
      "outputs": [
        {
          "output_type": "execute_result",
          "data": {
            "text/html": [
              "<div>\n",
              "<style scoped>\n",
              "    .dataframe tbody tr th:only-of-type {\n",
              "        vertical-align: middle;\n",
              "    }\n",
              "\n",
              "    .dataframe tbody tr th {\n",
              "        vertical-align: top;\n",
              "    }\n",
              "\n",
              "    .dataframe thead th {\n",
              "        text-align: right;\n",
              "    }\n",
              "</style>\n",
              "<table border=\"1\" class=\"dataframe\">\n",
              "  <thead>\n",
              "    <tr style=\"text-align: right;\">\n",
              "      <th></th>\n",
              "      <th>userid</th>\n",
              "      <th>productid</th>\n",
              "      <th>rating</th>\n",
              "      <th>timestamp</th>\n",
              "    </tr>\n",
              "  </thead>\n",
              "  <tbody>\n",
              "    <tr>\n",
              "      <th>0</th>\n",
              "      <td>A2CX7LUOHB2NDG</td>\n",
              "      <td>0321732944</td>\n",
              "      <td>5.0</td>\n",
              "      <td>1341100800</td>\n",
              "    </tr>\n",
              "    <tr>\n",
              "      <th>1</th>\n",
              "      <td>A2NWSAGRHCP8N5</td>\n",
              "      <td>0439886341</td>\n",
              "      <td>1.0</td>\n",
              "      <td>1367193600</td>\n",
              "    </tr>\n",
              "  </tbody>\n",
              "</table>\n",
              "</div>"
            ],
            "text/plain": [
              "           userid   productid  rating   timestamp\n",
              "0  A2CX7LUOHB2NDG  0321732944     5.0  1341100800\n",
              "1  A2NWSAGRHCP8N5  0439886341     1.0  1367193600"
            ]
          },
          "metadata": {
            "tags": []
          },
          "execution_count": 42
        }
      ]
    },
    {
      "cell_type": "code",
      "metadata": {
        "id": "i8auOTSVBsMu",
        "colab_type": "code",
        "colab": {
          "base_uri": "https://localhost:8080/",
          "height": 85
        },
        "outputId": "faa79d9a-7a4d-45e7-bb93-ceb0ec66f5c2"
      },
      "source": [
        "for col in df.columns: \n",
        "    print(col) "
      ],
      "execution_count": 43,
      "outputs": [
        {
          "output_type": "stream",
          "text": [
            "userid\n",
            "productid\n",
            "rating\n",
            "timestamp\n"
          ],
          "name": "stdout"
        }
      ]
    },
    {
      "cell_type": "code",
      "metadata": {
        "id": "lXFZHzzICLUZ",
        "colab_type": "code",
        "colab": {}
      },
      "source": [
        "df=df.drop('timestamp',axis=1)"
      ],
      "execution_count": 0,
      "outputs": []
    },
    {
      "cell_type": "code",
      "metadata": {
        "id": "Cfk0yijSCSuu",
        "colab_type": "code",
        "colab": {
          "base_uri": "https://localhost:8080/",
          "height": 34
        },
        "outputId": "8888071c-7711-4512-ec11-445c079e9002"
      },
      "source": [
        "df.shape"
      ],
      "execution_count": 45,
      "outputs": [
        {
          "output_type": "execute_result",
          "data": {
            "text/plain": [
              "(7824481, 3)"
            ]
          },
          "metadata": {
            "tags": []
          },
          "execution_count": 45
        }
      ]
    },
    {
      "cell_type": "markdown",
      "metadata": {
        "id": "HD3-P6pdDDBn",
        "colab_type": "text"
      },
      "source": [
        "there are 7824481 inputs provided"
      ]
    },
    {
      "cell_type": "code",
      "metadata": {
        "id": "NTpUi1Xu9Bxc",
        "colab_type": "code",
        "colab": {}
      },
      "source": [
        "import matplotlib.pyplot as plt"
      ],
      "execution_count": 0,
      "outputs": []
    },
    {
      "cell_type": "code",
      "metadata": {
        "id": "jvpXZZ_bBKuw",
        "colab_type": "code",
        "colab": {
          "base_uri": "https://localhost:8080/",
          "height": 281
        },
        "outputId": "5d7a81bb-4dac-4cbc-b6fa-d3e46a5d0267"
      },
      "source": [
        "hist = df.hist(bins=10)"
      ],
      "execution_count": 47,
      "outputs": [
        {
          "output_type": "display_data",
          "data": {
            "image/png": "[encoded data removed]",
            "text/plain": [
              "<Figure size 432x288 with 1 Axes>"
            ]
          },
          "metadata": {
            "tags": []
          }
        }
      ]
    },
    {
      "cell_type": "markdown",
      "metadata": {
        "id": "5aiOLaUZCdUS",
        "colab_type": "text"
      },
      "source": [
        "Inference from histogram: most ratings are high"
      ]
    },
    {
      "cell_type": "code",
      "metadata": {
        "id": "36KLTOHmBSig",
        "colab_type": "code",
        "colab": {
          "base_uri": "https://localhost:8080/",
          "height": 85
        },
        "outputId": "c21e2822-018a-46df-9732-974690c0c5f6"
      },
      "source": [
        "df.dtypes"
      ],
      "execution_count": 48,
      "outputs": [
        {
          "output_type": "execute_result",
          "data": {
            "text/plain": [
              "userid        object\n",
              "productid     object\n",
              "rating       float64\n",
              "dtype: object"
            ]
          },
          "metadata": {
            "tags": []
          },
          "execution_count": 48
        }
      ]
    },
    {
      "cell_type": "code",
      "metadata": {
        "id": "QnPZnryBCoqN",
        "colab_type": "code",
        "colab": {
          "base_uri": "https://localhost:8080/",
          "height": 297
        },
        "outputId": "9857b5ab-e686-4945-a048-3f671ebb293c"
      },
      "source": [
        "df.describe()"
      ],
      "execution_count": 49,
      "outputs": [
        {
          "output_type": "execute_result",
          "data": {
            "text/html": [
              "<div>\n",
              "<style scoped>\n",
              "    .dataframe tbody tr th:only-of-type {\n",
              "        vertical-align: middle;\n",
              "    }\n",
              "\n",
              "    .dataframe tbody tr th {\n",
              "        vertical-align: top;\n",
              "    }\n",
              "\n",
              "    .dataframe thead th {\n",
              "        text-align: right;\n",
              "    }\n",
              "</style>\n",
              "<table border=\"1\" class=\"dataframe\">\n",
              "  <thead>\n",
              "    <tr style=\"text-align: right;\">\n",
              "      <th></th>\n",
              "      <th>rating</th>\n",
              "    </tr>\n",
              "  </thead>\n",
              "  <tbody>\n",
              "    <tr>\n",
              "      <th>count</th>\n",
              "      <td>7.824481e+06</td>\n",
              "    </tr>\n",
              "    <tr>\n",
              "      <th>mean</th>\n",
              "      <td>4.012337e+00</td>\n",
              "    </tr>\n",
              "    <tr>\n",
              "      <th>std</th>\n",
              "      <td>1.380910e+00</td>\n",
              "    </tr>\n",
              "    <tr>\n",
              "      <th>min</th>\n",
              "      <td>1.000000e+00</td>\n",
              "    </tr>\n",
              "    <tr>\n",
              "      <th>25%</th>\n",
              "      <td>3.000000e+00</td>\n",
              "    </tr>\n",
              "    <tr>\n",
              "      <th>50%</th>\n",
              "      <td>5.000000e+00</td>\n",
              "    </tr>\n",
              "    <tr>\n",
              "      <th>75%</th>\n",
              "      <td>5.000000e+00</td>\n",
              "    </tr>\n",
              "    <tr>\n",
              "      <th>max</th>\n",
              "      <td>5.000000e+00</td>\n",
              "    </tr>\n",
              "  </tbody>\n",
              "</table>\n",
              "</div>"
            ],
            "text/plain": [
              "             rating\n",
              "count  7.824481e+06\n",
              "mean   4.012337e+00\n",
              "std    1.380910e+00\n",
              "min    1.000000e+00\n",
              "25%    3.000000e+00\n",
              "50%    5.000000e+00\n",
              "75%    5.000000e+00\n",
              "max    5.000000e+00"
            ]
          },
          "metadata": {
            "tags": []
          },
          "execution_count": 49
        }
      ]
    },
    {
      "cell_type": "code",
      "metadata": {
        "id": "WAOnbaf0R7oX",
        "colab_type": "code",
        "colab": {
          "base_uri": "https://localhost:8080/",
          "height": 235
        },
        "outputId": "4494d708-ab9f-4da3-ab16-de3c14537e97"
      },
      "source": [
        "df.groupby('rating').count()"
      ],
      "execution_count": 65,
      "outputs": [
        {
          "output_type": "execute_result",
          "data": {
            "text/html": [
              "<div>\n",
              "<style scoped>\n",
              "    .dataframe tbody tr th:only-of-type {\n",
              "        vertical-align: middle;\n",
              "    }\n",
              "\n",
              "    .dataframe tbody tr th {\n",
              "        vertical-align: top;\n",
              "    }\n",
              "\n",
              "    .dataframe thead th {\n",
              "        text-align: right;\n",
              "    }\n",
              "</style>\n",
              "<table border=\"1\" class=\"dataframe\">\n",
              "  <thead>\n",
              "    <tr style=\"text-align: right;\">\n",
              "      <th></th>\n",
              "      <th>userid</th>\n",
              "      <th>productid</th>\n",
              "    </tr>\n",
              "    <tr>\n",
              "      <th>rating</th>\n",
              "      <th></th>\n",
              "      <th></th>\n",
              "    </tr>\n",
              "  </thead>\n",
              "  <tbody>\n",
              "    <tr>\n",
              "      <th>1.0</th>\n",
              "      <td>901765</td>\n",
              "      <td>901765</td>\n",
              "    </tr>\n",
              "    <tr>\n",
              "      <th>2.0</th>\n",
              "      <td>456322</td>\n",
              "      <td>456322</td>\n",
              "    </tr>\n",
              "    <tr>\n",
              "      <th>3.0</th>\n",
              "      <td>633073</td>\n",
              "      <td>633073</td>\n",
              "    </tr>\n",
              "    <tr>\n",
              "      <th>4.0</th>\n",
              "      <td>1485781</td>\n",
              "      <td>1485781</td>\n",
              "    </tr>\n",
              "    <tr>\n",
              "      <th>5.0</th>\n",
              "      <td>4347540</td>\n",
              "      <td>4347540</td>\n",
              "    </tr>\n",
              "  </tbody>\n",
              "</table>\n",
              "</div>"
            ],
            "text/plain": [
              "         userid  productid\n",
              "rating                    \n",
              "1.0      901765     901765\n",
              "2.0      456322     456322\n",
              "3.0      633073     633073\n",
              "4.0     1485781    1485781\n",
              "5.0     4347540    4347540"
            ]
          },
          "metadata": {
            "tags": []
          },
          "execution_count": 65
        }
      ]
    },
    {
      "cell_type": "code",
      "metadata": {
        "id": "nHB98n7hC-l7",
        "colab_type": "code",
        "colab": {
          "base_uri": "https://localhost:8080/",
          "height": 221
        },
        "outputId": "aeb9760d-6e73-4e95-bf60-7bac8180387e"
      },
      "source": [
        "df.groupby('productid')['rating'].mean().sort_values(ascending=False).head(10)"
      ],
      "execution_count": 50,
      "outputs": [
        {
          "output_type": "execute_result",
          "data": {
            "text/plain": [
              "productid\n",
              "BT008V9J9U    5.0\n",
              "B0058PRC0S    5.0\n",
              "B0058ORBFU    5.0\n",
              "B0058OQ9Q2    5.0\n",
              "B0058OKSMS    5.0\n",
              "B0058OHGX2    5.0\n",
              "B0058O9OR8    5.0\n",
              "B0058O6O8K    5.0\n",
              "B0058O6J3A    5.0\n",
              "B0058O6EXA    5.0\n",
              "Name: rating, dtype: float64"
            ]
          },
          "metadata": {
            "tags": []
          },
          "execution_count": 50
        }
      ]
    },
    {
      "cell_type": "code",
      "metadata": {
        "id": "oBhZzhD7DoGz",
        "colab_type": "code",
        "colab": {}
      },
      "source": [
        "count=df.groupby('userid')['rating'].count()"
      ],
      "execution_count": 0,
      "outputs": []
    },
    {
      "cell_type": "code",
      "metadata": {
        "id": "l7ZuIMmJElPt",
        "colab_type": "code",
        "colab": {}
      },
      "source": [
        "df2=df[df['userid'].isin(count[count >= 50].index)]"
      ],
      "execution_count": 0,
      "outputs": []
    },
    {
      "cell_type": "code",
      "metadata": {
        "id": "FYGCLD5pZ2vL",
        "colab_type": "code",
        "colab": {
          "base_uri": "https://localhost:8080/",
          "height": 204
        },
        "outputId": "d9427e27-84c5-4565-c51b-dc5b3ad566c7"
      },
      "source": [
        "df2.head()"
      ],
      "execution_count": 73,
      "outputs": [
        {
          "output_type": "execute_result",
          "data": {
            "text/html": [
              "<div>\n",
              "<style scoped>\n",
              "    .dataframe tbody tr th:only-of-type {\n",
              "        vertical-align: middle;\n",
              "    }\n",
              "\n",
              "    .dataframe tbody tr th {\n",
              "        vertical-align: top;\n",
              "    }\n",
              "\n",
              "    .dataframe thead th {\n",
              "        text-align: right;\n",
              "    }\n",
              "</style>\n",
              "<table border=\"1\" class=\"dataframe\">\n",
              "  <thead>\n",
              "    <tr style=\"text-align: right;\">\n",
              "      <th></th>\n",
              "      <th>userid</th>\n",
              "      <th>productid</th>\n",
              "      <th>rating</th>\n",
              "    </tr>\n",
              "  </thead>\n",
              "  <tbody>\n",
              "    <tr>\n",
              "      <th>93</th>\n",
              "      <td>A3BY5KCNQZXV5U</td>\n",
              "      <td>0594451647</td>\n",
              "      <td>5.0</td>\n",
              "    </tr>\n",
              "    <tr>\n",
              "      <th>117</th>\n",
              "      <td>AT09WGFUM934H</td>\n",
              "      <td>0594481813</td>\n",
              "      <td>3.0</td>\n",
              "    </tr>\n",
              "    <tr>\n",
              "      <th>176</th>\n",
              "      <td>A32HSNCNPRUMTR</td>\n",
              "      <td>0970407998</td>\n",
              "      <td>1.0</td>\n",
              "    </tr>\n",
              "    <tr>\n",
              "      <th>177</th>\n",
              "      <td>A17HMM1M7T9PJ1</td>\n",
              "      <td>0970407998</td>\n",
              "      <td>4.0</td>\n",
              "    </tr>\n",
              "    <tr>\n",
              "      <th>491</th>\n",
              "      <td>A3CLWR1UUZT6TG</td>\n",
              "      <td>0972683275</td>\n",
              "      <td>5.0</td>\n",
              "    </tr>\n",
              "  </tbody>\n",
              "</table>\n",
              "</div>"
            ],
            "text/plain": [
              "             userid   productid  rating\n",
              "93   A3BY5KCNQZXV5U  0594451647     5.0\n",
              "117   AT09WGFUM934H  0594481813     3.0\n",
              "176  A32HSNCNPRUMTR  0970407998     1.0\n",
              "177  A17HMM1M7T9PJ1  0970407998     4.0\n",
              "491  A3CLWR1UUZT6TG  0972683275     5.0"
            ]
          },
          "metadata": {
            "tags": []
          },
          "execution_count": 73
        }
      ]
    },
    {
      "cell_type": "code",
      "metadata": {
        "id": "U4GS5j1qE81D",
        "colab_type": "code",
        "colab": {
          "base_uri": "https://localhost:8080/",
          "height": 34
        },
        "outputId": "c6f59e40-b853-4bd4-a501-b037957a1bb4"
      },
      "source": [
        "df2.shape"
      ],
      "execution_count": 75,
      "outputs": [
        {
          "output_type": "execute_result",
          "data": {
            "text/plain": [
              "(125871, 3)"
            ]
          },
          "metadata": {
            "tags": []
          },
          "execution_count": 75
        }
      ]
    },
    {
      "cell_type": "code",
      "metadata": {
        "id": "sXd3vkGCQYdG",
        "colab_type": "code",
        "colab": {}
      },
      "source": [
        "ratings_mean_count = pd.DataFrame(df2.groupby('productid')['rating'].mean()) "
      ],
      "execution_count": 0,
      "outputs": []
    },
    {
      "cell_type": "code",
      "metadata": {
        "id": "iyAeMuh8aYPt",
        "colab_type": "code",
        "colab": {}
      },
      "source": [
        "ratings_mean_count['rating_counts'] =pd.DataFrame(df2.groupby('productid')['rating'].count())"
      ],
      "execution_count": 0,
      "outputs": []
    },
    {
      "cell_type": "code",
      "metadata": {
        "id": "qrIYKlexaqvx",
        "colab_type": "code",
        "colab": {
          "base_uri": "https://localhost:8080/",
          "height": 514
        },
        "outputId": "f4d59e20-ec2c-41a3-9786-f645214285f7"
      },
      "source": [
        "ratings_mean_count= ratings_mean_count.reset_index(drop = False)\n",
        "df_100_product= ratings_mean_count[ratings_mean_count['rating_counts'] >100]\n",
        "df_100_product"
      ],
      "execution_count": 80,
      "outputs": [
        {
          "output_type": "execute_result",
          "data": {
            "text/html": [
              "<div>\n",
              "<style scoped>\n",
              "    .dataframe tbody tr th:only-of-type {\n",
              "        vertical-align: middle;\n",
              "    }\n",
              "\n",
              "    .dataframe tbody tr th {\n",
              "        vertical-align: top;\n",
              "    }\n",
              "\n",
              "    .dataframe thead th {\n",
              "        text-align: right;\n",
              "    }\n",
              "</style>\n",
              "<table border=\"1\" class=\"dataframe\">\n",
              "  <thead>\n",
              "    <tr style=\"text-align: right;\">\n",
              "      <th></th>\n",
              "      <th>productid</th>\n",
              "      <th>rating</th>\n",
              "      <th>rating_counts</th>\n",
              "    </tr>\n",
              "  </thead>\n",
              "  <tbody>\n",
              "    <tr>\n",
              "      <th>11078</th>\n",
              "      <td>B000N99BBC</td>\n",
              "      <td>4.772455</td>\n",
              "      <td>167</td>\n",
              "    </tr>\n",
              "    <tr>\n",
              "      <th>21982</th>\n",
              "      <td>B002R5AM7C</td>\n",
              "      <td>4.125000</td>\n",
              "      <td>128</td>\n",
              "    </tr>\n",
              "    <tr>\n",
              "      <th>22210</th>\n",
              "      <td>B002SZEOLG</td>\n",
              "      <td>4.247788</td>\n",
              "      <td>113</td>\n",
              "    </tr>\n",
              "    <tr>\n",
              "      <th>22460</th>\n",
              "      <td>B002V88HFE</td>\n",
              "      <td>4.698113</td>\n",
              "      <td>106</td>\n",
              "    </tr>\n",
              "    <tr>\n",
              "      <th>23378</th>\n",
              "      <td>B0034CL2ZI</td>\n",
              "      <td>4.632075</td>\n",
              "      <td>106</td>\n",
              "    </tr>\n",
              "    <tr>\n",
              "      <th>24827</th>\n",
              "      <td>B003ES5ZUU</td>\n",
              "      <td>4.864130</td>\n",
              "      <td>184</td>\n",
              "    </tr>\n",
              "    <tr>\n",
              "      <th>28761</th>\n",
              "      <td>B004CLYEDC</td>\n",
              "      <td>4.669492</td>\n",
              "      <td>118</td>\n",
              "    </tr>\n",
              "    <tr>\n",
              "      <th>31001</th>\n",
              "      <td>B004T9RR6I</td>\n",
              "      <td>3.871560</td>\n",
              "      <td>109</td>\n",
              "    </tr>\n",
              "    <tr>\n",
              "      <th>38250</th>\n",
              "      <td>B007WTAJTO</td>\n",
              "      <td>4.701220</td>\n",
              "      <td>164</td>\n",
              "    </tr>\n",
              "    <tr>\n",
              "      <th>38611</th>\n",
              "      <td>B00829THK0</td>\n",
              "      <td>4.416058</td>\n",
              "      <td>137</td>\n",
              "    </tr>\n",
              "    <tr>\n",
              "      <th>38615</th>\n",
              "      <td>B00829TIEK</td>\n",
              "      <td>4.436242</td>\n",
              "      <td>149</td>\n",
              "    </tr>\n",
              "    <tr>\n",
              "      <th>38655</th>\n",
              "      <td>B00834SJNA</td>\n",
              "      <td>4.490909</td>\n",
              "      <td>110</td>\n",
              "    </tr>\n",
              "    <tr>\n",
              "      <th>38656</th>\n",
              "      <td>B00834SJSK</td>\n",
              "      <td>4.643564</td>\n",
              "      <td>101</td>\n",
              "    </tr>\n",
              "    <tr>\n",
              "      <th>39003</th>\n",
              "      <td>B0088CJT4U</td>\n",
              "      <td>4.218447</td>\n",
              "      <td>206</td>\n",
              "    </tr>\n",
              "    <tr>\n",
              "      <th>39338</th>\n",
              "      <td>B008DWCRQW</td>\n",
              "      <td>4.094891</td>\n",
              "      <td>137</td>\n",
              "    </tr>\n",
              "  </tbody>\n",
              "</table>\n",
              "</div>"
            ],
            "text/plain": [
              "        productid    rating  rating_counts\n",
              "11078  B000N99BBC  4.772455            167\n",
              "21982  B002R5AM7C  4.125000            128\n",
              "22210  B002SZEOLG  4.247788            113\n",
              "22460  B002V88HFE  4.698113            106\n",
              "23378  B0034CL2ZI  4.632075            106\n",
              "24827  B003ES5ZUU  4.864130            184\n",
              "28761  B004CLYEDC  4.669492            118\n",
              "31001  B004T9RR6I  3.871560            109\n",
              "38250  B007WTAJTO  4.701220            164\n",
              "38611  B00829THK0  4.416058            137\n",
              "38615  B00829TIEK  4.436242            149\n",
              "38655  B00834SJNA  4.490909            110\n",
              "38656  B00834SJSK  4.643564            101\n",
              "39003  B0088CJT4U  4.218447            206\n",
              "39338  B008DWCRQW  4.094891            137"
            ]
          },
          "metadata": {
            "tags": []
          },
          "execution_count": 80
        }
      ]
    },
    {
      "cell_type": "code",
      "metadata": {
        "id": "bIPvZ8D-avIb",
        "colab_type": "code",
        "colab": {
          "base_uri": "https://localhost:8080/",
          "height": 34
        },
        "outputId": "76d1ef57-4bd5-4d71-977e-fc88ea6592f0"
      },
      "source": [
        "df_100_product.shape"
      ],
      "execution_count": 82,
      "outputs": [
        {
          "output_type": "execute_result",
          "data": {
            "text/plain": [
              "(15, 3)"
            ]
          },
          "metadata": {
            "tags": []
          },
          "execution_count": 82
        }
      ]
    },
    {
      "cell_type": "code",
      "metadata": {
        "id": "381d2mmgbAFJ",
        "colab_type": "code",
        "colab": {}
      },
      "source": [
        "df_100_product_sorted = df_100_product.sort_values('rating',ascending=False)\n",
        "\n"
      ],
      "execution_count": 0,
      "outputs": []
    },
    {
      "cell_type": "code",
      "metadata": {
        "id": "Y1GZDBKAa0Db",
        "colab_type": "code",
        "colab": {
          "base_uri": "https://localhost:8080/",
          "height": 359
        },
        "outputId": "11acfc87-8d98-4580-b92b-e19856ae2774"
      },
      "source": [
        "rec_count = df_100_product_sorted.head(10)\n",
        "rec_count "
      ],
      "execution_count": 85,
      "outputs": [
        {
          "output_type": "execute_result",
          "data": {
            "text/html": [
              "<div>\n",
              "<style scoped>\n",
              "    .dataframe tbody tr th:only-of-type {\n",
              "        vertical-align: middle;\n",
              "    }\n",
              "\n",
              "    .dataframe tbody tr th {\n",
              "        vertical-align: top;\n",
              "    }\n",
              "\n",
              "    .dataframe thead th {\n",
              "        text-align: right;\n",
              "    }\n",
              "</style>\n",
              "<table border=\"1\" class=\"dataframe\">\n",
              "  <thead>\n",
              "    <tr style=\"text-align: right;\">\n",
              "      <th></th>\n",
              "      <th>productid</th>\n",
              "      <th>rating</th>\n",
              "      <th>rating_counts</th>\n",
              "    </tr>\n",
              "  </thead>\n",
              "  <tbody>\n",
              "    <tr>\n",
              "      <th>24827</th>\n",
              "      <td>B003ES5ZUU</td>\n",
              "      <td>4.864130</td>\n",
              "      <td>184</td>\n",
              "    </tr>\n",
              "    <tr>\n",
              "      <th>11078</th>\n",
              "      <td>B000N99BBC</td>\n",
              "      <td>4.772455</td>\n",
              "      <td>167</td>\n",
              "    </tr>\n",
              "    <tr>\n",
              "      <th>38250</th>\n",
              "      <td>B007WTAJTO</td>\n",
              "      <td>4.701220</td>\n",
              "      <td>164</td>\n",
              "    </tr>\n",
              "    <tr>\n",
              "      <th>22460</th>\n",
              "      <td>B002V88HFE</td>\n",
              "      <td>4.698113</td>\n",
              "      <td>106</td>\n",
              "    </tr>\n",
              "    <tr>\n",
              "      <th>28761</th>\n",
              "      <td>B004CLYEDC</td>\n",
              "      <td>4.669492</td>\n",
              "      <td>118</td>\n",
              "    </tr>\n",
              "    <tr>\n",
              "      <th>38656</th>\n",
              "      <td>B00834SJSK</td>\n",
              "      <td>4.643564</td>\n",
              "      <td>101</td>\n",
              "    </tr>\n",
              "    <tr>\n",
              "      <th>23378</th>\n",
              "      <td>B0034CL2ZI</td>\n",
              "      <td>4.632075</td>\n",
              "      <td>106</td>\n",
              "    </tr>\n",
              "    <tr>\n",
              "      <th>38655</th>\n",
              "      <td>B00834SJNA</td>\n",
              "      <td>4.490909</td>\n",
              "      <td>110</td>\n",
              "    </tr>\n",
              "    <tr>\n",
              "      <th>38615</th>\n",
              "      <td>B00829TIEK</td>\n",
              "      <td>4.436242</td>\n",
              "      <td>149</td>\n",
              "    </tr>\n",
              "    <tr>\n",
              "      <th>38611</th>\n",
              "      <td>B00829THK0</td>\n",
              "      <td>4.416058</td>\n",
              "      <td>137</td>\n",
              "    </tr>\n",
              "  </tbody>\n",
              "</table>\n",
              "</div>"
            ],
            "text/plain": [
              "        productid    rating  rating_counts\n",
              "24827  B003ES5ZUU  4.864130            184\n",
              "11078  B000N99BBC  4.772455            167\n",
              "38250  B007WTAJTO  4.701220            164\n",
              "22460  B002V88HFE  4.698113            106\n",
              "28761  B004CLYEDC  4.669492            118\n",
              "38656  B00834SJSK  4.643564            101\n",
              "23378  B0034CL2ZI  4.632075            106\n",
              "38655  B00834SJNA  4.490909            110\n",
              "38615  B00829TIEK  4.436242            149\n",
              "38611  B00829THK0  4.416058            137"
            ]
          },
          "metadata": {
            "tags": []
          },
          "execution_count": 85
        }
      ]
    },
    {
      "cell_type": "code",
      "metadata": {
        "id": "AmgQv-vla7uP",
        "colab_type": "code",
        "colab": {
          "base_uri": "https://localhost:8080/",
          "height": 136
        },
        "outputId": "d0318229-d801-4399-87fe-200b79deb174"
      },
      "source": [
        "ratings_mean_count.groupby('productid')['rating'].mean().sort_values(ascending=False).head()  "
      ],
      "execution_count": 86,
      "outputs": [
        {
          "output_type": "execute_result",
          "data": {
            "text/plain": [
              "productid\n",
              "B00LKG1MC8    5.0\n",
              "B002QUZM3M    5.0\n",
              "B002QWNZHU    5.0\n",
              "B002QXZPFE    5.0\n",
              "B002R0DWNS    5.0\n",
              "Name: rating, dtype: float64"
            ]
          },
          "metadata": {
            "tags": []
          },
          "execution_count": 86
        }
      ]
    },
    {
      "cell_type": "code",
      "metadata": {
        "id": "WJl5lGVNbYmN",
        "colab_type": "code",
        "colab": {}
      },
      "source": [
        "from surprise import KNNWithMeans\n",
        "from surprise import Dataset\n",
        "from surprise import accuracy\n",
        "from surprise import Reader\n",
        "from surprise.model_selection import train_test_split"
      ],
      "execution_count": 0,
      "outputs": []
    },
    {
      "cell_type": "code",
      "metadata": {
        "id": "23AyImNpbt5j",
        "colab_type": "code",
        "colab": {}
      },
      "source": [
        "reader = Reader(line_format='user item rating ', sep=',',rating_scale=(1, 5))"
      ],
      "execution_count": 0,
      "outputs": []
    },
    {
      "cell_type": "code",
      "metadata": {
        "id": "oSpkFrCzcCvI",
        "colab_type": "code",
        "colab": {}
      },
      "source": [
        "data = Dataset.load_from_df(df2[['userid', 'productid', 'rating']], reader)"
      ],
      "execution_count": 0,
      "outputs": []
    },
    {
      "cell_type": "code",
      "metadata": {
        "id": "EGc3WnuNcHIG",
        "colab_type": "code",
        "colab": {
          "base_uri": "https://localhost:8080/",
          "height": 34
        },
        "outputId": "5a34b54c-6d59-439c-8ddc-0f7050c1ce3f"
      },
      "source": [
        "data"
      ],
      "execution_count": 92,
      "outputs": [
        {
          "output_type": "execute_result",
          "data": {
            "text/plain": [
              "<surprise.dataset.DatasetAutoFolds at 0x7f9b03579cf8>"
            ]
          },
          "metadata": {
            "tags": []
          },
          "execution_count": 92
        }
      ]
    },
    {
      "cell_type": "code",
      "metadata": {
        "id": "WbHbGYn-cIu5",
        "colab_type": "code",
        "colab": {}
      },
      "source": [
        "trainset, testset = train_test_split(data, test_size=.3)"
      ],
      "execution_count": 0,
      "outputs": []
    },
    {
      "cell_type": "code",
      "metadata": {
        "id": "CKbGcJSRcLdX",
        "colab_type": "code",
        "colab": {}
      },
      "source": [
        "#Importing SVD from Surprise\n",
        "from surprise import SVD\n",
        "#importing gridsearchcv fro parameter tunning \n",
        "from surprise.model_selection import GridSearchCV"
      ],
      "execution_count": 0,
      "outputs": []
    },
    {
      "cell_type": "code",
      "metadata": {
        "id": "oDrjAyhNcNtg",
        "colab_type": "code",
        "colab": {}
      },
      "source": [
        "# defining Parameter Grid \n",
        "param_grid = {'n_epochs': [5, 10], 'lr_all': [0.002, 0.005],\n",
        "              'reg_all': [0.4, 0.6]}\n",
        "\n",
        "#Instantiating gridsearchcv object\n",
        "gs = GridSearchCV(SVD, param_grid, measures=['rmse', 'mae'], cv=3)\n",
        "# fitting data into the object  \n",
        "gs.fit(data)"
      ],
      "execution_count": 0,
      "outputs": []
    },
    {
      "cell_type": "code",
      "metadata": {
        "id": "unY56O7ScQ4T",
        "colab_type": "code",
        "colab": {
          "base_uri": "https://localhost:8080/",
          "height": 51
        },
        "outputId": "aa03ee15-ca79-446a-9a69-c34c0cc9139c"
      },
      "source": [
        "# best RMSE score\n",
        "print(gs.best_score['rmse'])\n",
        "\n",
        "# combination of parameters that gave the best RMSE score\n",
        "print(gs.best_params['rmse'])"
      ],
      "execution_count": 96,
      "outputs": [
        {
          "output_type": "stream",
          "text": [
            "0.9891750214241318\n",
            "{'n_epochs': 10, 'lr_all': 0.005, 'reg_all': 0.4}\n"
          ],
          "name": "stdout"
        }
      ]
    },
    {
      "cell_type": "code",
      "metadata": {
        "id": "pNlfpuNtckAv",
        "colab_type": "code",
        "colab": {}
      },
      "source": [
        "algo = gs.best_estimator['rmse']\n",
        "trainingSet = data.build_full_trainset()\n",
        "trainingSet = algo.fit(trainingSet)"
      ],
      "execution_count": 0,
      "outputs": []
    },
    {
      "cell_type": "code",
      "metadata": {
        "id": "pR_m0WE3cmlu",
        "colab_type": "code",
        "colab": {}
      },
      "source": [
        "results_df = pd.DataFrame.from_dict(gs.cv_results)"
      ],
      "execution_count": 0,
      "outputs": []
    },
    {
      "cell_type": "code",
      "metadata": {
        "id": "EtZB2iq_cqKt",
        "colab_type": "code",
        "colab": {
          "base_uri": "https://localhost:8080/",
          "height": 564
        },
        "outputId": "bd219bcf-fded-4c03-d52c-fc91aa9865d9"
      },
      "source": [
        "results_df.head()"
      ],
      "execution_count": 99,
      "outputs": [
        {
          "output_type": "execute_result",
          "data": {
            "text/html": [
              "<div>\n",
              "<style scoped>\n",
              "    .dataframe tbody tr th:only-of-type {\n",
              "        vertical-align: middle;\n",
              "    }\n",
              "\n",
              "    .dataframe tbody tr th {\n",
              "        vertical-align: top;\n",
              "    }\n",
              "\n",
              "    .dataframe thead th {\n",
              "        text-align: right;\n",
              "    }\n",
              "</style>\n",
              "<table border=\"1\" class=\"dataframe\">\n",
              "  <thead>\n",
              "    <tr style=\"text-align: right;\">\n",
              "      <th></th>\n",
              "      <th>split0_test_rmse</th>\n",
              "      <th>split1_test_rmse</th>\n",
              "      <th>split2_test_rmse</th>\n",
              "      <th>mean_test_rmse</th>\n",
              "      <th>std_test_rmse</th>\n",
              "      <th>rank_test_rmse</th>\n",
              "      <th>split0_test_mae</th>\n",
              "      <th>split1_test_mae</th>\n",
              "      <th>split2_test_mae</th>\n",
              "      <th>mean_test_mae</th>\n",
              "      <th>std_test_mae</th>\n",
              "      <th>rank_test_mae</th>\n",
              "      <th>mean_fit_time</th>\n",
              "      <th>std_fit_time</th>\n",
              "      <th>mean_test_time</th>\n",
              "      <th>std_test_time</th>\n",
              "      <th>params</th>\n",
              "      <th>param_n_epochs</th>\n",
              "      <th>param_lr_all</th>\n",
              "      <th>param_reg_all</th>\n",
              "    </tr>\n",
              "  </thead>\n",
              "  <tbody>\n",
              "    <tr>\n",
              "      <th>0</th>\n",
              "      <td>1.015239</td>\n",
              "      <td>1.019292</td>\n",
              "      <td>1.017668</td>\n",
              "      <td>1.017400</td>\n",
              "      <td>0.001666</td>\n",
              "      <td>7</td>\n",
              "      <td>0.780957</td>\n",
              "      <td>0.781483</td>\n",
              "      <td>0.782686</td>\n",
              "      <td>0.781709</td>\n",
              "      <td>0.000724</td>\n",
              "      <td>7</td>\n",
              "      <td>1.713564</td>\n",
              "      <td>0.017191</td>\n",
              "      <td>0.381707</td>\n",
              "      <td>0.085026</td>\n",
              "      <td>{'n_epochs': 5, 'lr_all': 0.002, 'reg_all': 0.4}</td>\n",
              "      <td>5</td>\n",
              "      <td>0.002</td>\n",
              "      <td>0.4</td>\n",
              "    </tr>\n",
              "    <tr>\n",
              "      <th>1</th>\n",
              "      <td>1.016642</td>\n",
              "      <td>1.021038</td>\n",
              "      <td>1.018607</td>\n",
              "      <td>1.018762</td>\n",
              "      <td>0.001798</td>\n",
              "      <td>8</td>\n",
              "      <td>0.783242</td>\n",
              "      <td>0.783854</td>\n",
              "      <td>0.784197</td>\n",
              "      <td>0.783764</td>\n",
              "      <td>0.000395</td>\n",
              "      <td>8</td>\n",
              "      <td>1.679082</td>\n",
              "      <td>0.002806</td>\n",
              "      <td>0.450767</td>\n",
              "      <td>0.089332</td>\n",
              "      <td>{'n_epochs': 5, 'lr_all': 0.002, 'reg_all': 0.6}</td>\n",
              "      <td>5</td>\n",
              "      <td>0.002</td>\n",
              "      <td>0.6</td>\n",
              "    </tr>\n",
              "    <tr>\n",
              "      <th>2</th>\n",
              "      <td>0.995712</td>\n",
              "      <td>1.000570</td>\n",
              "      <td>0.998830</td>\n",
              "      <td>0.998371</td>\n",
              "      <td>0.002010</td>\n",
              "      <td>3</td>\n",
              "      <td>0.757703</td>\n",
              "      <td>0.758314</td>\n",
              "      <td>0.760416</td>\n",
              "      <td>0.758811</td>\n",
              "      <td>0.001162</td>\n",
              "      <td>3</td>\n",
              "      <td>1.682524</td>\n",
              "      <td>0.012684</td>\n",
              "      <td>0.384754</td>\n",
              "      <td>0.078266</td>\n",
              "      <td>{'n_epochs': 5, 'lr_all': 0.005, 'reg_all': 0.4}</td>\n",
              "      <td>5</td>\n",
              "      <td>0.005</td>\n",
              "      <td>0.4</td>\n",
              "    </tr>\n",
              "    <tr>\n",
              "      <th>3</th>\n",
              "      <td>0.998490</td>\n",
              "      <td>1.002727</td>\n",
              "      <td>1.000965</td>\n",
              "      <td>1.000727</td>\n",
              "      <td>0.001738</td>\n",
              "      <td>4</td>\n",
              "      <td>0.761855</td>\n",
              "      <td>0.762149</td>\n",
              "      <td>0.763895</td>\n",
              "      <td>0.762633</td>\n",
              "      <td>0.000900</td>\n",
              "      <td>4</td>\n",
              "      <td>2.034187</td>\n",
              "      <td>0.495686</td>\n",
              "      <td>0.448509</td>\n",
              "      <td>0.080923</td>\n",
              "      <td>{'n_epochs': 5, 'lr_all': 0.005, 'reg_all': 0.6}</td>\n",
              "      <td>5</td>\n",
              "      <td>0.005</td>\n",
              "      <td>0.6</td>\n",
              "    </tr>\n",
              "    <tr>\n",
              "      <th>4</th>\n",
              "      <td>0.999500</td>\n",
              "      <td>1.004402</td>\n",
              "      <td>1.002808</td>\n",
              "      <td>1.002237</td>\n",
              "      <td>0.002042</td>\n",
              "      <td>5</td>\n",
              "      <td>0.762315</td>\n",
              "      <td>0.763476</td>\n",
              "      <td>0.764691</td>\n",
              "      <td>0.763494</td>\n",
              "      <td>0.000970</td>\n",
              "      <td>5</td>\n",
              "      <td>3.179555</td>\n",
              "      <td>0.008075</td>\n",
              "      <td>0.381362</td>\n",
              "      <td>0.077787</td>\n",
              "      <td>{'n_epochs': 10, 'lr_all': 0.002, 'reg_all': 0.4}</td>\n",
              "      <td>10</td>\n",
              "      <td>0.002</td>\n",
              "      <td>0.4</td>\n",
              "    </tr>\n",
              "  </tbody>\n",
              "</table>\n",
              "</div>"
            ],
            "text/plain": [
              "   split0_test_rmse  split1_test_rmse  ...  param_lr_all  param_reg_all\n",
              "0          1.015239          1.019292  ...         0.002            0.4\n",
              "1          1.016642          1.021038  ...         0.002            0.6\n",
              "2          0.995712          1.000570  ...         0.005            0.4\n",
              "3          0.998490          1.002727  ...         0.005            0.6\n",
              "4          0.999500          1.004402  ...         0.002            0.4\n",
              "\n",
              "[5 rows x 20 columns]"
            ]
          },
          "metadata": {
            "tags": []
          },
          "execution_count": 99
        }
      ]
    },
    {
      "cell_type": "code",
      "metadata": {
        "id": "z0nWKF5Hcsd0",
        "colab_type": "code",
        "colab": {}
      },
      "source": [
        "predictions = algo.test(testset)"
      ],
      "execution_count": 0,
      "outputs": []
    },
    {
      "cell_type": "code",
      "metadata": {
        "id": "Y0q0rrOXcw-2",
        "colab_type": "code",
        "colab": {
          "base_uri": "https://localhost:8080/",
          "height": 51
        },
        "outputId": "686dcd42-7a36-4bf3-b518-c27c8be3aab2"
      },
      "source": [
        "accuracy.rmse(predictions, verbose=True)"
      ],
      "execution_count": 101,
      "outputs": [
        {
          "output_type": "stream",
          "text": [
            "RMSE: 0.9151\n"
          ],
          "name": "stdout"
        },
        {
          "output_type": "execute_result",
          "data": {
            "text/plain": [
              "0.9150590911017312"
            ]
          },
          "metadata": {
            "tags": []
          },
          "execution_count": 101
        }
      ]
    },
    {
      "cell_type": "code",
      "metadata": {
        "id": "JdBrJBikczD-",
        "colab_type": "code",
        "colab": {
          "base_uri": "https://localhost:8080/",
          "height": 1000
        },
        "outputId": "edee42ff-5cb6-459c-d539-838b4ecbe61c"
      },
      "source": [
        "predictions"
      ],
      "execution_count": 102,
      "outputs": [
        {
          "output_type": "execute_result",
          "data": {
            "text/plain": [
              "[Prediction(uid='A2L0F2T1DLTNT8', iid='B002TLTE6O', r_ui=5.0, est=4.6829942754728835, details={'was_impossible': False}),\n",
              " Prediction(uid='A6FIAB28IS79', iid='B000NDO744', r_ui=3.0, est=4.177295357436568, details={'was_impossible': False}),\n",
              " Prediction(uid='A1F1A0QQP2XVH5', iid='B006TF37H8', r_ui=5.0, est=4.291794380736576, details={'was_impossible': False}),\n",
              " Prediction(uid='A20OBCQWBKCGZT', iid='B00ATZ9I9U', r_ui=4.0, est=4.279019577236032, details={'was_impossible': False}),\n",
              " Prediction(uid='A3HSDV9Y0TV5Z2', iid='B0011U65F2', r_ui=5.0, est=4.67728971751435, details={'was_impossible': False}),\n",
              " Prediction(uid='A38RMU1Y5TDP9', iid='B0031W091E', r_ui=1.0, est=4.206533764092824, details={'was_impossible': False}),\n",
              " Prediction(uid='AGHZXQL9F94T9', iid='B0002ZAIMI', r_ui=5.0, est=3.8448156451433664, details={'was_impossible': False}),\n",
              " Prediction(uid='AYB4ELCS5AM8P', iid='B00FDK99QS', r_ui=5.0, est=4.742580998814836, details={'was_impossible': False}),\n",
              " Prediction(uid='A15CL28ALB7MTZ', iid='B00007EDZG', r_ui=5.0, est=4.471572519303308, details={'was_impossible': False}),\n",
              " Prediction(uid='A2SKEQT0WTB954', iid='B003U7URH6', r_ui=5.0, est=4.481910961546849, details={'was_impossible': False}),\n",
              " Prediction(uid='A3S5EXYZDEBF3K', iid='B00CL8F98W', r_ui=4.0, est=3.5037223592216673, details={'was_impossible': False}),\n",
              " Prediction(uid='A2UOHALGF2X77Q', iid='B000F7QRTG', r_ui=5.0, est=4.627957002762221, details={'was_impossible': False}),\n",
              " Prediction(uid='A38Z6QG6988WS7', iid='B009EA7XKC', r_ui=5.0, est=4.699000479879002, details={'was_impossible': False}),\n",
              " Prediction(uid='A1U5NWJOYH2QQH', iid='B00006IAAN', r_ui=5.0, est=3.9938269892153424, details={'was_impossible': False}),\n",
              " Prediction(uid='A3EK2KTYHJCPB9', iid='B005KFONIU', r_ui=5.0, est=4.501729472438253, details={'was_impossible': False}),\n",
              " Prediction(uid='A2NOIWPJDD7WIQ', iid='B0000AI1JU', r_ui=5.0, est=3.828196966794167, details={'was_impossible': False}),\n",
              " Prediction(uid='AQNSQW4495SG0', iid='B000NP3DJW', r_ui=5.0, est=4.507159947856075, details={'was_impossible': False}),\n",
              " Prediction(uid='AQ3IN3MRXQ5KH', iid='B001FA1O18', r_ui=5.0, est=4.290734377803064, details={'was_impossible': False}),\n",
              " Prediction(uid='A26CPEEWB2WKRE', iid='B00ENY08VU', r_ui=5.0, est=4.141934707977281, details={'was_impossible': False}),\n",
              " Prediction(uid='A2O6HZ2B9YSRXR', iid='B001TH7GUK', r_ui=5.0, est=4.702346178356998, details={'was_impossible': False}),\n",
              " Prediction(uid='A368IPE6EW0GZL', iid='B0016D1I0G', r_ui=5.0, est=4.5687709749505085, details={'was_impossible': False}),\n",
              " Prediction(uid='A1Z3598J0371ND', iid='B00CU9GKTO', r_ui=5.0, est=4.626865866977496, details={'was_impossible': False}),\n",
              " Prediction(uid='A2KOV8XWZOZ0FQ', iid='B003VAHYTG', r_ui=4.0, est=4.19819875419973, details={'was_impossible': False}),\n",
              " Prediction(uid='A257X1MQJO82P2', iid='B0000U1N38', r_ui=5.0, est=4.689478216140948, details={'was_impossible': False}),\n",
              " Prediction(uid='AUCISQA1YXX86', iid='B009D1UWUA', r_ui=4.0, est=3.21104174788885, details={'was_impossible': False}),\n",
              " Prediction(uid='A3N0P5AAMP6XD2', iid='B00849BPFI', r_ui=5.0, est=3.9248561151814862, details={'was_impossible': False}),\n",
              " Prediction(uid='A3OIMUR42XIOFQ', iid='B003Y6UNI6', r_ui=5.0, est=4.51157837047905, details={'was_impossible': False}),\n",
              " Prediction(uid='A1J75JJ0Q2OEJN', iid='B00BLGUKEI', r_ui=5.0, est=4.234431462616053, details={'was_impossible': False}),\n",
              " Prediction(uid='A30R8VFR16RE32', iid='B006ZH0KJS', r_ui=4.0, est=4.130941383971266, details={'was_impossible': False}),\n",
              " Prediction(uid='A3HRDRQ5VAFPQS', iid='B0001656FW', r_ui=5.0, est=4.014368342539498, details={'was_impossible': False}),\n",
              " Prediction(uid='AYP0YPLSP9ISM', iid='B005JXAEGS', r_ui=1.0, est=3.6009888531118395, details={'was_impossible': False}),\n",
              " Prediction(uid='A6VPK7X53QNAQ', iid='B002HWRJY4', r_ui=4.0, est=4.167696646856288, details={'was_impossible': False}),\n",
              " Prediction(uid='A3VI2VETB90ZG5', iid='B009M3UT16', r_ui=4.0, est=4.396167897377937, details={'was_impossible': False}),\n",
              " Prediction(uid='A2PZXXPGLXXKZU', iid='B005D6P0YM', r_ui=5.0, est=3.978146084523008, details={'was_impossible': False}),\n",
              " Prediction(uid='A2I18AO597DSDI', iid='B001O94GNS', r_ui=4.0, est=3.948205536105148, details={'was_impossible': False}),\n",
              " Prediction(uid='A2BLFCOPSMBOZ9', iid='B00CMNZH1A', r_ui=4.0, est=4.165506206803398, details={'was_impossible': False}),\n",
              " Prediction(uid='A3V8P0O224OBDB', iid='B004KKXLLG', r_ui=5.0, est=4.543185643708829, details={'was_impossible': False}),\n",
              " Prediction(uid='A1J87SYB3JPQWH', iid='B002Y6AEUO', r_ui=4.0, est=4.570955453063151, details={'was_impossible': False}),\n",
              " Prediction(uid='AENULRBQ2IE5I', iid='B000FVDD30', r_ui=5.0, est=4.502448304007768, details={'was_impossible': False}),\n",
              " Prediction(uid='A23R3EOZ837242', iid='B0049SCB2Y', r_ui=4.0, est=4.285547997251861, details={'was_impossible': False}),\n",
              " Prediction(uid='A1HYH206E18XVC', iid='B002V8C3W2', r_ui=5.0, est=4.496057039086663, details={'was_impossible': False}),\n",
              " Prediction(uid='ACJT8MUC0LRF0', iid='B00CM0XHNS', r_ui=5.0, est=4.7647696549583465, details={'was_impossible': False}),\n",
              " Prediction(uid='A1GBU479WXR7UG', iid='B004CCS266', r_ui=5.0, est=4.160474652699071, details={'was_impossible': False}),\n",
              " Prediction(uid='AT28RL25Q2OLK', iid='B004FLHPOO', r_ui=4.0, est=4.236641307736504, details={'was_impossible': False}),\n",
              " Prediction(uid='AOEAD7DPLZE53', iid='B00008O393', r_ui=2.0, est=3.773859694648678, details={'was_impossible': False}),\n",
              " Prediction(uid='AROQO2VDODT7', iid='B001F8SCRE', r_ui=5.0, est=4.3192028497857455, details={'was_impossible': False}),\n",
              " Prediction(uid='A2N75ADJSRW0AH', iid='B001RB24PK', r_ui=5.0, est=4.335557049350753, details={'was_impossible': False}),\n",
              " Prediction(uid='A2OOLI2WFY4L2', iid='B0044EOQO4', r_ui=4.0, est=3.8207694765457036, details={'was_impossible': False}),\n",
              " Prediction(uid='A1EOTB1WHLSW6G', iid='B00012FVYW', r_ui=5.0, est=4.402701733503729, details={'was_impossible': False}),\n",
              " Prediction(uid='A2SR7S6ZJJDGNB', iid='B006DAD8NW', r_ui=5.0, est=4.463198008610817, details={'was_impossible': False}),\n",
              " Prediction(uid='A1D9V11QUHXENQ', iid='B000EOMXM0', r_ui=4.0, est=4.415597688003195, details={'was_impossible': False}),\n",
              " Prediction(uid='A5QDZEOIMQ4LW', iid='B007SNLC90', r_ui=5.0, est=4.571862695370551, details={'was_impossible': False}),\n",
              " Prediction(uid='A34LQ791ACZ0JC', iid='B003E4769C', r_ui=5.0, est=4.615839748508815, details={'was_impossible': False}),\n",
              " Prediction(uid='A28BX3MM90A6FI', iid='B0041MY32Y', r_ui=5.0, est=4.563144323360148, details={'was_impossible': False}),\n",
              " Prediction(uid='A1VFX417XDNWIU', iid='B005FO3EN6', r_ui=5.0, est=4.219877767955567, details={'was_impossible': False}),\n",
              " Prediction(uid='A3Q4TYJVAM4IRM', iid='B00JXVPHC8', r_ui=5.0, est=4.488322558365787, details={'was_impossible': False}),\n",
              " Prediction(uid='AN81JUYW2SL24', iid='B001NTFATI', r_ui=5.0, est=4.408455070303527, details={'was_impossible': False}),\n",
              " Prediction(uid='AXYM52DNK6NDF', iid='B0028AD0ZC', r_ui=3.0, est=4.147874087858048, details={'was_impossible': False}),\n",
              " Prediction(uid='A1AWL9JASMG904', iid='B00825BZUY', r_ui=4.0, est=3.7934338222108583, details={'was_impossible': False}),\n",
              " Prediction(uid='AOQLV2LSI9B2W', iid='B0009CDYF2', r_ui=5.0, est=4.392735271331669, details={'was_impossible': False}),\n",
              " Prediction(uid='A26SO3TOT2TLJE', iid='B004DVEW8I', r_ui=5.0, est=4.444538892670958, details={'was_impossible': False}),\n",
              " Prediction(uid='ALHC64J88LVWO', iid='B001RNNX8U', r_ui=5.0, est=3.85023281041769, details={'was_impossible': False}),\n",
              " Prediction(uid='A1EVV74UQYVKRY', iid='B0084Y47SK', r_ui=5.0, est=4.474771229218558, details={'was_impossible': False}),\n",
              " Prediction(uid='ACHTDPEQYSEQL', iid='B004CLYEDC', r_ui=5.0, est=4.310015189402534, details={'was_impossible': False}),\n",
              " Prediction(uid='A2F92M62KN324B', iid='B005DSPLCQ', r_ui=4.0, est=4.335232008830453, details={'was_impossible': False}),\n",
              " Prediction(uid='A1RCGK44YXNBBB', iid='B000E8OVMQ', r_ui=5.0, est=4.7482605600967664, details={'was_impossible': False}),\n",
              " Prediction(uid='A3R1WFO4KIUQXZ', iid='B0060B7NCG', r_ui=5.0, est=4.38245155245082, details={'was_impossible': False}),\n",
              " Prediction(uid='A1522TN5FVJL0Y', iid='B00005ML8Q', r_ui=5.0, est=4.473010388537085, details={'was_impossible': False}),\n",
              " Prediction(uid='A3QAO3QBCQF89T', iid='B0018SMVCS', r_ui=5.0, est=4.250446038959422, details={'was_impossible': False}),\n",
              " Prediction(uid='A3OA4DV4L81N1D', iid='B002IKLJV4', r_ui=4.0, est=4.498548684028228, details={'was_impossible': False}),\n",
              " Prediction(uid='A26EQ8U96JA92T', iid='B00452V1UM', r_ui=4.0, est=4.485033056544264, details={'was_impossible': False}),\n",
              " Prediction(uid='A2UEB48LAWFUCW', iid='B00BWL33H8', r_ui=5.0, est=4.085672277439443, details={'was_impossible': False}),\n",
              " Prediction(uid='A3CW0ZLUO5X2B1', iid='B00008WFVL', r_ui=4.0, est=4.044437397159753, details={'was_impossible': False}),\n",
              " Prediction(uid='A3U5HKDHPYBAK3', iid='B002HZW7CK', r_ui=1.0, est=4.105575372441154, details={'was_impossible': False}),\n",
              " Prediction(uid='A3QMJMTLJC34QC', iid='B000IZDN60', r_ui=5.0, est=4.2623622981563445, details={'was_impossible': False}),\n",
              " Prediction(uid='A2NN1KIYEM2SKS', iid='B007PJ4P4G', r_ui=5.0, est=4.481976779271302, details={'was_impossible': False}),\n",
              " Prediction(uid='A3N0P5AAMP6XD2', iid='B0021AFWL4', r_ui=2.0, est=3.7682583411089974, details={'was_impossible': False}),\n",
              " Prediction(uid='A24QFMD1RXLJMB', iid='B005LW9N3M', r_ui=3.0, est=4.099310888759396, details={'was_impossible': False}),\n",
              " Prediction(uid='A1TFDMY4YNTV97', iid='B000YKXO7C', r_ui=5.0, est=3.874850022546348, details={'was_impossible': False}),\n",
              " Prediction(uid='AG5WSXI52FPKH', iid='B0028ACYMC', r_ui=5.0, est=4.272237271828201, details={'was_impossible': False}),\n",
              " Prediction(uid='A2NT3W1F1XYBFZ', iid='B0049ZDBLM', r_ui=2.0, est=4.279475796224312, details={'was_impossible': False}),\n",
              " Prediction(uid='A33ZYFE8XMKKR1', iid='B00005B9AU', r_ui=4.0, est=3.812250581155021, details={'was_impossible': False}),\n",
              " Prediction(uid='A3EZFFPVS34AMO', iid='B002A6G3V2', r_ui=5.0, est=4.6048511973979185, details={'was_impossible': False}),\n",
              " Prediction(uid='A3VBZDYGHF4NK8', iid='B003FSTAFK', r_ui=5.0, est=4.42120431641837, details={'was_impossible': False}),\n",
              " Prediction(uid='A20L63B48RPSOH', iid='B008D97LNE', r_ui=4.0, est=4.021735389191451, details={'was_impossible': False}),\n",
              " Prediction(uid='A5KMMY627T3W', iid='B003FW0LR2', r_ui=1.0, est=4.282460686305817, details={'was_impossible': False}),\n",
              " Prediction(uid='A2X695AM08AIN1', iid='B009SYZ8OC', r_ui=5.0, est=4.338490158928223, details={'was_impossible': False}),\n",
              " Prediction(uid='A3MQAQT8C6D1I7', iid='B00115BBW4', r_ui=5.0, est=4.703920865991079, details={'was_impossible': False}),\n",
              " Prediction(uid='A1EXGL6L0QQ0M5', iid='B00BKXCKPY', r_ui=4.0, est=4.173335150406629, details={'was_impossible': False}),\n",
              " Prediction(uid='A3EPJSPH03AS29', iid='B000067SGI', r_ui=5.0, est=4.691425810601316, details={'was_impossible': False}),\n",
              " Prediction(uid='A3CEUT263RNUDO', iid='B000N99BBC', r_ui=4.0, est=4.607788676194526, details={'was_impossible': False}),\n",
              " Prediction(uid='ALUNVOQRXOZIA', iid='B000G810Q4', r_ui=1.0, est=3.5046273818018103, details={'was_impossible': False}),\n",
              " Prediction(uid='AR74YY08IP2WE', iid='B0093H4WT6', r_ui=4.0, est=3.985922586516144, details={'was_impossible': False}),\n",
              " Prediction(uid='A3U41ZL33SS92P', iid='B004HJJMLS', r_ui=4.0, est=3.776729335408544, details={'was_impossible': False}),\n",
              " Prediction(uid='A376OJHLE6SU9Q', iid='B003FW0LR2', r_ui=5.0, est=4.224683330861247, details={'was_impossible': False}),\n",
              " Prediction(uid='A145B8OHVNNFAJ', iid='B0082E9K7U', r_ui=4.0, est=4.496762390224535, details={'was_impossible': False}),\n",
              " Prediction(uid='A1M7HP5CHDXXOU', iid='B004N6ZC8W', r_ui=5.0, est=4.4163173244878475, details={'was_impossible': False}),\n",
              " Prediction(uid='A3SDJ70H00OQCJ', iid='B005CLPP84', r_ui=3.0, est=4.085924234211885, details={'was_impossible': False}),\n",
              " Prediction(uid='A1XB7JGJ459ERP', iid='B006VCP72W', r_ui=5.0, est=4.498870924806218, details={'was_impossible': False}),\n",
              " Prediction(uid='A3OIMUR42XIOFQ', iid='B009X01C64', r_ui=4.0, est=4.631372923519472, details={'was_impossible': False}),\n",
              " Prediction(uid='A1PS4OYWUB0VX', iid='B00EKQN2KK', r_ui=5.0, est=4.361766217986593, details={'was_impossible': False}),\n",
              " Prediction(uid='A1ASWDAEDTTY5I', iid='B00332X1M6', r_ui=5.0, est=4.23980321457903, details={'was_impossible': False}),\n",
              " Prediction(uid='A6VPK7X53QNAQ', iid='B0019M6GOW', r_ui=5.0, est=4.045223329600541, details={'was_impossible': False}),\n",
              " Prediction(uid='A35X2JJI49OBZP', iid='B0017JY5FE', r_ui=5.0, est=4.554948986667961, details={'was_impossible': False}),\n",
              " Prediction(uid='AUUV3XDYB16X5', iid='B004MM3EA0', r_ui=5.0, est=4.544002307175123, details={'was_impossible': False}),\n",
              " Prediction(uid='ATS2855497V0I', iid='B00005U5RT', r_ui=5.0, est=4.015844915417811, details={'was_impossible': False}),\n",
              " Prediction(uid='A2LCE1D0TW2XY0', iid='B000A0UHXU', r_ui=3.0, est=4.012886718934948, details={'was_impossible': False}),\n",
              " Prediction(uid='A6FIAB28IS79', iid='B001U612R8', r_ui=5.0, est=4.098917964436412, details={'was_impossible': False}),\n",
              " Prediction(uid='ABXANRX4GPYRZ', iid='B004X9OK28', r_ui=5.0, est=4.324011949163784, details={'was_impossible': False}),\n",
              " Prediction(uid='A28CCQNXWV6WA2', iid='B0011N180Q', r_ui=3.0, est=3.5374748182029587, details={'was_impossible': False}),\n",
              " Prediction(uid='A3DWO5RJDA430F', iid='B0038M3YM8', r_ui=5.0, est=4.147274058870738, details={'was_impossible': False}),\n",
              " Prediction(uid='A1QRST0A3IQIEF', iid='B004G8QO5M', r_ui=5.0, est=4.705978247013768, details={'was_impossible': False}),\n",
              " Prediction(uid='A1SHHQSPOWR00F', iid='B001UI2FPE', r_ui=5.0, est=3.982708318913814, details={'was_impossible': False}),\n",
              " Prediction(uid='A2DIQTZPF26T1L', iid='B00HN2Y2MA', r_ui=5.0, est=4.384793426082391, details={'was_impossible': False}),\n",
              " Prediction(uid='A2JAEZ0FMAMJVW', iid='B00EOI2TD0', r_ui=4.0, est=4.263939662854298, details={'was_impossible': False}),\n",
              " Prediction(uid='A2HMF8ZR67BNZS', iid='B00006JPES', r_ui=5.0, est=4.5278365356533525, details={'was_impossible': False}),\n",
              " Prediction(uid='A1VRANSQ0WF1YS', iid='B002YK1FFI', r_ui=4.0, est=4.211352573465379, details={'was_impossible': False}),\n",
              " Prediction(uid='A1VTCSCH8FFC76', iid='B001P1B7B4', r_ui=5.0, est=4.310160605047667, details={'was_impossible': False}),\n",
              " Prediction(uid='A11YOTONCPRQ9S', iid='B000233WJ6', r_ui=3.0, est=3.7827240440623773, details={'was_impossible': False}),\n",
              " Prediction(uid='A2OWR5G2OAQF7C', iid='B003809LBS', r_ui=5.0, est=4.431637471228357, details={'was_impossible': False}),\n",
              " Prediction(uid='A2CWIYIETNBAK3', iid='B00834SJSK', r_ui=5.0, est=4.730222083338177, details={'was_impossible': False}),\n",
              " Prediction(uid='AFXTKAO0CB354', iid='B000V1PB48', r_ui=5.0, est=4.5840631832719625, details={'was_impossible': False}),\n",
              " Prediction(uid='A3094EPI56GKZ6', iid='B00G53GJ88', r_ui=5.0, est=4.647049043604705, details={'was_impossible': False}),\n",
              " Prediction(uid='A15TABNGK6L4N3', iid='B002SZEOLG', r_ui=3.0, est=4.658306123325458, details={'was_impossible': False}),\n",
              " Prediction(uid='A111WCUF5KA2I6', iid='B000VRIK54', r_ui=5.0, est=4.6469717937041235, details={'was_impossible': False}),\n",
              " Prediction(uid='A2B7BUH8834Y6M', iid='B000EOF9P8', r_ui=4.0, est=4.4010998883713075, details={'was_impossible': False}),\n",
              " Prediction(uid='A1PN2U0AWXGVML', iid='B00FEE7B1I', r_ui=5.0, est=4.44074956029447, details={'was_impossible': False}),\n",
              " Prediction(uid='A32NEDX6UVV8DE', iid='B0069OAHUO', r_ui=5.0, est=4.40291772000168, details={'was_impossible': False}),\n",
              " Prediction(uid='A3TCMJ6GKZJFBQ', iid='B0017HF3XO', r_ui=4.0, est=4.062878403318729, details={'was_impossible': False}),\n",
              " Prediction(uid='A2OTQMC69J8MUI', iid='B0044BD98Q', r_ui=4.0, est=4.0426848311689545, details={'was_impossible': False}),\n",
              " Prediction(uid='A2BIJMB2BITQUM', iid='B00829TIA4', r_ui=3.0, est=4.489560117335075, details={'was_impossible': False}),\n",
              " Prediction(uid='A1C47ROOK7BSVL', iid='B00EP5ECEG', r_ui=1.0, est=3.0864720365383036, details={'was_impossible': False}),\n",
              " Prediction(uid='A34UVV757IKPVB', iid='B004QR56R0', r_ui=4.0, est=3.8768657872742383, details={'was_impossible': False}),\n",
              " Prediction(uid='A9DYWY9VOSP1P', iid='B007HYJTTK', r_ui=5.0, est=4.233444130444129, details={'was_impossible': False}),\n",
              " Prediction(uid='A3LGT6UZL99IW1', iid='B0046A8MQO', r_ui=4.0, est=4.2540106625184695, details={'was_impossible': False}),\n",
              " Prediction(uid='A24RCBRDXRXR0Y', iid='B004FLL5AE', r_ui=3.0, est=3.927257027708386, details={'was_impossible': False}),\n",
              " Prediction(uid='A2HXEJXEQQTM1D', iid='B006EDQVQ4', r_ui=5.0, est=4.4414181853120756, details={'was_impossible': False}),\n",
              " Prediction(uid='AG7EF0SVBQOUX', iid='B001J6NMT0', r_ui=4.0, est=4.462893468900781, details={'was_impossible': False}),\n",
              " Prediction(uid='ADOR3TR7GDF68', iid='B0013HOE6K', r_ui=5.0, est=4.169686375490936, details={'was_impossible': False}),\n",
              " Prediction(uid='ATS2855497V0I', iid='B009AR2MQO', r_ui=4.0, est=3.6234268758219783, details={'was_impossible': False}),\n",
              " Prediction(uid='A3N4VTNFPMTHEF', iid='B000B9RI14', r_ui=5.0, est=4.420276238670154, details={'was_impossible': False}),\n",
              " Prediction(uid='A2858RV2VLI14X', iid='B006VAD2C6', r_ui=2.0, est=4.292787541873096, details={'was_impossible': False}),\n",
              " Prediction(uid='A2HMF8ZR67BNZS', iid='B00005N5X1', r_ui=3.0, est=4.347503101872075, details={'was_impossible': False}),\n",
              " Prediction(uid='A2X3L31KCXBHCL', iid='B005HGBDBC', r_ui=3.0, est=4.106011622051267, details={'was_impossible': False}),\n",
              " Prediction(uid='A3S3R88HA0HZG3', iid='B005NGLTZQ', r_ui=5.0, est=4.652105819000019, details={'was_impossible': False}),\n",
              " Prediction(uid='A31BD4RXCON7QO', iid='B002IKLJU0', r_ui=5.0, est=4.294432145256596, details={'was_impossible': False}),\n",
              " Prediction(uid='A200DY76VXVGP9', iid='B004C3UIQC', r_ui=5.0, est=4.679543464658658, details={'was_impossible': False}),\n",
              " Prediction(uid='A149RNR5RH19YY', iid='B0015AM30Y', r_ui=5.0, est=4.201358954864409, details={'was_impossible': False}),\n",
              " Prediction(uid='A7EU2BWLLCJY2', iid='B00HVMIL1U', r_ui=5.0, est=4.609367023217511, details={'was_impossible': False}),\n",
              " Prediction(uid='A100UD67AHFODS', iid='B003YCLB0E', r_ui=2.0, est=4.330208777216384, details={'was_impossible': False}),\n",
              " Prediction(uid='A14I1F2H7NOYDC', iid='B000CHVLQS', r_ui=5.0, est=4.420570939026672, details={'was_impossible': False}),\n",
              " Prediction(uid='A2W2ODLRQ2L8LE', iid='B002TMOL02', r_ui=4.0, est=4.207721870996918, details={'was_impossible': False}),\n",
              " Prediction(uid='A1W4F91DH3XPB2', iid='B008DF53W4', r_ui=5.0, est=4.271723494612623, details={'was_impossible': False}),\n",
              " Prediction(uid='A1E55W6ES0FY17', iid='B00F1CRTJM', r_ui=4.0, est=3.9352369699460286, details={'was_impossible': False}),\n",
              " Prediction(uid='A257X1MQJO82P2', iid='B004UOP1KG', r_ui=5.0, est=4.628139103738101, details={'was_impossible': False}),\n",
              " Prediction(uid='A298GL2D0BHGKZ', iid='B0067GDQCA', r_ui=5.0, est=4.226309726069956, details={'was_impossible': False}),\n",
              " Prediction(uid='A38KK0SZYEH5UD', iid='B003FSTAFK', r_ui=4.0, est=4.240766416954295, details={'was_impossible': False}),\n",
              " Prediction(uid='A3PD8JD9L4WEII', iid='B004QK7HI8', r_ui=5.0, est=4.352129525497737, details={'was_impossible': False}),\n",
              " Prediction(uid='A353U0L2HAMSHV', iid='B0055CARAQ', r_ui=3.0, est=3.971069973090931, details={'was_impossible': False}),\n",
              " Prediction(uid='A2AY4YUOX2N1BQ', iid='B00EPAT2VY', r_ui=5.0, est=4.562066881941104, details={'was_impossible': False}),\n",
              " Prediction(uid='A2ZY49IDE6TY5I', iid='B003B3N258', r_ui=4.0, est=4.082153995857896, details={'was_impossible': False}),\n",
              " Prediction(uid='A1Z3598J0371ND', iid='B003CH1SJU', r_ui=1.0, est=4.192395366355601, details={'was_impossible': False}),\n",
              " Prediction(uid='A3D1TZH619NKHN', iid='B004BQTTE2', r_ui=4.0, est=4.44154033596439, details={'was_impossible': False}),\n",
              " Prediction(uid='A11EYMH9UV9XG7', iid='B003GSLFMK', r_ui=4.0, est=4.3132765842353304, details={'was_impossible': False}),\n",
              " Prediction(uid='A3QX0ERX4D03TF', iid='B00483DTMQ', r_ui=4.0, est=3.9715653760710388, details={'was_impossible': False}),\n",
              " Prediction(uid='A1L64KDYO5BOJA', iid='B00378YPB2', r_ui=5.0, est=4.493179554553216, details={'was_impossible': False}),\n",
              " Prediction(uid='A3PD8JD9L4WEII', iid='B002DUEBIC', r_ui=4.0, est=4.258860949684431, details={'was_impossible': False}),\n",
              " Prediction(uid='A3DGJMO6VPG6FJ', iid='B000UZVPOA', r_ui=4.0, est=4.076649672115425, details={'was_impossible': False}),\n",
              " Prediction(uid='A2KIJBT9HRIOM8', iid='B006DNXE24', r_ui=4.0, est=4.351159359850352, details={'was_impossible': False}),\n",
              " Prediction(uid='A2N3JSOIQ6ZNFL', iid='B004INH0FS', r_ui=5.0, est=4.5312172448376575, details={'was_impossible': False}),\n",
              " Prediction(uid='A12LH2100CKQO', iid='B004I44G5E', r_ui=5.0, est=4.606235517037345, details={'was_impossible': False}),\n",
              " Prediction(uid='AY4EXFOO43C3S', iid='B000O1HMMY', r_ui=3.0, est=3.9005744936253604, details={'was_impossible': False}),\n",
              " Prediction(uid='AEFTIUQHSVUFX', iid='B005FYNSPK', r_ui=1.0, est=3.958827648658286, details={'was_impossible': False}),\n",
              " Prediction(uid='ABDR6IJ93HFIO', iid='B001TNW2VW', r_ui=4.0, est=4.624643944366455, details={'was_impossible': False}),\n",
              " Prediction(uid='ALDAF4VVLFRHP', iid='B006422WSG', r_ui=5.0, est=4.489086735533277, details={'was_impossible': False}),\n",
              " Prediction(uid='A1F7YU6O5RU432', iid='B005IMFX2K', r_ui=5.0, est=4.825273479039523, details={'was_impossible': False}),\n",
              " Prediction(uid='ALUNVOQRXOZIA', iid='B001AO4MWW', r_ui=1.0, est=3.4113201968614137, details={'was_impossible': False}),\n",
              " Prediction(uid='A1S27P7KJO9I96', iid='B004N62HZI', r_ui=3.0, est=4.039726179753073, details={'was_impossible': False}),\n",
              " Prediction(uid='AO2EURP2Y4JZM', iid='B000O9GGLY', r_ui=3.0, est=3.891258211587019, details={'was_impossible': False}),\n",
              " Prediction(uid='A54SG05AV6S4H', iid='B00AANQLRI', r_ui=5.0, est=4.8870865747280305, details={'was_impossible': False}),\n",
              " Prediction(uid='A2UTZ4O5E2W4DK', iid='B005TGKX9S', r_ui=5.0, est=4.4438996206199155, details={'was_impossible': False}),\n",
              " Prediction(uid='AV8MDYLHHTUOY', iid='B00DBX371C', r_ui=5.0, est=4.273042393433862, details={'was_impossible': False}),\n",
              " Prediction(uid='AN81JUYW2SL24', iid='B00FJISZFK', r_ui=4.0, est=4.051954800505929, details={'was_impossible': False}),\n",
              " Prediction(uid='AATWFX0ZZSE6C', iid='B00264GKVQ', r_ui=5.0, est=4.311196011186368, details={'was_impossible': False}),\n",
              " Prediction(uid='AT6CZDCP4TRGA', iid='B0001H27PS', r_ui=3.0, est=3.919261304831062, details={'was_impossible': False}),\n",
              " Prediction(uid='A3IJL9A50KVVZ1', iid='B00AVQ7HJ0', r_ui=5.0, est=4.61959856965519, details={'was_impossible': False}),\n",
              " Prediction(uid='A3J8A5L5AF5TX9', iid='B0012S4APK', r_ui=3.0, est=3.9342577291234635, details={'was_impossible': False}),\n",
              " Prediction(uid='A2JXS1JII6SAUD', iid='B003BID0KK', r_ui=3.0, est=4.332640071484743, details={'was_impossible': False}),\n",
              " Prediction(uid='ADLVFFE4VBT8', iid='B001AHSNB0', r_ui=5.0, est=4.397513533248504, details={'was_impossible': False}),\n",
              " Prediction(uid='A307Y3LMCVEZS1', iid='B001UI4RTG', r_ui=3.0, est=3.4127536974361856, details={'was_impossible': False}),\n",
              " Prediction(uid='A14X244VGHWPSX', iid='B002SQK2F2', r_ui=4.0, est=3.4902136602544678, details={'was_impossible': False}),\n",
              " Prediction(uid='A2VODABWSVHV8E', iid='B002LITT42', r_ui=5.0, est=4.72361576635823, details={'was_impossible': False}),\n",
              " Prediction(uid='A4IEUHNRFZO0', iid='B000PBVR2O', r_ui=5.0, est=4.565070053909479, details={'was_impossible': False}),\n",
              " Prediction(uid='A2WLNSZ9U0T1S3', iid='B0015YJOK2', r_ui=4.0, est=4.436002810294708, details={'was_impossible': False}),\n",
              " Prediction(uid='A2DG63DN704LOI', iid='B00B3PDHBU', r_ui=5.0, est=4.643242825676956, details={'was_impossible': False}),\n",
              " Prediction(uid='A149RNR5RH19YY', iid='B001NZ8PHQ', r_ui=4.0, est=4.073038175882719, details={'was_impossible': False}),\n",
              " Prediction(uid='A1H7Y5XKPGT0OS', iid='B00DQZP7X6', r_ui=3.0, est=4.146126319787875, details={'was_impossible': False}),\n",
              " Prediction(uid='A3284KYDZ00BZA', iid='B0007N33IQ', r_ui=3.0, est=3.9627071699252845, details={'was_impossible': False}),\n",
              " Prediction(uid='A13EQE9EY2ET93', iid='B001FFU1GC', r_ui=4.0, est=4.093316685903786, details={'was_impossible': False}),\n",
              " Prediction(uid='A1EVV74UQYVKRY', iid='B00HJ1NQLS', r_ui=5.0, est=4.632918540223479, details={'was_impossible': False}),\n",
              " Prediction(uid='A2RIXSMGE9VIBG', iid='B009NHAEXE', r_ui=4.0, est=4.052237888631987, details={'was_impossible': False}),\n",
              " Prediction(uid='AFM2J3HJNPIHV', iid='B000CRFOMK', r_ui=5.0, est=4.322059038394336, details={'was_impossible': False}),\n",
              " Prediction(uid='A26KXNN6H1IL0I', iid='B009OZUPUC', r_ui=5.0, est=4.204892360525438, details={'was_impossible': False}),\n",
              " Prediction(uid='AFR9GYKAHM37U', iid='B001MPWMDA', r_ui=5.0, est=4.509692501359086, details={'was_impossible': False}),\n",
              " Prediction(uid='A100WO06OQR8BQ', iid='B0096LZ5QI', r_ui=5.0, est=3.9136750320350515, details={'was_impossible': False}),\n",
              " Prediction(uid='A141OPVE376YFI', iid='B002OFWQ24', r_ui=5.0, est=4.58462137778655, details={'was_impossible': False}),\n",
              " Prediction(uid='A1XE3M22N91451', iid='B008ZJ2TMA', r_ui=5.0, est=4.455231974122039, details={'was_impossible': False}),\n",
              " Prediction(uid='A2BLFCOPSMBOZ9', iid='B001NJ0WCS', r_ui=5.0, est=4.262059253784537, details={'was_impossible': False}),\n",
              " Prediction(uid='A1TFDMY4YNTV97', iid='B003U3H8HC', r_ui=4.0, est=3.8120529473136586, details={'was_impossible': False}),\n",
              " Prediction(uid='A2AY4YUOX2N1BQ', iid='B002C7JG4A', r_ui=5.0, est=4.497748231473133, details={'was_impossible': False}),\n",
              " Prediction(uid='A31HE83MU98GBV', iid='B00IF0JAYE', r_ui=5.0, est=4.567440152027265, details={'was_impossible': False}),\n",
              " Prediction(uid='A11IXJ8M1JO296', iid='B009FU8BTI', r_ui=5.0, est=4.217244351930902, details={'was_impossible': False}),\n",
              " Prediction(uid='A14MZJTZAQS6CV', iid='B001KBZ3S2', r_ui=5.0, est=4.279010142509603, details={'was_impossible': False}),\n",
              " Prediction(uid='A5JLAU2ARJ0BO', iid='B0000CEJUO', r_ui=5.0, est=4.103625906525888, details={'was_impossible': False}),\n",
              " Prediction(uid='A1E3OB6QMBKRYZ', iid='B00519RBR0', r_ui=4.0, est=3.921206847938029, details={'was_impossible': False}),\n",
              " Prediction(uid='A3G007LQX6KGOD', iid='B00004ZC8Y', r_ui=5.0, est=4.242790848795492, details={'was_impossible': False}),\n",
              " Prediction(uid='A35C2IVVQR1HTK', iid='B00AXE911W', r_ui=3.0, est=3.997836328354704, details={'was_impossible': False}),\n",
              " Prediction(uid='A28525P0S5ZVJ3', iid='B000H7MHFC', r_ui=4.0, est=3.868529199042406, details={'was_impossible': False}),\n",
              " Prediction(uid='A1VLE2SH9J8WYS', iid='B003VTZE0I', r_ui=5.0, est=4.4196311693395485, details={'was_impossible': False}),\n",
              " Prediction(uid='A1LD5SE8IZ1H70', iid='B00BB0ZSIC', r_ui=5.0, est=4.374696180001956, details={'was_impossible': False}),\n",
              " Prediction(uid='A3UKWQS8SRW6IO', iid='B007B64ND6', r_ui=5.0, est=4.6539965716037415, details={'was_impossible': False}),\n",
              " Prediction(uid='A3963R7EPE3A7E', iid='B00000JDF5', r_ui=5.0, est=4.711679665916196, details={'was_impossible': False}),\n",
              " Prediction(uid='AWPODHOB4GFWL', iid='B00013M6NK', r_ui=5.0, est=4.37070422541479, details={'was_impossible': False}),\n",
              " Prediction(uid='A1E1LEVQ9VQNK', iid='B00KH8PUDW', r_ui=5.0, est=4.775552303264986, details={'was_impossible': False}),\n",
              " Prediction(uid='AV10H5K6VPQIJ', iid='B000JNG45I', r_ui=2.0, est=4.1015416413240136, details={'was_impossible': False}),\n",
              " Prediction(uid='A2NN1KIYEM2SKS', iid='B0049MPQF4', r_ui=5.0, est=4.139187241064264, details={'was_impossible': False}),\n",
              " Prediction(uid='A2BLFCOPSMBOZ9', iid='B000VJRUKS', r_ui=4.0, est=4.327966019130647, details={'was_impossible': False}),\n",
              " Prediction(uid='A1OA2ZW406NQXM', iid='B003X1AK12', r_ui=4.0, est=4.197053237664489, details={'was_impossible': False}),\n",
              " Prediction(uid='A1QOIHVQC5XWCJ', iid='B0001YFZ5U', r_ui=4.0, est=4.362898191191104, details={'was_impossible': False}),\n",
              " Prediction(uid='A3CJ7MHAS9IMAM', iid='B001G5ZTPY', r_ui=5.0, est=4.484862846392227, details={'was_impossible': False}),\n",
              " Prediction(uid='AD0J5KK4WQXNS', iid='B00006HW8A', r_ui=3.0, est=4.395408579008351, details={'was_impossible': False}),\n",
              " Prediction(uid='A1VOFY3QFT9WCG', iid='B0006I369S', r_ui=4.0, est=4.599510766376533, details={'was_impossible': False}),\n",
              " Prediction(uid='A3TAS1AG6FMBQW', iid='B003GZDB1Q', r_ui=5.0, est=4.616811369018369, details={'was_impossible': False}),\n",
              " Prediction(uid='AGATRDOFW48DK', iid='B000TCU1Z8', r_ui=5.0, est=4.043567284058, details={'was_impossible': False}),\n",
              " Prediction(uid='A1VUN4JU731CBH', iid='B002ZV6S7Q', r_ui=3.0, est=3.802252460697587, details={'was_impossible': False}),\n",
              " Prediction(uid='A3BVN2QBNPBHCR', iid='B0029U2YPS', r_ui=5.0, est=4.3734311952126275, details={'was_impossible': False}),\n",
              " Prediction(uid='AAW7X3GRD8GY9', iid='B005EWB3AU', r_ui=5.0, est=4.258627319570721, details={'was_impossible': False}),\n",
              " Prediction(uid='AOMEH9W6LHC4S', iid='B004T9RR6I', r_ui=5.0, est=3.8673694033635804, details={'was_impossible': False}),\n",
              " Prediction(uid='A1CMD08Z49PGKQ', iid='B000T9B46G', r_ui=5.0, est=4.599681432699467, details={'was_impossible': False}),\n",
              " Prediction(uid='AX7317G153T8W', iid='B00128T3VG', r_ui=1.0, est=4.059282131102404, details={'was_impossible': False}),\n",
              " Prediction(uid='A15QYHQH80W30L', iid='B000JSFZPS', r_ui=5.0, est=4.371685103377911, details={'was_impossible': False}),\n",
              " Prediction(uid='A1MZL91Z44RN06', iid='B00A14ZUIM', r_ui=3.0, est=3.902930200238335, details={'was_impossible': False}),\n",
              " Prediction(uid='A2HPJKM7L4EOQB', iid='B0001DKQXC', r_ui=5.0, est=4.206421900878407, details={'was_impossible': False}),\n",
              " Prediction(uid='A204K1OFE8OB9Y', iid='B000MUK81E', r_ui=1.0, est=3.243014180024215, details={'was_impossible': False}),\n",
              " Prediction(uid='A1T9MILRRZ00F8', iid='B00ARB5FLQ', r_ui=4.0, est=3.7634288907692826, details={'was_impossible': False}),\n",
              " Prediction(uid='A204K1OFE8OB9Y', iid='B003CT4YXA', r_ui=4.0, est=3.4739666025883547, details={'was_impossible': False}),\n",
              " Prediction(uid='A31N0XY2UTB25C', iid='B004TBPCSQ', r_ui=5.0, est=4.578759389357008, details={'was_impossible': False}),\n",
              " Prediction(uid='A1QOIHVQC5XWCJ', iid='B002VFFA5M', r_ui=5.0, est=4.584316489154431, details={'was_impossible': False}),\n",
              " Prediction(uid='A3QU3O79AGNWCY', iid='B009WE65EA', r_ui=2.0, est=4.204849594163717, details={'was_impossible': False}),\n",
              " Prediction(uid='A2NN1KIYEM2SKS', iid='B004CGHDEO', r_ui=5.0, est=4.058790956542236, details={'was_impossible': False}),\n",
              " Prediction(uid='A1LAGS8H4A2DR7', iid='B000NO5QV6', r_ui=4.0, est=4.122785000426953, details={'was_impossible': False}),\n",
              " Prediction(uid='AKT8TGIT6VVZ5', iid='B009W7UFCU', r_ui=5.0, est=4.72303678422834, details={'was_impossible': False}),\n",
              " Prediction(uid='A32HSNCNPRUMTR', iid='B0038AJBQI', r_ui=5.0, est=4.059175089882963, details={'was_impossible': False}),\n",
              " Prediction(uid='A2W9I628I6SE1U', iid='B00EVWXAEQ', r_ui=4.0, est=4.245369661554239, details={'was_impossible': False}),\n",
              " Prediction(uid='A3REK3OFONWB1Q', iid='B003Y2TD36', r_ui=5.0, est=4.5220478725576, details={'was_impossible': False}),\n",
              " Prediction(uid='A3FPSY1M6G7XIB', iid='B000BH5OW6', r_ui=5.0, est=4.465462163659522, details={'was_impossible': False}),\n",
              " Prediction(uid='A1GYEGLX3P2Y7P', iid='B004MWL6AA', r_ui=4.0, est=4.117189620932358, details={'was_impossible': False}),\n",
              " Prediction(uid='A1DTCJV6KOMJOA', iid='B00426C55G', r_ui=5.0, est=4.010443199579772, details={'was_impossible': False}),\n",
              " Prediction(uid='AQB4DH57MSZSC', iid='B005NHR6MU', r_ui=5.0, est=4.518362079349673, details={'was_impossible': False}),\n",
              " Prediction(uid='A8X8D4BUY5DFU', iid='B0021P5P1G', r_ui=1.0, est=3.944964496873886, details={'was_impossible': False}),\n",
              " Prediction(uid='A2AY4YUOX2N1BQ', iid='B000SQZ8YE', r_ui=3.0, est=4.37860569285599, details={'was_impossible': False}),\n",
              " Prediction(uid='A3FS3FJPD3RJTD', iid='B0002EXJQ6', r_ui=2.0, est=4.111694286359134, details={'was_impossible': False}),\n",
              " Prediction(uid='A3IOQ7NVVLAUEE', iid='B00AI41RCS', r_ui=5.0, est=4.299586995940715, details={'was_impossible': False}),\n",
              " Prediction(uid='A3QRR8PSCBI07C', iid='B000GOUE7O', r_ui=5.0, est=4.415397452902508, details={'was_impossible': False}),\n",
              " Prediction(uid='A17W0GMB0YY83M', iid='B00834SJSK', r_ui=1.0, est=4.800504152382556, details={'was_impossible': False}),\n",
              " Prediction(uid='A1UEL5C1N6E5SE', iid='B002P3KO8I', r_ui=1.0, est=4.035892985767041, details={'was_impossible': False}),\n",
              " Prediction(uid='A3MUSWDCTZINQZ', iid='B00E6ONJJU', r_ui=4.0, est=4.272056633490009, details={'was_impossible': False}),\n",
              " Prediction(uid='A3NHUQ33CFH3VM', iid='B0094V6104', r_ui=3.0, est=4.143677053878346, details={'was_impossible': False}),\n",
              " Prediction(uid='A2RG1B0K8YBJ4A', iid='B000TLBBB2', r_ui=1.0, est=3.9931675531418094, details={'was_impossible': False}),\n",
              " Prediction(uid='AGEWOMQ90BV8R', iid='B002HJ9PTO', r_ui=2.0, est=3.9072454139474346, details={'was_impossible': False}),\n",
              " Prediction(uid='A313H6238N589', iid='B00A42Y0PA', r_ui=2.0, est=3.892834798525491, details={'was_impossible': False}),\n",
              " Prediction(uid='A5JLAU2ARJ0BO', iid='B0006ZBHWY', r_ui=5.0, est=4.033706805333741, details={'was_impossible': False}),\n",
              " Prediction(uid='A2JAEZ0FMAMJVW', iid='B009C98NPY', r_ui=5.0, est=4.359748191159465, details={'was_impossible': False}),\n",
              " Prediction(uid='AN81JUYW2SL24', iid='B0018BQR84', r_ui=4.0, est=4.350203239431563, details={'was_impossible': False}),\n",
              " Prediction(uid='ARX7Z3NI6O0F7', iid='B009D79VH4', r_ui=5.0, est=4.565933128041741, details={'was_impossible': False}),\n",
              " Prediction(uid='A2PC9ZZIFV31B1', iid='B007TG125U', r_ui=2.0, est=3.9120327863637128, details={'was_impossible': False}),\n",
              " Prediction(uid='A5GPH59NDWJRB', iid='B00ARB5FLQ', r_ui=4.0, est=3.837614254579, details={'was_impossible': False}),\n",
              " Prediction(uid='AN9CP6J4JF91X', iid='B003MATBLE', r_ui=5.0, est=4.549383226250742, details={'was_impossible': False}),\n",
              " Prediction(uid='AG5WSXI52FPKH', iid='B00061UISM', r_ui=5.0, est=4.191314910934933, details={'was_impossible': False}),\n",
              " Prediction(uid='A32O5FZH994CNY', iid='B001SAJ1VA', r_ui=4.0, est=4.4313616668073355, details={'was_impossible': False}),\n",
              " Prediction(uid='AROQO2VDODT7', iid='B002YP2WFK', r_ui=5.0, est=4.356041540211352, details={'was_impossible': False}),\n",
              " Prediction(uid='ADLVFFE4VBT8', iid='B00DY2Y28M', r_ui=5.0, est=4.429595876571895, details={'was_impossible': False}),\n",
              " Prediction(uid='A3QU3O79AGNWCY', iid='B000HDJT4S', r_ui=5.0, est=4.440234450415266, details={'was_impossible': False}),\n",
              " Prediction(uid='A8X8D4BUY5DFU', iid='B004HIIKRG', r_ui=5.0, est=4.243040636408623, details={'was_impossible': False}),\n",
              " Prediction(uid='A1EOTB1WHLSW6G', iid='B001O1GJ5O', r_ui=5.0, est=4.3392582592781235, details={'was_impossible': False}),\n",
              " Prediction(uid='A2OT3PDH1AWLTG', iid='B00065U8BA', r_ui=5.0, est=4.631092472886717, details={'was_impossible': False}),\n",
              " Prediction(uid='A13WREJ05GMRA6', iid='B00123WZWK', r_ui=4.0, est=3.8663426287470126, details={'was_impossible': False}),\n",
              " Prediction(uid='A3B20R4ZAH0Y2Y', iid='B00070QI1I', r_ui=5.0, est=4.48365274598422, details={'was_impossible': False}),\n",
              " Prediction(uid='A2FZQF0MH29VYN', iid='B004I3VZJK', r_ui=5.0, est=4.351186829966327, details={'was_impossible': False}),\n",
              " Prediction(uid='A2Y1WNETD9AYHO', iid='B00385XU8I', r_ui=3.0, est=4.0482009680461095, details={'was_impossible': False}),\n",
              " Prediction(uid='A2NP9CGUSFP22E', iid='B005J5VLO0', r_ui=4.0, est=4.494662988511944, details={'was_impossible': False}),\n",
              " Prediction(uid='A17RFKCYS69M3Y', iid='B000EDG6EM', r_ui=2.0, est=2.8323560467215727, details={'was_impossible': False}),\n",
              " Prediction(uid='A3D1TZH619NKHN', iid='B000N99BBC', r_ui=5.0, est=4.673267302192322, details={'was_impossible': False}),\n",
              " Prediction(uid='A7QMQBGJ2TCQG', iid='B00008Y0VN', r_ui=5.0, est=4.381975700703067, details={'was_impossible': False}),\n",
              " Prediction(uid='A1L5TA5UQF7EWE', iid='B000LSZ0Q0', r_ui=3.0, est=3.5458748871836154, details={'was_impossible': False}),\n",
              " Prediction(uid='A1LYMYNURB9EWW', iid='B00ISIG690', r_ui=5.0, est=4.089710315993523, details={'was_impossible': False}),\n",
              " Prediction(uid='A2NYK9KWFMJV4Y', iid='B00006B9EW', r_ui=5.0, est=4.687250916733518, details={'was_impossible': False}),\n",
              " Prediction(uid='A37CEYB95LK6R6', iid='B006AZI5ME', r_ui=5.0, est=4.418252940917064, details={'was_impossible': False}),\n",
              " Prediction(uid='A1QQA7Y92L4F9R', iid='B001S4OTS6', r_ui=4.0, est=4.606788858506722, details={'was_impossible': False}),\n",
              " Prediction(uid='A3LPL35P7FH78Y', iid='B003EB03OK', r_ui=5.0, est=4.680304838981985, details={'was_impossible': False}),\n",
              " Prediction(uid='A1M7HP5CHDXXOU', iid='B007F10V60', r_ui=5.0, est=4.4231399017324895, details={'was_impossible': False}),\n",
              " Prediction(uid='A3TR3KLL5PXSZ8', iid='B00908IFAU', r_ui=5.0, est=4.558063703712676, details={'was_impossible': False}),\n",
              " Prediction(uid='A1J5HIF41ENSMZ', iid='B0076POAOE', r_ui=4.0, est=3.8715639656090737, details={'was_impossible': False}),\n",
              " Prediction(uid='AR18DH5SL9F73', iid='B001JZFQU4', r_ui=4.0, est=4.094808153254675, details={'was_impossible': False}),\n",
              " Prediction(uid='A204K1OFE8OB9Y', iid='B00009R88X', r_ui=2.0, est=3.4028588370003985, details={'was_impossible': False}),\n",
              " Prediction(uid='ABIVKBMSIPEDY', iid='B0009HTB0Y', r_ui=4.0, est=4.181539591369174, details={'was_impossible': False}),\n",
              " Prediction(uid='A20DZX38KRBIT8', iid='B0019HGRFA', r_ui=2.0, est=2.9385639564021777, details={'was_impossible': False}),\n",
              " Prediction(uid='A2EN82VBJT44QP', iid='B00BT7RAPG', r_ui=1.0, est=4.346202646451277, details={'was_impossible': False}),\n",
              " Prediction(uid='A3N0P5AAMP6XD2', iid='B004OR0GRC', r_ui=5.0, est=3.8846717084216134, details={'was_impossible': False}),\n",
              " Prediction(uid='A296QED1MV1V0J', iid='B002EUCU3O', r_ui=5.0, est=4.1588719779841155, details={'was_impossible': False}),\n",
              " Prediction(uid='A250AXLRBVYKB4', iid='B000Q7IA5E', r_ui=4.0, est=4.030089439747954, details={'was_impossible': False}),\n",
              " Prediction(uid='A1X3ESYZ79H59E', iid='B007BY0MIS', r_ui=4.0, est=3.8554030587661683, details={'was_impossible': False}),\n",
              " Prediction(uid='A87CILADRIZW0', iid='B009E11R5I', r_ui=4.0, est=4.50694230439893, details={'was_impossible': False}),\n",
              " Prediction(uid='A3ER6ARJ23CIN8', iid='B003UH0Z9Q', r_ui=5.0, est=4.6821711843301195, details={'was_impossible': False}),\n",
              " Prediction(uid='AMKNPIDFLRFMP', iid='B007PJ4PKK', r_ui=5.0, est=4.136814820761987, details={'was_impossible': False}),\n",
              " Prediction(uid='A25C2M3QF9G7OQ', iid='B00B8KWMKW', r_ui=4.0, est=4.450763995217951, details={'was_impossible': False}),\n",
              " Prediction(uid='A17Z0LVY96TO53', iid='B0007WK8L2', r_ui=2.0, est=4.218961033065632, details={'was_impossible': False}),\n",
              " Prediction(uid='A30XZK10EZN9V4', iid='B004S88SYU', r_ui=1.0, est=4.113586283550844, details={'was_impossible': False}),\n",
              " Prediction(uid='A2F4HP0J5VNOYR', iid='B002QQ8H8I', r_ui=5.0, est=4.551595635176819, details={'was_impossible': False}),\n",
              " Prediction(uid='AY3XPKRAMKKY7', iid='B0007R4LI8', r_ui=5.0, est=4.327707152165014, details={'was_impossible': False}),\n",
              " Prediction(uid='A2NLI1M5K2MQ5E', iid='B00FF25GBG', r_ui=4.0, est=4.4054138353995045, details={'was_impossible': False}),\n",
              " Prediction(uid='A2I18AO597DSDI', iid='B003A4H2LI', r_ui=4.0, est=3.8231231751840973, details={'was_impossible': False}),\n",
              " Prediction(uid='A1FR68QH6Z4YZM', iid='B00009R98Y', r_ui=5.0, est=4.470940123830934, details={'was_impossible': False}),\n",
              " Prediction(uid='A1R19YYR5OR26T', iid='B007B31IAK', r_ui=3.0, est=4.069021416654151, details={'was_impossible': False}),\n",
              " Prediction(uid='A31N0XY2UTB25C', iid='B004U1Y3IU', r_ui=5.0, est=4.7082046466809855, details={'was_impossible': False}),\n",
              " Prediction(uid='AEJAGHLC675A7', iid='B00B9Z0G4U', r_ui=5.0, est=4.611942291633497, details={'was_impossible': False}),\n",
              " Prediction(uid='A1HBEQWSMVQEWJ', iid='B006WLBEPQ', r_ui=5.0, est=4.178098530865747, details={'was_impossible': False}),\n",
              " Prediction(uid='A2PZXXPGLXXKZU', iid='B000WOIFO2', r_ui=5.0, est=4.087704061383253, details={'was_impossible': False}),\n",
              " Prediction(uid='A34BZM6S9L7QI4', iid='B00BQO56Z8', r_ui=4.0, est=4.42543746507795, details={'was_impossible': False}),\n",
              " Prediction(uid='A3BKNXX8QFIXIV', iid='B00D68ZVY8', r_ui=5.0, est=4.531782409815006, details={'was_impossible': False}),\n",
              " Prediction(uid='A1X3DA7C61WZLQ', iid='B000BSJFJS', r_ui=5.0, est=3.796702689414973, details={'was_impossible': False}),\n",
              " Prediction(uid='A3O5ASFUXC32UA', iid='B00F5JV4NS', r_ui=4.0, est=4.198078017490498, details={'was_impossible': False}),\n",
              " Prediction(uid='ASJLXOX1VD4DF', iid='B00ARB5FLQ', r_ui=1.0, est=3.580294283191085, details={'was_impossible': False}),\n",
              " Prediction(uid='A2ZWJVKITA32OV', iid='B000EW2XQ8', r_ui=5.0, est=4.242268606212062, details={'was_impossible': False}),\n",
              " Prediction(uid='A3T7V207KRDE2O', iid='B006RWNL1K', r_ui=4.0, est=4.246856802618358, details={'was_impossible': False}),\n",
              " Prediction(uid='AOVTLYTHVDNUX', iid='B00HUDZ8MU', r_ui=4.0, est=4.116353554041207, details={'was_impossible': False}),\n",
              " Prediction(uid='A2SPV96SGOEO2', iid='B0035AN31A', r_ui=3.0, est=4.031661324332884, details={'was_impossible': False}),\n",
              " Prediction(uid='A3EQQHWJ1EEYEU', iid='B000UO6C5S', r_ui=5.0, est=4.713686832872518, details={'was_impossible': False}),\n",
              " Prediction(uid='A1GBT4UN2RW7XY', iid='B007QOX5A0', r_ui=5.0, est=4.333100463179131, details={'was_impossible': False}),\n",
              " Prediction(uid='A1E1LEVQ9VQNK', iid='B00AJG3NK4', r_ui=5.0, est=4.701604381482924, details={'was_impossible': False}),\n",
              " Prediction(uid='A16SRDVPBXN69C', iid='B000I96AUM', r_ui=5.0, est=4.520856333858935, details={'was_impossible': False}),\n",
              " Prediction(uid='A1OES7R7FDAT2L', iid='B002FRLEIS', r_ui=4.0, est=4.358546429226093, details={'was_impossible': False}),\n",
              " Prediction(uid='A1H4IVXNXWWBLV', iid='B00067LYFW', r_ui=5.0, est=4.342524300263711, details={'was_impossible': False}),\n",
              " Prediction(uid='A1FR68QH6Z4YZM', iid='B00009R9D5', r_ui=5.0, est=4.4912374864116416, details={'was_impossible': False}),\n",
              " Prediction(uid='A1H4IVXNXWWBLV', iid='B001FB6S4K', r_ui=4.0, est=4.254041586648379, details={'was_impossible': False}),\n",
              " Prediction(uid='A19NP8YYADOOSF', iid='B00JP12170', r_ui=3.0, est=3.981267789946556, details={'was_impossible': False}),\n",
              " Prediction(uid='A195EZSQDW3E21', iid='B0074BW614', r_ui=5.0, est=4.144933425315169, details={'was_impossible': False}),\n",
              " Prediction(uid='AJX9A4Q19UTJU', iid='B00ARB5FLQ', r_ui=4.0, est=4.081642889428404, details={'was_impossible': False}),\n",
              " Prediction(uid='A2CPP7BZKOF9TP', iid='B00062PN6I', r_ui=4.0, est=4.4367770903600485, details={'was_impossible': False}),\n",
              " Prediction(uid='A30J7WQV0ZNRXG', iid='B00EL8NII8', r_ui=3.0, est=4.105692901480633, details={'was_impossible': False}),\n",
              " Prediction(uid='A3L1VJMHFWONCB', iid='B0054YQO5C', r_ui=5.0, est=4.400256609822259, details={'was_impossible': False}),\n",
              " Prediction(uid='A2IT7S59GSASN7', iid='B00ARB5FLQ', r_ui=1.0, est=3.3786722892931658, details={'was_impossible': False}),\n",
              " Prediction(uid='A3QRR8PSCBI07C', iid='B002RWJHBM', r_ui=5.0, est=4.485858167003139, details={'was_impossible': False}),\n",
              " Prediction(uid='A7FDGFK0KN7QG', iid='B003G90XTA', r_ui=5.0, est=4.669033539653889, details={'was_impossible': False}),\n",
              " Prediction(uid='AH3LF9RAD1O2V', iid='B001HBIYFO', r_ui=5.0, est=4.736982316534157, details={'was_impossible': False}),\n",
              " Prediction(uid='A1NGFGBX2VCQS8', iid='B000BSN4UY', r_ui=4.0, est=4.204128997743751, details={'was_impossible': False}),\n",
              " Prediction(uid='A32NEDX6UVV8DE', iid='B007BXD6DW', r_ui=5.0, est=4.486964819825434, details={'was_impossible': False}),\n",
              " Prediction(uid='A2NOW4U7W3F7RI', iid='B004URCE4O', r_ui=5.0, est=4.663194608734908, details={'was_impossible': False}),\n",
              " Prediction(uid='A32LX4XJ2LU740', iid='B000R23ER2', r_ui=5.0, est=4.358331172768134, details={'was_impossible': False}),\n",
              " Prediction(uid='AI8EMB0HUC6Z5', iid='B000089GN3', r_ui=5.0, est=4.616651241494484, details={'was_impossible': False}),\n",
              " Prediction(uid='A328GLDSDNFYII', iid='B001S2PPT0', r_ui=3.0, est=4.3577195902648205, details={'was_impossible': False}),\n",
              " Prediction(uid='A1I96OYAUJ3HQE', iid='B004O9501W', r_ui=5.0, est=4.649547798947832, details={'was_impossible': False}),\n",
              " Prediction(uid='A2L36AGL8CKY3D', iid='B005WUUFBW', r_ui=5.0, est=4.618720816713279, details={'was_impossible': False}),\n",
              " Prediction(uid='A2OT3PDH1AWLTG', iid='B000F8DBF8', r_ui=4.0, est=4.490738285375334, details={'was_impossible': False}),\n",
              " Prediction(uid='A3TA1UJWRJF9NC', iid='B0017640XO', r_ui=5.0, est=4.483672377337439, details={'was_impossible': False}),\n",
              " Prediction(uid='A1UMSB7LAW0RIR', iid='B00604RZ12', r_ui=5.0, est=4.2188542772573925, details={'was_impossible': False}),\n",
              " Prediction(uid='A32AFX2PUJ82HG', iid='B000UODATY', r_ui=5.0, est=4.158977839563669, details={'was_impossible': False}),\n",
              " Prediction(uid='AV8MDYLHHTUOY', iid='B006W3ZWXE', r_ui=5.0, est=4.322811501280279, details={'was_impossible': False}),\n",
              " Prediction(uid='A2GYV87WW0DMSN', iid='B007PMJVS8', r_ui=5.0, est=4.462801892144511, details={'was_impossible': False}),\n",
              " Prediction(uid='A1R6RKKE44AYA8', iid='B009ZN9WIO', r_ui=5.0, est=4.61842006960995, details={'was_impossible': False}),\n",
              " Prediction(uid='A32O98PFC3OP7K', iid='B002M3SOBU', r_ui=5.0, est=4.438743347344356, details={'was_impossible': False}),\n",
              " Prediction(uid='A1ZTR0FR5AW9B4', iid='B0002A4M4I', r_ui=2.0, est=3.797096084933015, details={'was_impossible': False}),\n",
              " Prediction(uid='ASFW4ZMNZJKDA', iid='B004SBBD8U', r_ui=5.0, est=4.606097526081964, details={'was_impossible': False}),\n",
              " Prediction(uid='ABUE0ALHKWKHC', iid='B004JWA70I', r_ui=5.0, est=4.595486372562007, details={'was_impossible': False}),\n",
              " Prediction(uid='A2CWUM49ZWMGEY', iid='B0057AGM5K', r_ui=4.0, est=4.2917064531236235, details={'was_impossible': False}),\n",
              " Prediction(uid='A38RMU1Y5TDP9', iid='B000U5TUWE', r_ui=5.0, est=4.504679877588637, details={'was_impossible': False}),\n",
              " Prediction(uid='A1P0JSFW184ZXJ', iid='B00FG38L16', r_ui=5.0, est=4.52825631407434, details={'was_impossible': False}),\n",
              " Prediction(uid='A32AK8FOAZEPE2', iid='B002KNWQI4', r_ui=1.0, est=3.132721706917975, details={'was_impossible': False}),\n",
              " Prediction(uid='A1S7BFT0HDF3HA', iid='B005I7KIUW', r_ui=4.0, est=3.7002407706128424, details={'was_impossible': False}),\n",
              " Prediction(uid='A24HWYHR28JJ7A', iid='B003D18DM0', r_ui=5.0, est=4.49992088967635, details={'was_impossible': False}),\n",
              " Prediction(uid='A2QAOP52OEB5EV', iid='B0000659A7', r_ui=4.0, est=4.124629514197039, details={'was_impossible': False}),\n",
              " Prediction(uid='ACJT8MUC0LRF0', iid='B001WMFXJ8', r_ui=5.0, est=4.720239674093306, details={'was_impossible': False}),\n",
              " Prediction(uid='A3SRDVCD2ATIIS', iid='B001VEAI74', r_ui=4.0, est=4.654821653147219, details={'was_impossible': False}),\n",
              " Prediction(uid='A38QEATH3NODFM', iid='B000204SWE', r_ui=5.0, est=4.7355753980478, details={'was_impossible': False}),\n",
              " Prediction(uid='ADLVFFE4VBT8', iid='B00FENIPQ4', r_ui=5.0, est=4.370681661997007, details={'was_impossible': False}),\n",
              " Prediction(uid='A12O5SEIF162P8', iid='B0011UNCSK', r_ui=4.0, est=4.484329793815455, details={'was_impossible': False}),\n",
              " Prediction(uid='A1LD5SE8IZ1H70', iid='B004W2JKWG', r_ui=5.0, est=4.60073677584183, details={'was_impossible': False}),\n",
              " Prediction(uid='AKT8TGIT6VVZ5', iid='B00004XOM3', r_ui=5.0, est=4.888715256460825, details={'was_impossible': False}),\n",
              " Prediction(uid='A259MPG6SOL02P', iid='B002EOVDII', r_ui=2.0, est=3.545811773975511, details={'was_impossible': False}),\n",
              " Prediction(uid='A3HPCRD9RX351S', iid='B0002E3WIQ', r_ui=5.0, est=4.433362149764825, details={'was_impossible': False}),\n",
              " Prediction(uid='A680RUE1FDO8B', iid='B003C1FC7K', r_ui=5.0, est=4.458527796171217, details={'was_impossible': False}),\n",
              " Prediction(uid='A3L1VJMHFWONCB', iid='B000V1JUJU', r_ui=5.0, est=4.4018500591091545, details={'was_impossible': False}),\n",
              " Prediction(uid='A377LPVLLAI42D', iid='B0015TJNEY', r_ui=4.0, est=3.6912615330613674, details={'was_impossible': False}),\n",
              " Prediction(uid='A1C47ROOK7BSVL', iid='B008BA2UTU', r_ui=1.0, est=3.0073639852069425, details={'was_impossible': False}),\n",
              " Prediction(uid='A185O1MX1RP964', iid='B005IGVY6K', r_ui=5.0, est=4.1216658793423875, details={'was_impossible': False}),\n",
              " Prediction(uid='A2MR696ZU17F12', iid='B004BLK24S', r_ui=5.0, est=3.893831974536303, details={'was_impossible': False}),\n",
              " Prediction(uid='A2BLFCOPSMBOZ9', iid='B00BZ798PU', r_ui=5.0, est=4.258806864301022, details={'was_impossible': False}),\n",
              " Prediction(uid='A2SL5IW096Z2BL', iid='B002U3XG1U', r_ui=3.0, est=4.171283714248343, details={'was_impossible': False}),\n",
              " Prediction(uid='A1C82BC5GNABOA', iid='B000JLM50I', r_ui=2.0, est=4.2780891944034405, details={'was_impossible': False}),\n",
              " Prediction(uid='A74UT8IQCM0I2', iid='B006UH8L8K', r_ui=5.0, est=4.60224184814693, details={'was_impossible': False}),\n",
              " Prediction(uid='A22CW0ZHY3NJH8', iid='B00KVNY2KA', r_ui=4.0, est=4.450989202046731, details={'was_impossible': False}),\n",
              " Prediction(uid='A259MPG6SOL02P', iid='B002LBTD0Y', r_ui=2.0, est=3.494655082707903, details={'was_impossible': False}),\n",
              " Prediction(uid='A2SKEQT0WTB954', iid='B000064184', r_ui=5.0, est=4.550562385340186, details={'was_impossible': False}),\n",
              " Prediction(uid='A3QQCEQ33O0GJU', iid='B005WTZ2UW', r_ui=5.0, est=4.5348715670298025, details={'was_impossible': False}),\n",
              " Prediction(uid='A1F7YU6O5RU432', iid='B004SBDQGM', r_ui=4.0, est=4.2072135529324655, details={'was_impossible': False}),\n",
              " Prediction(uid='A3QMJMTLJC34QC', iid='B0000304ZO', r_ui=4.0, est=4.302843919580687, details={'was_impossible': False}),\n",
              " Prediction(uid='A9Y5O2R4D6EH5', iid='B004CLYE8C', r_ui=4.0, est=4.352221104018489, details={'was_impossible': False}),\n",
              " Prediction(uid='A3UW0PQLDUACMH', iid='B000G1NWYO', r_ui=5.0, est=4.548640602673365, details={'was_impossible': False}),\n",
              " Prediction(uid='A1MRPX3RM48T2I', iid='B00CMQTVK0', r_ui=4.0, est=4.172406035085507, details={'was_impossible': False}),\n",
              " Prediction(uid='A1ZCSSCAGBCD49', iid='B007ULGT8Y', r_ui=4.0, est=4.077258578680314, details={'was_impossible': False}),\n",
              " Prediction(uid='A3J6Q0Y0SKY7AR', iid='B00006HSBC', r_ui=4.0, est=4.36045583251636, details={'was_impossible': False}),\n",
              " Prediction(uid='A20DDH4NT6Q1E8', iid='B00BOHNYTW', r_ui=5.0, est=4.692448349935292, details={'was_impossible': False}),\n",
              " Prediction(uid='AVU1ILDDYW301', iid='B001TOD7ME', r_ui=5.0, est=4.3864614180647665, details={'was_impossible': False}),\n",
              " Prediction(uid='A26877IWJGISYM', iid='B008H9BXMK', r_ui=3.0, est=3.9530097673490023, details={'was_impossible': False}),\n",
              " Prediction(uid='AOEDWQLH2WKKW', iid='B005NGOPSY', r_ui=3.0, est=3.947261858169795, details={'was_impossible': False}),\n",
              " Prediction(uid='A1VHCO8RQFIGQJ', iid='B005E65BK4', r_ui=4.0, est=4.311576939299007, details={'was_impossible': False}),\n",
              " Prediction(uid='A1E55W6ES0FY17', iid='B008HO9DK4', r_ui=4.0, est=3.775976784988279, details={'was_impossible': False}),\n",
              " Prediction(uid='A2BCDZO1XQLDH', iid='B004J4VYG2', r_ui=3.0, est=3.6984187845824255, details={'was_impossible': False}),\n",
              " Prediction(uid='A2LW5AL0KQ9P1M', iid='B00GDL2PPI', r_ui=3.0, est=3.819788019900154, details={'was_impossible': False}),\n",
              " Prediction(uid='A2T3S3VTW65VO5', iid='B001JK5SNY', r_ui=4.0, est=4.473133188327238, details={'was_impossible': False}),\n",
              " Prediction(uid='A15J9K7O10A3M6', iid='B00009R6UI', r_ui=4.0, est=4.022182792344468, details={'was_impossible': False}),\n",
              " Prediction(uid='A3D0UM4ZD2CMAW', iid='B000VOE466', r_ui=5.0, est=4.4705886074519485, details={'was_impossible': False}),\n",
              " Prediction(uid='AQNSQW4495SG0', iid='B0038YWLCA', r_ui=3.0, est=4.128962413014567, details={'was_impossible': False}),\n",
              " Prediction(uid='AGXMC3ITWZASE', iid='B002JCSV5I', r_ui=5.0, est=4.247931746269889, details={'was_impossible': False}),\n",
              " Prediction(uid='A84FLVDK2R5JF', iid='B004ZP74JG', r_ui=2.0, est=4.374746462763277, details={'was_impossible': False}),\n",
              " Prediction(uid='AA91O96C1Z18W', iid='B00438MWAG', r_ui=3.0, est=4.236636518072269, details={'was_impossible': False}),\n",
              " Prediction(uid='A10NMELR4KX0J6', iid='B000LCZ2SW', r_ui=5.0, est=4.238003010507685, details={'was_impossible': False}),\n",
              " Prediction(uid='A6XLG77BC9R8R', iid='B0028Y4DAY', r_ui=4.0, est=4.260058301750549, details={'was_impossible': False}),\n",
              " Prediction(uid='A1E1LEVQ9VQNK', iid='B00HVMIL1U', r_ui=5.0, est=4.781557875773761, details={'was_impossible': False}),\n",
              " Prediction(uid='AW68KVDV7BBRS', iid='B000QD5BFU', r_ui=4.0, est=4.224092147671313, details={'was_impossible': False}),\n",
              " Prediction(uid='A3MQAQT8C6D1I7', iid='B000J1HPXK', r_ui=5.0, est=4.569997708885382, details={'was_impossible': False}),\n",
              " Prediction(uid='A186697K4XKXQL', iid='B00ARB5FLQ', r_ui=3.0, est=3.6728825417865787, details={'was_impossible': False}),\n",
              " Prediction(uid='AGYH5U11ZKPFB', iid='B002YOUNH0', r_ui=4.0, est=4.258163530198783, details={'was_impossible': False}),\n",
              " Prediction(uid='A11D1KHM7DVOQK', iid='B000BC8VV2', r_ui=3.0, est=3.403078092977165, details={'was_impossible': False}),\n",
              " Prediction(uid='A1H4IVXNXWWBLV', iid='B009A3H0C4', r_ui=4.0, est=4.223052220469438, details={'was_impossible': False}),\n",
              " Prediction(uid='A2HRHF83I3NDGT', iid='B000M2TAN4', r_ui=5.0, est=4.928765202065199, details={'was_impossible': False}),\n",
              " Prediction(uid='A27H0T39U3FZB5', iid='B005IPMIBQ', r_ui=4.0, est=3.710829592270758, details={'was_impossible': False}),\n",
              " Prediction(uid='ARC5ASW9CUAGP', iid='B0027RMIAO', r_ui=2.0, est=4.072865179733486, details={'was_impossible': False}),\n",
              " Prediction(uid='A10ZBR6O8S8OCY', iid='B00829TIA4', r_ui=5.0, est=4.768516059389407, details={'was_impossible': False}),\n",
              " Prediction(uid='AZBXKUH4AIW3X', iid='B004M5H660', r_ui=4.0, est=3.9906962323775748, details={'was_impossible': False}),\n",
              " Prediction(uid='A26KXNN6H1IL0I', iid='B009F7IBZK', r_ui=5.0, est=4.485471752354349, details={'was_impossible': False}),\n",
              " Prediction(uid='A204K1OFE8OB9Y', iid='B000Q639S8', r_ui=3.0, est=3.362006228215669, details={'was_impossible': False}),\n",
              " Prediction(uid='A5JLAU2ARJ0BO', iid='B000062TTE', r_ui=5.0, est=4.004223224711366, details={'was_impossible': False}),\n",
              " Prediction(uid='A1FLJCHN5CG5M5', iid='B009PBUK9Q', r_ui=5.0, est=4.400703889850849, details={'was_impossible': False}),\n",
              " Prediction(uid='A1VHCO8RQFIGQJ', iid='B0040JHVC2', r_ui=5.0, est=4.497621037590443, details={'was_impossible': False}),\n",
              " Prediction(uid='A1KI7YHQEOS1RB', iid='B0015BYKGI', r_ui=4.0, est=4.196977386394623, details={'was_impossible': False}),\n",
              " Prediction(uid='A1CN1P7147QDJC', iid='B00155PSLK', r_ui=5.0, est=4.418987816420093, details={'was_impossible': False}),\n",
              " Prediction(uid='A18YMFFJW974QS', iid='B000L475L2', r_ui=4.0, est=4.262143464471164, details={'was_impossible': False}),\n",
              " Prediction(uid='A225G2TFM76GYX', iid='B000R84UQ0', r_ui=5.0, est=4.521041157235598, details={'was_impossible': False}),\n",
              " Prediction(uid='A96JD9312DHWC', iid='B007BYLKFW', r_ui=5.0, est=4.435799068425632, details={'was_impossible': False}),\n",
              " Prediction(uid='ARC5ASW9CUAGP', iid='B00BBDKVSG', r_ui=5.0, est=4.410408660538473, details={'was_impossible': False}),\n",
              " Prediction(uid='A2OKRGHIYTBQ6P', iid='B000PDGJXY', r_ui=5.0, est=4.411431538749537, details={'was_impossible': False}),\n",
              " Prediction(uid='A3INN916E4VION', iid='B0097BEFYA', r_ui=4.0, est=4.469910841802412, details={'was_impossible': False}),\n",
              " Prediction(uid='A1BJOHHLG0D965', iid='B004CLYEDC', r_ui=5.0, est=4.519126583080711, details={'was_impossible': False}),\n",
              " Prediction(uid='A35HUT8MQMT21L', iid='B002FYL7PG', r_ui=5.0, est=4.233096620961007, details={'was_impossible': False}),\n",
              " Prediction(uid='A3CW0ZLUO5X2B1', iid='B002NL0GD0', r_ui=5.0, est=4.214052474169613, details={'was_impossible': False}),\n",
              " Prediction(uid='A7UPJYPAH73NC', iid='B00JJNQ5KS', r_ui=5.0, est=4.386380255795549, details={'was_impossible': False}),\n",
              " Prediction(uid='ABDR6IJ93HFIO', iid='B0035ERKYW', r_ui=5.0, est=4.783713770356515, details={'was_impossible': False}),\n",
              " Prediction(uid='A2ALRZ0ENQLYY5', iid='B00091S0WA', r_ui=5.0, est=4.559615095761829, details={'was_impossible': False}),\n",
              " Prediction(uid='A1T1YSCDW0PD25', iid='B00E87BT8S', r_ui=5.0, est=4.35805187122907, details={'was_impossible': False}),\n",
              " Prediction(uid='A3872Y2XH0YDX1', iid='B0024G48VA', r_ui=5.0, est=4.550082570729933, details={'was_impossible': False}),\n",
              " Prediction(uid='A319Y83RT0MRVR', iid='B00A7PPLP2', r_ui=3.0, est=4.273698614876509, details={'was_impossible': False}),\n",
              " Prediction(uid='AH3LF9RAD1O2V', iid='B00354MVP0', r_ui=5.0, est=4.730188928535008, details={'was_impossible': False}),\n",
              " Prediction(uid='A18S2VGUH9SCV5', iid='B003RRYAXQ', r_ui=1.0, est=4.011387443201172, details={'was_impossible': False}),\n",
              " Prediction(uid='A2V1J3JT5OOZFO', iid='B0049V0ZX8', r_ui=5.0, est=4.359715503152133, details={'was_impossible': False}),\n",
              " Prediction(uid='A328S9RN3U5M68', iid='B00HIUL1JO', r_ui=5.0, est=4.781788788691588, details={'was_impossible': False}),\n",
              " Prediction(uid='A1GQRGB8FGSLIZ', iid='B007PXV310', r_ui=1.0, est=3.586100940920502, details={'was_impossible': False}),\n",
              " Prediction(uid='A3L1VJMHFWONCB', iid='B00F6E4HXG', r_ui=4.0, est=4.483343402898657, details={'was_impossible': False}),\n",
              " Prediction(uid='AY3XPKRAMKKY7', iid='B000NGMXTM', r_ui=3.0, est=4.164171348678652, details={'was_impossible': False}),\n",
              " Prediction(uid='A3KNGMX2RVQG91', iid='B0062EUE54', r_ui=5.0, est=4.5390695139484025, details={'was_impossible': False}),\n",
              " Prediction(uid='A8CKH8XB33XGN', iid='B00760VRCM', r_ui=4.0, est=4.223125814083534, details={'was_impossible': False}),\n",
              " Prediction(uid='A2V7EO331SFUF6', iid='B00C87D0XM', r_ui=4.0, est=4.137660297149207, details={'was_impossible': False}),\n",
              " Prediction(uid='A1BT6TL7UCIC5Y', iid='B0034G4YQS', r_ui=5.0, est=4.404818625866959, details={'was_impossible': False}),\n",
              " Prediction(uid='A3OXHLG6DIBRW8', iid='B00DQZRQPI', r_ui=4.0, est=4.425474667231628, details={'was_impossible': False}),\n",
              " Prediction(uid='ABQWMANK4AR63', iid='B00829TIEK', r_ui=4.0, est=4.1547210419844465, details={'was_impossible': False}),\n",
              " Prediction(uid='A30R8VFR16RE32', iid='B00006BXBS', r_ui=3.0, est=4.039237734801257, details={'was_impossible': False}),\n",
              " Prediction(uid='AFM7FK7NFEKFZ', iid='B001RRFO1U', r_ui=5.0, est=4.665481169934061, details={'was_impossible': False}),\n",
              " Prediction(uid='AZOK5STV85FBJ', iid='B0035TZS14', r_ui=5.0, est=4.635499188840552, details={'was_impossible': False}),\n",
              " Prediction(uid='A3A4ZAIBQWKOZS', iid='B00EZL1JQE', r_ui=5.0, est=4.480993062272969, details={'was_impossible': False}),\n",
              " Prediction(uid='A1L64KDYO5BOJA', iid='B000I5JMYW', r_ui=5.0, est=4.409275573048397, details={'was_impossible': False}),\n",
              " Prediction(uid='A17O9AHKHK66AI', iid='B00093IIRA', r_ui=2.0, est=4.077649766924914, details={'was_impossible': False}),\n",
              " Prediction(uid='AETQIN7OH0RL9', iid='B009SYZ8OC', r_ui=4.0, est=3.8531090473194034, details={'was_impossible': False}),\n",
              " Prediction(uid='A1MRPX3RM48T2I', iid='B001GI9JWA', r_ui=4.0, est=4.368107356456971, details={'was_impossible': False}),\n",
              " Prediction(uid='A28525P0S5ZVJ3', iid='B006F5NVLO', r_ui=5.0, est=4.043659005307648, details={'was_impossible': False}),\n",
              " Prediction(uid='A20UU20K7M9ZPF', iid='B00024ENY8', r_ui=5.0, est=3.8185802858977507, details={'was_impossible': False}),\n",
              " Prediction(uid='A1TR1R2QKWRSRA', iid='B00829THEG', r_ui=4.0, est=4.076422543246996, details={'was_impossible': False}),\n",
              " Prediction(uid='A3AG5QAT8L0I3R', iid='B0096JZRBI', r_ui=3.0, est=3.7925508428026378, details={'was_impossible': False}),\n",
              " Prediction(uid='A38V76R24EJSHA', iid='B008HNIW2K', r_ui=4.0, est=4.510473495907529, details={'was_impossible': False}),\n",
              " Prediction(uid='A3CEUT263RNUDO', iid='B009A6CZ30', r_ui=5.0, est=4.385990056684317, details={'was_impossible': False}),\n",
              " Prediction(uid='A377LPVLLAI42D', iid='B0000AOWXP', r_ui=5.0, est=3.9899986974724713, details={'was_impossible': False}),\n",
              " Prediction(uid='AGOH8N902URMW', iid='B00HMRDKO2', r_ui=4.0, est=4.59917672991973, details={'was_impossible': False}),\n",
              " Prediction(uid='A3S5EXYZDEBF3K', iid='B0002BEQOI', r_ui=5.0, est=3.970096579644792, details={'was_impossible': False}),\n",
              " Prediction(uid='A17BUUBOU0598B', iid='B009O7XO8U', r_ui=3.0, est=3.56239939993481, details={'was_impossible': False}),\n",
              " Prediction(uid='A2L0F2T1DLTNT8', iid='B001DKO7R8', r_ui=5.0, est=4.394590051999364, details={'was_impossible': False}),\n",
              " Prediction(uid='A2SH7OWE8QJYNC', iid='B003ILW0L0', r_ui=5.0, est=4.31060762550554, details={'was_impossible': False}),\n",
              " Prediction(uid='A2PL06HW6KZH2', iid='B0002GX1XA', r_ui=4.0, est=4.322578415688656, details={'was_impossible': False}),\n",
              " Prediction(uid='A38KK0SZYEH5UD', iid='B00FY3T9DW', r_ui=5.0, est=4.39744149499776, details={'was_impossible': False}),\n",
              " Prediction(uid='A20L63B48RPSOH', iid='B0039BPG2E', r_ui=4.0, est=4.162266395639636, details={'was_impossible': False}),\n",
              " Prediction(uid='A2TA40MV2H4O6F', iid='B002AQ7KHI', r_ui=4.0, est=4.533849386414163, details={'was_impossible': False}),\n",
              " Prediction(uid='ANTGGAQYPSWHF', iid='B0055CAR7Y', r_ui=5.0, est=4.412797001883645, details={'was_impossible': False}),\n",
              " Prediction(uid='APQQK1V695AUE', iid='B00D1QRPHG', r_ui=5.0, est=4.612594548927212, details={'was_impossible': False}),\n",
              " Prediction(uid='A15CL28ALB7MTZ', iid='B004XZHY34', r_ui=5.0, est=4.455046959336762, details={'was_impossible': False}),\n",
              " Prediction(uid='ARC5ASW9CUAGP', iid='B0044LZNF8', r_ui=5.0, est=4.315364801765609, details={'was_impossible': False}),\n",
              " Prediction(uid='A34VRVI4CSI5RQ', iid='B006VJT1K4', r_ui=5.0, est=4.332036410797571, details={'was_impossible': False}),\n",
              " Prediction(uid='A213J54E63SYOP', iid='B005ARQV6U', r_ui=4.0, est=4.0082479677906635, details={'was_impossible': False}),\n",
              " Prediction(uid='A17UNMURMLX0ZE', iid='B00EAXRVLY', r_ui=4.0, est=3.997619342144295, details={'was_impossible': False}),\n",
              " Prediction(uid='A1WXG10FJ353K0', iid='B001TUYTZM', r_ui=5.0, est=4.662590606078369, details={'was_impossible': False}),\n",
              " Prediction(uid='AD9ZL63H0VKCZ', iid='B006JGXOSY', r_ui=4.0, est=4.121646910437252, details={'was_impossible': False}),\n",
              " Prediction(uid='AWPODHOB4GFWL', iid='B0007OWNCC', r_ui=4.0, est=4.190516241269586, details={'was_impossible': False}),\n",
              " Prediction(uid='A250AXLRBVYKB4', iid='B001IEZX3G', r_ui=5.0, est=4.422501357767449, details={'was_impossible': False}),\n",
              " Prediction(uid='A2W9I628I6SE1U', iid='B0000TU7IG', r_ui=4.0, est=4.223827968586142, details={'was_impossible': False}),\n",
              " Prediction(uid='A377LPVLLAI42D', iid='B000629GES', r_ui=3.0, est=3.7609628748508657, details={'was_impossible': False}),\n",
              " Prediction(uid='A1QQA7Y92L4F9R', iid='B001KX8VES', r_ui=5.0, est=4.510624887580298, details={'was_impossible': False}),\n",
              " Prediction(uid='AOTZOHB2LZGYR', iid='B00654PTT2', r_ui=3.0, est=4.299417025816917, details={'was_impossible': False}),\n",
              " Prediction(uid='AGR1V15L6FLMA', iid='B001BLTDZA', r_ui=5.0, est=4.393143643644043, details={'was_impossible': False}),\n",
              " Prediction(uid='A3NHUQ33CFH3VM', iid='B008JFRRYK', r_ui=5.0, est=4.524328161314021, details={'was_impossible': False}),\n",
              " Prediction(uid='A3MFORLOKIOEQY', iid='B000WKPGVG', r_ui=5.0, est=4.503090624110254, details={'was_impossible': False}),\n",
              " Prediction(uid='AY6A8KPYCE6B0', iid='B00EUFP39E', r_ui=3.0, est=4.033052858163696, details={'was_impossible': False}),\n",
              " Prediction(uid='A1Z16630QMH8Q6', iid='B0041OSQB6', r_ui=5.0, est=4.486026367580961, details={'was_impossible': False}),\n",
              " Prediction(uid='ANYC38I00IRVK', iid='B007JGB6TW', r_ui=3.0, est=3.8580363345169517, details={'was_impossible': False}),\n",
              " Prediction(uid='A1J75JJ0Q2OEJN', iid='B004N6ZC8W', r_ui=4.0, est=4.086119238816942, details={'was_impossible': False}),\n",
              " Prediction(uid='A36K2N527TXXJN', iid='B0015TJNEY', r_ui=4.0, est=4.243300466063958, details={'was_impossible': False}),\n",
              " Prediction(uid='ADLVFFE4VBT8', iid='B0000VP1WQ', r_ui=5.0, est=4.3613938727081365, details={'was_impossible': False}),\n",
              " Prediction(uid='AEJAGHLC675A7', iid='B000N99BBC', r_ui=5.0, est=4.964214197503351, details={'was_impossible': False}),\n",
              " Prediction(uid='A38RMU1Y5TDP9', iid='B00DUTIZJG', r_ui=4.0, est=4.449928590399799, details={'was_impossible': False}),\n",
              " Prediction(uid='A3J8A5L5AF5TX9', iid='B0034XDT0S', r_ui=2.0, est=3.8509449271476237, details={'was_impossible': False}),\n",
              " Prediction(uid='A1N5FSCYN4796F', iid='B000RHZJN4', r_ui=4.0, est=4.081673800135343, details={'was_impossible': False}),\n",
              " Prediction(uid='AKT8TGIT6VVZ5', iid='B000YCZQQC', r_ui=5.0, est=4.680785755605292, details={'was_impossible': False}),\n",
              " Prediction(uid='A3CMO216CWOF5N', iid='B00006HOLO', r_ui=3.0, est=4.093744779045268, details={'was_impossible': False}),\n",
              " Prediction(uid='A32O5FZH994CNY', iid='B004YKXGIK', r_ui=5.0, est=4.500842097415707, details={'was_impossible': False}),\n",
              " Prediction(uid='A1AH8033GWKBY7', iid='B000UD3LPI', r_ui=5.0, est=4.364505158416659, details={'was_impossible': False}),\n",
              " Prediction(uid='A35A2RWUMC737N', iid='B003VWU79I', r_ui=4.0, est=4.3757811722653175, details={'was_impossible': False}),\n",
              " Prediction(uid='A185O1MX1RP964', iid='B009KY58FE', r_ui=3.0, est=4.235267088518587, details={'was_impossible': False}),\n",
              " Prediction(uid='A4IL0CLL27Q33', iid='B000RXYV5U', r_ui=5.0, est=4.333249515882459, details={'was_impossible': False}),\n",
              " Prediction(uid='A1B0NL8UWAELI7', iid='B002HK8TE0', r_ui=4.0, est=4.332569175063856, details={'was_impossible': False}),\n",
              " Prediction(uid='A35Q0RBM3YNQNF', iid='B0088PPFP4', r_ui=5.0, est=4.369373394751913, details={'was_impossible': False}),\n",
              " Prediction(uid='A225G2TFM76GYX', iid='B002GWOP42', r_ui=4.0, est=4.3551146237031535, details={'was_impossible': False}),\n",
              " Prediction(uid='A5KMMY627T3W', iid='B005A0B3MO', r_ui=5.0, est=4.5985928392593385, details={'was_impossible': False}),\n",
              " Prediction(uid='A186697K4XKXQL', iid='B003DNS88M', r_ui=4.0, est=3.8482876400114154, details={'was_impossible': False}),\n",
              " Prediction(uid='A22NKFOH9RATRC', iid='B003FVVMS0', r_ui=5.0, est=4.536639005604299, details={'was_impossible': False}),\n",
              " Prediction(uid='A3MFORLOKIOEQY', iid='B002HWRJY4', r_ui=5.0, est=4.618694516838455, details={'was_impossible': False}),\n",
              " Prediction(uid='A20WUUD9EDWY4N', iid='B003TM600U', r_ui=5.0, est=4.387923596770195, details={'was_impossible': False}),\n",
              " Prediction(uid='A1OGCPMSIVK7G4', iid='B00724X70C', r_ui=1.0, est=3.8843665956007776, details={'was_impossible': False}),\n",
              " Prediction(uid='A5QDZEOIMQ4LW', iid='B001K9BFB8', r_ui=5.0, est=4.681497487587518, details={'was_impossible': False}),\n",
              " Prediction(uid='A3DWO5RJDA430F', iid='B0048JG5UI', r_ui=5.0, est=4.201818814764559, details={'was_impossible': False}),\n",
              " Prediction(uid='A95PWI4S6WHGL', iid='B00APCMMDG', r_ui=5.0, est=4.675295508154343, details={'was_impossible': False}),\n",
              " Prediction(uid='A2LEIANN1UZTHP', iid='B000R9AAJA', r_ui=5.0, est=4.2097134695753144, details={'was_impossible': False}),\n",
              " Prediction(uid='AD8DLOGHAXL', iid='B00024ENWU', r_ui=3.0, est=4.244853627865026, details={'was_impossible': False}),\n",
              " Prediction(uid='A1KKE6VX8VPWZK', iid='B001OOZ1X2', r_ui=5.0, est=4.779391103153999, details={'was_impossible': False}),\n",
              " Prediction(uid='A2VC48WIMY6L6E', iid='B004PA9PBQ', r_ui=3.0, est=4.22053982554771, details={'was_impossible': False}),\n",
              " Prediction(uid='A1TFDMY4YNTV97', iid='B002O11LQA', r_ui=5.0, est=3.866667408966383, details={'was_impossible': False}),\n",
              " Prediction(uid='A6VXZ1EEPRTLV', iid='B00JX1ZS5O', r_ui=4.0, est=4.283069747481278, details={'was_impossible': False}),\n",
              " Prediction(uid='A3IY316DRNF5F2', iid='B000P41DZM', r_ui=5.0, est=4.135795207408254, details={'was_impossible': False}),\n",
              " Prediction(uid='AT8V3JOZD3KWK', iid='B0053ESKUK', r_ui=3.0, est=4.114805637990784, details={'was_impossible': False}),\n",
              " Prediction(uid='A1OO9N1MRNQ7K0', iid='B002LTWDSK', r_ui=5.0, est=4.840542468388984, details={'was_impossible': False}),\n",
              " Prediction(uid='A3QRW0UJPKIAX7', iid='B002LF2PQO', r_ui=3.0, est=4.019514748830454, details={'was_impossible': False}),\n",
              " Prediction(uid='A359MYLPLEOF7N', iid='B008Y92PS4', r_ui=5.0, est=4.466368325225286, details={'was_impossible': False}),\n",
              " Prediction(uid='A3S0EHEIR52HP1', iid='B003D78O1Y', r_ui=5.0, est=4.611141535455043, details={'was_impossible': False}),\n",
              " Prediction(uid='ACH055GTTIGC9', iid='B0001YFXAM', r_ui=3.0, est=4.268433140812163, details={'was_impossible': False}),\n",
              " Prediction(uid='A250AXLRBVYKB4', iid='B003TOE4PQ', r_ui=5.0, est=4.306303220722318, details={'was_impossible': False}),\n",
              " Prediction(uid='A1F9Z42CFF9IAY', iid='B0041OSAZ8', r_ui=5.0, est=3.9233126852003486, details={'was_impossible': False}),\n",
              " Prediction(uid='A3AG5QAT8L0I3R', iid='B004N6259G', r_ui=5.0, est=3.9804176210670548, details={'was_impossible': False}),\n",
              " Prediction(uid='A3VL4RXCWNSR3H', iid='B000WU3BNQ', r_ui=2.0, est=4.2567299374482035, details={'was_impossible': False}),\n",
              " Prediction(uid='A1H55L0BLPCWYF', iid='B000S6E0XY', r_ui=5.0, est=4.585548713226171, details={'was_impossible': False}),\n",
              " Prediction(uid='AHR86ZEYETLJI', iid='B00B7O1CY6', r_ui=5.0, est=4.502345040591177, details={'was_impossible': False}),\n",
              " Prediction(uid='A2W9GX82SLKROQ', iid='B006ZP8UOW', r_ui=4.0, est=3.863767054623843, details={'was_impossible': False}),\n",
              " Prediction(uid='A19X4BF861LQST', iid='B003OC9LZG', r_ui=5.0, est=3.9404446584143127, details={'was_impossible': False}),\n",
              " Prediction(uid='AJCR7L4AXL2OG', iid='B003G0M4PK', r_ui=3.0, est=3.685613838032953, details={'was_impossible': False}),\n",
              " Prediction(uid='A1J75JJ0Q2OEJN', iid='B008H9BXMK', r_ui=5.0, est=3.7333397497607694, details={'was_impossible': False}),\n",
              " Prediction(uid='A3PDWA32BAMB2Y', iid='B004RORMF6', r_ui=5.0, est=4.58741633555187, details={'was_impossible': False}),\n",
              " Prediction(uid='A6FIAB28IS79', iid='B0015DYMVO', r_ui=4.0, est=4.134266396833401, details={'was_impossible': False}),\n",
              " Prediction(uid='A2QRXQPHDMFCQV', iid='B000JJSQ30', r_ui=4.0, est=3.786137426556144, details={'was_impossible': False}),\n",
              " Prediction(uid='A1BT6TL7UCIC5Y', iid='B001UE8IMC', r_ui=5.0, est=4.478316195285661, details={'was_impossible': False}),\n",
              " Prediction(uid='A3S0DBBR693O06', iid='B009NQLT0M', r_ui=5.0, est=4.562496405719564, details={'was_impossible': False}),\n",
              " Prediction(uid='A3QQGPI3CTV9SX', iid='B000FTHLIA', r_ui=5.0, est=4.609244954792309, details={'was_impossible': False}),\n",
              " Prediction(uid='A3CW0ZLUO5X2B1', iid='B0039UWW54', r_ui=5.0, est=4.141748641760902, details={'was_impossible': False}),\n",
              " Prediction(uid='A2EF8N7ZE7ONWX', iid='B000067R8G', r_ui=5.0, est=4.196507392845369, details={'was_impossible': False}),\n",
              " Prediction(uid='ADZF3QDGSZE7K', iid='B002VWJU56', r_ui=5.0, est=4.244455743301583, details={'was_impossible': False}),\n",
              " Prediction(uid='A7EU2BWLLCJY2', iid='B00HSIQIWQ', r_ui=5.0, est=4.621759000238464, details={'was_impossible': False}),\n",
              " Prediction(uid='AO8NH0BV82XIE', iid='B009X2OS5Y', r_ui=4.0, est=4.101743921994149, details={'was_impossible': False}),\n",
              " Prediction(uid='A2YYHSORXIHZCS', iid='B005TX3M62', r_ui=5.0, est=4.454248558203026, details={'was_impossible': False}),\n",
              " Prediction(uid='AHQRU3MRORIWQ', iid='B001MVKZOC', r_ui=3.0, est=3.84682987499478, details={'was_impossible': False}),\n",
              " Prediction(uid='A3F9CBHV4OHFBS', iid='B003L4P872', r_ui=5.0, est=4.414679211323195, details={'was_impossible': False}),\n",
              " Prediction(uid='A2UQK3DAZ8NO2T', iid='B000N44XNI', r_ui=3.0, est=4.013397546411008, details={'was_impossible': False}),\n",
              " Prediction(uid='AGFSSC5DBY2HU', iid='B004FPIO18', r_ui=3.0, est=4.193146701146316, details={'was_impossible': False}),\n",
              " Prediction(uid='A2NN1KIYEM2SKS', iid='B00DR0PDNE', r_ui=3.0, est=3.7353319236799276, details={'was_impossible': False}),\n",
              " Prediction(uid='AGHZXQL9F94T9', iid='B000BFNT0W', r_ui=4.0, est=3.7175305855919785, details={'was_impossible': False}),\n",
              " Prediction(uid='AL1XV4L25FZ2S', iid='B00DDK1QUC', r_ui=5.0, est=4.024411772556117, details={'was_impossible': False}),\n",
              " Prediction(uid='A3223W5IROMYTY', iid='B009VV56TY', r_ui=5.0, est=4.761887577483328, details={'was_impossible': False}),\n",
              " Prediction(uid='A1EXGL6L0QQ0M5', iid='B00D1GYNT4', r_ui=5.0, est=4.507560436464189, details={'was_impossible': False}),\n",
              " Prediction(uid='A2CL818RN52NWN', iid='B0000511WW', r_ui=5.0, est=4.41585131838825, details={'was_impossible': False}),\n",
              " Prediction(uid='APGQTZZ4ZFPHO', iid='B00009R6VZ', r_ui=5.0, est=4.143074064415119, details={'was_impossible': False}),\n",
              " Prediction(uid='A1JWSDDIH5Z7DV', iid='B000GHDPHC', r_ui=5.0, est=4.825342498056238, details={'was_impossible': False}),\n",
              " Prediction(uid='AZCE11PSTCH1L', iid='B000V0IE6G', r_ui=5.0, est=4.468549889164738, details={'was_impossible': False}),\n",
              " Prediction(uid='A2TMFC9O3ZCNKE', iid='B000X1TS54', r_ui=4.0, est=4.0513426131072885, details={'was_impossible': False}),\n",
              " Prediction(uid='A362FM6FYA1SYS', iid='B003750EJ2', r_ui=4.0, est=4.4373726071877, details={'was_impossible': False}),\n",
              " Prediction(uid='AT8V3JOZD3KWK', iid='B0096VBXQE', r_ui=5.0, est=4.311150053848734, details={'was_impossible': False}),\n",
              " Prediction(uid='AMO1MLSIJSQOF', iid='B00CHR46JA', r_ui=4.0, est=4.548632500902224, details={'was_impossible': False}),\n",
              " Prediction(uid='A96JD9312DHWC', iid='B000095S9V', r_ui=5.0, est=4.6386718220050955, details={'was_impossible': False}),\n",
              " Prediction(uid='A250AXLRBVYKB4', iid='998376234X', r_ui=1.0, est=3.9591848742893805, details={'was_impossible': False}),\n",
              " Prediction(uid='A35A2RWUMC737N', iid='B00354MVP0', r_ui=4.0, est=4.3921809801436185, details={'was_impossible': False}),\n",
              " Prediction(uid='A3MFORLOKIOEQY', iid='B004LSUQZQ', r_ui=4.0, est=4.351284602286688, details={'was_impossible': False}),\n",
              " Prediction(uid='A1ZM846Y7AUYD', iid='B000184N4A', r_ui=4.0, est=4.1891175752763585, details={'was_impossible': False}),\n",
              " Prediction(uid='A1G5MI2KREPEIB', iid='B00358TPJ6', r_ui=5.0, est=4.236059867984839, details={'was_impossible': False}),\n",
              " Prediction(uid='A313H6238N589', iid='B0015ACUKC', r_ui=5.0, est=4.190425984617228, details={'was_impossible': False}),\n",
              " Prediction(uid='A2V1J3JT5OOZFO', iid='B0000AHO92', r_ui=1.0, est=4.01990814837571, details={'was_impossible': False}),\n",
              " Prediction(uid='A240FRPD4MEXND', iid='B005TDWSJ4', r_ui=4.0, est=4.076915267867758, details={'was_impossible': False}),\n",
              " Prediction(uid='AT8V3JOZD3KWK', iid='B004U8GSMC', r_ui=5.0, est=4.242039391410428, details={'was_impossible': False}),\n",
              " Prediction(uid='A14Z6D3IRJ23F7', iid='B000WMTVQK', r_ui=5.0, est=4.7472405943835145, details={'was_impossible': False}),\n",
              " Prediction(uid='A2N3JSOIQ6ZNFL', iid='B00GHR2X8C', r_ui=5.0, est=4.438521084823592, details={'was_impossible': False}),\n",
              " Prediction(uid='AW6FQE5QRF2LM', iid='B002VJL0OS', r_ui=5.0, est=4.630754696320282, details={'was_impossible': False}),\n",
              " Prediction(uid='A3U6J0DLLDEWM2', iid='B000UVZ5TA', r_ui=5.0, est=4.143973285277927, details={'was_impossible': False}),\n",
              " Prediction(uid='A3NEAETOSXDBOM', iid='B0080YBH8M', r_ui=5.0, est=4.433158436696514, details={'was_impossible': False}),\n",
              " Prediction(uid='A37CEYB95LK6R6', iid='B002HVYVNC', r_ui=5.0, est=4.435267951393723, details={'was_impossible': False}),\n",
              " Prediction(uid='A1FDSZISWIXH1A', iid='B00BT9LPDM', r_ui=1.0, est=4.117783439520255, details={'was_impossible': False}),\n",
              " Prediction(uid='A2WLNSZ9U0T1S3', iid='B000WGLZRO', r_ui=4.0, est=4.2693305034311955, details={'was_impossible': False}),\n",
              " Prediction(uid='A26BDXG9KVH7SU', iid='B004FG16MG', r_ui=1.0, est=3.688733204636617, details={'was_impossible': False}),\n",
              " Prediction(uid='A4U27URFECK1U', iid='B004CLYEFK', r_ui=3.0, est=4.379999025668794, details={'was_impossible': False}),\n",
              " Prediction(uid='A12ANFNOSMW5VD', iid='B001F51G16', r_ui=5.0, est=4.256493868731309, details={'was_impossible': False}),\n",
              " Prediction(uid='A3Q1J68QY1MZQ9', iid='B000N49WPW', r_ui=4.0, est=4.073595810205766, details={'was_impossible': False}),\n",
              " Prediction(uid='ASJLXOX1VD4DF', iid='B0054YF0C0', r_ui=1.0, est=2.7950983378884686, details={'was_impossible': False}),\n",
              " Prediction(uid='A2UWPPU5GZLMQZ', iid='B000WJOF1O', r_ui=4.0, est=4.311722115750285, details={'was_impossible': False}),\n",
              " Prediction(uid='A21NS06GDEA3V0', iid='B008AJNF78', r_ui=1.0, est=3.624937605273931, details={'was_impossible': False}),\n",
              " Prediction(uid='A3D6OI36USYOU1', iid='B007NSOS96', r_ui=4.0, est=4.172796741585905, details={'was_impossible': False}),\n",
              " Prediction(uid='AM9APPMIE1BHZ', iid='B0046TAIUI', r_ui=5.0, est=4.317311920540301, details={'was_impossible': False}),\n",
              " Prediction(uid='A96JD9312DHWC', iid='B004CLYEFK', r_ui=5.0, est=4.733337938231879, details={'was_impossible': False}),\n",
              " Prediction(uid='A1GWG5CWLKJ7ET', iid='B00HR78S2Q', r_ui=5.0, est=4.261038049384375, details={'was_impossible': False}),\n",
              " Prediction(uid='ADLVFFE4VBT8', iid='B00FW3KZNM', r_ui=5.0, est=4.365889288073645, details={'was_impossible': False}),\n",
              " Prediction(uid='A141R97FHSSUQ0', iid='B008KEPX1O', r_ui=5.0, est=4.399854950095879, details={'was_impossible': False}),\n",
              " Prediction(uid='A16WP8NTPYB0ZM', iid='B006YVWDJ0', r_ui=1.0, est=3.2618146513495065, details={'was_impossible': False}),\n",
              " Prediction(uid='A19FRW264WZTGP', iid='B0071BTJPI', r_ui=5.0, est=4.538743252993419, details={'was_impossible': False}),\n",
              " Prediction(uid='AYMD77ITD15PT', iid='B002J9G5XG', r_ui=5.0, est=4.297659334345738, details={'was_impossible': False}),\n",
              " Prediction(uid='A2WF58BAWLVI95', iid='B000799LU4', r_ui=1.0, est=3.224631764768913, details={'was_impossible': False}),\n",
              " Prediction(uid='A32QOZWIKQDNZX', iid='B000G65R60', r_ui=5.0, est=4.414747457543929, details={'was_impossible': False}),\n",
              " Prediction(uid='A1A306IAZ3TM1', iid='B00021XIJW', r_ui=1.0, est=2.81565541263182, details={'was_impossible': False}),\n",
              " Prediction(uid='A6VPK7X53QNAQ', iid='B0019M6GO2', r_ui=5.0, est=4.061527190189118, details={'was_impossible': False}),\n",
              " Prediction(uid='A2V5M5EJPOD2IU', iid='B00906HNZU', r_ui=5.0, est=4.713522860180516, details={'was_impossible': False}),\n",
              " Prediction(uid='A19HT7YC1UW3D6', iid='B006R2N8VS', r_ui=5.0, est=4.488135946573365, details={'was_impossible': False}),\n",
              " Prediction(uid='A195EZSQDW3E21', iid='B003E16ODE', r_ui=5.0, est=3.9590421998695042, details={'was_impossible': False}),\n",
              " Prediction(uid='A209G57KXCBF4C', iid='B005OYR9D8', r_ui=3.0, est=3.7929748194102437, details={'was_impossible': False}),\n",
              " Prediction(uid='A1ZPY91VE3IDN1', iid='B000X2AO6K', r_ui=5.0, est=4.410870606287298, details={'was_impossible': False}),\n",
              " Prediction(uid='A2Z2MUP8JRJXEU', iid='B003U8GI6E', r_ui=5.0, est=4.471175471470415, details={'was_impossible': False}),\n",
              " Prediction(uid='A17UNMURMLX0ZE', iid='B001F7FMUA', r_ui=3.0, est=4.007823808543852, details={'was_impossible': False}),\n",
              " Prediction(uid='A15J9K7O10A3M6', iid='B002TXJUJ8', r_ui=5.0, est=4.319023140235821, details={'was_impossible': False}),\n",
              " Prediction(uid='A38RMU1Y5TDP9', iid='B00HBYKVA2', r_ui=5.0, est=4.40691875189745, details={'was_impossible': False}),\n",
              " Prediction(uid='A3R33KMESG0XGQ', iid='B000VX6XL6', r_ui=4.0, est=4.412046435254507, details={'was_impossible': False}),\n",
              " Prediction(uid='A2QDOJFFLFGF18', iid='B00DQZRQPI', r_ui=5.0, est=4.512555336736091, details={'was_impossible': False}),\n",
              " Prediction(uid='A5JLAU2ARJ0BO', iid='B000WF1PJS', r_ui=5.0, est=4.023694594293836, details={'was_impossible': False}),\n",
              " Prediction(uid='AM3XNQU9TZBD8', iid='B00AR95ENW', r_ui=5.0, est=4.672180331181823, details={'was_impossible': False}),\n",
              " Prediction(uid='A2PC9ZZIFV31B1', iid='B0015DYMVO', r_ui=5.0, est=4.090530200510945, details={'was_impossible': False}),\n",
              " Prediction(uid='A1C5WS021EL3WO', iid='B001AV5ZHG', r_ui=4.0, est=4.425952261776791, details={'was_impossible': False}),\n",
              " Prediction(uid='AAK6SOEJY30YG', iid='B000092TT0', r_ui=3.0, est=4.168278406193977, details={'was_impossible': False}),\n",
              " Prediction(uid='AGXMC3ITWZASE', iid='B002IPHA5S', r_ui=5.0, est=4.138476284101165, details={'was_impossible': False}),\n",
              " Prediction(uid='A11I1I9QLMAM1A', iid='B001H9O1EE', r_ui=4.0, est=4.4256300442186856, details={'was_impossible': False}),\n",
              " Prediction(uid='AENULRBQ2IE5I', iid='B0074J7ITG', r_ui=5.0, est=4.562015286123011, details={'was_impossible': False}),\n",
              " Prediction(uid='AJX9A4Q19UTJU', iid='B00EE18LPM', r_ui=5.0, est=4.508720834539105, details={'was_impossible': False}),\n",
              " Prediction(uid='A105TOJ6LTVMBG', iid='B004IZN3WK', r_ui=2.0, est=3.819669750567138, details={'was_impossible': False}),\n",
              " Prediction(uid='A19X4BF861LQST', iid='B002MPPRNQ', r_ui=5.0, est=3.996113111221226, details={'was_impossible': False}),\n",
              " Prediction(uid='A28BX3MM90A6FI', iid='B002KETE24', r_ui=5.0, est=4.554472346052867, details={'was_impossible': False}),\n",
              " Prediction(uid='AGOH8N902URMW', iid='B002R5AM7C', r_ui=5.0, est=4.410642531069186, details={'was_impossible': False}),\n",
              " Prediction(uid='A3QNX5KWHDV0GD', iid='B001CJ6WL4', r_ui=1.0, est=3.4084007253073185, details={'was_impossible': False}),\n",
              " Prediction(uid='A3FOSLM5G1BO63', iid='B004BDORE2', r_ui=4.0, est=3.933507842682271, details={'was_impossible': False}),\n",
              " Prediction(uid='A6KL17KKN0A5L', iid='B001SJVU24', r_ui=5.0, est=4.696927878612137, details={'was_impossible': False}),\n",
              " Prediction(uid='A2LB4FLRZG6CUV', iid='B005UNFRU0', r_ui=5.0, est=4.400290392029334, details={'was_impossible': False}),\n",
              " Prediction(uid='A33YZNZIRA3H97', iid='B005GLFSYQ', r_ui=4.0, est=3.841968999958505, details={'was_impossible': False}),\n",
              " Prediction(uid='A2Q7OJTVPIO2XH', iid='B009VZOJ4S', r_ui=4.0, est=4.173264107152304, details={'was_impossible': False}),\n",
              " Prediction(uid='AJCR7L4AXL2OG', iid='B006ZN4U34', r_ui=3.0, est=3.7188691992084957, details={'was_impossible': False}),\n",
              " Prediction(uid='A3BVN2QBNPBHCR', iid='B007FPIQ3Q', r_ui=5.0, est=4.484824346849354, details={'was_impossible': False}),\n",
              " Prediction(uid='A22NKFOH9RATRC', iid='B003X5FM6Q', r_ui=3.0, est=3.985148735580978, details={'was_impossible': False}),\n",
              " Prediction(uid='A2XQYE6TJYROHQ', iid='B0007SXHP0', r_ui=5.0, est=4.198589320237665, details={'was_impossible': False}),\n",
              " Prediction(uid='A2A4X545ERLS7H', iid='B00B46XUQU', r_ui=1.0, est=4.088816303276345, details={'was_impossible': False}),\n",
              " Prediction(uid='AY3D7DG5L5WCK', iid='B008ULPAT2', r_ui=5.0, est=4.611997855475109, details={'was_impossible': False}),\n",
              " Prediction(uid='A1EXGL6L0QQ0M5', iid='B00EE18LPM', r_ui=4.0, est=4.390637711514265, details={'was_impossible': False}),\n",
              " Prediction(uid='A1ZCSSCAGBCD49', iid='B000YQ6DIS', r_ui=4.0, est=3.7942893119516623, details={'was_impossible': False}),\n",
              " Prediction(uid='ACQYIC13JXAOI', iid='B00ATM1MVU', r_ui=5.0, est=4.377722853791813, details={'was_impossible': False}),\n",
              " Prediction(uid='A2BLFCOPSMBOZ9', iid='B009CNHZKO', r_ui=4.0, est=4.195199017237135, details={'was_impossible': False}),\n",
              " Prediction(uid='A2E1EFNIZL2FVA', iid='B004C3AW40', r_ui=5.0, est=4.6404547016591104, details={'was_impossible': False}),\n",
              " Prediction(uid='A2WB7LZ595CR50', iid='B005GIWTOQ', r_ui=4.0, est=3.9025322631095887, details={'was_impossible': False}),\n",
              " Prediction(uid='A1QJ10LEINDRWW', iid='B002UT42UI', r_ui=5.0, est=4.006055861487966, details={'was_impossible': False}),\n",
              " Prediction(uid='A3TR3KLL5PXSZ8', iid='B006B7R4LY', r_ui=4.0, est=4.387429389434648, details={'was_impossible': False}),\n",
              " Prediction(uid='A3PPO2X5PJE1L9', iid='B0095MFAFO', r_ui=5.0, est=4.424092828029595, details={'was_impossible': False}),\n",
              " Prediction(uid='A1BVE2ZIBKJ7YI', iid='B004LXJ7GK', r_ui=5.0, est=3.8855372747043124, details={'was_impossible': False}),\n",
              " Prediction(uid='A3N0P5AAMP6XD2', iid='B000067RRX', r_ui=4.0, est=3.8691560323162375, details={'was_impossible': False}),\n",
              " Prediction(uid='A10O7THJ2O20AG', iid='B00009R72R', r_ui=5.0, est=4.689365921425816, details={'was_impossible': False}),\n",
              " Prediction(uid='A22NKFOH9RATRC', iid='B000OUW7M0', r_ui=2.0, est=4.131348511414164, details={'was_impossible': False}),\n",
              " Prediction(uid='AMKNPIDFLRFMP', iid='B003VAHYNC', r_ui=5.0, est=4.259647356107343, details={'was_impossible': False}),\n",
              " Prediction(uid='A105TOJ6LTVMBG', iid='B001VBU0NY', r_ui=5.0, est=3.947866730514236, details={'was_impossible': False}),\n",
              " Prediction(uid='A1KI7YHQEOS1RB', iid='B00746LVOM', r_ui=4.0, est=4.5540728645098705, details={'was_impossible': False}),\n",
              " Prediction(uid='A250AXLRBVYKB4', iid='B000GC98H8', r_ui=5.0, est=4.18537267649177, details={'was_impossible': False}),\n",
              " Prediction(uid='A8WEXFRWX1ZHH', iid='B008YU39LU', r_ui=1.0, est=3.367283171911522, details={'was_impossible': False}),\n",
              " Prediction(uid='A35HNL2VEDK9Z1', iid='B00005QFAF', r_ui=5.0, est=4.209896304833275, details={'was_impossible': False}),\n",
              " Prediction(uid='ABQWMANK4AR63', iid='B004S95AZO', r_ui=5.0, est=4.038724772201024, details={'was_impossible': False}),\n",
              " Prediction(uid='A3JU990UTN5RQP', iid='B0042GL18S', r_ui=5.0, est=4.459688908104462, details={'was_impossible': False}),\n",
              " Prediction(uid='AQ55H30MZSV0Q', iid='B007R5YGO2', r_ui=5.0, est=3.895773646569422, details={'was_impossible': False}),\n",
              " Prediction(uid='A1DB5QPH7WO488', iid='B00137NMMW', r_ui=4.0, est=3.9111822482993426, details={'was_impossible': False}),\n",
              " Prediction(uid='AFICF7DKHTQ87', iid='B009F7IBZK', r_ui=5.0, est=4.249663216593191, details={'was_impossible': False}),\n",
              " Prediction(uid='AS269J1OGZT1V', iid='B00AA478UQ', r_ui=4.0, est=4.009334653323197, details={'was_impossible': False}),\n",
              " Prediction(uid='A6TBR6L2D4XKC', iid='B005EN6WNW', r_ui=3.0, est=4.070235861345322, details={'was_impossible': False}),\n",
              " Prediction(uid='A11ULAZ4B5ZXC8', iid='B000N99BBC', r_ui=5.0, est=5, details={'was_impossible': False}),\n",
              " Prediction(uid='A3REK3OFONWB1Q', iid='B001C0DJL4', r_ui=5.0, est=4.522876962095901, details={'was_impossible': False}),\n",
              " Prediction(uid='AN0JK8OQLUC55', iid='B002GP0PKM', r_ui=5.0, est=4.030231835634717, details={'was_impossible': False}),\n",
              " Prediction(uid='A3GQY0TFRG0MPZ', iid='B0000A2QBP', r_ui=5.0, est=4.710443016272664, details={'was_impossible': False}),\n",
              " Prediction(uid='AUBEFRFHJR64Y', iid='B009C98NPY', r_ui=2.0, est=3.971648226047309, details={'was_impossible': False}),\n",
              " Prediction(uid='A2JKM8KF3296CW', iid='B000QWG43Y', r_ui=4.0, est=4.196510580098957, details={'was_impossible': False}),\n",
              " Prediction(uid='AU2UJF4I7KAWL', iid='B0083BVT30', r_ui=2.0, est=4.035058495105268, details={'was_impossible': False}),\n",
              " Prediction(uid='AHNHLGKIZ2N3B', iid='B00G6CLN3Y', r_ui=4.0, est=3.5437861552949483, details={'was_impossible': False}),\n",
              " Prediction(uid='A16QODENBJVUI1', iid='B00EO302SO', r_ui=5.0, est=4.660354415101301, details={'was_impossible': False}),\n",
              " Prediction(uid='A1UQBFCERIP7VJ', iid='B00L26YDA4', r_ui=5.0, est=4.500109403638397, details={'was_impossible': False}),\n",
              " Prediction(uid='A1PEXTGNF36I1Q', iid='B001G4VSB4', r_ui=5.0, est=4.6098452828720315, details={'was_impossible': False}),\n",
              " Prediction(uid='A2HXE29CU1I24Y', iid='B00006B6TF', r_ui=5.0, est=3.960931887855459, details={'was_impossible': False}),\n",
              " Prediction(uid='A2QRXQPHDMFCQV', iid='B00FG38L16', r_ui=4.0, est=3.6326904708338117, details={'was_impossible': False}),\n",
              " Prediction(uid='A2VJ5ALN1BIV3B', iid='B003R4XSG4', r_ui=5.0, est=4.483621461348265, details={'was_impossible': False}),\n",
              " Prediction(uid='A17HMM1M7T9PJ1', iid='B00DR6DQZA', r_ui=5.0, est=4.5327889521415505, details={'was_impossible': False}),\n",
              " Prediction(uid='AI8EMB0HUC6Z5', iid='B004F95Q88', r_ui=5.0, est=4.416427375538706, details={'was_impossible': False}),\n",
              " Prediction(uid='A1QOK9LU90ACF7', iid='B0015L0T3G', r_ui=5.0, est=4.292199419441763, details={'was_impossible': False}),\n",
              " Prediction(uid='A22CW0ZHY3NJH8', iid='B0053R0WWG', r_ui=4.0, est=4.470610284766971, details={'was_impossible': False}),\n",
              " Prediction(uid='AMRMK86X3PKXD', iid='B007JCNOHI', r_ui=4.0, est=4.316157631050479, details={'was_impossible': False}),\n",
              " Prediction(uid='A12DQZKRKTNF5E', iid='B0014J07R2', r_ui=5.0, est=3.994266630783488, details={'was_impossible': False}),\n",
              " Prediction(uid='ABIVKBMSIPEDY', iid='B00E0HITQ6', r_ui=5.0, est=4.294798237762762, details={'was_impossible': False}),\n",
              " Prediction(uid='A38CHSS1ZAE51B', iid='B003TPC2JU', r_ui=5.0, est=4.327196807484739, details={'was_impossible': False}),\n",
              " Prediction(uid='A35KBAQ4VBNQ6L', iid='B003XJBN92', r_ui=5.0, est=4.548211627169658, details={'was_impossible': False}),\n",
              " Prediction(uid='ATS2855497V0I', iid='B005DSPLC6', r_ui=3.0, est=3.677240148237028, details={'was_impossible': False}),\n",
              " Prediction(uid='A38NHXL5257E3B', iid='B004XC6GJ0', r_ui=5.0, est=4.725935713670261, details={'was_impossible': False}),\n",
              " Prediction(uid='A2HV76MYH7UL3S', iid='B006OU95NS', r_ui=1.0, est=4.155171923588621, details={'was_impossible': False}),\n",
              " Prediction(uid='A17O9AHKHK66AI', iid='B00DD7204G', r_ui=5.0, est=4.185649472826895, details={'was_impossible': False}),\n",
              " Prediction(uid='A3R19YKNL641X3', iid='B0049U3TVE', r_ui=2.0, est=3.800050973170328, details={'was_impossible': False}),\n",
              " Prediction(uid='AZ515FFZ7I2P7', iid='B0007X7W6K', r_ui=5.0, est=4.301239352588944, details={'was_impossible': False}),\n",
              " Prediction(uid='A5JLAU2ARJ0BO', iid='B000063EKP', r_ui=5.0, est=4.012472715723514, details={'was_impossible': False}),\n",
              " Prediction(uid='A1V3TRGWOMA8LC', iid='B0082E9K7U', r_ui=5.0, est=4.563467728812008, details={'was_impossible': False}),\n",
              " Prediction(uid='A3M7R4PD0FEPUB', iid='B0093HAWZY', r_ui=4.0, est=4.35701717681515, details={'was_impossible': False}),\n",
              " Prediction(uid='A18L9A64XNGVGU', iid='B002MAPRYU', r_ui=5.0, est=3.797758775832667, details={'was_impossible': False}),\n",
              " Prediction(uid='A3R1WFO4KIUQXZ', iid='B009GYIKHQ', r_ui=3.0, est=4.069877103484572, details={'was_impossible': False}),\n",
              " Prediction(uid='ARBKYIVNYWK3C', iid='B001U0O7IA', r_ui=5.0, est=4.365687138098171, details={'was_impossible': False}),\n",
              " Prediction(uid='A2AY4YUOX2N1BQ', iid='B003X4NZQ6', r_ui=3.0, est=4.370610313527427, details={'was_impossible': False}),\n",
              " Prediction(uid='A3GX0FAMEXV6FB', iid='B007SZ0E1K', r_ui=5.0, est=4.339646739842343, details={'was_impossible': False}),\n",
              " Prediction(uid='A20OBCQWBKCGZT', iid='B00D8T886S', r_ui=3.0, est=4.092024633749422, details={'was_impossible': False}),\n",
              " Prediction(uid='A3BNMHRW2R35LK', iid='B00EO96W2I', r_ui=4.0, est=4.458536545345852, details={'was_impossible': False}),\n",
              " Prediction(uid='A2AF0NOCM71J0B', iid='B006ZH0L2E', r_ui=5.0, est=4.468044276963198, details={'was_impossible': False}),\n",
              " Prediction(uid='A2RIL2NXHE00AQ', iid='B002WGJFI8', r_ui=4.0, est=4.369173699291231, details={'was_impossible': False}),\n",
              " Prediction(uid='A3CG93783LP0FO', iid='B00B660GE2', r_ui=3.0, est=4.100191691854591, details={'was_impossible': False}),\n",
              " Prediction(uid='A2ZFFSJ0VM6KSJ', iid='B005DOK8NW', r_ui=5.0, est=4.388081115173153, details={'was_impossible': False}),\n",
              " Prediction(uid='A110PC8C5Y7MQD', iid='B003S5SOLG', r_ui=5.0, est=4.262072704000722, details={'was_impossible': False}),\n",
              " Prediction(uid='A386LG0LRWKJZP', iid='B0041F2KIU', r_ui=5.0, est=3.3233536725979222, details={'was_impossible': False}),\n",
              " Prediction(uid='A2WLNSZ9U0T1S3', iid='B003B48UQ8', r_ui=2.0, est=4.024443242404893, details={'was_impossible': False}),\n",
              " Prediction(uid='A2X61KKXXR6WNP', iid='B000637RG6', r_ui=4.0, est=4.286179966100615, details={'was_impossible': False}),\n",
              " Prediction(uid='A2XCCN239AR1XK', iid='B006GCYAOS', r_ui=5.0, est=4.531935672655569, details={'was_impossible': False}),\n",
              " Prediction(uid='ATS2855497V0I', iid='B0030UH2J4', r_ui=4.0, est=3.951900143087165, details={'was_impossible': False}),\n",
              " Prediction(uid='A18OTCHQ6MXD6X', iid='B000QIZXHG', r_ui=5.0, est=4.405134534252948, details={'was_impossible': False}),\n",
              " Prediction(uid='A2Y3WWPUKIJ59I', iid='B0011FRV0U', r_ui=5.0, est=4.03189856259831, details={'was_impossible': False}),\n",
              " Prediction(uid='AOEAD7DPLZE53', iid='B0012W7HQK', r_ui=5.0, est=4.075769331270585, details={'was_impossible': False}),\n",
              " Prediction(uid='A3A4ZAIBQWKOZS', iid='B000CCUG64', r_ui=1.0, est=4.302099460812874, details={'was_impossible': False}),\n",
              " Prediction(uid='AGILRZOT49R0V', iid='B00BCGRTFK', r_ui=5.0, est=4.432214597561787, details={'was_impossible': False}),\n",
              " Prediction(uid='A17Z0LVY96TO53', iid='B001GNCWCE', r_ui=5.0, est=4.4108920608331745, details={'was_impossible': False}),\n",
              " Prediction(uid='A2OTQMC69J8MUI', iid='B009SK57IS', r_ui=3.0, est=4.002070386622027, details={'was_impossible': False}),\n",
              " Prediction(uid='A2NP9CGUSFP22E', iid='B000J01I1G', r_ui=5.0, est=4.346287824070839, details={'was_impossible': False}),\n",
              " Prediction(uid='A33ZYFE8XMKKR1', iid='B000BKV26A', r_ui=5.0, est=3.9729976999686785, details={'was_impossible': False}),\n",
              " Prediction(uid='AM3XNQU9TZBD8', iid='B00654PTT2', r_ui=5.0, est=4.479574714050656, details={'was_impossible': False}),\n",
              " Prediction(uid='A379DLIAF0MFM5', iid='B000FP0K78', r_ui=4.0, est=4.076561692527099, details={'was_impossible': False}),\n",
              " Prediction(uid='A3EFSLEMHNPP6A', iid='B0045XV2CI', r_ui=3.0, est=4.336873157876752, details={'was_impossible': False}),\n",
              " Prediction(uid='A3FKQQTSMHOCE0', iid='B001V7XPSA', r_ui=4.0, est=4.38938470138351, details={'was_impossible': False}),\n",
              " Prediction(uid='A2BIJMB2BITQUM', iid='B004Q3R9AQ', r_ui=5.0, est=4.558228674001386, details={'was_impossible': False}),\n",
              " Prediction(uid='A1F5O1USOUOOXI', iid='B000EI7VSM', r_ui=4.0, est=4.367353500169058, details={'was_impossible': False}),\n",
              " Prediction(uid='A31ICLWQ9CSHRS', iid='B000WBQOZW', r_ui=4.0, est=3.975120976431794, details={'was_impossible': False}),\n",
              " Prediction(uid='A361M14PU2GUEG', iid='B00A9S3H62', r_ui=5.0, est=4.277342657207643, details={'was_impossible': False}),\n",
              " Prediction(uid='A7FDGFK0KN7QG', iid='B001BTCSI6', r_ui=5.0, est=4.835195090522305, details={'was_impossible': False}),\n",
              " Prediction(uid='AR18DH5SL9F73', iid='B000WH6H1M', r_ui=5.0, est=4.332661718293111, details={'was_impossible': False}),\n",
              " Prediction(uid='A11KZ906QD08C5', iid='B0041PO3DU', r_ui=4.0, est=4.473749121781088, details={'was_impossible': False}),\n",
              " Prediction(uid='A2IT7S59GSASN7', iid='B004QK8FBG', r_ui=2.0, est=2.953157846225961, details={'was_impossible': False}),\n",
              " Prediction(uid='A3T7V207KRDE2O', iid='B002DQQ0WG', r_ui=1.0, est=4.072850254600593, details={'was_impossible': False}),\n",
              " Prediction(uid='AHR86ZEYETLJI', iid='B0039BPG1K', r_ui=4.0, est=4.579088177464518, details={'was_impossible': False}),\n",
              " Prediction(uid='A1RPTVW5VEOSI', iid='B00005NOKT', r_ui=5.0, est=4.110953785204634, details={'was_impossible': False}),\n",
              " Prediction(uid='A3P69DTOXII004', iid='B00IEBG0II', r_ui=5.0, est=4.086220341572548, details={'was_impossible': False}),\n",
              " Prediction(uid='A361M14PU2GUEG', iid='B0024R4B5C', r_ui=5.0, est=4.146947786646599, details={'was_impossible': False}),\n",
              " Prediction(uid='A3Q1J68QY1MZQ9', iid='B002JMYCTC', r_ui=5.0, est=3.915099016598698, details={'was_impossible': False}),\n",
              " Prediction(uid='A3Q1J68QY1MZQ9', iid='B0017TFVUW', r_ui=5.0, est=3.874221474667542, details={'was_impossible': False}),\n",
              " Prediction(uid='A4U27URFECK1U', iid='B004JU0E8U', r_ui=3.0, est=4.036535625679956, details={'was_impossible': False}),\n",
              " Prediction(uid='A1MFPAM9TTRTXN', iid='B000HZGQ9C', r_ui=5.0, est=4.852532380132264, details={'was_impossible': False}),\n",
              " Prediction(uid='A3QAO3QBCQF89T', iid='B001QUA6R0', r_ui=2.0, est=4.3200415626077024, details={'was_impossible': False}),\n",
              " Prediction(uid='ASJSX783R5HTZ', iid='B00009R6N0', r_ui=4.0, est=4.252754967306751, details={'was_impossible': False}),\n",
              " Prediction(uid='A680RUE1FDO8B', iid='B002SSK9VW', r_ui=5.0, est=4.387881230580384, details={'was_impossible': False}),\n",
              " Prediction(uid='A3LWC833HQIG7J', iid='B0082D563I', r_ui=3.0, est=3.9023856880181813, details={'was_impossible': False}),\n",
              " Prediction(uid='AYOMAHLWRQHUG', iid='B001G8A8AM', r_ui=5.0, est=4.400513158198824, details={'was_impossible': False}),\n",
              " Prediction(uid='A3VZH0PWLQ9BB1', iid='B004CLYE8C', r_ui=5.0, est=4.662057522434004, details={'was_impossible': False}),\n",
              " Prediction(uid='A680RUE1FDO8B', iid='B000G1D8HU', r_ui=5.0, est=4.368364568024592, details={'was_impossible': False}),\n",
              " Prediction(uid='A376OJHLE6SU9Q', iid='B002W3IXZW', r_ui=5.0, est=4.416782607067167, details={'was_impossible': False}),\n",
              " Prediction(uid='A1QOK9LU90ACF7', iid='B0094C0DYI', r_ui=5.0, est=4.241048060776621, details={'was_impossible': False}),\n",
              " Prediction(uid='APBDZ88BBTN4F', iid='B00DQZRKY0', r_ui=4.0, est=3.9662410681305604, details={'was_impossible': False}),\n",
              " Prediction(uid='AGFSSC5DBY2HU', iid='B0000X5XQ8', r_ui=3.0, est=4.153663124820137, details={'was_impossible': False}),\n",
              " Prediction(uid='A3KZ7OH4VRL048', iid='B005NYPC1U', r_ui=3.0, est=4.134543125393474, details={'was_impossible': False}),\n",
              " Prediction(uid='A1MRPX3RM48T2I', iid='B00FG7MSAC', r_ui=3.0, est=4.264755496813702, details={'was_impossible': False}),\n",
              " Prediction(uid='AYLLSFYS3UP1H', iid='B0085BKZU6', r_ui=5.0, est=4.416033888472689, details={'was_impossible': False}),\n",
              " Prediction(uid='A2WXURU33RBGQS', iid='B001C48HTO', r_ui=4.0, est=4.043068647617841, details={'was_impossible': False}),\n",
              " Prediction(uid='A3HSDV9Y0TV5Z2', iid='B0084CCGU8', r_ui=5.0, est=4.537819626857509, details={'was_impossible': False}),\n",
              " Prediction(uid='AAA0TUKS5VBSA', iid='B00DJNCS6O', r_ui=4.0, est=4.239011160921551, details={'was_impossible': False}),\n",
              " Prediction(uid='A9DYWY9VOSP1P', iid='B0041686QY', r_ui=5.0, est=4.130781185695845, details={'was_impossible': False}),\n",
              " Prediction(uid='A3U41ZL33SS92P', iid='B001OMH1O6', r_ui=2.0, est=3.5712840475892054, details={'was_impossible': False}),\n",
              " Prediction(uid='A3NEAETOSXDBOM', iid='B0035FJVHA', r_ui=5.0, est=4.3747589078330975, details={'was_impossible': False}),\n",
              " Prediction(uid='A341HCMGNZCBIT', iid='B004NTO2I0', r_ui=5.0, est=4.685244402384837, details={'was_impossible': False}),\n",
              " Prediction(uid='A3T4OHEAHOJ700', iid='B0079TOEQQ', r_ui=5.0, est=4.06043803653774, details={'was_impossible': False}),\n",
              " Prediction(uid='A5JLAU2ARJ0BO', iid='B00D6KQ2GC', r_ui=2.0, est=3.8582027608482035, details={'was_impossible': False}),\n",
              " Prediction(uid='A3FEGTOLCWXSV4', iid='B00EXPNFQO', r_ui=5.0, est=4.075749528676523, details={'was_impossible': False}),\n",
              " Prediction(uid='AWH2AY17ZU7W2', iid='B00AQDG96K', r_ui=3.0, est=4.059160084339863, details={'was_impossible': False}),\n",
              " Prediction(uid='ATZJNEXX7LWD3', iid='B00ISRUFSY', r_ui=4.0, est=3.7643412350791716, details={'was_impossible': False}),\n",
              " Prediction(uid='A3P1508PZ0UADD', iid='B0002OO0T6', r_ui=1.0, est=3.7662793022300365, details={'was_impossible': False}),\n",
              " Prediction(uid='A4WEZJOIZIV4U', iid='B00562O8U0', r_ui=5.0, est=4.510438318992972, details={'was_impossible': False}),\n",
              " Prediction(uid='A2KHG3JOFXQ4CE', iid='B009SPUY5O', r_ui=2.0, est=3.3531953528035023, details={'was_impossible': False}),\n",
              " Prediction(uid='A274MXTX3DYLUV', iid='B000PI9E4K', r_ui=5.0, est=4.340491811018765, details={'was_impossible': False}),\n",
              " Prediction(uid='A3QJU4FEN8PQSZ', iid='B005FVNHBI', r_ui=3.0, est=3.5985348036734, details={'was_impossible': False}),\n",
              " Prediction(uid='A3V6Z4RCDGRC44', iid='B0049XEE88', r_ui=5.0, est=4.354524532831601, details={'was_impossible': False}),\n",
              " Prediction(uid='A6FIAB28IS79', iid='B000FCSXBQ', r_ui=4.0, est=4.203333920775034, details={'was_impossible': False}),\n",
              " Prediction(uid='A1QNYLBG73QRNF', iid='B0028Y4H1O', r_ui=5.0, est=4.292089379316622, details={'was_impossible': False}),\n",
              " Prediction(uid='A8CKH8XB33XGN', iid='B008Q3CEJS', r_ui=5.0, est=4.214886471623061, details={'was_impossible': False}),\n",
              " Prediction(uid='A1QOK9LU90ACF7', iid='B00KXAFYZS', r_ui=5.0, est=4.294691825862674, details={'was_impossible': False}),\n",
              " Prediction(uid='A17V9XL4CWTQ6G', iid='B007CRWQ0Q', r_ui=5.0, est=4.608831405813541, details={'was_impossible': False}),\n",
              " Prediction(uid='A1KWPIORLG2QV', iid='B0049VGHOO', r_ui=5.0, est=4.559130392873149, details={'was_impossible': False}),\n",
              " Prediction(uid='A3FEJ8H2VTN0OJ', iid='B008MDSWI4', r_ui=5.0, est=4.6200239102119305, details={'was_impossible': False}),\n",
              " Prediction(uid='A3G5MOHY1U635N', iid='B000O8WE66', r_ui=4.0, est=4.314846030651241, details={'was_impossible': False}),\n",
              " Prediction(uid='A64LEAZ2QF8L2', iid='B00009N6VK', r_ui=5.0, est=4.7339044133001, details={'was_impossible': False}),\n",
              " Prediction(uid='A1LYMYNURB9EWW', iid='B000W8ZEF6', r_ui=5.0, est=3.9838552872183675, details={'was_impossible': False}),\n",
              " Prediction(uid='ACHTDPEQYSEQL', iid='B0000CD08M', r_ui=2.0, est=4.005714424489874, details={'was_impossible': False}),\n",
              " Prediction(uid='A10Y058K7B96C6', iid='B00D68ZVY8', r_ui=5.0, est=4.480779545193928, details={'was_impossible': False}),\n",
              " Prediction(uid='A3PD8JD9L4WEII', iid='B000AZE9JI', r_ui=4.0, est=4.3322426025682335, details={'was_impossible': False}),\n",
              " Prediction(uid='A3IUW081KXD3PE', iid='B005X64M2S', r_ui=4.0, est=4.40048564772114, details={'was_impossible': False}),\n",
              " Prediction(uid='A1C5WS021EL3WO', iid='B000YM2OIK', r_ui=3.0, est=4.229383636213554, details={'was_impossible': False}),\n",
              " Prediction(uid='A38RMU1Y5TDP9', iid='B003ZG9T62', r_ui=5.0, est=4.54513865666664, details={'was_impossible': False}),\n",
              " Prediction(uid='A3CLWR1UUZT6TG', iid='B00GLJBTQ8', r_ui=5.0, est=4.371403324987031, details={'was_impossible': False}),\n",
              " Prediction(uid='A3P4T1DKRWTL36', iid='B003UE52ME', r_ui=4.0, est=4.25042727402228, details={'was_impossible': False}),\n",
              " Prediction(uid='A2X06FP2PQ6EK0', iid='B001L1H0SC', r_ui=5.0, est=3.780443992728689, details={'was_impossible': False}),\n",
              " Prediction(uid='A13QOK3SKIT9QL', iid='B0041OSQ9I', r_ui=5.0, est=4.078274781235606, details={'was_impossible': False}),\n",
              " Prediction(uid='A3EK2KTYHJCPB9', iid='B00AXXOBEK', r_ui=3.0, est=3.874818012547144, details={'was_impossible': False}),\n",
              " Prediction(uid='A294BKN913UOGP', iid='B001G1ZPV6', r_ui=5.0, est=4.392614007619034, details={'was_impossible': False}),\n",
              " Prediction(uid='AY6A8KPYCE6B0', iid='B00FOVVKYK', r_ui=3.0, est=4.151673096359383, details={'was_impossible': False}),\n",
              " Prediction(uid='A11D1KHM7DVOQK', iid='B000083K05', r_ui=4.0, est=3.529514817826786, details={'was_impossible': False}),\n",
              " Prediction(uid='A3R4794K2RVU1S', iid='B005MJU1DA', r_ui=4.0, est=4.488299418100084, details={'was_impossible': False}),\n",
              " Prediction(uid='A22I55P15NSAOX', iid='B00793MIJC', r_ui=1.0, est=3.8188199477913156, details={'was_impossible': False}),\n",
              " Prediction(uid='AKT8TGIT6VVZ5', iid='B0000520IV', r_ui=5.0, est=4.687289107324942, details={'was_impossible': False}),\n",
              " Prediction(uid='A23ZXHFLC6TBLD', iid='B001FWYXD2', r_ui=4.0, est=4.508510898892723, details={'was_impossible': False}),\n",
              " Prediction(uid='A3284KYDZ00BZA', iid='B00B2HCLL6', r_ui=4.0, est=4.0333148645535895, details={'was_impossible': False}),\n",
              " Prediction(uid='AV10H5K6VPQIJ', iid='B001XILMEG', r_ui=1.0, est=4.098576031644707, details={'was_impossible': False}),\n",
              " Prediction(uid='AROQO2VDODT7', iid='B000I1X3W8', r_ui=5.0, est=4.491154253170278, details={'was_impossible': False}),\n",
              " Prediction(uid='A1AQ8JT2A3UWMY', iid='B00493QWB0', r_ui=4.0, est=3.9471667814916986, details={'was_impossible': False}),\n",
              " Prediction(uid='A3V5F050GVZ56Q', iid='B009A8XMOY', r_ui=5.0, est=4.564249950347479, details={'was_impossible': False}),\n",
              " Prediction(uid='A1ZPY91VE3IDN1', iid='B008X9Z528', r_ui=3.0, est=4.1204855876735005, details={'was_impossible': False}),\n",
              " Prediction(uid='A2TKWMX4563NR6', iid='B00834SJH6', r_ui=5.0, est=4.066411170621545, details={'was_impossible': False}),\n",
              " Prediction(uid='A3TP31S61PPE3G', iid='B009S2CWX4', r_ui=2.0, est=3.976299699719432, details={'was_impossible': False}),\n",
              " Prediction(uid='A17O9AHKHK66AI', iid='B007W2ZDX8', r_ui=4.0, est=3.985132884529275, details={'was_impossible': False}),\n",
              " Prediction(uid='A1R19YYR5OR26T', iid='B0046WQV6U', r_ui=4.0, est=4.152496466306953, details={'was_impossible': False}),\n",
              " Prediction(uid='A3O4OIBCML0683', iid='B00A8X4IP2', r_ui=4.0, est=4.197569747075287, details={'was_impossible': False}),\n",
              " Prediction(uid='A3EXWV8FNSSFL6', iid='B006TAEH7W', r_ui=5.0, est=4.492683472941742, details={'was_impossible': False}),\n",
              " Prediction(uid='A3639Z6O5JBLIZ', iid='B00A1D907U', r_ui=5.0, est=4.623270845380078, details={'was_impossible': False}),\n",
              " Prediction(uid='A1HYH206E18XVC', iid='B001I45BQK', r_ui=4.0, est=4.104231276627977, details={'was_impossible': False}),\n",
              " Prediction(uid='AVU1ILDDYW301', iid='B0079TOET8', r_ui=4.0, est=4.057403570429195, details={'was_impossible': False}),\n",
              " Prediction(uid='A2PL06HW6KZH2', iid='B007V9SNNY', r_ui=4.0, est=4.2643775255964504, details={'was_impossible': False}),\n",
              " Prediction(uid='A35HUT8MQMT21L', iid='B000085BD8', r_ui=5.0, est=4.064321667597272, details={'was_impossible': False}),\n",
              " Prediction(uid='AQSV34W54L0VO', iid='B007LTH1X2', r_ui=5.0, est=4.595878271414472, details={'was_impossible': False}),\n",
              " Prediction(uid='A1JZFGZEZVWQPY', iid='B0006LSINO', r_ui=4.0, est=4.028955879196644, details={'was_impossible': False}),\n",
              " Prediction(uid='AU2UJF4I7KAWL', iid='B005DM83KO', r_ui=5.0, est=4.3338528003968255, details={'was_impossible': False}),\n",
              " Prediction(uid='A9J4UURM4OSDW', iid='B00063ZVJQ', r_ui=4.0, est=4.250835666735232, details={'was_impossible': False}),\n",
              " Prediction(uid='A28UMA3GW9L124', iid='B005KOZNBW', r_ui=3.0, est=3.610539730684194, details={'was_impossible': False}),\n",
              " Prediction(uid='A10Y058K7B96C6', iid='B002R5AM7C', r_ui=4.0, est=4.292933001681632, details={'was_impossible': False}),\n",
              " Prediction(uid='AKSFZ4G1AXYFC', iid='B0000AI0N1', r_ui=5.0, est=4.374496640311243, details={'was_impossible': False}),\n",
              " Prediction(uid='AUCISQA1YXX86', iid='B001HSOFI2', r_ui=2.0, est=3.2328053096058382, details={'was_impossible': False}),\n",
              " Prediction(uid='A2PICNZWHEINQC', iid='B004RDWVUS', r_ui=4.0, est=4.542162713457868, details={'was_impossible': False}),\n",
              " Prediction(uid='A203OCQQ12MAVT', iid='B0027UVTQA', r_ui=5.0, est=4.244429033551657, details={'was_impossible': False}),\n",
              " Prediction(uid='ABH9D1TEOJ56E', iid='B000068PE8', r_ui=3.0, est=3.944532498163958, details={'was_impossible': False}),\n",
              " Prediction(uid='ARC5ASW9CUAGP', iid='B00005T3H5', r_ui=5.0, est=4.413314230626381, details={'was_impossible': False}),\n",
              " Prediction(uid='A231WM2Z2JL0U3', iid='B00005MAAR', r_ui=5.0, est=4.2836610170745635, details={'was_impossible': False}),\n",
              " Prediction(uid='A22R9L5DAVYYWR', iid='B00007GWBX', r_ui=2.0, est=3.726324833211789, details={'was_impossible': False}),\n",
              " Prediction(uid='A2RW587355CMVA', iid='B00BZC31WQ', r_ui=5.0, est=4.167454162195263, details={'was_impossible': False}),\n",
              " Prediction(uid='A361U4SXK7FCQE', iid='B007TEE90W', r_ui=3.0, est=4.2218526192009636, details={'was_impossible': False}),\n",
              " Prediction(uid='ATNOI7E8GTIVE', iid='B002AKKF3U', r_ui=5.0, est=4.554363089875515, details={'was_impossible': False}),\n",
              " Prediction(uid='A14JBDSWKPKTZA', iid='B003CFATT2', r_ui=5.0, est=4.90003674086158, details={'was_impossible': False}),\n",
              " Prediction(uid='A2WW57XX2UVLM6', iid='B00ECERI32', r_ui=3.0, est=3.860193442112948, details={'was_impossible': False}),\n",
              " Prediction(uid='A25KKXUQQ0OLWB', iid='B004RO9L4Q', r_ui=4.0, est=4.632362837703356, details={'was_impossible': False}),\n",
              " Prediction(uid='A1NGFGBX2VCQS8', iid='B000VIQ6AO', r_ui=1.0, est=3.9388884593809634, details={'was_impossible': False}),\n",
              " Prediction(uid='ADLVFFE4VBT8', iid='B002C1B9PU', r_ui=5.0, est=4.41359055244505, details={'was_impossible': False}),\n",
              " Prediction(uid='A38QEATH3NODFM', iid='B00004I9W2', r_ui=5.0, est=4.673869069465998, details={'was_impossible': False}),\n",
              " Prediction(uid='A3NHUQ33CFH3VM', iid='B004YLCE2S', r_ui=5.0, est=4.491234808303426, details={'was_impossible': False}),\n",
              " Prediction(uid='AZ8XSDMIX04VJ', iid='B001V9KG0I', r_ui=5.0, est=4.8837263140687615, details={'was_impossible': False}),\n",
              " Prediction(uid='A2HMF8ZR67BNZS', iid='B007RFW1NA', r_ui=3.0, est=4.187873617239187, details={'was_impossible': False}),\n",
              " Prediction(uid='A4WEZJOIZIV4U', iid='B00JN1TY9U', r_ui=5.0, est=4.443035316500985, details={'was_impossible': False}),\n",
              " Prediction(uid='A2PZXXPGLXXKZU', iid='B007JGB6X8', r_ui=3.0, est=3.855643416762199, details={'was_impossible': False}),\n",
              " Prediction(uid='A3NCIN6TNL0MGA', iid='B000GP5F04', r_ui=4.0, est=4.386457113228681, details={'was_impossible': False}),\n",
              " Prediction(uid='ARXU3FESTWMJJ', iid='B007CLWM1K', r_ui=2.0, est=3.5536326797385738, details={'was_impossible': False}),\n",
              " Prediction(uid='A225G2TFM76GYX', iid='B001GJADP6', r_ui=5.0, est=4.468978082310568, details={'was_impossible': False}),\n",
              " Prediction(uid='AOWF9T81XMX2S', iid='B00B7MVLUI', r_ui=3.0, est=4.194150774348385, details={'was_impossible': False}),\n",
              " Prediction(uid='A2YW6XOID7GV6G', iid='B005CTBWXI', r_ui=4.0, est=3.8686619855796205, details={'was_impossible': False}),\n",
              " Prediction(uid='A24J2Y1O22JYZX', iid='B00BIP816Q', r_ui=5.0, est=4.426187827382578, details={'was_impossible': False}),\n",
              " Prediction(uid='A6XDZ1MJ0B1A2', iid='B000G25N2M', r_ui=5.0, est=3.5180857528439016, details={'was_impossible': False}),\n",
              " Prediction(uid='A3NHUQ33CFH3VM', iid='B00CKK8GEU', r_ui=5.0, est=4.591099816026369, details={'was_impossible': False}),\n",
              " Prediction(uid='A2LF07KCXDR70D', iid='B00006JPDG', r_ui=4.0, est=3.9744983593762813, details={'was_impossible': False}),\n",
              " Prediction(uid='A1V4A5U5O3TMMD', iid='B006XXQRSM', r_ui=1.0, est=3.8023014613434154, details={'was_impossible': False}),\n",
              " Prediction(uid='A27ADCSD15F3GL', iid='B0085YTDBA', r_ui=3.0, est=3.6245656882379387, details={'was_impossible': False}),\n",
              " Prediction(uid='A18A5VSD0IPN14', iid='B0002GWY38', r_ui=5.0, est=4.518148853806718, details={'was_impossible': False}),\n",
              " Prediction(uid='A2XPK6XCL0UH1S', iid='B0017HSZWK', r_ui=5.0, est=4.120905791833922, details={'was_impossible': False}),\n",
              " Prediction(uid='A3T7V207KRDE2O', iid='B0009Q56N6', r_ui=5.0, est=4.396812461389967, details={'was_impossible': False}),\n",
              " Prediction(uid='A3U5HKDHPYBAK3', iid='B000EOGW9K', r_ui=5.0, est=4.400859066717549, details={'was_impossible': False}),\n",
              " Prediction(uid='A1PN2U0AWXGVML', iid='B000FTOEEE', r_ui=4.0, est=4.435332490142707, details={'was_impossible': False}),\n",
              " Prediction(uid='A30XZK10EZN9V4', iid='B00F0DD0I6', r_ui=4.0, est=4.613471416069873, details={'was_impossible': False}),\n",
              " Prediction(uid='A3OXHLG6DIBRW8', iid='B002AH2AH2', r_ui=5.0, est=4.3144412784155275, details={'was_impossible': False}),\n",
              " Prediction(uid='AHF4I1FSIHABC', iid='B00009XVCZ', r_ui=5.0, est=4.767793338718794, details={'was_impossible': False}),\n",
              " Prediction(uid='A2HNH4PKE5DPSI', iid='B008PQJWBE', r_ui=5.0, est=4.751421742768263, details={'was_impossible': False}),\n",
              " Prediction(uid='A15Q2L6DYRTFIU', iid='B004ZBOYUM', r_ui=5.0, est=4.632533374793509, details={'was_impossible': False}),\n",
              " Prediction(uid='A3S0DBBR693O06', iid='B003UNSK74', r_ui=5.0, est=4.502008303131639, details={'was_impossible': False}),\n",
              " Prediction(uid='ABQWMANK4AR63', iid='B0039SM0B2', r_ui=5.0, est=4.054725759722254, details={'was_impossible': False}),\n",
              " Prediction(uid='AGGAQLXPVGM5D', iid='B0019FGK90', r_ui=5.0, est=4.497480798012262, details={'was_impossible': False}),\n",
              " Prediction(uid='AT09WGFUM934H', iid='B001XQLOQY', r_ui=5.0, est=4.318824982132938, details={'was_impossible': False}),\n",
              " Prediction(uid='A3LGT6UZL99IW1', iid='B004FMI3DA', r_ui=3.0, est=4.132741594858098, details={'was_impossible': False}),\n",
              " Prediction(uid='A1RL1OTV8IJMVD', iid='B003DZ165W', r_ui=3.0, est=4.17347572301699, details={'was_impossible': False}),\n",
              " Prediction(uid='A1VQHH85U7PX0', iid='B00067LYFW', r_ui=4.0, est=4.480195021876173, details={'was_impossible': False}),\n",
              " Prediction(uid='A3V7D0LH8L7BG0', iid='B005GTNZUM', r_ui=4.0, est=4.482840663556773, details={'was_impossible': False}),\n",
              " Prediction(uid='A1P0JSFW184ZXJ', iid='B00JC5Y6YA', r_ui=4.0, est=4.353663764738925, details={'was_impossible': False}),\n",
              " Prediction(uid='A1B0NL8UWAELI7', iid='B000VLZUQM', r_ui=4.0, est=4.419288769957352, details={'was_impossible': False}),\n",
              " Prediction(uid='AW6J9IILGOZY3', iid='B00F9VROO0', r_ui=5.0, est=4.338748126680096, details={'was_impossible': False}),\n",
              " Prediction(uid='A1URXSRV6WDHVY', iid='B00GLXACKI', r_ui=5.0, est=4.455258441181723, details={'was_impossible': False}),\n",
              " Prediction(uid='A3EZEP0FX5BC1P', iid='B003HIXPGS', r_ui=4.0, est=4.123683770836713, details={'was_impossible': False}),\n",
              " Prediction(uid='A2NOW4U7W3F7RI', iid='B005GM1Q1O', r_ui=5.0, est=4.037033804268625, details={'was_impossible': False}),\n",
              " Prediction(uid='AMS2CPERWN7JV', iid='B001VEIYAC', r_ui=4.0, est=4.243068793328206, details={'was_impossible': False}),\n",
              " Prediction(uid='AOMEH9W6LHC4S', iid='B003FSTAVY', r_ui=4.0, est=3.970931277427915, details={'was_impossible': False}),\n",
              " Prediction(uid='A3OIMUR42XIOFQ', iid='B002SZEOLG', r_ui=5.0, est=4.493602836440368, details={'was_impossible': False}),\n",
              " Prediction(uid='A1NGFGBX2VCQS8', iid='B0088PPFP4', r_ui=4.0, est=3.9326244419162144, details={'was_impossible': False}),\n",
              " Prediction(uid='AEZJTA4KDIWY8', iid='B001UE8IMC', r_ui=4.0, est=4.408047281714556, details={'was_impossible': False}),\n",
              " Prediction(uid='ARBKYIVNYWK3C', iid='B000IGGCCG', r_ui=5.0, est=4.356035843059237, details={'was_impossible': False}),\n",
              " Prediction(uid='AS8C336DDLSO4', iid='B0002Y5WYI', r_ui=4.0, est=4.102222455921692, details={'was_impossible': False}),\n",
              " Prediction(uid='A35W3JQYP0M655', iid='B006YTZUA6', r_ui=4.0, est=4.010450038051047, details={'was_impossible': False}),\n",
              " Prediction(uid='A3QDY9I0CNMD2W', iid='B003UGGB7W', r_ui=5.0, est=4.264180513019872, details={'was_impossible': False}),\n",
              " Prediction(uid='AG0PM9IAHQ06C', iid='B0050IX30Q', r_ui=5.0, est=4.41950987090275, details={'was_impossible': False}),\n",
              " Prediction(uid='A149RNR5RH19YY', iid='B0002DV9DC', r_ui=5.0, est=4.178131688973013, details={'was_impossible': False}),\n",
              " Prediction(uid='AJX9A4Q19UTJU', iid='B007Q8GOGI', r_ui=5.0, est=4.0457900278921075, details={'was_impossible': False}),\n",
              " Prediction(uid='A296QED1MV1V0J', iid='B006U4BD1A', r_ui=5.0, est=4.3237317303356155, details={'was_impossible': False}),\n",
              " Prediction(uid='AR3EVUQF0AC7R', iid='B00465G49G', r_ui=5.0, est=4.328858398020997, details={'was_impossible': False}),\n",
              " Prediction(uid='A3J8A5L5AF5TX9', iid='B005DIRI6I', r_ui=2.0, est=3.9958468101854985, details={'was_impossible': False}),\n",
              " Prediction(uid='A2WYF4POBUXL2O', iid='B0012DCFWA', r_ui=5.0, est=4.226934328629241, details={'was_impossible': False}),\n",
              " Prediction(uid='A3VZH0PWLQ9BB1', iid='B003VAGXWK', r_ui=5.0, est=4.384361217580191, details={'was_impossible': False}),\n",
              " Prediction(uid='A3BVN2QBNPBHCR', iid='B006OZEIKS', r_ui=5.0, est=4.33851087878, details={'was_impossible': False}),\n",
              " Prediction(uid='A3PCEB9ND82AGE', iid='B005K7192G', r_ui=5.0, est=4.906395024223976, details={'was_impossible': False}),\n",
              " Prediction(uid='A2JAEZ0FMAMJVW', iid='B00BCEK2M4', r_ui=4.0, est=4.146794873081734, details={'was_impossible': False}),\n",
              " Prediction(uid='A25C2M3QF9G7OQ', iid='B00A48ZCVA', r_ui=5.0, est=4.5591670376406475, details={'was_impossible': False}),\n",
              " Prediction(uid='A2I357I10ZY7CI', iid='B001RH82ZU', r_ui=5.0, est=4.343139439889673, details={'was_impossible': False}),\n",
              " Prediction(uid='A1ODOGXEYECQQ8', iid='B00ATZ9I90', r_ui=4.0, est=4.36955920075021, details={'was_impossible': False}),\n",
              " Prediction(uid='A370XYLIZCSK1Y', iid='B00629NHW6', r_ui=5.0, est=4.5497500730233265, details={'was_impossible': False}),\n",
              " Prediction(uid='A1ZTR0FR5AW9B4', iid='B000NSFLM6', r_ui=5.0, est=3.606954269394372, details={'was_impossible': False}),\n",
              " Prediction(uid='AQNSQW4495SG0', iid='B0012XAUR2', r_ui=5.0, est=4.185047266227004, details={'was_impossible': False}),\n",
              " Prediction(uid='A36K2N527TXXJN', iid='B00DK9N154', r_ui=5.0, est=4.588819200470894, details={'was_impossible': False}),\n",
              " Prediction(uid='A3J2YU2D9BH2J7', iid='B00EN7U2DG', r_ui=4.0, est=4.307181584530103, details={'was_impossible': False}),\n",
              " Prediction(uid='A28525P0S5ZVJ3', iid='B00083CZGQ', r_ui=5.0, est=3.945791654469008, details={'was_impossible': False}),\n",
              " Prediction(uid='A2X8KN82L07RSK', iid='B003EYVP12', r_ui=5.0, est=4.141879894499433, details={'was_impossible': False}),\n",
              " Prediction(uid='A2CWUM49ZWMGEY', iid='B009A6PJKQ', r_ui=4.0, est=4.332387978105665, details={'was_impossible': False}),\n",
              " Prediction(uid='A1T1YSCDW0PD25', iid='B0036TFXVS', r_ui=4.0, est=4.32955978154455, details={'was_impossible': False}),\n",
              " Prediction(uid='A2UOHALGF2X77Q', iid='B000EVM5DK', r_ui=4.0, est=4.279427648001287, details={'was_impossible': False}),\n",
              " Prediction(uid='A2I5LVVQ7WXEH6', iid='B0045HE5DM', r_ui=4.0, est=4.164370433612089, details={'was_impossible': False}),\n",
              " Prediction(uid='A16WP8NTPYB0ZM', iid='B0085IOLZO', r_ui=3.0, est=3.340779312186059, details={'was_impossible': False}),\n",
              " Prediction(uid='A2JMJVNTBL7K7E', iid='B001B99I34', r_ui=5.0, est=3.7629710889047243, details={'was_impossible': False}),\n",
              " Prediction(uid='A3RR2P5IS3DGPR', iid='B0082D563I', r_ui=3.0, est=4.119769591460774, details={'was_impossible': False}),\n",
              " Prediction(uid='A2UOHALGF2X77Q', iid='B0067PLM5E', r_ui=4.0, est=4.291266152264604, details={'was_impossible': False}),\n",
              " Prediction(uid='A1M7HP5CHDXXOU', iid='B00IO1V33U', r_ui=5.0, est=4.455561415643439, details={'was_impossible': False}),\n",
              " Prediction(uid='A3AYSYSLHU26U9', iid='B004K35GLG', r_ui=3.0, est=4.077250368665573, details={'was_impossible': False}),\n",
              " Prediction(uid='A1P0JSFW184ZXJ', iid='B0011FCV8W', r_ui=5.0, est=4.223103006513208, details={'was_impossible': False}),\n",
              " Prediction(uid='AM3XNQU9TZBD8', iid='B002TLTE6O', r_ui=5.0, est=4.903856998442539, details={'was_impossible': False}),\n",
              " Prediction(uid='A3S3R88HA0HZG3', iid='B002JSQ96K', r_ui=3.0, est=4.394311923391772, details={'was_impossible': False}),\n",
              " Prediction(uid='A38Z6QG6988WS7', iid='B004YDTMPS', r_ui=5.0, est=4.69594571743807, details={'was_impossible': False}),\n",
              " Prediction(uid='A2PSD2R9A1CXG7', iid='B00009XVBY', r_ui=3.0, est=4.124225377389723, details={'was_impossible': False}),\n",
              " Prediction(uid='A2RIL2NXHE00AQ', iid='B004NJDDJY', r_ui=4.0, est=4.367286242864769, details={'was_impossible': False}),\n",
              " Prediction(uid='A28LUOEY0ECT9G', iid='B002TZBW74', r_ui=5.0, est=4.59534265032648, details={'was_impossible': False}),\n",
              " Prediction(uid='A11KZ906QD08C5', iid='B000VDA00Q', r_ui=5.0, est=4.459527371365662, details={'was_impossible': False}),\n",
              " Prediction(uid='AAK6SOEJY30YG', iid='B0058RECNG', r_ui=3.0, est=3.997329815644979, details={'was_impossible': False}),\n",
              " Prediction(uid='A1OA2ZW406NQXM', iid='B0002JY6SQ', r_ui=1.0, est=3.8503905113338304, details={'was_impossible': False}),\n",
              " Prediction(uid='A3GVXKCTFN3YDN', iid='B00GO1UV4E', r_ui=5.0, est=4.743612663870852, details={'was_impossible': False}),\n",
              " Prediction(uid='A214W7SK2DJQ99', iid='B005Z880U4', r_ui=4.0, est=4.262524774744335, details={'was_impossible': False}),\n",
              " Prediction(uid='A4U27URFECK1U', iid='B008HO9DIG', r_ui=5.0, est=4.392343361613988, details={'was_impossible': False}),\n",
              " Prediction(uid='AK3GKIV8DEY8B', iid='B00B3YSTI2', r_ui=4.0, est=4.555642272500881, details={'was_impossible': False}),\n",
              " Prediction(uid='A2XRMQA6PJ5ZJ8', iid='B007POD696', r_ui=5.0, est=4.503778397576248, details={'was_impossible': False}),\n",
              " Prediction(uid='A379DLIAF0MFM5', iid='B001OOZ1X2', r_ui=5.0, est=4.686168599285033, details={'was_impossible': False}),\n",
              " Prediction(uid='A1ZPUEHF4AES86', iid='B002OOWC3S', r_ui=4.0, est=4.124102756300953, details={'was_impossible': False}),\n",
              " Prediction(uid='A2X8KN82L07RSK', iid='B007PJ4P4G', r_ui=4.0, est=4.292580076956904, details={'was_impossible': False}),\n",
              " Prediction(uid='A36A1ZYZH8568P', iid='B00ENZRS76', r_ui=5.0, est=4.442335346759043, details={'was_impossible': False}),\n",
              " Prediction(uid='A3A4ZAIBQWKOZS', iid='B000068O16', r_ui=5.0, est=4.792191125240783, details={'was_impossible': False}),\n",
              " Prediction(uid='AYMD77ITD15PT', iid='B007NZGPAY', r_ui=5.0, est=4.411575277393008, details={'was_impossible': False}),\n",
              " Prediction(uid='A27GITTN6AVW5I', iid='B002VPDM2K', r_ui=5.0, est=3.7091489754416975, details={'was_impossible': False}),\n",
              " Prediction(uid='A3D0UM4ZD2CMAW', iid='B005CGFU4I', r_ui=5.0, est=4.716736485220087, details={'was_impossible': False}),\n",
              " Prediction(uid='A36K2N527TXXJN', iid='B002TIU34Y', r_ui=5.0, est=4.400037787908197, details={'was_impossible': False}),\n",
              " Prediction(uid='A3UQSOJW51UU9T', iid='B001T9NUJE', r_ui=5.0, est=4.316355188162936, details={'was_impossible': False}),\n",
              " Prediction(uid='AD9ZL63H0VKCZ', iid='B001TSMJDS', r_ui=4.0, est=4.300738798355761, details={'was_impossible': False}),\n",
              " Prediction(uid='A3284KYDZ00BZA', iid='B0081H8TRA', r_ui=5.0, est=3.980249560063884, details={'was_impossible': False}),\n",
              " Prediction(uid='A2HV76MYH7UL3S', iid='B001CNICGS', r_ui=5.0, est=4.47840820636184, details={'was_impossible': False}),\n",
              " Prediction(uid='A27Y4OEC9MD9PA', iid='B00336EHES', r_ui=5.0, est=4.7817269520536305, details={'was_impossible': False}),\n",
              " Prediction(uid='A3H4S6YO9VNGDZ', iid='B00310PJM0', r_ui=5.0, est=4.613213211538493, details={'was_impossible': False}),\n",
              " Prediction(uid='AS8C336DDLSO4', iid='B000MX48VM', r_ui=4.0, est=4.417498515956069, details={'was_impossible': False}),\n",
              " Prediction(uid='A6VPK7X53QNAQ', iid='B001PKTR76', r_ui=3.0, est=4.001754690034139, details={'was_impossible': False}),\n",
              " Prediction(uid='A3LWC833HQIG7J', iid='B0019EHU8G', r_ui=5.0, est=4.706847809468158, details={'was_impossible': False}),\n",
              " Prediction(uid='A2WPL6Y08K6ZQH', iid='B00EVIBN26', r_ui=4.0, est=3.747288158879924, details={'was_impossible': False}),\n",
              " Prediction(uid='AC1YLEFC9AN5X', iid='B007K3SB6K', r_ui=4.0, est=4.199476877994648, details={'was_impossible': False}),\n",
              " Prediction(uid='A18OTCHQ6MXD6X', iid='B00137NMMW', r_ui=5.0, est=4.375074481824417, details={'was_impossible': False}),\n",
              " Prediction(uid='A1JZFGZEZVWQPY', iid='B00005Y7DP', r_ui=4.0, est=4.010762366186443, details={'was_impossible': False}),\n",
              " Prediction(uid='A1LD5SE8IZ1H70', iid='B0094R4POC', r_ui=5.0, est=4.241297157194258, details={'was_impossible': False}),\n",
              " Prediction(uid='AK3GKIV8DEY8B', iid='B00009R94M', r_ui=5.0, est=4.5645194468504515, details={'was_impossible': False}),\n",
              " Prediction(uid='A1KDUQ2HU0WD68', iid='B007G94EW8', r_ui=1.0, est=4.082226571276335, details={'was_impossible': False}),\n",
              " Prediction(uid='ANRS196NKFVUU', iid='B0002ZPBHU', r_ui=5.0, est=4.730443910047097, details={'was_impossible': False}),\n",
              " Prediction(uid='A4GGT6O0GQNV2', iid='B00FGCC5PU', r_ui=5.0, est=4.3680470248000045, details={'was_impossible': False}),\n",
              " Prediction(uid='AW5JSQCHC2ZJO', iid='B00DR0B31U', r_ui=4.0, est=4.277194612415755, details={'was_impossible': False}),\n",
              " ...]"
            ]
          },
          "metadata": {
            "tags": []
          },
          "execution_count": 102
        }
      ]
    },
    {
      "cell_type": "code",
      "metadata": {
        "id": "52W87ETfc1kl",
        "colab_type": "code",
        "colab": {}
      },
      "source": [
        "from collections import defaultdict\n",
        "def get_top_n(predictions,n=10):\n",
        "    # First map the predictions to each user.\n",
        "    top_n = defaultdict(list)\n",
        "    for uid, iid, true_r, est, _ in predictions:\n",
        "        top_n[uid].append((iid, est))\n",
        "\n",
        "    # Then sort the predictions for each user and retrieve the k highest ones.\n",
        "    for uid, user_ratings in top_n.items():\n",
        "        user_ratings.sort(key=lambda x: x[1], reverse=True)\n",
        "        top_n[uid] = user_ratings[:n]\n",
        "\n",
        "    return top_n"
      ],
      "execution_count": 0,
      "outputs": []
    },
    {
      "cell_type": "code",
      "metadata": {
        "id": "dYFRDLkxc4sX",
        "colab_type": "code",
        "colab": {}
      },
      "source": [
        "top_n = get_top_n(predictions, n= 5) "
      ],
      "execution_count": 0,
      "outputs": []
    },
    {
      "cell_type": "code",
      "metadata": {
        "id": "0xzk22wBc7mZ",
        "colab_type": "code",
        "colab": {}
      },
      "source": [
        "user_list= []\n",
        "for uid, user_ratings in top_n.items():\n",
        "    single_user= (uid, [iid for (iid, _) in user_ratings])\n",
        "    user_list.append(single_user)"
      ],
      "execution_count": 0,
      "outputs": []
    },
    {
      "cell_type": "code",
      "metadata": {
        "id": "0ssFq5h7c-aM",
        "colab_type": "code",
        "colab": {}
      },
      "source": [
        "recommendation_for_user = pd.DataFrame(user_list,columns=['userid','recommended electronics_id'])"
      ],
      "execution_count": 0,
      "outputs": []
    },
    {
      "cell_type": "code",
      "metadata": {
        "id": "ODjJZZ3vdAbc",
        "colab_type": "code",
        "colab": {
          "base_uri": "https://localhost:8080/",
          "height": 419
        },
        "outputId": "c6ea988f-31a8-4829-ae6d-714d59e68493"
      },
      "source": [
        "recommendation_for_user"
      ],
      "execution_count": 107,
      "outputs": [
        {
          "output_type": "execute_result",
          "data": {
            "text/html": [
              "<div>\n",
              "<style scoped>\n",
              "    .dataframe tbody tr th:only-of-type {\n",
              "        vertical-align: middle;\n",
              "    }\n",
              "\n",
              "    .dataframe tbody tr th {\n",
              "        vertical-align: top;\n",
              "    }\n",
              "\n",
              "    .dataframe thead th {\n",
              "        text-align: right;\n",
              "    }\n",
              "</style>\n",
              "<table border=\"1\" class=\"dataframe\">\n",
              "  <thead>\n",
              "    <tr style=\"text-align: right;\">\n",
              "      <th></th>\n",
              "      <th>userid</th>\n",
              "      <th>recommended electronics_id</th>\n",
              "    </tr>\n",
              "  </thead>\n",
              "  <tbody>\n",
              "    <tr>\n",
              "      <th>0</th>\n",
              "      <td>A2L0F2T1DLTNT8</td>\n",
              "      <td>[B002TLTE6O, B00HFRWWAM, B000144I2Q, B00DOWCQB...</td>\n",
              "    </tr>\n",
              "    <tr>\n",
              "      <th>1</th>\n",
              "      <td>A6FIAB28IS79</td>\n",
              "      <td>[B000FQ2JLW, B002TMRZOQ, B001F7AHOG, B000089GN...</td>\n",
              "    </tr>\n",
              "    <tr>\n",
              "      <th>2</th>\n",
              "      <td>A1F1A0QQP2XVH5</td>\n",
              "      <td>[B00017LSPI, B007R5YDYA, B001M4HXB2, B00AJHDZS...</td>\n",
              "    </tr>\n",
              "    <tr>\n",
              "      <th>3</th>\n",
              "      <td>A20OBCQWBKCGZT</td>\n",
              "      <td>[B00CGYCOR0, B000TS7I6C, B002MCZJ78, B000U5TUW...</td>\n",
              "    </tr>\n",
              "    <tr>\n",
              "      <th>4</th>\n",
              "      <td>A3HSDV9Y0TV5Z2</td>\n",
              "      <td>[B002V88HFE, B0011U65F2, B008RM235I, B0018BQR8...</td>\n",
              "    </tr>\n",
              "    <tr>\n",
              "      <th>...</th>\n",
              "      <td>...</td>\n",
              "      <td>...</td>\n",
              "    </tr>\n",
              "    <tr>\n",
              "      <th>1535</th>\n",
              "      <td>A13WOT3RSXKRD5</td>\n",
              "      <td>[B00029U1DK, B008EQYRRY, B00AR95EVE, B00829TIE...</td>\n",
              "    </tr>\n",
              "    <tr>\n",
              "      <th>1536</th>\n",
              "      <td>APG2BHOAXPNEQ</td>\n",
              "      <td>[B001NS828K, B00081NX5U, B000FBT47E, B00BN1Q5J...</td>\n",
              "    </tr>\n",
              "    <tr>\n",
              "      <th>1537</th>\n",
              "      <td>A1R3GN9MEJFXM3</td>\n",
              "      <td>[B001QUA6RA, B001E1Y5O6, B00007M1TZ, B00119T6N...</td>\n",
              "    </tr>\n",
              "    <tr>\n",
              "      <th>1538</th>\n",
              "      <td>A9ELHLPXF7JKD</td>\n",
              "      <td>[B00BWHILCY, B0064X5Q5Q, B000MEDI3K, B000BN94F...</td>\n",
              "    </tr>\n",
              "    <tr>\n",
              "      <th>1539</th>\n",
              "      <td>A2EZTM9WY5B5IL</td>\n",
              "      <td>[B003ES5ZUU, B000BTL0OA, B0011NVMO8, B0048IW03...</td>\n",
              "    </tr>\n",
              "  </tbody>\n",
              "</table>\n",
              "<p>1540 rows × 2 columns</p>\n",
              "</div>"
            ],
            "text/plain": [
              "              userid                         recommended electronics_id\n",
              "0     A2L0F2T1DLTNT8  [B002TLTE6O, B00HFRWWAM, B000144I2Q, B00DOWCQB...\n",
              "1       A6FIAB28IS79  [B000FQ2JLW, B002TMRZOQ, B001F7AHOG, B000089GN...\n",
              "2     A1F1A0QQP2XVH5  [B00017LSPI, B007R5YDYA, B001M4HXB2, B00AJHDZS...\n",
              "3     A20OBCQWBKCGZT  [B00CGYCOR0, B000TS7I6C, B002MCZJ78, B000U5TUW...\n",
              "4     A3HSDV9Y0TV5Z2  [B002V88HFE, B0011U65F2, B008RM235I, B0018BQR8...\n",
              "...              ...                                                ...\n",
              "1535  A13WOT3RSXKRD5  [B00029U1DK, B008EQYRRY, B00AR95EVE, B00829TIE...\n",
              "1536   APG2BHOAXPNEQ  [B001NS828K, B00081NX5U, B000FBT47E, B00BN1Q5J...\n",
              "1537  A1R3GN9MEJFXM3  [B001QUA6RA, B001E1Y5O6, B00007M1TZ, B00119T6N...\n",
              "1538   A9ELHLPXF7JKD  [B00BWHILCY, B0064X5Q5Q, B000MEDI3K, B000BN94F...\n",
              "1539  A2EZTM9WY5B5IL  [B003ES5ZUU, B000BTL0OA, B0011NVMO8, B0048IW03...\n",
              "\n",
              "[1540 rows x 2 columns]"
            ]
          },
          "metadata": {
            "tags": []
          },
          "execution_count": 107
        }
      ]
    },
    {
      "cell_type": "code",
      "metadata": {
        "id": "H0IRuxG4dCLo",
        "colab_type": "code",
        "colab": {}
      },
      "source": [
        "user_id = 'A1NMM0RDRF6R84'\n",
        "def rec_5 (user_id):\n",
        "    return recommendation_for_user[recommendation_for_user['userid']== user_id]['recommended electronics_id'].tolist()"
      ],
      "execution_count": 0,
      "outputs": []
    },
    {
      "cell_type": "code",
      "metadata": {
        "id": "A8g2M932dIli",
        "colab_type": "code",
        "colab": {
          "base_uri": "https://localhost:8080/",
          "height": 34
        },
        "outputId": "b061ddf3-1393-468e-de89-af7e53c75646"
      },
      "source": [
        "top_5_recommendation= pd.DataFrame(rec_5(user_id))\n",
        "top_5_recommendation.iloc[0,0]"
      ],
      "execution_count": 109,
      "outputs": [
        {
          "output_type": "execute_result",
          "data": {
            "text/plain": [
              "'B000GISUAS'"
            ]
          },
          "metadata": {
            "tags": []
          },
          "execution_count": 109
        }
      ]
    },
    {
      "cell_type": "code",
      "metadata": {
        "id": "QS8D8nnhdK3v",
        "colab_type": "code",
        "colab": {}
      },
      "source": [
        "product_id_check = df2[df2['userid']== 'A1NMM0RDRF6R84']"
      ],
      "execution_count": 0,
      "outputs": []
    },
    {
      "cell_type": "code",
      "metadata": {
        "id": "K2uJLNlLdNrD",
        "colab_type": "code",
        "colab": {
          "base_uri": "https://localhost:8080/",
          "height": 80
        },
        "outputId": "4998e9e7-7c57-43bb-e485-66ec3b40172a"
      },
      "source": [
        "product_id_check[product_id_check['productid']== top_5_recommendation.iloc[0,0] ]"
      ],
      "execution_count": 112,
      "outputs": [
        {
          "output_type": "execute_result",
          "data": {
            "text/html": [
              "<div>\n",
              "<style scoped>\n",
              "    .dataframe tbody tr th:only-of-type {\n",
              "        vertical-align: middle;\n",
              "    }\n",
              "\n",
              "    .dataframe tbody tr th {\n",
              "        vertical-align: top;\n",
              "    }\n",
              "\n",
              "    .dataframe thead th {\n",
              "        text-align: right;\n",
              "    }\n",
              "</style>\n",
              "<table border=\"1\" class=\"dataframe\">\n",
              "  <thead>\n",
              "    <tr style=\"text-align: right;\">\n",
              "      <th></th>\n",
              "      <th>userid</th>\n",
              "      <th>productid</th>\n",
              "      <th>rating</th>\n",
              "    </tr>\n",
              "  </thead>\n",
              "  <tbody>\n",
              "    <tr>\n",
              "      <th>972500</th>\n",
              "      <td>A1NMM0RDRF6R84</td>\n",
              "      <td>B000GISUAS</td>\n",
              "      <td>5.0</td>\n",
              "    </tr>\n",
              "  </tbody>\n",
              "</table>\n",
              "</div>"
            ],
            "text/plain": [
              "                userid   productid  rating\n",
              "972500  A1NMM0RDRF6R84  B000GISUAS     5.0"
            ]
          },
          "metadata": {
            "tags": []
          },
          "execution_count": 112
        }
      ]
    },
    {
      "cell_type": "code",
      "metadata": {
        "id": "-78MVsZ4dTSV",
        "colab_type": "code",
        "colab": {
          "base_uri": "https://localhost:8080/",
          "height": 80
        },
        "outputId": "65912d88-bb02-41e8-df91-53628a35f567"
      },
      "source": [
        "product_id_check[product_id_check['productid'] =='B000QUUFRW']"
      ],
      "execution_count": 113,
      "outputs": [
        {
          "output_type": "execute_result",
          "data": {
            "text/html": [
              "<div>\n",
              "<style scoped>\n",
              "    .dataframe tbody tr th:only-of-type {\n",
              "        vertical-align: middle;\n",
              "    }\n",
              "\n",
              "    .dataframe tbody tr th {\n",
              "        vertical-align: top;\n",
              "    }\n",
              "\n",
              "    .dataframe thead th {\n",
              "        text-align: right;\n",
              "    }\n",
              "</style>\n",
              "<table border=\"1\" class=\"dataframe\">\n",
              "  <thead>\n",
              "    <tr style=\"text-align: right;\">\n",
              "      <th></th>\n",
              "      <th>userid</th>\n",
              "      <th>productid</th>\n",
              "      <th>rating</th>\n",
              "    </tr>\n",
              "  </thead>\n",
              "  <tbody>\n",
              "    <tr>\n",
              "      <th>1312777</th>\n",
              "      <td>A1NMM0RDRF6R84</td>\n",
              "      <td>B000QUUFRW</td>\n",
              "      <td>5.0</td>\n",
              "    </tr>\n",
              "  </tbody>\n",
              "</table>\n",
              "</div>"
            ],
            "text/plain": [
              "                 userid   productid  rating\n",
              "1312777  A1NMM0RDRF6R84  B000QUUFRW     5.0"
            ]
          },
          "metadata": {
            "tags": []
          },
          "execution_count": 113
        }
      ]
    },
    {
      "cell_type": "code",
      "metadata": {
        "id": "VYACdV8DdVfc",
        "colab_type": "code",
        "colab": {}
      },
      "source": [
        "reco_list= ['B000QUUFRW', 'B0040JHVC2', 'B00007IFED', 'B004WB8EYM', 'B002J9HBIO']"
      ],
      "execution_count": 0,
      "outputs": []
    },
    {
      "cell_type": "code",
      "metadata": {
        "id": "QqY67WyFdZdq",
        "colab_type": "code",
        "colab": {
          "base_uri": "https://localhost:8080/",
          "height": 34
        },
        "outputId": "dc6f69d7-6c3d-4bff-cccd-b92d6a5cd424"
      },
      "source": [
        "set(reco_list) - set(product_id_check['productid']) "
      ],
      "execution_count": 115,
      "outputs": [
        {
          "output_type": "execute_result",
          "data": {
            "text/plain": [
              "set()"
            ]
          },
          "metadata": {
            "tags": []
          },
          "execution_count": 115
        }
      ]
    },
    {
      "cell_type": "code",
      "metadata": {
        "id": "lCwod9y3dax-",
        "colab_type": "code",
        "colab": {}
      },
      "source": [
        "## Creating Dataframe from predictions to fetch new products\n",
        "def get_Iu(uid):\n",
        "    \"\"\" return the number of items rated by given user\n",
        "    args: \n",
        "      uid: the id of the user\n",
        "    returns: \n",
        "      the number of items rated by the user\n",
        "    \"\"\"\n",
        "    try:\n",
        "        return len(trainset.ur[trainset.to_inner_uid(uid)])\n",
        "    except ValueError: # user was not part of the trainset\n",
        "        return 0\n",
        "    \n",
        "def get_Ui(iid):\n",
        "    \"\"\" return number of users that have rated given item\n",
        "    args:\n",
        "      iid: the raw id of the item\n",
        "    returns:\n",
        "      the number of users that have rated the item.\n",
        "    \"\"\"\n",
        "    try: \n",
        "        return len(trainset.ir[trainset.to_inner_iid(iid)])\n",
        "    except ValueError:\n",
        "        return 0\n",
        "    \n",
        "df_pred = pd.DataFrame(predictions, columns=['uid', 'iid', 'rui', 'est', 'details'])\n",
        "df_pred['Iu'] = df_pred.uid.apply(get_Iu)\n",
        "df_pred['Ui'] = df_pred.iid.apply(get_Ui)\n",
        "df_pred['err'] = abs(df_pred.est - df_pred.rui)\n",
        "best_predictions = df_pred.sort_values(by='err')[:]\n",
        "#worst_predictions = df_pred.sort_values(by='err')[-10:]"
      ],
      "execution_count": 0,
      "outputs": []
    },
    {
      "cell_type": "code",
      "metadata": {
        "id": "4-9Xs2hedc-u",
        "colab_type": "code",
        "colab": {
          "base_uri": "https://localhost:8080/",
          "height": 419
        },
        "outputId": "382f182d-e402-48af-cfa1-d12bea71332f"
      },
      "source": [
        "best_predictions"
      ],
      "execution_count": 117,
      "outputs": [
        {
          "output_type": "execute_result",
          "data": {
            "text/html": [
              "<div>\n",
              "<style scoped>\n",
              "    .dataframe tbody tr th:only-of-type {\n",
              "        vertical-align: middle;\n",
              "    }\n",
              "\n",
              "    .dataframe tbody tr th {\n",
              "        vertical-align: top;\n",
              "    }\n",
              "\n",
              "    .dataframe thead th {\n",
              "        text-align: right;\n",
              "    }\n",
              "</style>\n",
              "<table border=\"1\" class=\"dataframe\">\n",
              "  <thead>\n",
              "    <tr style=\"text-align: right;\">\n",
              "      <th></th>\n",
              "      <th>uid</th>\n",
              "      <th>iid</th>\n",
              "      <th>rui</th>\n",
              "      <th>est</th>\n",
              "      <th>details</th>\n",
              "      <th>Iu</th>\n",
              "      <th>Ui</th>\n",
              "      <th>err</th>\n",
              "    </tr>\n",
              "  </thead>\n",
              "  <tbody>\n",
              "    <tr>\n",
              "      <th>28736</th>\n",
              "      <td>A2DKQQIZ793AV5</td>\n",
              "      <td>B00CSDMWGW</td>\n",
              "      <td>5.0</td>\n",
              "      <td>5.000000</td>\n",
              "      <td>{'was_impossible': False}</td>\n",
              "      <td>54</td>\n",
              "      <td>4</td>\n",
              "      <td>0.000000</td>\n",
              "    </tr>\n",
              "    <tr>\n",
              "      <th>19786</th>\n",
              "      <td>A2DKQQIZ793AV5</td>\n",
              "      <td>B007WTAJTO</td>\n",
              "      <td>5.0</td>\n",
              "      <td>5.000000</td>\n",
              "      <td>{'was_impossible': False}</td>\n",
              "      <td>54</td>\n",
              "      <td>106</td>\n",
              "      <td>0.000000</td>\n",
              "    </tr>\n",
              "    <tr>\n",
              "      <th>19608</th>\n",
              "      <td>A1XXMNLOLKNO0I</td>\n",
              "      <td>B001TH7T2U</td>\n",
              "      <td>5.0</td>\n",
              "      <td>5.000000</td>\n",
              "      <td>{'was_impossible': False}</td>\n",
              "      <td>72</td>\n",
              "      <td>30</td>\n",
              "      <td>0.000000</td>\n",
              "    </tr>\n",
              "    <tr>\n",
              "      <th>22408</th>\n",
              "      <td>A3D0UM4ZD2CMAW</td>\n",
              "      <td>B004FA8NOQ</td>\n",
              "      <td>5.0</td>\n",
              "      <td>5.000000</td>\n",
              "      <td>{'was_impossible': False}</td>\n",
              "      <td>76</td>\n",
              "      <td>7</td>\n",
              "      <td>0.000000</td>\n",
              "    </tr>\n",
              "    <tr>\n",
              "      <th>35097</th>\n",
              "      <td>AGLT3L7ALL4O4</td>\n",
              "      <td>B00316263Y</td>\n",
              "      <td>5.0</td>\n",
              "      <td>5.000000</td>\n",
              "      <td>{'was_impossible': False}</td>\n",
              "      <td>42</td>\n",
              "      <td>31</td>\n",
              "      <td>0.000000</td>\n",
              "    </tr>\n",
              "    <tr>\n",
              "      <th>...</th>\n",
              "      <td>...</td>\n",
              "      <td>...</td>\n",
              "      <td>...</td>\n",
              "      <td>...</td>\n",
              "      <td>...</td>\n",
              "      <td>...</td>\n",
              "      <td>...</td>\n",
              "      <td>...</td>\n",
              "    </tr>\n",
              "    <tr>\n",
              "      <th>13285</th>\n",
              "      <td>A1KY5G5FP31F2F</td>\n",
              "      <td>B000LRMS66</td>\n",
              "      <td>1.0</td>\n",
              "      <td>4.635825</td>\n",
              "      <td>{'was_impossible': False}</td>\n",
              "      <td>59</td>\n",
              "      <td>53</td>\n",
              "      <td>3.635825</td>\n",
              "    </tr>\n",
              "    <tr>\n",
              "      <th>8282</th>\n",
              "      <td>A1BZIM4WGZ6DZP</td>\n",
              "      <td>B0035ERKYW</td>\n",
              "      <td>1.0</td>\n",
              "      <td>4.685026</td>\n",
              "      <td>{'was_impossible': False}</td>\n",
              "      <td>36</td>\n",
              "      <td>9</td>\n",
              "      <td>3.685026</td>\n",
              "    </tr>\n",
              "    <tr>\n",
              "      <th>21430</th>\n",
              "      <td>A6KL17KKN0A5L</td>\n",
              "      <td>B000JE7GPY</td>\n",
              "      <td>1.0</td>\n",
              "      <td>4.692561</td>\n",
              "      <td>{'was_impossible': False}</td>\n",
              "      <td>37</td>\n",
              "      <td>39</td>\n",
              "      <td>3.692561</td>\n",
              "    </tr>\n",
              "    <tr>\n",
              "      <th>264</th>\n",
              "      <td>A17W0GMB0YY83M</td>\n",
              "      <td>B00834SJSK</td>\n",
              "      <td>1.0</td>\n",
              "      <td>4.800504</td>\n",
              "      <td>{'was_impossible': False}</td>\n",
              "      <td>53</td>\n",
              "      <td>72</td>\n",
              "      <td>3.800504</td>\n",
              "    </tr>\n",
              "    <tr>\n",
              "      <th>26870</th>\n",
              "      <td>A3QDMDSANPYGUX</td>\n",
              "      <td>B001TH7GUU</td>\n",
              "      <td>1.0</td>\n",
              "      <td>4.931379</td>\n",
              "      <td>{'was_impossible': False}</td>\n",
              "      <td>40</td>\n",
              "      <td>58</td>\n",
              "      <td>3.931379</td>\n",
              "    </tr>\n",
              "  </tbody>\n",
              "</table>\n",
              "<p>37762 rows × 8 columns</p>\n",
              "</div>"
            ],
            "text/plain": [
              "                  uid         iid  rui  ...  Iu   Ui       err\n",
              "28736  A2DKQQIZ793AV5  B00CSDMWGW  5.0  ...  54    4  0.000000\n",
              "19786  A2DKQQIZ793AV5  B007WTAJTO  5.0  ...  54  106  0.000000\n",
              "19608  A1XXMNLOLKNO0I  B001TH7T2U  5.0  ...  72   30  0.000000\n",
              "22408  A3D0UM4ZD2CMAW  B004FA8NOQ  5.0  ...  76    7  0.000000\n",
              "35097   AGLT3L7ALL4O4  B00316263Y  5.0  ...  42   31  0.000000\n",
              "...               ...         ...  ...  ...  ..  ...       ...\n",
              "13285  A1KY5G5FP31F2F  B000LRMS66  1.0  ...  59   53  3.635825\n",
              "8282   A1BZIM4WGZ6DZP  B0035ERKYW  1.0  ...  36    9  3.685026\n",
              "21430   A6KL17KKN0A5L  B000JE7GPY  1.0  ...  37   39  3.692561\n",
              "264    A17W0GMB0YY83M  B00834SJSK  1.0  ...  53   72  3.800504\n",
              "26870  A3QDMDSANPYGUX  B001TH7GUU  1.0  ...  40   58  3.931379\n",
              "\n",
              "[37762 rows x 8 columns]"
            ]
          },
          "metadata": {
            "tags": []
          },
          "execution_count": 117
        }
      ]
    },
    {
      "cell_type": "code",
      "metadata": {
        "id": "Begy8cBadf70",
        "colab_type": "code",
        "colab": {}
      },
      "source": [
        "rated_iid = best_predictions[best_predictions['uid'] == 'AVPNQUVZWMDSX']['iid'] \n",
        "\n"
      ],
      "execution_count": 0,
      "outputs": []
    },
    {
      "cell_type": "code",
      "metadata": {
        "id": "5IIfQQeydiSD",
        "colab_type": "code",
        "colab": {}
      },
      "source": [
        "all_iid = best_predictions['iid']"
      ],
      "execution_count": 0,
      "outputs": []
    },
    {
      "cell_type": "code",
      "metadata": {
        "id": "Bihb2D1Kdjie",
        "colab_type": "code",
        "colab": {
          "base_uri": "https://localhost:8080/",
          "height": 419
        },
        "outputId": "5edeb1fd-9647-4b2d-80c6-c12eb02a61cd"
      },
      "source": [
        "not_rated_uid =pd.DataFrame(list(set(all_iid) - set(rated_iid)),columns= ['prod_id'])\n",
        "not_rated_uid"
      ],
      "execution_count": 120,
      "outputs": [
        {
          "output_type": "execute_result",
          "data": {
            "text/html": [
              "<div>\n",
              "<style scoped>\n",
              "    .dataframe tbody tr th:only-of-type {\n",
              "        vertical-align: middle;\n",
              "    }\n",
              "\n",
              "    .dataframe tbody tr th {\n",
              "        vertical-align: top;\n",
              "    }\n",
              "\n",
              "    .dataframe thead th {\n",
              "        text-align: right;\n",
              "    }\n",
              "</style>\n",
              "<table border=\"1\" class=\"dataframe\">\n",
              "  <thead>\n",
              "    <tr style=\"text-align: right;\">\n",
              "      <th></th>\n",
              "      <th>prod_id</th>\n",
              "    </tr>\n",
              "  </thead>\n",
              "  <tbody>\n",
              "    <tr>\n",
              "      <th>0</th>\n",
              "      <td>B00006JPEA</td>\n",
              "    </tr>\n",
              "    <tr>\n",
              "      <th>1</th>\n",
              "      <td>B0053PYDQO</td>\n",
              "    </tr>\n",
              "    <tr>\n",
              "      <th>2</th>\n",
              "      <td>B00CHHTOLK</td>\n",
              "    </tr>\n",
              "    <tr>\n",
              "      <th>3</th>\n",
              "      <td>B000EPLPPU</td>\n",
              "    </tr>\n",
              "    <tr>\n",
              "      <th>4</th>\n",
              "      <td>B003VAHYNC</td>\n",
              "    </tr>\n",
              "    <tr>\n",
              "      <th>...</th>\n",
              "      <td>...</td>\n",
              "    </tr>\n",
              "    <tr>\n",
              "      <th>21253</th>\n",
              "      <td>B004I2EDA4</td>\n",
              "    </tr>\n",
              "    <tr>\n",
              "      <th>21254</th>\n",
              "      <td>B00DJ69GSO</td>\n",
              "    </tr>\n",
              "    <tr>\n",
              "      <th>21255</th>\n",
              "      <td>B0042FZ92S</td>\n",
              "    </tr>\n",
              "    <tr>\n",
              "      <th>21256</th>\n",
              "      <td>B002D0DK8E</td>\n",
              "    </tr>\n",
              "    <tr>\n",
              "      <th>21257</th>\n",
              "      <td>B002BSH9SU</td>\n",
              "    </tr>\n",
              "  </tbody>\n",
              "</table>\n",
              "<p>21258 rows × 1 columns</p>\n",
              "</div>"
            ],
            "text/plain": [
              "          prod_id\n",
              "0      B00006JPEA\n",
              "1      B0053PYDQO\n",
              "2      B00CHHTOLK\n",
              "3      B000EPLPPU\n",
              "4      B003VAHYNC\n",
              "...           ...\n",
              "21253  B004I2EDA4\n",
              "21254  B00DJ69GSO\n",
              "21255  B0042FZ92S\n",
              "21256  B002D0DK8E\n",
              "21257  B002BSH9SU\n",
              "\n",
              "[21258 rows x 1 columns]"
            ]
          },
          "metadata": {
            "tags": []
          },
          "execution_count": 120
        }
      ]
    },
    {
      "cell_type": "code",
      "metadata": {
        "id": "hC_vGbxAdmH-",
        "colab_type": "code",
        "colab": {}
      },
      "source": [
        "corpus_for_recomendation = best_predictions[best_predictions['iid'].isin(not_rated_uid['prod_id'])]"
      ],
      "execution_count": 0,
      "outputs": []
    },
    {
      "cell_type": "code",
      "metadata": {
        "id": "yXZfwwuodoWB",
        "colab_type": "code",
        "colab": {
          "base_uri": "https://localhost:8080/",
          "height": 221
        },
        "outputId": "fb0e7bc9-b909-4186-948a-8d69cd6e863a"
      },
      "source": [
        "corpus_for_recomendation['est'].sort_values(ascending = False)"
      ],
      "execution_count": 122,
      "outputs": [
        {
          "output_type": "execute_result",
          "data": {
            "text/plain": [
              "28736    5.000000\n",
              "8929     5.000000\n",
              "7787     5.000000\n",
              "17434    5.000000\n",
              "13756    5.000000\n",
              "           ...   \n",
              "14456    2.610014\n",
              "22094    2.598878\n",
              "12746    2.594228\n",
              "33505    2.589462\n",
              "4085     2.538325\n",
              "Name: est, Length: 37368, dtype: float64"
            ]
          },
          "metadata": {
            "tags": []
          },
          "execution_count": 122
        }
      ]
    },
    {
      "cell_type": "code",
      "metadata": {
        "id": "Qly3-j9EdpkA",
        "colab_type": "code",
        "colab": {}
      },
      "source": [
        "# Recommendations to be done\n",
        "reco =(( corpus_for_recomendation.sort_values('est',na_position='first',ascending=False))[['iid','est']]).iloc[:5]"
      ],
      "execution_count": 0,
      "outputs": []
    },
    {
      "cell_type": "code",
      "metadata": {
        "id": "L3xSa3WYdr4J",
        "colab_type": "code",
        "colab": {
          "base_uri": "https://localhost:8080/",
          "height": 204
        },
        "outputId": "de2a7142-d141-4a09-aea4-d36f995ea811"
      },
      "source": [
        "# Printing top 5 recommendation\n",
        "reco = corpus_for_recomendation[['iid','est']]\n",
        "reco.iloc[:5]"
      ],
      "execution_count": 124,
      "outputs": [
        {
          "output_type": "execute_result",
          "data": {
            "text/html": [
              "<div>\n",
              "<style scoped>\n",
              "    .dataframe tbody tr th:only-of-type {\n",
              "        vertical-align: middle;\n",
              "    }\n",
              "\n",
              "    .dataframe tbody tr th {\n",
              "        vertical-align: top;\n",
              "    }\n",
              "\n",
              "    .dataframe thead th {\n",
              "        text-align: right;\n",
              "    }\n",
              "</style>\n",
              "<table border=\"1\" class=\"dataframe\">\n",
              "  <thead>\n",
              "    <tr style=\"text-align: right;\">\n",
              "      <th></th>\n",
              "      <th>iid</th>\n",
              "      <th>est</th>\n",
              "    </tr>\n",
              "  </thead>\n",
              "  <tbody>\n",
              "    <tr>\n",
              "      <th>28736</th>\n",
              "      <td>B00CSDMWGW</td>\n",
              "      <td>5.0</td>\n",
              "    </tr>\n",
              "    <tr>\n",
              "      <th>19608</th>\n",
              "      <td>B001TH7T2U</td>\n",
              "      <td>5.0</td>\n",
              "    </tr>\n",
              "    <tr>\n",
              "      <th>22408</th>\n",
              "      <td>B004FA8NOQ</td>\n",
              "      <td>5.0</td>\n",
              "    </tr>\n",
              "    <tr>\n",
              "      <th>35097</th>\n",
              "      <td>B00316263Y</td>\n",
              "      <td>5.0</td>\n",
              "    </tr>\n",
              "    <tr>\n",
              "      <th>10926</th>\n",
              "      <td>B00316263Y</td>\n",
              "      <td>5.0</td>\n",
              "    </tr>\n",
              "  </tbody>\n",
              "</table>\n",
              "</div>"
            ],
            "text/plain": [
              "              iid  est\n",
              "28736  B00CSDMWGW  5.0\n",
              "19608  B001TH7T2U  5.0\n",
              "22408  B004FA8NOQ  5.0\n",
              "35097  B00316263Y  5.0\n",
              "10926  B00316263Y  5.0"
            ]
          },
          "metadata": {
            "tags": []
          },
          "execution_count": 124
        }
      ]
    },
    {
      "cell_type": "code",
      "metadata": {
        "id": "yVsjDdxzduLG",
        "colab_type": "code",
        "colab": {}
      },
      "source": [
        "# Writing Defination for genralizing the above steps \n",
        "def  recomendation (uid):\n",
        "    # Finding those product which are not rated by user\n",
        "    not_rated_items_byUser =pd.DataFrame(list(set(best_predictions['iid']) - \n",
        "                                              set(best_predictions[best_predictions['uid'] == uid]['iid']))\n",
        "                                              ,columns= ['prod_id'])\n",
        "    # creating New dataframe which consist of only those electronic item which are not rated by user\n",
        "    Items_to_be_recommended_from = best_predictions[best_predictions['iid'].isin(not_rated_items_byUser['prod_id'])]\n",
        "    # sorting electronic product in ascending order and slecting top 5 products as a recomendation to a perticular user\n",
        "    top_5_recommendation = ((Items_to_be_recommended_from.sort_values('est',na_position='first'\n",
        "                                                                      ,ascending=False))[['iid','est']]).iloc[:5]\n",
        "    return top_5_recommendation\n",
        "    "
      ],
      "execution_count": 0,
      "outputs": []
    },
    {
      "cell_type": "code",
      "metadata": {
        "id": "Z7O-PZEZdwHK",
        "colab_type": "code",
        "colab": {
          "base_uri": "https://localhost:8080/",
          "height": 204
        },
        "outputId": "2c3fb706-4b59-40c3-f516-1de4f3152af4"
      },
      "source": [
        "# Recommendation for a given user \n",
        "recomendation('A1NMM0RDRF6R84')"
      ],
      "execution_count": 126,
      "outputs": [
        {
          "output_type": "execute_result",
          "data": {
            "text/html": [
              "<div>\n",
              "<style scoped>\n",
              "    .dataframe tbody tr th:only-of-type {\n",
              "        vertical-align: middle;\n",
              "    }\n",
              "\n",
              "    .dataframe tbody tr th {\n",
              "        vertical-align: top;\n",
              "    }\n",
              "\n",
              "    .dataframe thead th {\n",
              "        text-align: right;\n",
              "    }\n",
              "</style>\n",
              "<table border=\"1\" class=\"dataframe\">\n",
              "  <thead>\n",
              "    <tr style=\"text-align: right;\">\n",
              "      <th></th>\n",
              "      <th>iid</th>\n",
              "      <th>est</th>\n",
              "    </tr>\n",
              "  </thead>\n",
              "  <tbody>\n",
              "    <tr>\n",
              "      <th>28736</th>\n",
              "      <td>B00CSDMWGW</td>\n",
              "      <td>5.0</td>\n",
              "    </tr>\n",
              "    <tr>\n",
              "      <th>11606</th>\n",
              "      <td>B00G4UQ6U8</td>\n",
              "      <td>5.0</td>\n",
              "    </tr>\n",
              "    <tr>\n",
              "      <th>7787</th>\n",
              "      <td>B003ES5ZR8</td>\n",
              "      <td>5.0</td>\n",
              "    </tr>\n",
              "    <tr>\n",
              "      <th>17434</th>\n",
              "      <td>B0000BZL1P</td>\n",
              "      <td>5.0</td>\n",
              "    </tr>\n",
              "    <tr>\n",
              "      <th>13756</th>\n",
              "      <td>B0052SCU8U</td>\n",
              "      <td>5.0</td>\n",
              "    </tr>\n",
              "  </tbody>\n",
              "</table>\n",
              "</div>"
            ],
            "text/plain": [
              "              iid  est\n",
              "28736  B00CSDMWGW  5.0\n",
              "11606  B00G4UQ6U8  5.0\n",
              "7787   B003ES5ZR8  5.0\n",
              "17434  B0000BZL1P  5.0\n",
              "13756  B0052SCU8U  5.0"
            ]
          },
          "metadata": {
            "tags": []
          },
          "execution_count": 126
        }
      ]
    },
    {
      "cell_type": "code",
      "metadata": {
        "id": "tCBsJ03wdxYC",
        "colab_type": "code",
        "colab": {}
      },
      "source": [
        "# Getting all the products rated by given user \n",
        "product_id_check = df2[df2['userid']== 'A1NMM0RDRF6R84']\n",
        "# product_id_check contains all the product rated by user an"
      ],
      "execution_count": 0,
      "outputs": []
    },
    {
      "cell_type": "code",
      "metadata": {
        "id": "FV5hG6Ald0sF",
        "colab_type": "code",
        "colab": {
          "base_uri": "https://localhost:8080/",
          "height": 49
        },
        "outputId": "43392a8d-6cc8-4857-d7c1-b2934f59a7f6"
      },
      "source": [
        "product_id_check[product_id_check['productid']== 'B006W8U2MU' ]"
      ],
      "execution_count": 129,
      "outputs": [
        {
          "output_type": "execute_result",
          "data": {
            "text/html": [
              "<div>\n",
              "<style scoped>\n",
              "    .dataframe tbody tr th:only-of-type {\n",
              "        vertical-align: middle;\n",
              "    }\n",
              "\n",
              "    .dataframe tbody tr th {\n",
              "        vertical-align: top;\n",
              "    }\n",
              "\n",
              "    .dataframe thead th {\n",
              "        text-align: right;\n",
              "    }\n",
              "</style>\n",
              "<table border=\"1\" class=\"dataframe\">\n",
              "  <thead>\n",
              "    <tr style=\"text-align: right;\">\n",
              "      <th></th>\n",
              "      <th>userid</th>\n",
              "      <th>productid</th>\n",
              "      <th>rating</th>\n",
              "    </tr>\n",
              "  </thead>\n",
              "  <tbody>\n",
              "  </tbody>\n",
              "</table>\n",
              "</div>"
            ],
            "text/plain": [
              "Empty DataFrame\n",
              "Columns: [userid, productid, rating]\n",
              "Index: []"
            ]
          },
          "metadata": {
            "tags": []
          },
          "execution_count": 129
        }
      ]
    },
    {
      "cell_type": "code",
      "metadata": {
        "id": "fMUjwxSvd4Dx",
        "colab_type": "code",
        "colab": {}
      },
      "source": [
        ""
      ],
      "execution_count": 0,
      "outputs": []
    }
  ]
}