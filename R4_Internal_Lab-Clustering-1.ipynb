{
 "cells": [
  {
   "cell_type": "markdown",
   "metadata": {
    "colab_type": "text",
    "id": "zfsiaKcDho8W"
   },
   "source": [
    "### The data set has information about features of silhouette extracted from the images of different cars\n",
    "\n",
    "Four \"Corgie\" model vehicles were used for the experiment: a double decker bus, Cheverolet van, Saab 9000 and an Opel Manta 400 cars. This particular combination of vehicles was chosen with the expectation that the bus, van and either one of the cars would be readily distinguishable, but it would be more difficult to distinguish between the cars.\n",
    "\n"
   ]
  },
  {
   "cell_type": "markdown",
   "metadata": {
    "colab_type": "text",
    "id": "kVtZqLhGho8c"
   },
   "source": [
    "### 1. Read the dataset using function .dropna() - to avoid dealing with NAs as of now"
   ]
  },
  {
   "cell_type": "code",
   "execution_count": 61,
   "metadata": {
    "colab": {},
    "colab_type": "code",
    "id": "VbKTspg4ho8g"
   },
   "outputs": [],
   "source": [
    "import pandas as pd\n",
    "import pandas_profiling\n",
    "import numpy as np\n",
    "import matplotlib.pyplot as plt\n",
    "import scipy.cluster.hierarchy as sch\n",
    "from scipy.cluster.hierarchy import cophenet, dendrogram, linkage\n",
    "from scipy.spatial.distance import pdist\n",
    "import seaborn as sns\n",
    "from sklearn.cluster import KMeans\n",
    "%matplotlib inline"
   ]
  },
  {
   "cell_type": "code",
   "execution_count": 69,
   "metadata": {},
   "outputs": [],
   "source": [
    "df=pd.read_csv('vehicle.csv').dropna()"
   ]
  },
  {
   "cell_type": "code",
   "execution_count": 70,
   "metadata": {},
   "outputs": [
    {
     "data": {
      "text/html": [
       "<div>\n",
       "<style scoped>\n",
       "    .dataframe tbody tr th:only-of-type {\n",
       "        vertical-align: middle;\n",
       "    }\n",
       "\n",
       "    .dataframe tbody tr th {\n",
       "        vertical-align: top;\n",
       "    }\n",
       "\n",
       "    .dataframe thead th {\n",
       "        text-align: right;\n",
       "    }\n",
       "</style>\n",
       "<table border=\"1\" class=\"dataframe\">\n",
       "  <thead>\n",
       "    <tr style=\"text-align: right;\">\n",
       "      <th></th>\n",
       "      <th>compactness</th>\n",
       "      <th>circularity</th>\n",
       "      <th>distance_circularity</th>\n",
       "      <th>radius_ratio</th>\n",
       "      <th>pr.axis_aspect_ratio</th>\n",
       "      <th>max.length_aspect_ratio</th>\n",
       "      <th>scatter_ratio</th>\n",
       "      <th>elongatedness</th>\n",
       "      <th>pr.axis_rectangularity</th>\n",
       "      <th>max.length_rectangularity</th>\n",
       "      <th>scaled_variance</th>\n",
       "      <th>scaled_variance.1</th>\n",
       "      <th>scaled_radius_of_gyration</th>\n",
       "      <th>scaled_radius_of_gyration.1</th>\n",
       "      <th>skewness_about</th>\n",
       "      <th>skewness_about.1</th>\n",
       "      <th>skewness_about.2</th>\n",
       "      <th>hollows_ratio</th>\n",
       "      <th>class</th>\n",
       "    </tr>\n",
       "  </thead>\n",
       "  <tbody>\n",
       "    <tr>\n",
       "      <th>0</th>\n",
       "      <td>95</td>\n",
       "      <td>48.0</td>\n",
       "      <td>83.0</td>\n",
       "      <td>178.0</td>\n",
       "      <td>72.0</td>\n",
       "      <td>10</td>\n",
       "      <td>162.0</td>\n",
       "      <td>42.0</td>\n",
       "      <td>20.0</td>\n",
       "      <td>159</td>\n",
       "      <td>176.0</td>\n",
       "      <td>379.0</td>\n",
       "      <td>184.0</td>\n",
       "      <td>70.0</td>\n",
       "      <td>6.0</td>\n",
       "      <td>16.0</td>\n",
       "      <td>187.0</td>\n",
       "      <td>197</td>\n",
       "      <td>van</td>\n",
       "    </tr>\n",
       "    <tr>\n",
       "      <th>1</th>\n",
       "      <td>91</td>\n",
       "      <td>41.0</td>\n",
       "      <td>84.0</td>\n",
       "      <td>141.0</td>\n",
       "      <td>57.0</td>\n",
       "      <td>9</td>\n",
       "      <td>149.0</td>\n",
       "      <td>45.0</td>\n",
       "      <td>19.0</td>\n",
       "      <td>143</td>\n",
       "      <td>170.0</td>\n",
       "      <td>330.0</td>\n",
       "      <td>158.0</td>\n",
       "      <td>72.0</td>\n",
       "      <td>9.0</td>\n",
       "      <td>14.0</td>\n",
       "      <td>189.0</td>\n",
       "      <td>199</td>\n",
       "      <td>van</td>\n",
       "    </tr>\n",
       "    <tr>\n",
       "      <th>2</th>\n",
       "      <td>104</td>\n",
       "      <td>50.0</td>\n",
       "      <td>106.0</td>\n",
       "      <td>209.0</td>\n",
       "      <td>66.0</td>\n",
       "      <td>10</td>\n",
       "      <td>207.0</td>\n",
       "      <td>32.0</td>\n",
       "      <td>23.0</td>\n",
       "      <td>158</td>\n",
       "      <td>223.0</td>\n",
       "      <td>635.0</td>\n",
       "      <td>220.0</td>\n",
       "      <td>73.0</td>\n",
       "      <td>14.0</td>\n",
       "      <td>9.0</td>\n",
       "      <td>188.0</td>\n",
       "      <td>196</td>\n",
       "      <td>car</td>\n",
       "    </tr>\n",
       "    <tr>\n",
       "      <th>3</th>\n",
       "      <td>93</td>\n",
       "      <td>41.0</td>\n",
       "      <td>82.0</td>\n",
       "      <td>159.0</td>\n",
       "      <td>63.0</td>\n",
       "      <td>9</td>\n",
       "      <td>144.0</td>\n",
       "      <td>46.0</td>\n",
       "      <td>19.0</td>\n",
       "      <td>143</td>\n",
       "      <td>160.0</td>\n",
       "      <td>309.0</td>\n",
       "      <td>127.0</td>\n",
       "      <td>63.0</td>\n",
       "      <td>6.0</td>\n",
       "      <td>10.0</td>\n",
       "      <td>199.0</td>\n",
       "      <td>207</td>\n",
       "      <td>van</td>\n",
       "    </tr>\n",
       "    <tr>\n",
       "      <th>4</th>\n",
       "      <td>85</td>\n",
       "      <td>44.0</td>\n",
       "      <td>70.0</td>\n",
       "      <td>205.0</td>\n",
       "      <td>103.0</td>\n",
       "      <td>52</td>\n",
       "      <td>149.0</td>\n",
       "      <td>45.0</td>\n",
       "      <td>19.0</td>\n",
       "      <td>144</td>\n",
       "      <td>241.0</td>\n",
       "      <td>325.0</td>\n",
       "      <td>188.0</td>\n",
       "      <td>127.0</td>\n",
       "      <td>9.0</td>\n",
       "      <td>11.0</td>\n",
       "      <td>180.0</td>\n",
       "      <td>183</td>\n",
       "      <td>bus</td>\n",
       "    </tr>\n",
       "  </tbody>\n",
       "</table>\n",
       "</div>"
      ],
      "text/plain": [
       "   compactness  circularity  distance_circularity  radius_ratio  \\\n",
       "0           95         48.0                  83.0         178.0   \n",
       "1           91         41.0                  84.0         141.0   \n",
       "2          104         50.0                 106.0         209.0   \n",
       "3           93         41.0                  82.0         159.0   \n",
       "4           85         44.0                  70.0         205.0   \n",
       "\n",
       "   pr.axis_aspect_ratio  max.length_aspect_ratio  scatter_ratio  \\\n",
       "0                  72.0                       10          162.0   \n",
       "1                  57.0                        9          149.0   \n",
       "2                  66.0                       10          207.0   \n",
       "3                  63.0                        9          144.0   \n",
       "4                 103.0                       52          149.0   \n",
       "\n",
       "   elongatedness  pr.axis_rectangularity  max.length_rectangularity  \\\n",
       "0           42.0                    20.0                        159   \n",
       "1           45.0                    19.0                        143   \n",
       "2           32.0                    23.0                        158   \n",
       "3           46.0                    19.0                        143   \n",
       "4           45.0                    19.0                        144   \n",
       "\n",
       "   scaled_variance  scaled_variance.1  scaled_radius_of_gyration  \\\n",
       "0            176.0              379.0                      184.0   \n",
       "1            170.0              330.0                      158.0   \n",
       "2            223.0              635.0                      220.0   \n",
       "3            160.0              309.0                      127.0   \n",
       "4            241.0              325.0                      188.0   \n",
       "\n",
       "   scaled_radius_of_gyration.1  skewness_about  skewness_about.1  \\\n",
       "0                         70.0             6.0              16.0   \n",
       "1                         72.0             9.0              14.0   \n",
       "2                         73.0            14.0               9.0   \n",
       "3                         63.0             6.0              10.0   \n",
       "4                        127.0             9.0              11.0   \n",
       "\n",
       "   skewness_about.2  hollows_ratio class  \n",
       "0             187.0            197   van  \n",
       "1             189.0            199   van  \n",
       "2             188.0            196   car  \n",
       "3             199.0            207   van  \n",
       "4             180.0            183   bus  "
      ]
     },
     "execution_count": 70,
     "metadata": {},
     "output_type": "execute_result"
    }
   ],
   "source": [
    "df.head()"
   ]
  },
  {
   "cell_type": "code",
   "execution_count": 71,
   "metadata": {},
   "outputs": [
    {
     "data": {
      "text/plain": [
       "compactness                      int64\n",
       "circularity                    float64\n",
       "distance_circularity           float64\n",
       "radius_ratio                   float64\n",
       "pr.axis_aspect_ratio           float64\n",
       "max.length_aspect_ratio          int64\n",
       "scatter_ratio                  float64\n",
       "elongatedness                  float64\n",
       "pr.axis_rectangularity         float64\n",
       "max.length_rectangularity        int64\n",
       "scaled_variance                float64\n",
       "scaled_variance.1              float64\n",
       "scaled_radius_of_gyration      float64\n",
       "scaled_radius_of_gyration.1    float64\n",
       "skewness_about                 float64\n",
       "skewness_about.1               float64\n",
       "skewness_about.2               float64\n",
       "hollows_ratio                    int64\n",
       "class                           object\n",
       "dtype: object"
      ]
     },
     "execution_count": 71,
     "metadata": {},
     "output_type": "execute_result"
    }
   ],
   "source": [
    "df.dtypes"
   ]
  },
  {
   "cell_type": "markdown",
   "metadata": {
    "colab_type": "text",
    "id": "Ku4eS0ZAho8s"
   },
   "source": [
    "### 2. Print/ Plot the dependent (categorical variable) - Class column"
   ]
  },
  {
   "cell_type": "code",
   "execution_count": 72,
   "metadata": {},
   "outputs": [
    {
     "data": {
      "image/png": "[encoded data removed]",
      "text/plain": [
       "<Figure size 360x360 with 1 Axes>"
      ]
     },
     "metadata": {},
     "output_type": "display_data"
    }
   ],
   "source": [
    "sns.catplot(x=\"class\", y=\"compactness\", jitter=False, data=df);"
   ]
  },
  {
   "cell_type": "markdown",
   "metadata": {
    "colab_type": "text",
    "id": "R1mfF_hiho8v"
   },
   "source": [
    "Since the variable is categorical, you can use value_counts function"
   ]
  },
  {
   "cell_type": "code",
   "execution_count": null,
   "metadata": {
    "colab": {},
    "colab_type": "code",
    "id": "_dP5-zpUho81"
   },
   "outputs": [],
   "source": []
  },
  {
   "cell_type": "markdown",
   "metadata": {
    "colab_type": "text",
    "id": "ZFsXYI5qho9E"
   },
   "source": [
    "### Check for any missing values in the data "
   ]
  },
  {
   "cell_type": "code",
   "execution_count": 73,
   "metadata": {
    "colab": {},
    "colab_type": "code",
    "id": "qb77DNfwho9J"
   },
   "outputs": [
    {
     "data": {
      "text/plain": [
       "compactness                    0\n",
       "circularity                    0\n",
       "distance_circularity           0\n",
       "radius_ratio                   0\n",
       "pr.axis_aspect_ratio           0\n",
       "max.length_aspect_ratio        0\n",
       "scatter_ratio                  0\n",
       "elongatedness                  0\n",
       "pr.axis_rectangularity         0\n",
       "max.length_rectangularity      0\n",
       "scaled_variance                0\n",
       "scaled_variance.1              0\n",
       "scaled_radius_of_gyration      0\n",
       "scaled_radius_of_gyration.1    0\n",
       "skewness_about                 0\n",
       "skewness_about.1               0\n",
       "skewness_about.2               0\n",
       "hollows_ratio                  0\n",
       "class                          0\n",
       "dtype: int64"
      ]
     },
     "execution_count": 73,
     "metadata": {},
     "output_type": "execute_result"
    }
   ],
   "source": [
    "df.isnull().sum()"
   ]
  },
  {
   "cell_type": "code",
   "execution_count": 74,
   "metadata": {},
   "outputs": [
    {
     "data": {
      "text/plain": [
       "(813, 19)"
      ]
     },
     "execution_count": 74,
     "metadata": {},
     "output_type": "execute_result"
    }
   ],
   "source": [
    "df.shape"
   ]
  },
  {
   "cell_type": "code",
   "execution_count": 75,
   "metadata": {},
   "outputs": [
    {
     "name": "stdout",
     "output_type": "stream",
     "text": [
      "<class 'pandas.core.frame.DataFrame'>\n",
      "Int64Index: 813 entries, 0 to 845\n",
      "Data columns (total 19 columns):\n",
      "compactness                    813 non-null int64\n",
      "circularity                    813 non-null float64\n",
      "distance_circularity           813 non-null float64\n",
      "radius_ratio                   813 non-null float64\n",
      "pr.axis_aspect_ratio           813 non-null float64\n",
      "max.length_aspect_ratio        813 non-null int64\n",
      "scatter_ratio                  813 non-null float64\n",
      "elongatedness                  813 non-null float64\n",
      "pr.axis_rectangularity         813 non-null float64\n",
      "max.length_rectangularity      813 non-null int64\n",
      "scaled_variance                813 non-null float64\n",
      "scaled_variance.1              813 non-null float64\n",
      "scaled_radius_of_gyration      813 non-null float64\n",
      "scaled_radius_of_gyration.1    813 non-null float64\n",
      "skewness_about                 813 non-null float64\n",
      "skewness_about.1               813 non-null float64\n",
      "skewness_about.2               813 non-null float64\n",
      "hollows_ratio                  813 non-null int64\n",
      "class                          813 non-null object\n",
      "dtypes: float64(14), int64(4), object(1)\n",
      "memory usage: 167.0+ KB\n"
     ]
    }
   ],
   "source": [
    "df.info()"
   ]
  },
  {
   "cell_type": "markdown",
   "metadata": {
    "colab_type": "text",
    "id": "AwUdJm9qho9U"
   },
   "source": [
    "### 3. Standardize the data "
   ]
  },
  {
   "cell_type": "markdown",
   "metadata": {
    "colab_type": "text",
    "id": "x6z10bgjho9j"
   },
   "source": [
    "Since the dimensions of the data are not really known to us, it would be wise to standardize the data using z scores before we go for any clustering methods.\n",
    "You can use zscore function to do this"
   ]
  },
  {
   "cell_type": "code",
   "execution_count": null,
   "metadata": {
    "colab": {},
    "colab_type": "code",
    "id": "qed3MlPjho9n"
   },
   "outputs": [],
   "source": []
  },
  {
   "cell_type": "code",
   "execution_count": 76,
   "metadata": {},
   "outputs": [],
   "source": [
    "X=df.drop(['class'],axis=1)\n",
    "y=df[['class']]"
   ]
  },
  {
   "cell_type": "code",
   "execution_count": 77,
   "metadata": {
    "colab": {},
    "colab_type": "code",
    "id": "pbGN_7mhho9y"
   },
   "outputs": [
    {
     "data": {
      "text/html": [
       "<div>\n",
       "<style scoped>\n",
       "    .dataframe tbody tr th:only-of-type {\n",
       "        vertical-align: middle;\n",
       "    }\n",
       "\n",
       "    .dataframe tbody tr th {\n",
       "        vertical-align: top;\n",
       "    }\n",
       "\n",
       "    .dataframe thead th {\n",
       "        text-align: right;\n",
       "    }\n",
       "</style>\n",
       "<table border=\"1\" class=\"dataframe\">\n",
       "  <thead>\n",
       "    <tr style=\"text-align: right;\">\n",
       "      <th></th>\n",
       "      <th>0</th>\n",
       "      <th>1</th>\n",
       "      <th>2</th>\n",
       "      <th>3</th>\n",
       "      <th>4</th>\n",
       "      <th>5</th>\n",
       "      <th>6</th>\n",
       "      <th>7</th>\n",
       "      <th>8</th>\n",
       "      <th>9</th>\n",
       "      <th>10</th>\n",
       "      <th>11</th>\n",
       "      <th>12</th>\n",
       "      <th>13</th>\n",
       "      <th>14</th>\n",
       "      <th>15</th>\n",
       "      <th>16</th>\n",
       "      <th>17</th>\n",
       "    </tr>\n",
       "  </thead>\n",
       "  <tbody>\n",
       "    <tr>\n",
       "      <th>count</th>\n",
       "      <td>8.130000e+02</td>\n",
       "      <td>8.130000e+02</td>\n",
       "      <td>8.130000e+02</td>\n",
       "      <td>8.130000e+02</td>\n",
       "      <td>8.130000e+02</td>\n",
       "      <td>8.130000e+02</td>\n",
       "      <td>8.130000e+02</td>\n",
       "      <td>8.130000e+02</td>\n",
       "      <td>8.130000e+02</td>\n",
       "      <td>8.130000e+02</td>\n",
       "      <td>8.130000e+02</td>\n",
       "      <td>8.130000e+02</td>\n",
       "      <td>8.130000e+02</td>\n",
       "      <td>8.130000e+02</td>\n",
       "      <td>8.130000e+02</td>\n",
       "      <td>8.130000e+02</td>\n",
       "      <td>8.130000e+02</td>\n",
       "      <td>8.130000e+02</td>\n",
       "    </tr>\n",
       "    <tr>\n",
       "      <th>mean</th>\n",
       "      <td>-2.425284e-16</td>\n",
       "      <td>-4.642999e-16</td>\n",
       "      <td>-2.351542e-16</td>\n",
       "      <td>3.665238e-16</td>\n",
       "      <td>-2.047016e-16</td>\n",
       "      <td>-1.349201e-16</td>\n",
       "      <td>3.714399e-16</td>\n",
       "      <td>-2.062038e-16</td>\n",
       "      <td>-2.651972e-16</td>\n",
       "      <td>-7.398756e-16</td>\n",
       "      <td>-3.031605e-17</td>\n",
       "      <td>-3.550529e-17</td>\n",
       "      <td>3.348422e-16</td>\n",
       "      <td>1.312159e-16</td>\n",
       "      <td>-1.693329e-17</td>\n",
       "      <td>9.845889e-17</td>\n",
       "      <td>-1.169490e-15</td>\n",
       "      <td>3.482249e-16</td>\n",
       "    </tr>\n",
       "    <tr>\n",
       "      <th>std</th>\n",
       "      <td>1.000616e+00</td>\n",
       "      <td>1.000616e+00</td>\n",
       "      <td>1.000616e+00</td>\n",
       "      <td>1.000616e+00</td>\n",
       "      <td>1.000616e+00</td>\n",
       "      <td>1.000616e+00</td>\n",
       "      <td>1.000616e+00</td>\n",
       "      <td>1.000616e+00</td>\n",
       "      <td>1.000616e+00</td>\n",
       "      <td>1.000616e+00</td>\n",
       "      <td>1.000616e+00</td>\n",
       "      <td>1.000616e+00</td>\n",
       "      <td>1.000616e+00</td>\n",
       "      <td>1.000616e+00</td>\n",
       "      <td>1.000616e+00</td>\n",
       "      <td>1.000616e+00</td>\n",
       "      <td>1.000616e+00</td>\n",
       "      <td>1.000616e+00</td>\n",
       "    </tr>\n",
       "    <tr>\n",
       "      <th>min</th>\n",
       "      <td>-2.510344e+00</td>\n",
       "      <td>-1.921444e+00</td>\n",
       "      <td>-2.665447e+00</td>\n",
       "      <td>-1.937757e+00</td>\n",
       "      <td>-1.854258e+00</td>\n",
       "      <td>-1.411767e+00</td>\n",
       "      <td>-1.710835e+00</td>\n",
       "      <td>-1.922008e+00</td>\n",
       "      <td>-1.383740e+00</td>\n",
       "      <td>-2.062109e+00</td>\n",
       "      <td>-1.874279e+00</td>\n",
       "      <td>-1.452266e+00</td>\n",
       "      <td>-2.019423e+00</td>\n",
       "      <td>-1.793474e+00</td>\n",
       "      <td>-1.291420e+00</td>\n",
       "      <td>-1.422141e+00</td>\n",
       "      <td>-2.110457e+00</td>\n",
       "      <td>-1.992013e+00</td>\n",
       "    </tr>\n",
       "    <tr>\n",
       "      <th>25%</th>\n",
       "      <td>-8.089782e-01</td>\n",
       "      <td>-7.819133e-01</td>\n",
       "      <td>-7.635057e-01</td>\n",
       "      <td>-8.363933e-01</td>\n",
       "      <td>-5.992534e-01</td>\n",
       "      <td>-3.420870e-01</td>\n",
       "      <td>-6.824590e-01</td>\n",
       "      <td>-1.024408e+00</td>\n",
       "      <td>-6.060138e-01</td>\n",
       "      <td>-7.513773e-01</td>\n",
       "      <td>-6.863524e-01</td>\n",
       "      <td>-6.872619e-01</td>\n",
       "      <td>-7.815035e-01</td>\n",
       "      <td>-7.227236e-01</td>\n",
       "      <td>-8.847879e-01</td>\n",
       "      <td>-7.496057e-01</td>\n",
       "      <td>-8.096219e-01</td>\n",
       "      <td>-6.396066e-01</td>\n",
       "    </tr>\n",
       "    <tr>\n",
       "      <th>50%</th>\n",
       "      <td>-7.982157e-02</td>\n",
       "      <td>-1.307527e-01</td>\n",
       "      <td>-1.929234e-01</td>\n",
       "      <td>-6.246222e-02</td>\n",
       "      <td>-9.725132e-02</td>\n",
       "      <td>-1.281510e-01</td>\n",
       "      <td>-3.497491e-01</td>\n",
       "      <td>2.578765e-01</td>\n",
       "      <td>-2.171510e-01</td>\n",
       "      <td>-1.305046e-01</td>\n",
       "      <td>-3.010789e-01</td>\n",
       "      <td>-4.246486e-01</td>\n",
       "      <td>-3.875161e-02</td>\n",
       "      <td>-1.873484e-01</td>\n",
       "      <td>-7.152328e-02</td>\n",
       "      <td>-1.891593e-01</td>\n",
       "      <td>3.400092e-03</td>\n",
       "      <td>1.718371e-01</td>\n",
       "    </tr>\n",
       "    <tr>\n",
       "      <th>75%</th>\n",
       "      <td>7.708611e-01</td>\n",
       "      <td>6.831980e-01</td>\n",
       "      <td>1.011639e+00</td>\n",
       "      <td>7.710020e-01</td>\n",
       "      <td>4.047507e-01</td>\n",
       "      <td>2.997208e-01</td>\n",
       "      <td>8.903515e-01</td>\n",
       "      <td>6.425619e-01</td>\n",
       "      <td>9.494376e-01</td>\n",
       "      <td>7.663115e-01</td>\n",
       "      <td>9.189540e-01</td>\n",
       "      <td>8.427456e-01</td>\n",
       "      <td>7.349483e-01</td>\n",
       "      <td>3.480268e-01</td>\n",
       "      <td>5.384252e-01</td>\n",
       "      <td>7.075550e-01</td>\n",
       "      <td>6.538177e-01</td>\n",
       "      <td>7.127995e-01</td>\n",
       "    </tr>\n",
       "    <tr>\n",
       "      <th>max</th>\n",
       "      <td>3.079857e+00</td>\n",
       "      <td>2.311100e+00</td>\n",
       "      <td>1.899212e+00</td>\n",
       "      <td>4.878790e+00</td>\n",
       "      <td>9.566288e+00</td>\n",
       "      <td>9.926837e+00</td>\n",
       "      <td>2.916857e+00</td>\n",
       "      <td>2.565989e+00</td>\n",
       "      <td>3.282615e+00</td>\n",
       "      <td>2.766901e+00</td>\n",
       "      <td>4.225885e+00</td>\n",
       "      <td>3.309026e+00</td>\n",
       "      <td>2.901308e+00</td>\n",
       "      <td>8.378655e+00</td>\n",
       "      <td>3.181535e+00</td>\n",
       "      <td>3.173519e+00</td>\n",
       "      <td>2.767675e+00</td>\n",
       "      <td>2.065206e+00</td>\n",
       "    </tr>\n",
       "  </tbody>\n",
       "</table>\n",
       "</div>"
      ],
      "text/plain": [
       "                 0             1             2             3             4   \\\n",
       "count  8.130000e+02  8.130000e+02  8.130000e+02  8.130000e+02  8.130000e+02   \n",
       "mean  -2.425284e-16 -4.642999e-16 -2.351542e-16  3.665238e-16 -2.047016e-16   \n",
       "std    1.000616e+00  1.000616e+00  1.000616e+00  1.000616e+00  1.000616e+00   \n",
       "min   -2.510344e+00 -1.921444e+00 -2.665447e+00 -1.937757e+00 -1.854258e+00   \n",
       "25%   -8.089782e-01 -7.819133e-01 -7.635057e-01 -8.363933e-01 -5.992534e-01   \n",
       "50%   -7.982157e-02 -1.307527e-01 -1.929234e-01 -6.246222e-02 -9.725132e-02   \n",
       "75%    7.708611e-01  6.831980e-01  1.011639e+00  7.710020e-01  4.047507e-01   \n",
       "max    3.079857e+00  2.311100e+00  1.899212e+00  4.878790e+00  9.566288e+00   \n",
       "\n",
       "                 5             6             7             8             9   \\\n",
       "count  8.130000e+02  8.130000e+02  8.130000e+02  8.130000e+02  8.130000e+02   \n",
       "mean  -1.349201e-16  3.714399e-16 -2.062038e-16 -2.651972e-16 -7.398756e-16   \n",
       "std    1.000616e+00  1.000616e+00  1.000616e+00  1.000616e+00  1.000616e+00   \n",
       "min   -1.411767e+00 -1.710835e+00 -1.922008e+00 -1.383740e+00 -2.062109e+00   \n",
       "25%   -3.420870e-01 -6.824590e-01 -1.024408e+00 -6.060138e-01 -7.513773e-01   \n",
       "50%   -1.281510e-01 -3.497491e-01  2.578765e-01 -2.171510e-01 -1.305046e-01   \n",
       "75%    2.997208e-01  8.903515e-01  6.425619e-01  9.494376e-01  7.663115e-01   \n",
       "max    9.926837e+00  2.916857e+00  2.565989e+00  3.282615e+00  2.766901e+00   \n",
       "\n",
       "                 10            11            12            13            14  \\\n",
       "count  8.130000e+02  8.130000e+02  8.130000e+02  8.130000e+02  8.130000e+02   \n",
       "mean  -3.031605e-17 -3.550529e-17  3.348422e-16  1.312159e-16 -1.693329e-17   \n",
       "std    1.000616e+00  1.000616e+00  1.000616e+00  1.000616e+00  1.000616e+00   \n",
       "min   -1.874279e+00 -1.452266e+00 -2.019423e+00 -1.793474e+00 -1.291420e+00   \n",
       "25%   -6.863524e-01 -6.872619e-01 -7.815035e-01 -7.227236e-01 -8.847879e-01   \n",
       "50%   -3.010789e-01 -4.246486e-01 -3.875161e-02 -1.873484e-01 -7.152328e-02   \n",
       "75%    9.189540e-01  8.427456e-01  7.349483e-01  3.480268e-01  5.384252e-01   \n",
       "max    4.225885e+00  3.309026e+00  2.901308e+00  8.378655e+00  3.181535e+00   \n",
       "\n",
       "                 15            16            17  \n",
       "count  8.130000e+02  8.130000e+02  8.130000e+02  \n",
       "mean   9.845889e-17 -1.169490e-15  3.482249e-16  \n",
       "std    1.000616e+00  1.000616e+00  1.000616e+00  \n",
       "min   -1.422141e+00 -2.110457e+00 -1.992013e+00  \n",
       "25%   -7.496057e-01 -8.096219e-01 -6.396066e-01  \n",
       "50%   -1.891593e-01  3.400092e-03  1.718371e-01  \n",
       "75%    7.075550e-01  6.538177e-01  7.127995e-01  \n",
       "max    3.173519e+00  2.767675e+00  2.065206e+00  "
      ]
     },
     "execution_count": 77,
     "metadata": {},
     "output_type": "execute_result"
    }
   ],
   "source": [
    "from sklearn.preprocessing import StandardScaler\n",
    "sc=StandardScaler()\n",
    "scaledX = sc.fit_transform(X)\n",
    "\n",
    "# statistics of scaled data\n",
    "pd.DataFrame(scaledX).describe()"
   ]
  },
  {
   "cell_type": "code",
   "execution_count": 78,
   "metadata": {},
   "outputs": [
    {
     "data": {
      "text/plain": [
       "array([[ 0.16323063,  0.52040788,  0.06066872, ...,  0.37128716,\n",
       "        -0.3218087 ,  0.17183708],\n",
       "       [-0.32287376, -0.61912319,  0.12406675, ...,  0.14710858,\n",
       "         0.00340009,  0.44231829],\n",
       "       [ 1.2569655 ,  0.84598818,  1.51882349, ..., -0.41333788,\n",
       "        -0.1592043 ,  0.03659647],\n",
       "       ...,\n",
       "       [ 1.5000177 ,  1.49714879,  1.20183332, ..., -0.97378433,\n",
       "        -0.3218087 ,  0.7127995 ],\n",
       "       [-0.93050425, -1.43307395, -0.25632145, ...,  1.38009078,\n",
       "         0.16600449, -0.09864413],\n",
       "       [-1.05203035, -1.43307395, -1.01709784, ...,  0.59546574,\n",
       "        -0.4844131 , -0.77484716]])"
      ]
     },
     "execution_count": 78,
     "metadata": {},
     "output_type": "execute_result"
    }
   ],
   "source": [
    "scaledX"
   ]
  },
  {
   "cell_type": "markdown",
   "metadata": {
    "colab_type": "text",
    "id": "weIwi8cxho-C"
   },
   "source": [
    "### K - Means Clustering"
   ]
  },
  {
   "cell_type": "markdown",
   "metadata": {
    "colab_type": "text",
    "id": "YdA5yJ1m61-L"
   },
   "source": [
    "### Assign a dummy array called Cluster_error"
   ]
  },
  {
   "cell_type": "code",
   "execution_count": 79,
   "metadata": {},
   "outputs": [
    {
     "data": {
      "text/plain": [
       "(813, 18)"
      ]
     },
     "execution_count": 79,
     "metadata": {},
     "output_type": "execute_result"
    }
   ],
   "source": [
    "scaledX.shape"
   ]
  },
  {
   "cell_type": "code",
   "execution_count": 80,
   "metadata": {
    "colab": {},
    "colab_type": "code",
    "id": "PRcbAApuho-g"
   },
   "outputs": [],
   "source": [
    "cluster_errors= []"
   ]
  },
  {
   "cell_type": "markdown",
   "metadata": {
    "colab_type": "text",
    "id": "ywuVdFe2ho-t"
   },
   "source": [
    "### 5. Calculate errorrs for each K"
   ]
  },
  {
   "cell_type": "markdown",
   "metadata": {
    "colab_type": "text",
    "id": "PJznnrkc68nf"
   },
   "source": [
    "Iterating values of k from 1 to 10 fit K means model\n",
    "Using inertia"
   ]
  },
  {
   "cell_type": "code",
   "execution_count": 81,
   "metadata": {},
   "outputs": [
    {
     "data": {
      "text/html": [
       "<div>\n",
       "<style scoped>\n",
       "    .dataframe tbody tr th:only-of-type {\n",
       "        vertical-align: middle;\n",
       "    }\n",
       "\n",
       "    .dataframe tbody tr th {\n",
       "        vertical-align: top;\n",
       "    }\n",
       "\n",
       "    .dataframe thead th {\n",
       "        text-align: right;\n",
       "    }\n",
       "</style>\n",
       "<table border=\"1\" class=\"dataframe\">\n",
       "  <thead>\n",
       "    <tr style=\"text-align: right;\">\n",
       "      <th></th>\n",
       "      <th>num_clusters</th>\n",
       "      <th>cluster_errors</th>\n",
       "    </tr>\n",
       "  </thead>\n",
       "  <tbody>\n",
       "    <tr>\n",
       "      <th>0</th>\n",
       "      <td>1</td>\n",
       "      <td>14634.000000</td>\n",
       "    </tr>\n",
       "    <tr>\n",
       "      <th>1</th>\n",
       "      <td>2</td>\n",
       "      <td>8623.136976</td>\n",
       "    </tr>\n",
       "    <tr>\n",
       "      <th>2</th>\n",
       "      <td>3</td>\n",
       "      <td>7037.467395</td>\n",
       "    </tr>\n",
       "    <tr>\n",
       "      <th>3</th>\n",
       "      <td>4</td>\n",
       "      <td>5740.555574</td>\n",
       "    </tr>\n",
       "    <tr>\n",
       "      <th>4</th>\n",
       "      <td>5</td>\n",
       "      <td>5185.817276</td>\n",
       "    </tr>\n",
       "    <tr>\n",
       "      <th>5</th>\n",
       "      <td>6</td>\n",
       "      <td>4705.949959</td>\n",
       "    </tr>\n",
       "    <tr>\n",
       "      <th>6</th>\n",
       "      <td>7</td>\n",
       "      <td>4350.686420</td>\n",
       "    </tr>\n",
       "    <tr>\n",
       "      <th>7</th>\n",
       "      <td>8</td>\n",
       "      <td>4089.445724</td>\n",
       "    </tr>\n",
       "    <tr>\n",
       "      <th>8</th>\n",
       "      <td>9</td>\n",
       "      <td>3867.484739</td>\n",
       "    </tr>\n",
       "  </tbody>\n",
       "</table>\n",
       "</div>"
      ],
      "text/plain": [
       "   num_clusters  cluster_errors\n",
       "0             1    14634.000000\n",
       "1             2     8623.136976\n",
       "2             3     7037.467395\n",
       "3             4     5740.555574\n",
       "4             5     5185.817276\n",
       "5             6     4705.949959\n",
       "6             7     4350.686420\n",
       "7             8     4089.445724\n",
       "8             9     3867.484739"
      ]
     },
     "execution_count": 81,
     "metadata": {},
     "output_type": "execute_result"
    }
   ],
   "source": [
    "# KMeans Clustring Algorithm\n",
    "# Label, Intertia and Centroid\n",
    "cluster_range = range( 1, 10)   # expect 3 to four clusters from the pair panel visual inspection hence restricting from 2 to 6\n",
    "cluster_sil_scores = []\n",
    "for num_clusters in cluster_range:\n",
    "  clusters = KMeans(num_clusters, init='k-means++')\n",
    "  clusters.fit(scaledX)\n",
    "  labels = clusters.labels_                     # capture the cluster lables\n",
    "  centroids = clusters.cluster_centers_         # capture the centroids\n",
    "  cluster_errors.append( clusters.inertia_ )    # capture the intertia\n",
    "  \n",
    "# combine the cluster_range and cluster_errors into a dataframe by combining them\n",
    "clusters_df = pd.DataFrame( { \"num_clusters\":cluster_range, \"cluster_errors\": cluster_errors } )\n",
    "clusters_df[0:10]"
   ]
  },
  {
   "cell_type": "markdown",
   "metadata": {
    "colab_type": "text",
    "id": "JIcSiPyoho_a"
   },
   "source": [
    "### 6. Plotting Elbow/ Scree Plot"
   ]
  },
  {
   "cell_type": "markdown",
   "metadata": {
    "colab_type": "text",
    "id": "Z8Yw5XEsho_r"
   },
   "source": [
    "Use Matplotlib to plot the scree plot - Note: Scree plot plots Errors vs the no of clusters"
   ]
  },
  {
   "cell_type": "code",
   "execution_count": 82,
   "metadata": {
    "colab": {},
    "colab_type": "code",
    "id": "sJ5oE4Csho_v"
   },
   "outputs": [
    {
     "data": {
      "text/plain": [
       "[<matplotlib.lines.Line2D at 0x11a538ac8>]"
      ]
     },
     "execution_count": 82,
     "metadata": {},
     "output_type": "execute_result"
    },
    {
     "data": {
      "image/png": "[encoded data removed]",
      "text/plain": [
       "<Figure size 864x432 with 1 Axes>"
      ]
     },
     "metadata": {},
     "output_type": "display_data"
    }
   ],
   "source": [
    "plt.figure(figsize=(12,6))\n",
    "plt.plot( clusters_df.num_clusters, clusters_df.cluster_errors, marker = \"o\" )"
   ]
  },
  {
   "cell_type": "markdown",
   "metadata": {
    "colab_type": "text",
    "id": "sGx_Q_4Iho_7"
   },
   "source": [
    "### Find out the optimal value of K"
   ]
  },
  {
   "cell_type": "code",
   "execution_count": 89,
   "metadata": {
    "colab": {},
    "colab_type": "code",
    "id": "i2JjEPrcho__"
   },
   "outputs": [
    {
     "data": {
      "text/plain": [
       "KMeans(algorithm='auto', copy_x=True, init='k-means++', max_iter=300,\n",
       "       n_clusters=4, n_init=10, n_jobs=None, precompute_distances='auto',\n",
       "       random_state=None, tol=0.0001, verbose=0)"
      ]
     },
     "execution_count": 89,
     "metadata": {},
     "output_type": "execute_result"
    }
   ],
   "source": [
    "cluster = KMeans( n_clusters = 4, init='k-means++' )\n",
    "cluster.fit(scaledX)"
   ]
  },
  {
   "cell_type": "markdown",
   "metadata": {
    "colab_type": "text",
    "id": "5EoRD5PHhpAT"
   },
   "source": [
    "### Using optimal value of K - Cluster the data. \n",
    "Note: Since the data has more than 2 dimension we cannot visualize the data. As an alternative, we can observe the centroids and note how they are distributed across different dimensions"
   ]
  },
  {
   "cell_type": "code",
   "execution_count": 90,
   "metadata": {
    "colab": {},
    "colab_type": "code",
    "id": "68oQ0c2ThpAZ"
   },
   "outputs": [
    {
     "name": "stdout",
     "output_type": "stream",
     "text": [
      "Centroid values\n",
      "sklearn\n",
      "[[ 97.96031746  46.5952381   93.16666667 198.28571429  64.02380952\n",
      "    8.5952381  187.23015873  35.12698413  21.88095238 149.92063492\n",
      "  207.4047619  529.33333333 183.03968254  68.26984127   6.04761905\n",
      "   13.57142857 193.07936508 200.08730159]\n",
      " [104.41666667  53.40555556 102.88888889 201.16111111  61.82222222\n",
      "    9.85555556 219.15        30.45555556  24.56666667 167.6\n",
      "  231.47777778 712.17222222 215.31111111  72.92777778   7.33888889\n",
      "   16.2        187.62222222 196.06666667]\n",
      " [ 87.84337349  38.29518072  63.92771084 133.25301205  57.24698795\n",
      "    6.68674699 130.34939759  51.6686747   17.79518072 133.3373494\n",
      "  151.81927711 252.05421687 140.93373494  72.53012048   6.3313253\n",
      "   11.36746988 188.40963855 193.52409639]\n",
      " [ 89.2170088   42.76832845  75.74780059 158.83870968  63.12316716\n",
      "    8.86803519 153.5659824   43.51612903  19.29912023 143.82404692\n",
      "  176.39296188 350.95894428 165.55131965  73.58357771   5.95307918\n",
      "   11.14956012 188.45747801 195.01466276]]\n"
     ]
    }
   ],
   "source": [
    "# Number of clusters\n",
    "\n",
    "kmeans = KMeans(n_clusters=4)\n",
    "\n",
    "# Fitting the input data\n",
    "\n",
    "kmeans = kmeans.fit(X)\n",
    "\n",
    "# Getting the cluster labels\n",
    "\n",
    "labels = kmeans.predict(X)\n",
    "\n",
    "# Centroid values\n",
    "\n",
    "centroids = kmeans.cluster_centers_\n",
    "\n",
    "# Comparing with scikit-learn centroids\n",
    "\n",
    "print(\"Centroid values\")\n",
    "\n",
    "print(\"sklearn\")\n",
    "\n",
    "print(centroids) # From sci-kit learn"
   ]
  },
  {
   "cell_type": "markdown",
   "metadata": {
    "colab_type": "text",
    "id": "fY5IjhFihpAm"
   },
   "source": [
    "You can use kmeans.cluster_centers_ function to pull the centroid information from the instance"
   ]
  },
  {
   "cell_type": "code",
   "execution_count": 0,
   "metadata": {
    "colab": {},
    "colab_type": "code",
    "id": "vS3GhD4UhpAx"
   },
   "outputs": [],
   "source": []
  },
  {
   "cell_type": "markdown",
   "metadata": {
    "colab_type": "text",
    "id": "A2T8SxBdhpBL"
   },
   "source": [
    "### 7. Store the centroids in a dataframe with column names from the original dataset given "
   ]
  },
  {
   "cell_type": "code",
   "execution_count": 94,
   "metadata": {
    "colab": {},
    "colab_type": "code",
    "id": "xpjTngRNhpBP"
   },
   "outputs": [],
   "source": [
    "# Let us put the raw centroid values into a dataframe under respective columns\n",
    "centroid_df = pd.DataFrame(centroids, columns = list(scaledX) )"
   ]
  },
  {
   "cell_type": "markdown",
   "metadata": {
    "colab_type": "text",
    "id": "SvWlZ_FzhpBY"
   },
   "source": [
    "Hint: Use pd.Dataframe function "
   ]
  },
  {
   "cell_type": "code",
   "execution_count": 95,
   "metadata": {
    "colab": {},
    "colab_type": "code",
    "id": "EZ6nJ3BdhpBZ"
   },
   "outputs": [],
   "source": [
    "prediction=cluster.predict(scaledX)\n",
    "data_scaled = pd.DataFrame(scaledX)\n",
    "data_scaled[\"GROUP\"] = prediction"
   ]
  },
  {
   "cell_type": "code",
   "execution_count": 0,
   "metadata": {
    "colab": {},
    "colab_type": "code",
    "id": "HPey2b-DhpBh"
   },
   "outputs": [],
   "source": []
  },
  {
   "cell_type": "markdown",
   "metadata": {
    "colab_type": "text",
    "id": "n2kFVi2GhpBn"
   },
   "source": [
    "### Use kmeans.labels_ function to print out the labels of the classes"
   ]
  },
  {
   "cell_type": "code",
   "execution_count": 96,
   "metadata": {
    "colab": {},
    "colab_type": "code",
    "id": "Ahx91q_ghpBp"
   },
   "outputs": [
    {
     "data": {
      "text/plain": [
       "array([3, 3, 1, 3, 3, 3, 2, 2, 2, 2, 3, 3, 0, 1, 2, 0, 1, 3, 2, 3, 3, 1,\n",
       "       3, 2, 1, 0, 3, 3, 2, 2, 1, 3, 3, 3, 1, 3, 1, 2, 3, 3, 1, 3, 2, 3,\n",
       "       3, 3, 2, 3, 1, 3, 1, 2, 0, 3, 1, 2, 0, 2, 2, 3, 0, 3, 1, 3, 0, 1,\n",
       "       0, 2, 3, 0, 0, 3, 3, 1, 2, 3, 3, 1, 3, 2, 0, 2, 1, 3, 0, 3, 3, 1,\n",
       "       3, 3, 0, 3, 3, 3, 2, 2, 0, 0, 3, 3, 0, 3, 3, 3, 2, 3, 3, 0, 1, 0,\n",
       "       2, 3, 3, 2, 3, 3, 3, 3, 3, 0, 0, 3, 0, 2, 1, 3, 3, 2, 2, 3, 3, 1,\n",
       "       3, 3, 1, 3, 3, 3, 2, 0, 0, 3, 1, 3, 1, 3, 2, 3, 2, 0, 3, 2, 1, 1,\n",
       "       3, 1, 3, 2, 1, 1, 3, 1, 3, 3, 0, 3, 2, 1, 2, 3, 2, 0, 0, 3, 3, 1,\n",
       "       3, 0, 3, 1, 3, 3, 1, 3, 3, 3, 3, 3, 1, 1, 2, 3, 3, 3, 1, 0, 2, 3,\n",
       "       1, 2, 3, 1, 3, 2, 1, 3, 3, 2, 3, 1, 2, 1, 3, 2, 2, 3, 1, 2, 3, 3,\n",
       "       1, 3, 3, 3, 3, 1, 3, 2, 3, 3, 1, 2, 1, 3, 3, 3, 1, 3, 3, 0, 1, 2,\n",
       "       0, 2, 2, 0, 3, 3, 2, 2, 3, 0, 3, 1, 3, 3, 2, 1, 3, 0, 3, 3, 1, 3,\n",
       "       3, 0, 2, 2, 3, 3, 2, 1, 3, 0, 2, 0, 0, 1, 3, 3, 2, 3, 3, 1, 1, 0,\n",
       "       0, 3, 3, 0, 3, 2, 2, 0, 2, 1, 1, 3, 0, 3, 3, 0, 3, 3, 3, 0, 1, 3,\n",
       "       1, 1, 3, 1, 3, 3, 3, 2, 2, 1, 1, 1, 3, 3, 2, 0, 3, 3, 3, 0, 0, 3,\n",
       "       1, 3, 0, 1, 0, 3, 3, 3, 0, 3, 2, 3, 3, 0, 3, 3, 2, 1, 1, 2, 2, 1,\n",
       "       2, 1, 3, 1, 2, 3, 0, 3, 3, 1, 3, 2, 3, 3, 0, 3, 3, 3, 2, 1, 3, 1,\n",
       "       2, 0, 3, 2, 2, 3, 3, 3, 2, 3, 2, 3, 1, 3, 3, 3, 2, 1, 2, 3, 0, 2,\n",
       "       1, 3, 1, 2, 1, 1, 3, 3, 1, 2, 2, 3, 0, 0, 0, 3, 2, 0, 1, 3, 0, 1,\n",
       "       1, 3, 3, 3, 3, 3, 0, 3, 2, 3, 1, 0, 2, 0, 3, 3, 0, 3, 3, 1, 2, 2,\n",
       "       1, 1, 1, 3, 1, 1, 3, 0, 3, 1, 1, 3, 2, 3, 3, 1, 3, 3, 1, 1, 3, 3,\n",
       "       1, 1, 3, 3, 2, 1, 1, 1, 2, 3, 0, 1, 1, 3, 3, 1, 3, 3, 1, 3, 2, 2,\n",
       "       3, 1, 3, 2, 0, 2, 3, 1, 3, 0, 1, 3, 3, 0, 1, 1, 2, 2, 3, 1, 2, 0,\n",
       "       1, 3, 2, 3, 3, 3, 3, 2, 3, 3, 1, 2, 2, 0, 3, 0, 0, 1, 2, 3, 1, 1,\n",
       "       3, 1, 3, 3, 0, 1, 3, 3, 2, 1, 3, 3, 3, 1, 1, 1, 0, 3, 2, 3, 2, 1,\n",
       "       1, 1, 2, 1, 2, 3, 1, 3, 2, 3, 3, 2, 0, 0, 2, 0, 2, 3, 2, 1, 3, 0,\n",
       "       1, 2, 2, 2, 3, 1, 3, 2, 3, 2, 2, 2, 2, 2, 1, 1, 3, 0, 1, 2, 1, 3,\n",
       "       3, 0, 2, 2, 1, 3, 0, 2, 2, 3, 3, 0, 1, 0, 3, 0, 0, 3, 3, 3, 3, 1,\n",
       "       3, 1, 2, 3, 0, 0, 2, 3, 3, 2, 0, 2, 0, 3, 3, 2, 3, 0, 1, 3, 3, 0,\n",
       "       0, 0, 3, 3, 1, 3, 0, 3, 3, 3, 3, 3, 1, 3, 3, 2, 1, 2, 0, 3, 3, 0,\n",
       "       3, 0, 2, 3, 3, 3, 3, 1, 1, 0, 2, 1, 1, 3, 2, 3, 0, 1, 0, 0, 1, 3,\n",
       "       1, 0, 3, 1, 1, 3, 1, 3, 0, 3, 2, 0, 3, 2, 1, 1, 1, 3, 1, 2, 3, 1,\n",
       "       1, 1, 3, 1, 3, 2, 0, 3, 3, 2, 3, 3, 0, 0, 2, 3, 3, 2, 2, 0, 3, 3,\n",
       "       3, 0, 0, 2, 1, 1, 3, 3, 3, 0, 2, 3, 0, 0, 3, 2, 0, 0, 1, 1, 2, 0,\n",
       "       2, 0, 1, 2, 3, 1, 2, 1, 3, 3, 2, 1, 0, 3, 2, 2, 1, 1, 3, 3, 2, 3,\n",
       "       0, 0, 3, 3, 1, 3, 2, 1, 2, 3, 3, 3, 3, 3, 1, 0, 0, 2, 1, 3, 0, 1,\n",
       "       3, 0, 1, 2, 3, 3, 3, 1, 3, 2, 1, 2, 3, 3, 2, 2, 3, 3, 1, 2, 2],\n",
       "      dtype=int32)"
      ]
     },
     "execution_count": 96,
     "metadata": {},
     "output_type": "execute_result"
    }
   ],
   "source": [
    "labels"
   ]
  },
  {
   "cell_type": "code",
   "execution_count": 0,
   "metadata": {
    "colab": {},
    "colab_type": "code",
    "id": "hm0AtttihpBv"
   },
   "outputs": [],
   "source": []
  },
  {
   "cell_type": "markdown",
   "metadata": {
    "colab_type": "text",
    "id": "SmQyHhmFhpB3"
   },
   "source": [
    "## Hierarchical Clustering "
   ]
  },
  {
   "cell_type": "markdown",
   "metadata": {
    "colab_type": "text",
    "id": "_zAMRDe_hpB5"
   },
   "source": [
    "### 8. Variable creation"
   ]
  },
  {
   "cell_type": "markdown",
   "metadata": {
    "colab_type": "text",
    "id": "VESIKt49hpB6"
   },
   "source": [
    "For Hierarchical clustering, we will create datasets using multivariate normal distribution to visually observe how the clusters are formed at the end"
   ]
  },
  {
   "cell_type": "code",
   "execution_count": 97,
   "metadata": {
    "colab": {},
    "colab_type": "code",
    "id": "qpUh49bKhpB8"
   },
   "outputs": [],
   "source": [
    "np.random.seed(101)  # for repeatability of this dataset\n",
    "a = np.random.multivariate_normal([10, 0], [[3, 1], [1, 4]], size=[100,])\n",
    "b = np.random.multivariate_normal([0, 20], [[3, 1], [1, 4]], size=[50,])\n",
    "c = np.random.multivariate_normal([10, 20], [[3, 1], [1, 4]], size=[100,])"
   ]
  },
  {
   "cell_type": "markdown",
   "metadata": {
    "colab_type": "raw",
    "id": "cu8DfP8shpCA"
   },
   "source": [
    "a = np.random.multivariate_normal([10, 0], [[3, 1], [1, 4]], size=[100,])\n",
    "b = np.random.multivariate_normal([0, 20], [[3, 1], [1, 4]], size=[50,])\n",
    "c = np.random.multivariate_normal([10, 20], [[3, 1], [1, 4]], size=[100,])"
   ]
  },
  {
   "cell_type": "markdown",
   "metadata": {},
   "source": [
    "https://docs.scipy.org/doc/numpy-1.15.1/reference/generated/numpy.random.multivariate_normal.html"
   ]
  },
  {
   "cell_type": "markdown",
   "metadata": {
    "colab_type": "text",
    "id": "Eui7Qgc8hpCH"
   },
   "source": [
    "data = np.vstack((a,b,c))\n",
    "X= pd.DataFrame(data)\n",
    "print (X.shape)\n",
    "X.head()"
   ]
  },
  {
   "cell_type": "code",
   "execution_count": 109,
   "metadata": {
    "colab": {},
    "colab_type": "code",
    "id": "Nle34XhhhpCI"
   },
   "outputs": [
    {
     "name": "stdout",
     "output_type": "stream",
     "text": [
      "(250, 2)\n"
     ]
    },
    {
     "data": {
      "text/html": [
       "<div>\n",
       "<style scoped>\n",
       "    .dataframe tbody tr th:only-of-type {\n",
       "        vertical-align: middle;\n",
       "    }\n",
       "\n",
       "    .dataframe tbody tr th {\n",
       "        vertical-align: top;\n",
       "    }\n",
       "\n",
       "    .dataframe thead th {\n",
       "        text-align: right;\n",
       "    }\n",
       "</style>\n",
       "<table border=\"1\" class=\"dataframe\">\n",
       "  <thead>\n",
       "    <tr style=\"text-align: right;\">\n",
       "      <th></th>\n",
       "      <th>0</th>\n",
       "      <th>1</th>\n",
       "    </tr>\n",
       "  </thead>\n",
       "  <tbody>\n",
       "    <tr>\n",
       "      <th>0</th>\n",
       "      <td>13.882785</td>\n",
       "      <td>4.438501</td>\n",
       "    </tr>\n",
       "    <tr>\n",
       "      <th>1</th>\n",
       "      <td>11.687256</td>\n",
       "      <td>1.250981</td>\n",
       "    </tr>\n",
       "    <tr>\n",
       "      <th>2</th>\n",
       "      <td>10.316397</td>\n",
       "      <td>1.449346</td>\n",
       "    </tr>\n",
       "    <tr>\n",
       "      <th>3</th>\n",
       "      <td>9.837412</td>\n",
       "      <td>-2.041974</td>\n",
       "    </tr>\n",
       "    <tr>\n",
       "      <th>4</th>\n",
       "      <td>8.691601</td>\n",
       "      <td>-4.289773</td>\n",
       "    </tr>\n",
       "  </tbody>\n",
       "</table>\n",
       "</div>"
      ],
      "text/plain": [
       "           0         1\n",
       "0  13.882785  4.438501\n",
       "1  11.687256  1.250981\n",
       "2  10.316397  1.449346\n",
       "3   9.837412 -2.041974\n",
       "4   8.691601 -4.289773"
      ]
     },
     "execution_count": 109,
     "metadata": {},
     "output_type": "execute_result"
    }
   ],
   "source": [
    "data = np.vstack((a,b,c))\n",
    "X= pd.DataFrame(data)\n",
    "print (X.shape)\n",
    "X.head()"
   ]
  },
  {
   "cell_type": "code",
   "execution_count": null,
   "metadata": {
    "colab": {},
    "colab_type": "code",
    "id": "lov1nQqAhpCa"
   },
   "outputs": [],
   "source": []
  },
  {
   "cell_type": "markdown",
   "metadata": {
    "colab_type": "text",
    "id": "v6JlILlihpCe"
   },
   "source": [
    "### 10. Use scatter matrix to print all the 3 distributions"
   ]
  },
  {
   "cell_type": "code",
   "execution_count": 110,
   "metadata": {
    "colab": {},
    "colab_type": "code",
    "id": "i6Nf9LznhpCg"
   },
   "outputs": [
    {
     "data": {
      "text/plain": [
       "<seaborn.axisgrid.PairGrid at 0x12544ca58>"
      ]
     },
     "execution_count": 110,
     "metadata": {},
     "output_type": "execute_result"
    },
    {
     "data": {
      "image/png": "[encoded data removed]",
      "text/plain": [
       "<Figure size 360x360 with 6 Axes>"
      ]
     },
     "metadata": {},
     "output_type": "display_data"
    }
   ],
   "source": [
    "sns.pairplot(X)"
   ]
  },
  {
   "cell_type": "code",
   "execution_count": 111,
   "metadata": {
    "colab": {},
    "colab_type": "code",
    "id": "hILsbwkOhpCk"
   },
   "outputs": [
    {
     "data": {
      "text/plain": [
       "<matplotlib.axes._subplots.AxesSubplot at 0x127348470>"
      ]
     },
     "execution_count": 111,
     "metadata": {},
     "output_type": "execute_result"
    },
    {
     "data": {
      "image/png": "[encoded data removed]",
      "text/plain": [
       "<Figure size 432x288 with 1 Axes>"
      ]
     },
     "metadata": {},
     "output_type": "display_data"
    }
   ],
   "source": [
    "sns.scatterplot(x=X[0],y=X[1])"
   ]
  },
  {
   "cell_type": "markdown",
   "metadata": {
    "colab_type": "text",
    "id": "Ufj36K5NhpCo"
   },
   "source": [
    "### 11. Find out the linkage matrix"
   ]
  },
  {
   "cell_type": "markdown",
   "metadata": {
    "colab": {},
    "colab_type": "code",
    "id": "rXJAOAilhpCp"
   },
   "source": [
    "https://docs.scipy.org/doc/scipy-0.14.0/reference/generated/scipy.cluster.hierarchy.linkage.html"
   ]
  },
  {
   "cell_type": "markdown",
   "metadata": {
    "colab_type": "text",
    "id": "EOxwi5gshpCt"
   },
   "source": [
    "Use ward as linkage metric and distance as Eucledian"
   ]
  },
  {
   "cell_type": "code",
   "execution_count": 112,
   "metadata": {
    "colab": {},
    "colab_type": "code",
    "id": "xJsL16lqhpCu"
   },
   "outputs": [],
   "source": [
    "import scipy.cluster.hierarchy as sch\n",
    "from scipy.cluster.hierarchy import cophenet, dendrogram, linkage\n",
    "from scipy.spatial.distance import pdist"
   ]
  },
  {
   "cell_type": "code",
   "execution_count": 114,
   "metadata": {
    "colab": {},
    "colab_type": "code",
    "id": "A6YN_sjhhpC4"
   },
   "outputs": [
    {
     "name": "stdout",
     "output_type": "stream",
     "text": [
      "Ward 0.9536963071171022\n"
     ]
    }
   ],
   "source": [
    "# Case 1: Ward Method\n",
    "Z = linkage(X, 'ward',metric='euclidean')\n",
    "c, coph_dists = cophenet(Z , pdist(X))\n",
    "print(\"Ward\",c)"
   ]
  },
  {
   "cell_type": "markdown",
   "metadata": {
    "colab_type": "text",
    "id": "UnVS8VYMhpC9"
   },
   "source": [
    "### 12. Plot the dendrogram for the consolidated dataframe"
   ]
  },
  {
   "cell_type": "code",
   "execution_count": 117,
   "metadata": {
    "colab": {},
    "colab_type": "code",
    "id": "oeLtemVqhpC_"
   },
   "outputs": [
    {
     "data": {
      "image/png": "[encoded data removed]",
      "text/plain": [
       "<Figure size 1440x720 with 1 Axes>"
      ]
     },
     "metadata": {},
     "output_type": "display_data"
    }
   ],
   "source": [
    "import scipy.cluster.hierarchy as shc\n",
    "plt.figure(figsize=(20, 10))  \n",
    "plt.title(\"Dendrograms\")  \n",
    "dend = shc.dendrogram(shc.linkage(X, method='ward'))"
   ]
  },
  {
   "cell_type": "markdown",
   "metadata": {
    "colab_type": "text",
    "id": "QXE-T9cHhpDS"
   },
   "source": [
    "### 13. Recreate the dendrogram for last 12 merged clusters "
   ]
  },
  {
   "cell_type": "markdown",
   "metadata": {},
   "source": [
    "https://docs.scipy.org/doc/scipy-0.14.0/reference/generated/scipy.cluster.hierarchy.dendrogram.html"
   ]
  },
  {
   "cell_type": "markdown",
   "metadata": {
    "colab_type": "text",
    "id": "4PKR3o5QhpDX"
   },
   "source": [
    "Hint: Use truncate_mode='lastp' attribute in dendrogram function to arrive at dendrogram "
   ]
  },
  {
   "cell_type": "code",
   "execution_count": 122,
   "metadata": {
    "colab": {},
    "colab_type": "code",
    "id": "GDri9xtAhpDY"
   },
   "outputs": [
    {
     "data": {
      "image/png": "[encoded data removed]",
      "text/plain": [
       "<Figure size 1440x720 with 1 Axes>"
      ]
     },
     "metadata": {},
     "output_type": "display_data"
    }
   ],
   "source": [
    "import scipy.cluster.hierarchy as shc\n",
    "plt.figure(figsize=(20, 10))  \n",
    "plt.title(\"Dendrograms\")  \n",
    "dend = shc.dendrogram(shc.linkage(X, method='ward'),p=12, truncate_mode='lastp')"
   ]
  },
  {
   "cell_type": "code",
   "execution_count": 0,
   "metadata": {
    "colab": {},
    "colab_type": "code",
    "id": "k4GVCz44hpDg"
   },
   "outputs": [],
   "source": []
  },
  {
   "cell_type": "markdown",
   "metadata": {
    "colab_type": "text",
    "id": "zjFjCWL5hpDr"
   },
   "source": [
    "### 14. From the truncated dendrogram, find out the optimal distance between clusters which u want to use an input for clustering data"
   ]
  },
  {
   "cell_type": "markdown",
   "metadata": {
    "colab": {},
    "colab_type": "code",
    "id": "DQ5m6orQhpDt"
   },
   "source": [
    "https://docs.scipy.org/doc/scipy-0.15.1/reference/generated/scipy.cluster.hierarchy.fcluster.html"
   ]
  },
  {
   "cell_type": "code",
   "execution_count": 124,
   "metadata": {
    "colab": {},
    "colab_type": "code",
    "id": "5-yUhkgMhpDx"
   },
   "outputs": [
    {
     "data": {
      "text/plain": [
       "<matplotlib.lines.Line2D at 0x125c12278>"
      ]
     },
     "execution_count": 124,
     "metadata": {},
     "output_type": "execute_result"
    },
    {
     "data": {
      "image/png": "[encoded data removed]",
      "text/plain": [
       "<Figure size 720x504 with 1 Axes>"
      ]
     },
     "metadata": {},
     "output_type": "display_data"
    }
   ],
   "source": [
    "plt.figure(figsize=(10, 7))  \n",
    "plt.title(\"Dendrograms\")  \n",
    "dend = shc.dendrogram(shc.linkage(X, method='ward'),p=12, truncate_mode='lastp')\n",
    "plt.axhline(y=100, color='g', linestyle='--')"
   ]
  },
  {
   "cell_type": "markdown",
   "metadata": {
    "colab_type": "text",
    "id": "owSZBbSUhpEC"
   },
   "source": [
    "### 15. Using this distance measure and fcluster function to cluster the data into 3 different groups"
   ]
  },
  {
   "cell_type": "code",
   "execution_count": 0,
   "metadata": {
    "colab": {},
    "colab_type": "code",
    "id": "HLVorGUEhpEE"
   },
   "outputs": [],
   "source": []
  },
  {
   "cell_type": "code",
   "execution_count": 0,
   "metadata": {
    "colab": {},
    "colab_type": "code",
    "id": "Rgty9iOlhpEL"
   },
   "outputs": [],
   "source": []
  },
  {
   "cell_type": "markdown",
   "metadata": {
    "colab_type": "text",
    "id": "642Ur5TWhpEX"
   },
   "source": [
    "### Use matplotlib to visually observe the clusters in 2D space "
   ]
  },
  {
   "cell_type": "code",
   "execution_count": 0,
   "metadata": {
    "colab": {},
    "colab_type": "code",
    "id": "YHHSylfQhpEX"
   },
   "outputs": [],
   "source": []
  }
 ],
 "metadata": {
  "colab": {
   "collapsed_sections": [
    "n2kFVi2GhpBn",
    "Ufj36K5NhpCo",
    "zjFjCWL5hpDr",
    "owSZBbSUhpEC",
    "642Ur5TWhpEX"
   ],
   "name": "R4_Internal_Lab_Clustering.ipynb",
   "provenance": [],
   "version": "0.3.2"
  },
  "kernelspec": {
   "display_name": "Python 3",
   "language": "python",
   "name": "python3"
  },
  "language_info": {
   "codemirror_mode": {
    "name": "ipython",
    "version": 3
   },
   "file_extension": ".py",
   "mimetype": "text/x-python",
   "name": "python",
   "nbconvert_exporter": "python",
   "pygments_lexer": "ipython3",
   "version": "3.6.4"
  }
 },
 "nbformat": 4,
 "nbformat_minor": 1
}
